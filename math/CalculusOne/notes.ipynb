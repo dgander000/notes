{
 "cells": [
  {
   "cell_type": "markdown",
   "metadata": {},
   "source": [
    "## Calculus One"
   ]
  },
  {
   "cell_type": "markdown",
   "metadata": {},
   "source": [
    "### Functions"
   ]
  },
  {
   "cell_type": "markdown",
   "metadata": {},
   "source": [
    "A function assigns to each number in its domain another number  \n",
    "takes one input and produces one output  \n",
    "\n",
    "f(x) = x^2  \n",
    "\n",
    "domain - all numbers for which the rule makes sense  \n",
    "\n",
    "f(x) = 1/x  \n",
    "domain is all real numbers except 0  "
   ]
  },
  {
   "cell_type": "markdown",
   "metadata": {},
   "source": [
    "identity function:  f(x) = x  \n",
    "constant function:  f(x) = c  "
   ]
  },
  {
   "cell_type": "markdown",
   "metadata": {},
   "source": [
    "domain of square root  \n",
    "f(x) = sqrt(x)  \n",
    "the nonnegative number that squares to x  \n",
    "sqrt(x^2) = |x|  \n",
    "this is wrong - sqrt(x^2) = x  \n",
    "\n",
    "domain of sqrt is [0, inf)  "
   ]
  },
  {
   "cell_type": "markdown",
   "metadata": {},
   "source": [
    "near the sum of 2 numbers is the sum of 2 nearby numbers"
   ]
  },
  {
   "cell_type": "markdown",
   "metadata": {},
   "source": [
    "lim(f(x) + g(x)) = lim f(x) + lim g(x)  [x -> a]  \n",
    "limit of a sum is the sum of the limits provided the limits exist  \n",
    "\n",
    "To say lim f(x) = L [x -> a] means  \n",
    "f(x) can be made as close to L as deired by making x close enough but not equal to a.  "
   ]
  },
  {
   "cell_type": "markdown",
   "metadata": {},
   "source": [
    "### Derivatives\n",
    "Derivatives measure how change in the input affects the output.  At least infinitesimally.   \n",
    "The ratio of change in the output value to the change in the input point - that ratio is the derivative.  \n",
    "derivative = output change/input change  \n",
    "The limit of (f(x+h)-f(x))/h as h approaches 0.  \n",
    "\n",
    "f(x + h) ~= f(x) + h*f'(x)  \n",
    "\n",
    "Continuity is all how nearby inputs are sent to nearby outputs. Differentiability is how wiggling the input affects the output.  \n",
    "\n",
    "g(x) = k * f(x)  \n",
    "g'(x) = k * f'(x)  \n"
   ]
  },
  {
   "cell_type": "markdown",
   "metadata": {
    "collapsed": true
   },
   "source": [
    "Derivative of x^2   \n",
    "\n",
    "x^2  \n",
    "(x+h)^2 = x^2 + 2xh + h^2  \n",
    "throw out h^2 since it's really small  \n",
    "\n",
    "output change = 2xh  \n",
    "input change = h  \n",
    "derivative = 2xh/h = 2x  \n",
    "\n",
    "\n",
    "using limits  \n",
    "f(x) = x^2  \n",
    "f'(x) = lim (f(x+h) - f(x))/h as h approaches 0  \n",
    "lim ((x+h)^2 - x^2)/h = lim (2xh + h^2)/h = lim (2x + h)  \n",
    "lim (2x) + lim h = 2x + 0  "
   ]
  },
  {
   "cell_type": "markdown",
   "metadata": {},
   "source": [
    "Power Rule  \n",
    "d/dx x^n = nx^(n-1)  "
   ]
  },
  {
   "cell_type": "markdown",
   "metadata": {},
   "source": [
    "Rules:  \n",
    "sum:  d/dx (f(x) + g(x)) = d/dx f(x) + d/dx g(x)   \n",
    "$ product: d/dx (f(x) * g(x)) = d/dx(f(x)) * g(x)  +  f(x) * d/dx(g(x)) $  \n",
    "\n",
    "quotient:  \n",
    "h(x) = f(x)/g(x)  \n",
    "h'(a) = (g(a)f'(a) - f(a)g'(a)) / g(a)^2  "
   ]
  },
  {
   "cell_type": "markdown",
   "metadata": {},
   "source": [
    "#### Chain Rule\n",
    "h(x) = g(f(x))   \n",
    "h'(x) = g'(f(x)) * f'(x)  "
   ]
  },
  {
   "cell_type": "markdown",
   "metadata": {},
   "source": [
    "#### derivative of inverse function\n",
    "(finv)'(y) = 1/f'(finv(y))  "
   ]
  },
  {
   "cell_type": "markdown",
   "metadata": {},
   "source": [
    "#### derivative of log\n",
    "$e^x = y$   \n",
    "$log y = x$  \n",
    "\n",
    "$e^(x+y) = e^xe^y$      \n",
    "$log(ab) = log a + log b$   \n",
    "\n",
    "$f(x) = e^x$  \n",
    "$(f^(-1))'(x) = 1/f'(f^(-1)(x))$  \n",
    "\n",
    "derivative of log x = 1/x  \n",
    "\n",
    "d/dx logb x = 1/(logb * x)   "
   ]
  },
  {
   "cell_type": "markdown",
   "metadata": {
    "collapsed": true
   },
   "source": [
    "#### derivative sin, cos, tan    \n",
    "d/d0 sin0 = cos0  \n",
    "d/d0 cos0 = -sin0  \n",
    "\n",
    "tan0 = sin0/cos0 = y/x  \n",
    "d/d0 tan0 = 1/cos^20 = 1/scs^20  \n",
    "\n",
    "derivative of sin(x^2)  \n",
    "sin(x^2) = f(g(x))  \n",
    "f(x) = sin x   \n",
    "g(x) = x^2  \n",
    "f'(x) = cos x  \n",
    "g'(x) = 2x  \n",
    "d/dx sin(x^2) = cos(x^2) * 2x  \n",
    "\n",
    "\n",
    "d/dx sin x = cos x  \n",
    "d/dx cos x = -sin x  \n",
    "d/dx tan x = sec^2 x  \n",
    "d/dx cot x = -csc^2 x  \n",
    "d/dx sec x = sec x * tan x  \n",
    "d/dx csc x = -csc x * cot x   \n",
    "\n",
    "d/dx arcsin x = 1/sqrt(1 - x^2)  \n",
    "d/dx arccos x = -1/sqrt(1 - x^2)  \n",
    "d/dx arctan x = 1/(1 + x^2)  "
   ]
  },
  {
   "cell_type": "markdown",
   "metadata": {},
   "source": [
    "#### Arithmetic Mean - Geometric Mean Inequality  \n",
    "(a + b)/ 2 >= sqrt(ab)  \n",
    "with equality iff a = b  "
   ]
  },
  {
   "cell_type": "markdown",
   "metadata": {
    "collapsed": true
   },
   "source": [
    "#### Linear Approximation  \n",
    "hf'(x) + f(x) ~= f(x+h)  \n",
    "\n",
    "#### Newtons Method  \n",
    "1. Initial guess x0   \n",
    "2. New guess x1 = x0 - (f(x0)/f'(x0))   \n",
    "3. x2 = x1 - (f(x1)/f'(x1))   \n",
    "4. x3 = x2 - (f(x2)/f'(x2))   \n",
    "5. keep repeating   \n",
    "\n",
    "Xn+1 = Xn - (f(Xn)/f'(Xn))  "
   ]
  },
  {
   "cell_type": "code",
   "execution_count": 1,
   "metadata": {},
   "outputs": [
    {
     "name": "stdout",
     "output_type": "stream",
     "text": [
      "2\n",
      "4\n",
      "0.71875\n",
      "1.5625\n",
      "-0.5\n",
      "-0.96\n"
     ]
    }
   ],
   "source": [
    "def f(x):\n",
    "    return -7*x**5 - 6*x**4 + x**3 + 4*x**2 + 4*x + 2\n",
    "\n",
    "def f_(x):\n",
    "    return -35*x**4 - 24*x**3 + 3*x**2 + 8*x + 4\n",
    "\n",
    "x0 = 0\n",
    "x1 = x0 - f(x0)/f_(x0)\n",
    "\n",
    "print(f(x0))\n",
    "print(f_(x0))\n",
    "\n",
    "print(f(x1))\n",
    "print(f_(x1))\n",
    "print(x1)\n",
    "\n",
    "print(x1 - f(x1)/f_(x1))"
   ]
  },
  {
   "cell_type": "markdown",
   "metadata": {},
   "source": [
    "antiderivative of f(mx + b) dx = F(mx + b)/m + C  "
   ]
  },
  {
   "cell_type": "markdown",
   "metadata": {},
   "source": [
    "$\\sum_{n=1}^{k} {c} = {kc}$   \n",
    "$\\sum_{n=1}^{k} {n} = \\frac{k(k+1)}{2}$   \n",
    "$\\sum_{n=1}^{k} {2n - 1} = {k^2}$   \n",
    "$\\sum_{n=1}^{k} {n^2} = \\frac{k(k+1)(2k+1)}{6}$   \n",
    "$\\sum_{n=1}^{k} {n^3} = {(\\sum_{n=1}^{k} {n})}^2 = \\frac{k^2(k+1)^2}{4}$     "
   ]
  },
  {
   "cell_type": "markdown",
   "metadata": {},
   "source": [
    "Riemann Sum  \n",
    "Area $\\approx \\sum_{i=1}^{n} {f(x_i^*) * (x_i - x_{i-1})}$   "
   ]
  },
  {
   "cell_type": "code",
   "execution_count": 23,
   "metadata": {},
   "outputs": [
    {
     "name": "stdout",
     "output_type": "stream",
     "text": [
      "-3504\n"
     ]
    }
   ],
   "source": [
    "def f(x):\n",
    "    return -7*(x**2) -9*x -9\n",
    "    \n",
    "delta = 6\n",
    "print(f(2)*delta + f(8)*delta)"
   ]
  },
  {
   "cell_type": "code",
   "execution_count": null,
   "metadata": {
    "collapsed": true
   },
   "outputs": [],
   "source": [
    "-3504\n",
    "\n",
    "-145-(125/2)*(1+1/n)\n",
    "\n",
    "-9*21 - 18*9*(1 + 1/n)\n",
    "\n",
    "-48*3 - ((21*3)/2)*(1 + 1/n)"
   ]
  }
 ],
 "metadata": {
  "kernelspec": {
   "display_name": "Python 3",
   "language": "python",
   "name": "python3"
  },
  "language_info": {
   "codemirror_mode": {
    "name": "ipython",
    "version": 3
   },
   "file_extension": ".py",
   "mimetype": "text/x-python",
   "name": "python",
   "nbconvert_exporter": "python",
   "pygments_lexer": "ipython3",
   "version": "3.6.3"
  }
 },
 "nbformat": 4,
 "nbformat_minor": 2
}
