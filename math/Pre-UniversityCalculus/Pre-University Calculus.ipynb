{
 "cells": [
  {
   "cell_type": "markdown",
   "metadata": {},
   "source": [
    "###  [DelftX: Calc001x Pre-University Calculus](https://courses.edx.org/courses/course-v1:DelftX+Calc001x+1T2017/course/)"
   ]
  },
  {
   "cell_type": "markdown",
   "metadata": {},
   "source": [
    "### Functions"
   ]
  },
  {
   "cell_type": "markdown",
   "metadata": {},
   "source": [
    "#### What is a function"
   ]
  },
  {
   "cell_type": "markdown",
   "metadata": {},
   "source": [
    "Functions are the tools to describe dependancies between quantities and to model reality.\n",
    "\n",
    "A function is a rule that relates two given sets: to each object in one set, it associates precisely one object from the other set.\n",
    "\n",
    "domain -> rule -> codomain\n",
    "\n",
    "A function can be viewed as a machine that give a relation between two sets.  \n",
    "A function is a machine that takes inputs from a certain set, called a domain, and produces an output based on rules in another set called the codomain.\n",
    "\n",
    "Only real numbers to real numbers.  \n",
    "\n",
    "Each input of a function should produce exaclty one output.\n",
    "\n",
    "One function may need more that one formula."
   ]
  },
  {
   "cell_type": "markdown",
   "metadata": {},
   "source": [
    "#### How to describe a function"
   ]
  },
  {
   "cell_type": "markdown",
   "metadata": {},
   "source": [
    "formulas -> f(x)=2x\n",
    "\n",
    "tables (incomplete - not all values shown)\n",
    "\n",
    "graphs\n",
    "\n",
    "words"
   ]
  },
  {
   "cell_type": "markdown",
   "metadata": {},
   "source": [
    "Circle can't be the graph of one funtion, it doesn't pass the vertical line test.\n",
    "\n",
    "A curve in the plane is the graph of a function if every vertical intersects at most one point."
   ]
  },
  {
   "cell_type": "markdown",
   "metadata": {},
   "source": [
    "#### Polynomial functions"
   ]
  },
  {
   "cell_type": "markdown",
   "metadata": {},
   "source": [
    "Contructed from:\n",
    "- variable x\n",
    "- numbers\n",
    "- addition\n",
    "- multiplication  \n",
    "\n",
    "reduce  \n",
    "standard form  \n",
    "degree n - highest power  \n",
    "behavior determined by highest degree  \n",
    "\n",
    "Using polynomials; sine, cosine, logs, square roots, etc can be approximates."
   ]
  },
  {
   "cell_type": "markdown",
   "metadata": {},
   "source": [
    "degree 1 - linear functions - straight lines - f(x) = ax + b  \n",
    "degree 2 - quadratic function - parabola - f(x) = ax^2 + bx + c  \n",
    "a = wideness and orientation - a > 0 opens up - a < 0 opens down  \n",
    "x-position of vertex = -b/2a  \n",
    "y-intercept = c  "
   ]
  },
  {
   "cell_type": "markdown",
   "metadata": {},
   "source": [
    "factorized form - f(x) =  a(x-p)(x-q)  - graph intersects x-axis at x=p and x=q  \n",
    "complete-square form - f(x) = a(x-r)^2 + s  -  vertex at (r,s)\n",
    "a = 1, r = -1/2b, s = c-1/4b^2"
   ]
  },
  {
   "cell_type": "markdown",
   "metadata": {},
   "source": [
    "#### Rational functions"
   ]
  },
  {
   "cell_type": "markdown",
   "metadata": {},
   "source": [
    "Rational functions are the quotient of two polynomials  \n",
    "Excludes points where Q(x) = 0  \n",
    "\n",
    "R(x) = P(x)/Q(x) for polynomials P(x), Q(x)   \n",
    "\n",
    "Q cannont be 0  \n",
    "can also be constants eg Q = 1  \n",
    "\n",
    "Horizontal asymptotes if def(P) <= deg(Q)  \n",
    "determine location by dividing by x^deg(Q)  \n",
    "\n",
    "Vertical asymptotes can only occur at Q(x) = 0  \n",
    "\n",
    "Oblique asymptotes  "
   ]
  },
  {
   "cell_type": "markdown",
   "metadata": {},
   "source": [
    "#### Power functions with integer exponent"
   ]
  },
  {
   "cell_type": "markdown",
   "metadata": {},
   "source": [
    "f(x) = x^a, where a is constant  \n",
    "\n",
    "A = pi*r^2  \n",
    "\n",
    "x^0 = 1, x^1 = x, x^2 = x*x, x^3 = x*x*x  \n",
    "\n",
    "f(x) = x^a for a >= 0  \n",
    "rules of calculations    \n",
    "x^a * x^b = x^(a+b)    \n",
    "(x^a)^b = x^(a*b)  \n",
    "(x*y)^a = x^a * y^a  \n",
    "x^a / x^b = x^(a-b)  \n",
    "\n",
    "f(x) = x^a for negative integer a  \n",
    "x^-1 = 1/x, x^-2 = 1/x^2, x^3 = 1/x^3  \n",
    "\n",
    "rules of calculation apply to negative exponents as well"
   ]
  },
  {
   "cell_type": "markdown",
   "metadata": {},
   "source": [
    "#### Power functions with non-integer exponents"
   ]
  },
  {
   "cell_type": "markdown",
   "metadata": {},
   "source": [
    "f(x) = x^a (x > 0)  \n",
    "restricted to positive values of x  \n",
    "\n",
    "x^(p/q) = qth root(x^p) = (qth root(x))^p  \n",
    "x^(-p/q) = 1 / qth root(x^p) = 1 / (qth root(x))^p   \n",
    "\n",
    "rules of calculations    \n",
    "for x,y > 0: always true  \n",
    "for other x or y; depends on a and b  \n",
    "x^a * x^b = x^(a+b)    \n",
    "(x^a)^b = x^(a*b)  \n",
    "(x*y)^a = x^a * y^a  \n",
    "x^a / x^b = x^(a-b)  "
   ]
  },
  {
   "cell_type": "markdown",
   "metadata": {},
   "source": [
    "#### Domain, codomain and range"
   ]
  },
  {
   "cell_type": "markdown",
   "metadata": {},
   "source": [
    "Maximal domain: |R (all real numbers)  \n",
    "Natural domain: may be smaller eg. [0, inf)  \n",
    "\n",
    "Codomain: set containing all possible outputs - just take all real numbers  \n",
    "Range:  set of outputs actually attained (may be smaller than codomain)  \n",
    "        in general for which y does f(x) = y have a solution  \n",
    "\n"
   ]
  },
  {
   "cell_type": "markdown",
   "metadata": {},
   "source": [
    "#### Continuous functions  \n",
    "f is continuous: A small change in x gives a small change in f(x)"
   ]
  },
  {
   "cell_type": "markdown",
   "metadata": {},
   "source": [
    "#### Continuity"
   ]
  },
  {
   "cell_type": "markdown",
   "metadata": {},
   "source": [
    "contains all the values in domain between a,b  \n",
    "piecewise may not be continuous  "
   ]
  },
  {
   "cell_type": "markdown",
   "metadata": {},
   "source": []
  }
 ],
 "metadata": {
  "kernelspec": {
   "display_name": "Python 3",
   "language": "python",
   "name": "python3"
  },
  "language_info": {
   "codemirror_mode": {
    "name": "ipython",
    "version": 3
   },
   "file_extension": ".py",
   "mimetype": "text/x-python",
   "name": "python",
   "nbconvert_exporter": "python",
   "pygments_lexer": "ipython3",
   "version": "3.6.1"
  }
 },
 "nbformat": 4,
 "nbformat_minor": 2
}
