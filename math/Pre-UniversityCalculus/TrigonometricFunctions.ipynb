{
 "cells": [
  {
   "cell_type": "markdown",
   "metadata": {},
   "source": [
    "[Writing Mathematic Formulas in Markdown](http://csrgxtu.github.io/2015/03/20/Writing-Mathematic-Fomulars-in-Markdown/)"
   ]
  },
  {
   "cell_type": "markdown",
   "metadata": {},
   "source": [
    "Trigonometric functions arise in periodic phenomena like acoustic waves, water waves and circular movement such as wheels."
   ]
  },
  {
   "cell_type": "markdown",
   "metadata": {},
   "source": [
    "Tigonometric functions are usually defined as the ration of two sides in a retangular triangle.  \n",
    "$\\sin(\\theta)$ = opp/hyp  \n",
    "$\\cos(\\theta)$ = adj/hyp  \n",
    "$\\tan(\\theta)$ = opp/adf   \n",
    "\n",
    "![Trigonometric functions](imgs/trig.png)"
   ]
  },
  {
   "cell_type": "markdown",
   "metadata": {},
   "source": [
    "radians vs. degree  \n",
    "$2\\pi$ rad = $360^\\circ$  \n",
    "$\\pi$ rad = $180^\\circ$     \n",
    "1 rad = $(180/\\pi)^\\circ$   \n",
    "$1^\\circ = \\pi/180$ rad   \n",
    "\n",
    "circle circumfrance C = 2$\\pi$r\n",
    "\n",
    "![radians vs. degrees](imgs/rads-degrees.png)\n",
    "![unit circle](imgs/unitcircle.png)\n",
    "![unit circle2](imgs/unitcircle2.png)\n",
    "![unit circle3](imgs/unitcircle3.png)\n",
    "![unit circle4](imgs/unitcircle4.png)\n",
    "![unit circle5](imgs/unitcircle5.png)"
   ]
  },
  {
   "cell_type": "code",
   "execution_count": null,
   "metadata": {
    "collapsed": true
   },
   "outputs": [],
   "source": []
  },
  {
   "cell_type": "markdown",
   "metadata": {},
   "source": [
    "#### Exponential Functions  \n",
    "$Ab^x$   \n",
    "A != 0  \n",
    "b > 0, b != 1  \n",
    "b: base  \n",
    "x: exponent  \n",
    "example: 200 * $1.03^x$   \n",
    "A = 200  \n",
    "b = 1.03  "
   ]
  },
  {
   "cell_type": "markdown",
   "metadata": {},
   "source": [
    "#### Inverse Functions  \n",
    "$f^inv$(y) = x   <--> y = f(x)   \n",
    "y=3x  >  x = 1/3y  >  $f^inv$(y) = 1/3y  \n",
    "f has an inverse only if equation y=f(x) has exactly one solution - injective    \n",
    "horizontal line test - intersect at most one point    \n",
    "inverse function mirrors  "
   ]
  },
  {
   "cell_type": "markdown",
   "metadata": {},
   "source": [
    "#### Logarithms   \n",
    "inverse of the exponential function   \n",
    "logb(x) is the inverse of $b^x$   \n",
    "y = logb(x)  <--->  x = $b^y$  \n",
    "domain: (0, inf)  \n",
    "range: all real numbers   \n",
    "\n",
    "log2(8) = log2($2^3$) = 3  \n",
    "log5(1/5) = log5($5^-1$) = -1    \n",
    "\n",
    "logb($b^a$) = a  \n",
    "logb(1) = log($b^0$) = 0\n",
    "\n",
    "$b^x$ grows faster than $x^c$  \n",
    "$logb(x)$ grows slower than $x^(1/c) = x^d$  "
   ]
  },
  {
   "cell_type": "markdown",
   "metadata": {},
   "source": []
  }
 ],
 "metadata": {
  "kernelspec": {
   "display_name": "Python 3",
   "language": "python",
   "name": "python3"
  },
  "language_info": {
   "codemirror_mode": {
    "name": "ipython",
    "version": 3
   },
   "file_extension": ".py",
   "mimetype": "text/x-python",
   "name": "python",
   "nbconvert_exporter": "python",
   "pygments_lexer": "ipython3",
   "version": "3.6.1"
  }
 },
 "nbformat": 4,
 "nbformat_minor": 2
}
