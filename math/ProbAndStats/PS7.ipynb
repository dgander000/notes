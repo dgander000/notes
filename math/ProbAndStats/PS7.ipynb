{
 "cells": [
  {
   "cell_type": "markdown",
   "metadata": {},
   "source": [
    "<pre>\n",
    "1) Under normal conditions, a factory produces 112 parts per hour with a standard deviation of 32. The\n",
    "owner of the factory decides to test whether these historical measurements still hold. If the owner\n",
    "measures production over 16 hours, what is the 95% confidence interval for the average parts produced\n",
    "per hour during this time period if the old conditions still apply?\n",
    "</pre>"
   ]
  },
  {
   "cell_type": "code",
   "execution_count": 1,
   "metadata": {},
   "outputs": [
    {
     "name": "stdout",
     "output_type": "stream",
     "text": [
      "96.32 127.68\n"
     ]
    }
   ],
   "source": [
    "# 112 +- Z(0.025) * 32/sqrt(16)\n",
    "mean = 112\n",
    "sd = 32\n",
    "Z = -1.96\n",
    "x1 = mean + (Z * 32/4) \n",
    "x2 = mean - (Z * 32/4) \n",
    "print(x1, x2)"
   ]
  },
  {
   "cell_type": "markdown",
   "metadata": {},
   "source": [
    "<pre>\n",
    "Questions 2 & 3 refer to the following information:\n",
    "A vendor at the Pearl Market in Beijing sells men’s neckties. Every sale is a negotiation; hence, the\n",
    "selling price of each necktie at this vendor’s stall is normally distributed with a mean price of $4.25 and a\n",
    "standard deviation of $1.52.\n",
    "</pre>"
   ]
  },
  {
   "cell_type": "markdown",
   "metadata": {},
   "source": [
    "<pre>\n",
    "2) If the vendor sells 100 neckties in one day, what is the probability that the average sales price for the\n",
    "ties sold that day will exceed $4.00?\n",
    "</pre>"
   ]
  },
  {
   "cell_type": "code",
   "execution_count": 6,
   "metadata": {},
   "outputs": [
    {
     "data": {
      "text/plain": [
       "-1.6447368421052633"
      ]
     },
     "execution_count": 6,
     "metadata": {},
     "output_type": "execute_result"
    }
   ],
   "source": [
    "import math\n",
    "\n",
    "n = 100\n",
    "mean = 4.25\n",
    "sd = 1.52\n",
    "x = 4\n",
    "z = (x - mean) / (sd / math.sqrt(n))\n",
    "z"
   ]
  },
  {
   "cell_type": "code",
   "execution_count": 10,
   "metadata": {},
   "outputs": [
    {
     "data": {
      "text/plain": [
       "0.95"
      ]
     },
     "execution_count": 10,
     "metadata": {},
     "output_type": "execute_result"
    }
   ],
   "source": [
    "p_z = 0.05\n",
    "p = 1-p_z\n",
    "p"
   ]
  },
  {
   "cell_type": "markdown",
   "metadata": {},
   "source": [
    "<pre>\n",
    "3) Of the 100 neckties sold, what is the probability that at least ten will sell for $6.75 or more?\n",
    "</pre>"
   ]
  },
  {
   "cell_type": "code",
   "execution_count": 9,
   "metadata": {},
   "outputs": [
    {
     "data": {
      "text/plain": [
       "1.644736842105263"
      ]
     },
     "execution_count": 9,
     "metadata": {},
     "output_type": "execute_result"
    }
   ],
   "source": [
    "x = 6.75\n",
    "mean = 4.25\n",
    "sd = 1.52\n",
    "z = (x - mean) / sd\n",
    "z"
   ]
  },
  {
   "cell_type": "code",
   "execution_count": 12,
   "metadata": {},
   "outputs": [
    {
     "data": {
      "text/plain": [
       "0.028000000000000025"
      ]
     },
     "execution_count": 12,
     "metadata": {},
     "output_type": "execute_result"
    }
   ],
   "source": [
    "p_z = .95\n",
    "p_one = 1-p_z\n",
    "\n",
    "# binomial\n",
    "n = 100\n",
    "p = p_one\n",
    "#P(x >= 10) = 1 - P(x < 9)\n",
    "1 - 0.972"
   ]
  },
  {
   "cell_type": "markdown",
   "metadata": {},
   "source": [
    "<pre>\n",
    "4) A retail store conducts a satisfaction survey with 961 randomly-selected customers. If the true\n",
    "dissatisfaction rate of the store’s customers is 8.8%, what is the probability that more than 10% of the\n",
    "returned surveys express dissatisfaction?\n",
    "</pre>"
   ]
  },
  {
   "cell_type": "code",
   "execution_count": 15,
   "metadata": {},
   "outputs": [
    {
     "data": {
      "text/plain": [
       "1.3131193002354056"
      ]
     },
     "execution_count": 15,
     "metadata": {},
     "output_type": "execute_result"
    }
   ],
   "source": [
    "# sampling proportion\n",
    "P = 0.088\n",
    "x = 0.1\n",
    "n = 961\n",
    "sd = math.sqrt((P*(1-P))/n)\n",
    "z = (x - P) /sd\n",
    "z"
   ]
  },
  {
   "cell_type": "code",
   "execution_count": 18,
   "metadata": {},
   "outputs": [
    {
     "data": {
      "text/plain": [
       "0.09509999999999996"
      ]
     },
     "execution_count": 18,
     "metadata": {},
     "output_type": "execute_result"
    }
   ],
   "source": [
    "p = 1 - 0.9049\n",
    "p"
   ]
  },
  {
   "cell_type": "markdown",
   "metadata": {},
   "source": [
    "<pre>\n",
    "Questions 5-7 refer to the following information:\n",
    "A parcel shipping company offers a single, standard-sized (12” x 12” x 6”), flat rate box which its\n",
    "customers may use to send shipments of any weight anywhere in the country for $20. When filled, the\n",
    "average weight of these boxes is 36 ounces, normally distributed, with a standard deviation of 9 ounces.\n",
    "For air transport, the company packs the boxes into 72” x 72” x 72” shipping containers which weigh 60\n",
    "pounds (1 pound = 16 ounces) when empty. Each shipping container is completely filled with boxes for\n",
    "transport.\n",
    "</pre>"
   ]
  },
  {
   "cell_type": "markdown",
   "metadata": {},
   "source": [
    "<pre>\n",
    "5) What is the 98% confidence interval for the average weight of the boxes in one of the shipping\n",
    "containers?\n",
    "</pre>"
   ]
  },
  {
   "cell_type": "code",
   "execution_count": 19,
   "metadata": {},
   "outputs": [
    {
     "data": {
      "text/plain": [
       "432.0"
      ]
     },
     "execution_count": 19,
     "metadata": {},
     "output_type": "execute_result"
    }
   ],
   "source": [
    "# number of boxes per container = volume_container/volume_box\n",
    "n = 72**3 / (12*12*6)\n",
    "n"
   ]
  },
  {
   "cell_type": "code",
   "execution_count": 24,
   "metadata": {},
   "outputs": [
    {
     "name": "stdout",
     "output_type": "stream",
     "text": [
      "34.99108040459113 37.00891959540887\n"
     ]
    }
   ],
   "source": [
    "Z = -2.33\n",
    "mean = 36\n",
    "sd = 9\n",
    "x1 = mean + (Z * sd/math.sqrt(n)) \n",
    "x2 = mean - (Z * sd/math.sqrt(n)) \n",
    "print(x1, x2)"
   ]
  },
  {
   "cell_type": "markdown",
   "metadata": {},
   "source": [
    "<pre>\n",
    "6) What is the 98% confidence interval for the weight of one of the shipping containers when filled?\n",
    "</pre>"
   ]
  },
  {
   "cell_type": "code",
   "execution_count": 25,
   "metadata": {},
   "outputs": [
    {
     "data": {
      "text/plain": [
       "16512.0"
      ]
     },
     "execution_count": 25,
     "metadata": {},
     "output_type": "execute_result"
    }
   ],
   "source": [
    "mean = 36*n + 60*16 # Expected value - boxes and shipping container in ounces\n",
    "mean"
   ]
  },
  {
   "cell_type": "code",
   "execution_count": 27,
   "metadata": {},
   "outputs": [
    {
     "name": "stdout",
     "output_type": "stream",
     "text": [
      "16076.146734783368 16947.853265216632\n"
     ]
    }
   ],
   "source": [
    "Z = -2.33\n",
    "sd = math.sqrt(n*81)\n",
    "x1 = mean + (Z * sd) \n",
    "x2 = mean - (Z * sd) \n",
    "print(x1, x2)"
   ]
  },
  {
   "cell_type": "markdown",
   "metadata": {},
   "source": [
    "<pre>\n",
    "7) If one of the company’s cargo planes holds 9 of these shipping containers, what is the probability that\n",
    "the total weight of all 9 filled containers will exceed 9,315 pounds?\n",
    "</pre>"
   ]
  },
  {
   "cell_type": "code",
   "execution_count": 29,
   "metadata": {},
   "outputs": [
    {
     "data": {
      "text/plain": [
       "0.769800358919501"
      ]
     },
     "execution_count": 29,
     "metadata": {},
     "output_type": "execute_result"
    }
   ],
   "source": [
    "x = 9315*16\n",
    "mean = (36*n + 60*16) * 9 # Expected value for 9 container in ounces\n",
    "sd = math.sqrt(9*n*81)\n",
    "z = (x - mean) / sd\n",
    "z"
   ]
  },
  {
   "cell_type": "code",
   "execution_count": 30,
   "metadata": {},
   "outputs": [
    {
     "data": {
      "text/plain": [
       "0.22060000000000002"
      ]
     },
     "execution_count": 30,
     "metadata": {},
     "output_type": "execute_result"
    }
   ],
   "source": [
    "p = 1 - 0.7794\n",
    "p"
   ]
  },
  {
   "cell_type": "markdown",
   "metadata": {},
   "source": [
    "<pre>\n",
    "8) A new study (commissioned by an escalator company) claims that, based upon random building\n",
    "inspections, they have evidence to show with 99% certainty that between 60% and 64% of all elevators\n",
    "in U.S. commercial buildings do not meet basic safety standards. How many elevators would they need\n",
    "to have inspected in order for this statement to be accurate?\n",
    "</pre>"
   ]
  },
  {
   "cell_type": "code",
   "execution_count": 31,
   "metadata": {
    "collapsed": true
   },
   "outputs": [],
   "source": [
    "# 62 +- 2\n",
    "# alpha = 0.01 -> Z(0.005)\n",
    "P = .62\n",
    "# 0.02 = Z(0.005) * math.sqrt((P*(1-P))/n)\n",
    "Z = -2.75\n",
    "n = 3,903"
   ]
  },
  {
   "cell_type": "markdown",
   "metadata": {},
   "source": [
    "<pre>\n",
    "9) A Fish and Game study catches, measures, and releases 26 brook trout from Lake Superior. The\n",
    "average length of the caught fish is 18 inches with a standard deviation of 2 inches. Assuming that the\n",
    "fish used by the study are a representative sample of the overall population of fish in the lake, what is\n",
    "the 90% confidence interval for the true average length of all brook trout in Lake Superior?\n",
    "</pre>"
   ]
  },
  {
   "cell_type": "code",
   "execution_count": null,
   "metadata": {
    "collapsed": true
   },
   "outputs": [],
   "source": [
    "n = 26\n",
    "# degrees of freedom = n-1 = 25\n",
    "# alpha = .1\n",
    "# 18 +- t(25, 0.05) * (2/sqrt(n))\n",
    "# 18 +- 0.670"
   ]
  },
  {
   "cell_type": "markdown",
   "metadata": {},
   "source": [
    "<pre>\n",
    "10) You are interested in determining the percentage of voters who would support a possible ballot\n",
    "measure. How many voters’ opinions do you need to sample in order to ensure, with 95% confidence,\n",
    "that your prediction of the percentage of voters who would support the measure is accurate to within\n",
    "3%?\n",
    "</pre>"
   ]
  },
  {
   "cell_type": "code",
   "execution_count": null,
   "metadata": {
    "collapsed": true
   },
   "outputs": [],
   "source": [
    "# p +- 3%\n",
    "# 0.03 = Z(0.025) * sqrt((P*(1-P))/n)\n",
    "# sub in 0.5 for P, most conservative number\n",
    "n = 1068"
   ]
  }
 ],
 "metadata": {
  "kernelspec": {
   "display_name": "Python 3",
   "language": "python",
   "name": "python3"
  },
  "language_info": {
   "codemirror_mode": {
    "name": "ipython",
    "version": 3
   },
   "file_extension": ".py",
   "mimetype": "text/x-python",
   "name": "python",
   "nbconvert_exporter": "python",
   "pygments_lexer": "ipython3",
   "version": "3.6.3"
  }
 },
 "nbformat": 4,
 "nbformat_minor": 2
}
