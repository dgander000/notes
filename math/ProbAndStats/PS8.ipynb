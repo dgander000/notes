{
 "cells": [
  {
   "cell_type": "code",
   "execution_count": 1,
   "metadata": {
    "collapsed": true
   },
   "outputs": [],
   "source": [
    "import math"
   ]
  },
  {
   "cell_type": "markdown",
   "metadata": {},
   "source": [
    "<pre>\n",
    "Questions 1 & 2 refer to the following information:\n",
    "A pizza chain claims that their large pizzas are at least 14 inches in diameter. You decide to test this\n",
    "claim, so you buy 41 of their pizzas and measure each one. The average diameter of the pizzas you\n",
    "purchased is 13.88 inches with a standard deviation of 0.40 inches.\n",
    "</pre>"
   ]
  },
  {
   "cell_type": "markdown",
   "metadata": {},
   "source": [
    "<pre>\n",
    "1) Do you have enough evidence to refute the pizza chain’s claim with 99% certainty\n",
    "</pre>"
   ]
  },
  {
   "cell_type": "code",
   "execution_count": 2,
   "metadata": {},
   "outputs": [
    {
     "data": {
      "text/plain": [
       "-1.9209372712298418"
      ]
     },
     "execution_count": 2,
     "metadata": {},
     "output_type": "execute_result"
    }
   ],
   "source": [
    "# Ho: mean >= 14\n",
    "# Ha: mean < 14\n",
    "# one tail test, 40 degrees of freedom, alpha = 0.01\n",
    "# t(40, 0.01) = -2.423\n",
    "t = (13.88 - 14) / (0.4/math.sqrt(41))\n",
    "t"
   ]
  },
  {
   "cell_type": "markdown",
   "metadata": {},
   "source": [
    "No.  \n",
    "-1.92 > -2.423"
   ]
  },
  {
   "cell_type": "markdown",
   "metadata": {},
   "source": [
    "<pre>\n",
    "2) How likely is it that you would have observed these results if the pizza chain’s claim was true?\n",
    "</pre>"
   ]
  },
  {
   "cell_type": "code",
   "execution_count": null,
   "metadata": {
    "collapsed": true
   },
   "outputs": [],
   "source": [
    "# find p value, about 3.1%"
   ]
  },
  {
   "cell_type": "markdown",
   "metadata": {},
   "source": [
    "<pre>\n",
    "Questions 3 & 4 refer to the following information:\n",
    "At St. Garth’s hospital, when patients afflicted with a certain disease are given the standard treatment,\n",
    "20% show improvement in their symptoms. A new treatment for the disease has gained popularity at\n",
    "other hospitals, so the physicians at St. Garth’s decide to try the new treatment with 100 of their\n",
    "patients to test whether there is any difference in the new treatment’s effectiveness.\n",
    "</pre>"
   ]
  },
  {
   "cell_type": "markdown",
   "metadata": {},
   "source": [
    "<pre>\n",
    "3) If 27 of the 100 patients given the new treatment show improvement, is this enough evidence to\n",
    "conclude with 95% certainty that the new treatment has a significantly different effect than the old?\n",
    "</pre>"
   ]
  },
  {
   "cell_type": "code",
   "execution_count": 6,
   "metadata": {},
   "outputs": [
    {
     "data": {
      "text/plain": [
       "1.7500000000000002"
      ]
     },
     "execution_count": 6,
     "metadata": {},
     "output_type": "execute_result"
    }
   ],
   "source": [
    "# Ho: p = 0.2\n",
    "# Ha: p != 0.2\n",
    "# two tail test, alpha = 0.05\n",
    "z = -1.96\n",
    "z_test = (.27 - .2) / math.sqrt((0.2*0.8)/100)\n",
    "z_test"
   ]
  },
  {
   "cell_type": "markdown",
   "metadata": {},
   "source": [
    "No.  \n",
    "abs(z_test) not greater than abs(z)"
   ]
  },
  {
   "cell_type": "markdown",
   "metadata": {},
   "source": [
    "<pre>\n",
    "4) If the same percentage of patients given the new treatment showed improvement using a larger\n",
    "sample group, how many patients would St. Garth’s need to include in the sample in order to show\n",
    "evidence of a significant difference using the new treatment with 99% confidence?\n",
    "</pre>"
   ]
  },
  {
   "cell_type": "code",
   "execution_count": 7,
   "metadata": {
    "collapsed": true
   },
   "outputs": [],
   "source": [
    "# two tail test, alpha = .005\n",
    "# Z(.005) = - 2.575\n",
    "# -2.575 = (.27 - .2) / math.sqrt((0.2*0.8)/n)\n",
    "n = 217"
   ]
  },
  {
   "cell_type": "markdown",
   "metadata": {},
   "source": [
    "<pre>\n",
    "Questions 5 & 6 refer to the following information:\n",
    "You recently championed the purchase of a rather expensive customer relationship management (CRM)\n",
    "system at your company by guaranteeing to the board of directors that the new CRM would significantly\n",
    "increase the productivity of the company’s sales force. Now that the CRM system has been in place for\n",
    "12 weeks, you really need to show compelling evidence that the productivity of the sales team is up.\n",
    "Before the CRM came online, the sales team spoke with, on average, 3563 potential customers each\n",
    "week, with a standard deviation of 326. Since the CRM came online, the sales team has recorded the\n",
    "following weekly contact numbers:\n",
    "3067\n",
    "2998\n",
    "3565\n",
    "3461\n",
    "3903\n",
    "4190\n",
    "3925\n",
    "4311\n",
    "4014\n",
    "3908\n",
    "4070\n",
    "3612\n",
    "</pre>"
   ]
  },
  {
   "cell_type": "markdown",
   "metadata": {},
   "source": [
    "<pre>\n",
    "5) Do these numbers constitute enough evidence to say with 95% confidence that the sales team has\n",
    "been speaking with more potential customers per week since the implementation of the CRM?\n",
    "</pre>"
   ]
  },
  {
   "cell_type": "code",
   "execution_count": 8,
   "metadata": {},
   "outputs": [
    {
     "data": {
      "text/plain": [
       "2.0083288504939745"
      ]
     },
     "execution_count": 8,
     "metadata": {},
     "output_type": "execute_result"
    }
   ],
   "source": [
    "# one tail test, alpha = .05\n",
    "# Ho <= 3563\n",
    "# Ha > 3563\n",
    "# Z(.05) = 1.645\n",
    "x = 3752\n",
    "mean = 3563\n",
    "n = 12\n",
    "z = (x - mean) / (326/math.sqrt(n))\n",
    "z"
   ]
  },
  {
   "cell_type": "markdown",
   "metadata": {},
   "source": [
    "yes, outperforming  \n",
    "2 > 1.645"
   ]
  },
  {
   "cell_type": "markdown",
   "metadata": {},
   "source": [
    "<pre>\n",
    "6) If your follow-up presentation to the board of visitors is actually still a week away (13 weeks after the\n",
    "launch of the CRM), what is the minimum number of contacts that the sales team will need to report for\n",
    "Week 13 to ensure that you can offer evidence that the CRM has increased productivity with 95%\n",
    "confidence?\n",
    "</pre>"
   ]
  },
  {
   "cell_type": "code",
   "execution_count": 10,
   "metadata": {
    "collapsed": true
   },
   "outputs": [],
   "source": [
    "# (x - 3563) / (326/sqrt(13)) = 1.645\n",
    "x = 3711.73\n",
    "# 3711.73 = ((3752*12) + W13) / 13\n",
    "W13 = 3229"
   ]
  },
  {
   "cell_type": "markdown",
   "metadata": {},
   "source": [
    "<pre>\n",
    "Questions 7 & 8 refer to the following information:\n",
    "In a blind taste test between two brands of root beer (Brand A and Brand B), 263 out of 500 testers\n",
    "indicated that they preferred the taste of Brand B.\n",
    "</pre>"
   ]
  },
  {
   "cell_type": "markdown",
   "metadata": {},
   "source": [
    "<pre>\n",
    "7) Does this test offer evidence, significant at 90%, that root beer drinkers prefer the taste of Brand B?\n",
    "</pre>"
   ]
  },
  {
   "cell_type": "code",
   "execution_count": null,
   "metadata": {
    "collapsed": true
   },
   "outputs": [],
   "source": [
    "# one tail test, alpha = 0.1\n",
    "# Ho: p <= 0.5\n",
    "# Ha: p > 0.5\n",
    "# z = 1.28\n",
    "# z_measured = ((263/500) - 0.5) / sqrt((0.5*0.5)/500) = 1.16\n",
    "# No evidence to reject null hypthesis, 1.16 < 1.28"
   ]
  },
  {
   "cell_type": "markdown",
   "metadata": {},
   "source": [
    "<pre>\n",
    "8) What is the p-value for this test?\n",
    "</pre>"
   ]
  },
  {
   "cell_type": "code",
   "execution_count": null,
   "metadata": {
    "collapsed": true
   },
   "outputs": [],
   "source": [
    "# P(z > 1.16) = 1 - 0.877 = 0.123"
   ]
  },
  {
   "cell_type": "markdown",
   "metadata": {},
   "source": [
    "<pre>\n",
    "Questions 9 & 10 refer to the following information:\n",
    "A factory has traditionally shipped their products to a distribution center via truck. A new railroad line\n",
    "has recently been built that makes shipment between the factory and the distribution center possible\n",
    "entirely by rail. The average time it takes to move products between the factory and distribution center\n",
    "via truck is 406 minutes.\n",
    "To move products by rail, the shipments must travel by two different rail lines, A & B, transitioning from\n",
    "Line A to Line B in the middle of the journey. Thus, the total time required to travel by rail is the sum of\n",
    "the times it takes to travel from the factory to the connecting point via Line A plus the time is takes to\n",
    "travel from the connecting point to the distribution center via Line B. So far, 25 shipments have been\n",
    "made by rail. In those 25 shipments, the average time it has taken to travel on Line A has been 213\n",
    "minutes with a standard deviation of 25 minutes. The average time it has taken to travel on Line B has\n",
    "been 177 minutes with a standard deviation of 17 minutes. Times for Lines A and B are independent.\n",
    "</pre>"
   ]
  },
  {
   "cell_type": "markdown",
   "metadata": {},
   "source": [
    "<pre>\n",
    "9) Is there enough evidence to conclude with 99% certainty that shipping by rail is faster?\n",
    "</pre>"
   ]
  },
  {
   "cell_type": "code",
   "execution_count": null,
   "metadata": {
    "collapsed": true
   },
   "outputs": [],
   "source": [
    "# one tail test\n",
    "# Ho: mean >= 406\n",
    "# Ha: mean < 406\n",
    "# t(24, 0.01) = -2.492\n",
    "\n",
    "# E(A+B) = 213 + 177 = 390\n",
    "# Var(A+B) = 25^2 + 17^2 + 2*0*25*17 = 914 # lines are independent\n",
    "# sd(A+B) = sqrt(914) = 30.232\n",
    "# z_observed = (390-406) / (30.232/sqrt(25)) = -2.646\n",
    "# accept Ha -> -2.646 < - 2.492"
   ]
  },
  {
   "cell_type": "markdown",
   "metadata": {},
   "source": [
    "<pre>\n",
    "10) If, instead of being independent, the travel times for Lines A and B are correlated at 0.73, is there\n",
    "now enough evidence to conclude with 99% certainty that shipping by rail is faster?\n",
    "</pre>"
   ]
  },
  {
   "cell_type": "code",
   "execution_count": null,
   "metadata": {
    "collapsed": true
   },
   "outputs": [],
   "source": [
    "# Var(A+B) = 25^2 + 17^2 + 2*0.73*25*17 = 1534.5\n",
    "# sd(A+B) = sqrt(1534.5) = 39.173\n",
    "# z_observed = (390-406) / (39.173/sqrt(25)) = -2.042\n",
    "# now not enough evidence to support Ha"
   ]
  },
  {
   "cell_type": "markdown",
   "metadata": {},
   "source": [
    "<pre>\n",
    "\n",
    "</pre>"
   ]
  }
 ],
 "metadata": {
  "kernelspec": {
   "display_name": "Python 3",
   "language": "python",
   "name": "python3"
  },
  "language_info": {
   "codemirror_mode": {
    "name": "ipython",
    "version": 3
   },
   "file_extension": ".py",
   "mimetype": "text/x-python",
   "name": "python",
   "nbconvert_exporter": "python",
   "pygments_lexer": "ipython3",
   "version": "3.6.3"
  }
 },
 "nbformat": 4,
 "nbformat_minor": 2
}
