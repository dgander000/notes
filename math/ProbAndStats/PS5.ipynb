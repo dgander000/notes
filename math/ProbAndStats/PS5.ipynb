{
 "cells": [
  {
   "cell_type": "code",
   "execution_count": 2,
   "metadata": {
    "collapsed": true
   },
   "outputs": [],
   "source": [
    "def cal_Z(x, mean, sd):\n",
    "    return (x - mean)/sd"
   ]
  },
  {
   "cell_type": "markdown",
   "metadata": {},
   "source": [
    "<pre>\n",
    "Questions 1-3 refer to the following information:\n",
    "Assume that the useful life of a smartphone is normally distributed with an average of 3.4 years and a\n",
    "standard deviation of 1.2 years.\n",
    "</pre>"
   ]
  },
  {
   "cell_type": "markdown",
   "metadata": {},
   "source": [
    "<pre>\n",
    "1) What percentage of smartphones last more than 5 years?\n",
    "</pre>"
   ]
  },
  {
   "cell_type": "code",
   "execution_count": 3,
   "metadata": {},
   "outputs": [
    {
     "name": "stdout",
     "output_type": "stream",
     "text": [
      "1.3333333333333335\n"
     ]
    }
   ],
   "source": [
    "# Z = (value - mean)/standard deviation \n",
    "Z = cal_Z(5, 3.4, 1.2)\n",
    "print(Z)"
   ]
  },
  {
   "cell_type": "code",
   "execution_count": 4,
   "metadata": {},
   "outputs": [
    {
     "name": "stdout",
     "output_type": "stream",
     "text": [
      "0.09179999999999999\n"
     ]
    }
   ],
   "source": [
    "P = 1 - 0.9082 \n",
    "print(P)"
   ]
  },
  {
   "cell_type": "markdown",
   "metadata": {},
   "source": [
    "<pre>\n",
    "2) What percentage last between 2 and 4 years?\n",
    "</pre>"
   ]
  },
  {
   "cell_type": "code",
   "execution_count": 5,
   "metadata": {},
   "outputs": [
    {
     "name": "stdout",
     "output_type": "stream",
     "text": [
      "-1.1666666666666667 0.5000000000000001\n"
     ]
    }
   ],
   "source": [
    "Z1 = cal_Z(2, 3.4, 1.2)\n",
    "Z2 = cal_Z(4, 3.4, 1.2)\n",
    "print(Z1, Z2)"
   ]
  },
  {
   "cell_type": "code",
   "execution_count": 9,
   "metadata": {},
   "outputs": [
    {
     "name": "stdout",
     "output_type": "stream",
     "text": [
      "0.5705\n"
     ]
    }
   ],
   "source": [
    "print(0.6915 - 0.1210)"
   ]
  },
  {
   "cell_type": "markdown",
   "metadata": {},
   "source": [
    "<pre>\n",
    "3) What is the middle 50% range for smartphone lifespans?\n",
    "</pre>"
   ]
  },
  {
   "cell_type": "code",
   "execution_count": 11,
   "metadata": {},
   "outputs": [
    {
     "name": "stdout",
     "output_type": "stream",
     "text": [
      "2.59 4.21\n"
     ]
    }
   ],
   "source": [
    "x1 = -0.675*1.2 + 3.4\n",
    "x2 = 0.675*1.2 + 3.4\n",
    "print(x1, x2)"
   ]
  },
  {
   "cell_type": "markdown",
   "metadata": {},
   "source": [
    "<pre>\n",
    "4) For every inch of rainfall in a region over the course of a day, a river rises downstream by 6 inches.\n",
    "Currently the river is running 3 feet below the tops of its banks. Tomorrow the forecast gives a 60%\n",
    "chance of rain. When it rains in this region, the average amount to fall is 4 inches with a standard\n",
    "deviation of 1.6 inches and normal distribution. What is the probability that the river will rise above its\n",
    "banks and flood the downstream region tomorrow?\n",
    "</pre>"
   ]
  },
  {
   "cell_type": "code",
   "execution_count": 13,
   "metadata": {},
   "outputs": [
    {
     "name": "stdout",
     "output_type": "stream",
     "text": [
      "1.25\n"
     ]
    }
   ],
   "source": [
    "mean = 4\n",
    "sd = 1.6\n",
    "x = 6 # need 6 inches of rain\n",
    "Z = cal_Z(x, mean, sd)\n",
    "print(Z)"
   ]
  },
  {
   "cell_type": "code",
   "execution_count": 16,
   "metadata": {},
   "outputs": [
    {
     "data": {
      "text/plain": [
       "0.06336000000000001"
      ]
     },
     "execution_count": 16,
     "metadata": {},
     "output_type": "execute_result"
    }
   ],
   "source": [
    "p = 1 - 0.8944\n",
    "p_final = p * 0.6\n",
    "p_final"
   ]
  },
  {
   "cell_type": "markdown",
   "metadata": {},
   "source": [
    "<pre>\n",
    "5) Subway train departures in a city are 10 minutes late on average with a normal distribution and a\n",
    "standard deviation of 6 minutes. What is the probability of a train departing somewhere in the range\n",
    "between on-time and 15 minutes late?\n",
    "</pre>"
   ]
  },
  {
   "cell_type": "code",
   "execution_count": 20,
   "metadata": {},
   "outputs": [
    {
     "name": "stdout",
     "output_type": "stream",
     "text": [
      "0.8333333333333334\n",
      "-1.6666666666666667\n"
     ]
    }
   ],
   "source": [
    "mean = 10\n",
    "sd = 6\n",
    "\n",
    "x1 = 15\n",
    "Z1 = cal_Z(x1, mean, sd)\n",
    "print(Z1)\n",
    "\n",
    "x2 = 0\n",
    "Z2 = cal_Z(x2, mean, sd)\n",
    "print(Z2)"
   ]
  },
  {
   "cell_type": "code",
   "execution_count": 21,
   "metadata": {},
   "outputs": [
    {
     "data": {
      "text/plain": [
       "0.7492"
      ]
     },
     "execution_count": 21,
     "metadata": {},
     "output_type": "execute_result"
    }
   ],
   "source": [
    "p_15_late = 0.7967\n",
    "p_on_time = 0.0475\n",
    "p_between = p_15_late - p_on_time\n",
    "p_between"
   ]
  },
  {
   "cell_type": "markdown",
   "metadata": {},
   "source": [
    "<pre>\n",
    "Questions 6-9 refer to the following information:\n",
    "The average speed of motorists on a highway is measured by the time it takes each car to travel\n",
    "between two pay stations which are 60 miles apart. During one off-peak hour, 10,000 cars arrive at the\n",
    "second pay station. During this time, the average time it takes a car to travel between the two pay\n",
    "stations is 50 minutes. The average speed of the cars is normally distributed.\n",
    "</pre>"
   ]
  },
  {
   "cell_type": "markdown",
   "metadata": {},
   "source": [
    "<pre>\n",
    "6) If it takes 1000 cars more than an hour to reach the second pay station, what is the standard\n",
    "deviation for speed in miles per hour during that one-hour period?\n",
    "</pre>"
   ]
  },
  {
   "cell_type": "code",
   "execution_count": 22,
   "metadata": {},
   "outputs": [
    {
     "data": {
      "text/plain": [
       "9.375"
      ]
     },
     "execution_count": 22,
     "metadata": {},
     "output_type": "execute_result"
    }
   ],
   "source": [
    "mean = 60/50 * 60 # miles per minute to mph\n",
    "x = 60 \n",
    "z = -1.28 # 10 %\n",
    "sd = (x - mean)/z\n",
    "sd"
   ]
  },
  {
   "cell_type": "markdown",
   "metadata": {},
   "source": [
    "<pre>\n",
    "7) If the highway patrol decides to give tickets to the fastest 5% of motorists, at what speed (mph) will\n",
    "they need to start giving out tickets?\n",
    "</pre>"
   ]
  },
  {
   "cell_type": "code",
   "execution_count": 24,
   "metadata": {},
   "outputs": [
    {
     "data": {
      "text/plain": [
       "87.421875"
      ]
     },
     "execution_count": 24,
     "metadata": {},
     "output_type": "execute_result"
    }
   ],
   "source": [
    "# Z = (value - mean)/standard deviation \n",
    "# x = Z*sd - mean\n",
    "x = 1.645*sd + mean\n",
    "x"
   ]
  },
  {
   "cell_type": "markdown",
   "metadata": {},
   "source": [
    "<pre>\n",
    "8) A highway patrol officer is watching the highway with a radar gun from an unobservable spot. If 20\n",
    "cars go past, what is the probability that at least one of them will be going faster than the threshold set\n",
    "in Question 7?\n",
    "</pre>"
   ]
  },
  {
   "cell_type": "code",
   "execution_count": 26,
   "metadata": {},
   "outputs": [
    {
     "data": {
      "text/plain": [
       "0.642"
      ]
     },
     "execution_count": 26,
     "metadata": {},
     "output_type": "execute_result"
    }
   ],
   "source": [
    "n = 20\n",
    "p = 0.05\n",
    "# p(x>=1) = 1 - p(x = 0)\n",
    "1 - 0.358"
   ]
  },
  {
   "cell_type": "markdown",
   "metadata": {},
   "source": [
    "<pre>\n",
    "9) Now suppose that instead of issuing tickets to the fastest 5% of motorists, the highway patrol decides\n",
    "to issue tickets to the fastest 10% of motorists who are travelling above the speed limit. If the speed\n",
    "limit is 70 mph, what is the new speed threshold for issuing a ticket?\n",
    "</pre>"
   ]
  },
  {
   "cell_type": "code",
   "execution_count": 27,
   "metadata": {},
   "outputs": [
    {
     "name": "stdout",
     "output_type": "stream",
     "text": [
      "-0.21333333333333335\n"
     ]
    }
   ],
   "source": [
    "mean = 60/50 * 60 # miles per minute to mph\n",
    "x = 70\n",
    "sd = 9.375\n",
    "Z = cal_Z(x, mean, sd)\n",
    "print(Z)"
   ]
  },
  {
   "cell_type": "code",
   "execution_count": 29,
   "metadata": {},
   "outputs": [
    {
     "name": "stdout",
     "output_type": "stream",
     "text": [
      "0.94168\n"
     ]
    }
   ],
   "source": [
    "p = 1 - 0.4168 # everyone exceeding the speed limit\n",
    "top = p * 0.1 # fastest 10 percent\n",
    "less = 1 - top\n",
    "print(less)"
   ]
  },
  {
   "cell_type": "code",
   "execution_count": 30,
   "metadata": {},
   "outputs": [
    {
     "data": {
      "text/plain": [
       "86.7"
      ]
     },
     "execution_count": 30,
     "metadata": {},
     "output_type": "execute_result"
    }
   ],
   "source": [
    "z = 1.568\n",
    "x = z*sd + mean\n",
    "x"
   ]
  },
  {
   "cell_type": "markdown",
   "metadata": {},
   "source": [
    "<pre>\n",
    "10) A company that performs oil changes averages 20 minutes per change with a normal distribution of\n",
    "service times. The probability that an oil change will take less than 30 minutes is 93.32%. If two cars\n",
    "arrive to have their oils changed, what is the probability that both of them can be completed in less than\n",
    "15 minutes each?\n",
    "</pre>"
   ]
  },
  {
   "cell_type": "code",
   "execution_count": 31,
   "metadata": {},
   "outputs": [
    {
     "data": {
      "text/plain": [
       "6.666666666666667"
      ]
     },
     "execution_count": 31,
     "metadata": {},
     "output_type": "execute_result"
    }
   ],
   "source": [
    "mean = 20\n",
    "# z value for 93.32% = 1.5\n",
    "# sd = (x - mean) / z\n",
    "sd = (30 - 20) / 1.5\n",
    "sd"
   ]
  },
  {
   "cell_type": "code",
   "execution_count": 32,
   "metadata": {},
   "outputs": [
    {
     "data": {
      "text/plain": [
       "-0.75"
      ]
     },
     "execution_count": 32,
     "metadata": {},
     "output_type": "execute_result"
    }
   ],
   "source": [
    "Z = cal_Z(15, mean, sd)\n",
    "Z"
   ]
  },
  {
   "cell_type": "code",
   "execution_count": 33,
   "metadata": {},
   "outputs": [
    {
     "data": {
      "text/plain": [
       "0.05134756"
      ]
     },
     "execution_count": 33,
     "metadata": {},
     "output_type": "execute_result"
    }
   ],
   "source": [
    "# p1 = 0.2266\n",
    "p = 0.2266 * 0.2266\n",
    "p"
   ]
  },
  {
   "cell_type": "code",
   "execution_count": null,
   "metadata": {
    "collapsed": true
   },
   "outputs": [],
   "source": []
  }
 ],
 "metadata": {
  "kernelspec": {
   "display_name": "Python 3",
   "language": "python",
   "name": "python3"
  },
  "language_info": {
   "codemirror_mode": {
    "name": "ipython",
    "version": 3
   },
   "file_extension": ".py",
   "mimetype": "text/x-python",
   "name": "python",
   "nbconvert_exporter": "python",
   "pygments_lexer": "ipython3",
   "version": "3.6.3"
  }
 },
 "nbformat": 4,
 "nbformat_minor": 2
}
