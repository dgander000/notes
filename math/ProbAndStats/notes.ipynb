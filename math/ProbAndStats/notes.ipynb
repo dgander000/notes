{
 "cells": [
  {
   "cell_type": "markdown",
   "metadata": {},
   "source": [
    "## Workshop in Probability and Statistics"
   ]
  },
  {
   "cell_type": "markdown",
   "metadata": {},
   "source": [
    "### Basic Probability and Terminology"
   ]
  },
  {
   "cell_type": "markdown",
   "metadata": {},
   "source": [
    "p = # of outcomes you are looking for / # of total possible outcomes  \n",
    "probability equation if all outcomes are equally likely  \n",
    "\n",
    "example: six sided die  \n",
    "probability of rolling a 3: 1/6  \n",
    "probability of rolling an even number: 3/6  \n",
    "\n",
    "deck of cards:  \n",
    "probability of drawing a heart: 13/52 = 1/4  \n",
    "probability of drawing an ace: 4/52  "
   ]
  },
  {
   "cell_type": "markdown",
   "metadata": {},
   "source": [
    "event (A, B, ect) = # of outcomes you are looking for  \n",
    "sample space (S)  = # of total possible outcomes  \n",
    "\n",
    "example:  event A is picking a heart from a deck of cards  \n",
    "P(A) = 13/52 = 1/4  \n",
    "Â = complement of A  \n",
    "P(Â) = 39/52  \n",
    "P(Â) = 1 - P(A)  "
   ]
  },
  {
   "cell_type": "markdown",
   "metadata": {},
   "source": [
    "### And & Or (intersection and union)  \n",
    "\n",
    "S: all 52 cards  \n",
    "Event A: draw a heart  \n",
    "Event B: draw a face card  \n",
    "Event C: draw a spade  \n",
    "\n",
    "A and B -> intersection of A and B = A ᴖ B  \n",
    "P(AᴖB) = 3/52  \n",
    "P(AᴖC) = Ø (null set) - A and C are mutually exclusive  \n",
    "\n",
    "A or B -> union of A and B = A u B\n",
    "P(A or C) = 26/52 = add probabilities of mutually exclusive events  \n",
    "\n",
    "probability for events that are not mutually exclusive - need to account for intersection  \n",
    "P(A or B) = P(A) + P(B) - P(A ᴖ B)\n",
    "\n",
    "\n",
    "A and Â are mutually exclusive  "
   ]
  },
  {
   "cell_type": "markdown",
   "metadata": {},
   "source": [
    "### Descriptive Statistics\n",
    "\n",
    "population \n",
    "sample - helps make predictions about population  \n",
    "important to have a representative sample and a large enough sample  \n",
    "\n",
    "Mean - average  \n",
    "Median - result that is the middle of sample values  \n",
    "Mode - result that comes up most frequently  \n",
    "\n",
    "Percentile - percentage that fall below that number  \n",
    "Quartile - 25th, 50th and 75th percentile  \n",
    "\n",
    "Geometric mean - calculate growth rates over time  \n",
    "(product of n numbers)^(1/n) - 1  \n",
    "example: double sales in 5 years - what percentage increase is needed every year?    \n",
    "(2)^(1/5) - 1  = about 15%  \n",
    "\n",
    "Variance -  \n",
    "Standard Deviation - how much variation there is in the sample or population    \n",
    "example: using test scores  \n",
    "first calculate the mean  \n",
    "variance = sum of all (sample values - mean)^2 / number of samples  \n",
    "standard deviation = sqrt(variance)  \n",
    "\n",
    "z-score - # of standard deviations from the mean  \n",
    "coefficient of variation - how much variation in sample - ((sample standard deviation / sample mean) * 100%)    \n",
    "\n",
    "weighted average - multiply each value by its frequency, add them all up, divide by total number of instances  \n",
    "expected value  "
   ]
  },
  {
   "cell_type": "markdown",
   "metadata": {
    "collapsed": true
   },
   "source": [
    "### Conditional Probability and Independent Events\n",
    "\n",
    "Independent Events  \n",
    "just multiply probabilities of events  \n",
    "P(A and B) = P(A) * P(B)  \n",
    "\n",
    "Possible combination of x independent events - multiply the all possibilities  \n",
    "Probability of one combination is 1/the number above  \n",
    "Example:  a number followed by a number followed by a character of alphabet      \n",
    "number - number - char  \n",
    "$10      *  10 *   26 = 2600$ possible combinations  \n",
    "probability of one specific combination is 1/2600  \n",
    "\n",
    "\n",
    "Dependent Events  \n",
    "if numbers can't repeat:\n",
    "$10 * 9 * 26 = 2340$ possible outcomes\n",
    "\n",
    "example:\n",
    "sock drawer  \n",
    "8 pair black  \n",
    "5 blue  \n",
    "7 white  \n",
    "\n",
    "probability of pulling out a pair of black socks, not replacing the socks, the pulling black again  \n",
    "$8/20 * 7/19 = 56/380$  "
   ]
  },
  {
   "cell_type": "markdown",
   "metadata": {},
   "source": [
    "### Conditional Probability\n",
    "P(A | B) - probability of A given B    \n",
    "example: probability you drew face card given you drew a heart = 3/13  \n",
    "\n",
    "**P(A | B) = P(A and B) / P(B)**  \n",
    "\n",
    "If A and B are independant  \n",
    "P(A | B) = P(A)  \n",
    "can be used to check if events are independent  "
   ]
  },
  {
   "cell_type": "markdown",
   "metadata": {},
   "source": [
    "### Permutations and Combinations\n",
    "Factorial: n!  \n",
    "$ n * (n-1) * (n-2) * ... * 1 $   \n",
    "\n",
    "permutations - order matters  \n",
    "example - picking top 3 finishers (in order) in a race out of 9 racers  \n",
    "total combinations = 9 x 8 x 7 = 504  \n",
    "nPk = n!/(n-k)! = 9!/6! = 9 x 8 x 7 x 6 x 5 x 4 x 3 x 2 x 1 / 6 x 5 x 4 x 3 x 2 x 1   \n",
    "\n",
    "\n",
    "combinations - order doesn't matter  \n",
    "example - picking top 3 finishers (NOT in order) in a race out of 9 racers   \n",
    "n = 9, r = 3  \n",
    "nCr = n! / r!(n-r)! = 9!/3!x6! = 504/6 = 84  "
   ]
  },
  {
   "cell_type": "markdown",
   "metadata": {},
   "source": [
    "### Bayes' Theorem \n",
    "P(B|A) = P(A|B)xP(B) / P(A)  "
   ]
  },
  {
   "cell_type": "markdown",
   "metadata": {},
   "source": [
    "### Random Variables\n",
    "encompasses all possible values in a sample space  \n",
    "\n",
    "discrete  \n",
    "can only take on specific values  \n",
    "countable  \n",
    "distinction between values are important  \n",
    "exp: num new hires in a year, num customer complaints per month  \n",
    "\n",
    "continuous  \n",
    "can take on an infinite number of values in a range  \n",
    "distinction between incremental values unimportant  \n",
    "exp: height of adult female, time to complete task, company's yearly revenues  \n",
    "\n",
    "probability distribution - sample value / total values  \n",
    "cumulative probability - all probabilities at or below  \n",
    "histogram - frequency of outcomes  "
   ]
  },
  {
   "cell_type": "markdown",
   "metadata": {},
   "source": [
    "### Expected Value\n",
    "predict about random variable - average of random variable using is probability distribution   \n",
    "weighted average"
   ]
  },
  {
   "cell_type": "markdown",
   "metadata": {
    "collapsed": true
   },
   "source": [
    "### Binomial Distributions  \n",
    "\n",
    "2 possible outcomes  \n",
    "number of trial: n  \n",
    "number of 'successes': x  \n",
    "probability of x: p\n",
    "Tells us the probability of getting x 'successes' in n attempts.  \n",
    "\n",
    "$P(x) = n!/x!(n-x)! * P^x * (1-P)^(n-x)$  \n",
    "Expected Value: nP\n",
    "Variance: nP(1-P)  \n",
    "Standard Deviation: sqrt(nP(1-P))  \n",
    "\n",
    "\n",
    "\n",
    "exp:  \n",
    "A class of 400 is made up of 220 women and 180 men.  The class is divided into study groups of 10 student each.  \n",
    "What's the probability that a certain group will have exatly 4 men?  \n",
    "n = 10  \n",
    "x = 4  \n",
    "p = .45  \n",
    "$P(x) = 10!/4!6! * .45^4 * .55^6 = 23.84percent$\n",
    "\n",
    "\n",
    "exp:  \n",
    "Only 5% of new products fail quality control testing.  \n",
    "If you test 20 new products, what is the probability that none will fail qaulity control?  \n",
    "n = 20  \n",
    "x = 0  \n",
    "p = .05  \n",
    "$P(x) = 20!/0!20! * .05^0 * .95^(20) = 35.85 percent$\n",
    "\n",
    "\n",
    "exp:\n",
    "Flip a coin 10 times.  \n",
    "What is the probability of getting at least 5 heads?  \n",
    "n = 10  \n",
    "x = 5,6,7,8,9,10  \n",
    "p = .5  \n",
    "loop up in binomial distribution chart  \n",
    "cumulative  \n",
    "P 10 or less - P 4 or less  \n",
    "1 - .377 = .623  \n",
    "\n",
    "\n",
    "exp:  \n",
    "A basketball player makes 60 percent of her free throws.  At the end of the game this player must shoot six free throws.  \n",
    "What is the probability that she makes less than 5?  \n",
    "n = 6  \n",
    "x = 0,1,2,3,4,5   \n",
    "p = .6   \n",
    "Probability = 1 - (P(x = 5 or 6))  \n",
    "or use binomial distribution function in excel or other tool  \n",
    ".76672  "
   ]
  },
  {
   "cell_type": "markdown",
   "metadata": {},
   "source": [
    "#### Normal Distribution\n",
    "classic bell shape curve  \n",
    "average in middle  \n",
    "area under curve adds up to 1  \n",
    "values closer to mean and equal on each side of the mean  \n",
    "wider - high variance  \n",
    "narrow - low variance  \n",
    "\n",
    "within 1 standard deviation - 68% of all results  \n",
    "within 2 standard deviations - 95% of all results  "
   ]
  },
  {
   "cell_type": "markdown",
   "metadata": {},
   "source": [
    "#### Z-scores\n",
    "number of standard deviations a value is from the mean  \n",
    "Z = (value - mean)/standard deviation   \n"
   ]
  },
  {
   "cell_type": "markdown",
   "metadata": {},
   "source": [
    "#### Confidence Interval\n",
    "more confident the bigger the range  \n",
    "\n",
    "#### Joint Random Variables  \n",
    "intersection of two random variables   \n",
    "no relationship between the two  \n",
    "P(X=x and Y=y)   \n",
    "\n",
    "#### Covariance and Correlation   \n",
    "measures of the association between two random variables that are not statistically independent   \n",
    "\n",
    "positive - as one goes up so does the other   \n",
    "example: height/weight, temp and and ice cream  \n",
    "\n",
    "negative - as one goes up the other goes down   \n",
    "example:  temp and hot chocolate sales  \n",
    "\n",
    "Correlation  \n",
    "between -1 and 1  \n",
    "not necessary 1:1 but is linear  \n",
    "- perfect positive  \n",
    "1  \n",
    "- perfect negative  \n",
    "-1  \n",
    "- no correlation  \n",
    "0  \n",
    "\n",
    "$Covariance: E[XY] - mean_x * mean_y$  \n",
    "$E[XY] - expected value of (x * y) - average$  \n",
    "\n",
    "cov(x,y) = sum i = 1 to n (xi - mean_x)(yi - mean_y) / (n-1)  \n",
    "$Correlation(r): cov(x,y) / sd_x * sd_y$  "
   ]
  },
  {
   "cell_type": "markdown",
   "metadata": {},
   "source": [
    "#### Equations for joint random variables   \n",
    "Certian number of one random variable and a certain number of another random variable  \n",
    "\n",
    "1. Expected value of X + Y: $mean_x + mean_y$  \n",
    "1a. Expected value of aX + aY: $a*mean_x + a*mean_y$  \n",
    "2. Expected value of X - Y: $mean_x - mean_y$  \n",
    "3. Variance of X + Y: $var_x + var_y + 2Cov(X, Y)$  \n",
    "3a. Variance of aX + aY: $a^2*var_x + b^2*var_y + 2abCov(X, Y)$  \n",
    "3b. Variance of aX + aY: $a^2*var_x + b^2*var_y + 2abCorr(X, Y)*sd_x*sd_y$\n",
    "4. Variance of X - Y: $var_x + var_y - 2Cov(X, Y)$  "
   ]
  },
  {
   "cell_type": "markdown",
   "metadata": {
    "collapsed": true
   },
   "source": [
    "#### Sampling\n",
    "population  \n",
    "sample  \n",
    "\n",
    "Central Limit Theorem:  \n",
    "take sample from population, the probability distribution for the mean of the sample is going to be normal around the mean of the population  \n",
    " \n",
    " \n",
    "Individual:  \n",
    "x  \n",
    "E(x) = mean  \n",
    "SDx = sd  \n",
    "\n",
    "Sample Mean:\n",
    "x_s  \n",
    "E(x_s) = mean  \n",
    "SD_s = sd/sqrt(n)  \n",
    "n = sample size   \n",
    "\n",
    "\n",
    "Proportion sampling:  \n",
    "x_s -> p_s  \n",
    "mean -> p  \n",
    "sd_s = sqrt(P(1-P) / n)  \n",
    "\n",
    "\n",
    "t-Distributions  \n",
    "sd -> s  \n",
    "t = (x_s - mean) / s * sqrt(n)  \n",
    "\n",
    "degrees of freedom: n -1   \n"
   ]
  },
  {
   "cell_type": "markdown",
   "metadata": {},
   "source": [
    "#### Hypothesis testing\n",
    "Ho: null hypothesis, default, assumed  \n",
    "Ha: alternate hypothesis, trying to prove  \n",
    "They are complementary  \n",
    "\n",
    "example:  \n",
    "Ho -> mean >= 15  \n",
    "Ha -> mean < 15  \n",
    "\n",
    "Burden of proof is on the alternate hypothesis  "
   ]
  },
  {
   "cell_type": "markdown",
   "metadata": {
    "collapsed": true
   },
   "source": [
    "#### Simple Linear Regression   \n",
    "Predict a linear relationship between two variables.  \n",
    "\n",
    "X: Independent (Predictor) Variable   \n",
    "Y: Dependent Variable   \n",
    "\n",
    "Not proving causation, just showing relationship.  \n",
    "\n",
    "y = B0 + B1x + error_term     \n",
    "B0 = y - intercept   \n",
    "B1 = slope = dy/dx   \n",
    "\n",
    "May not be a relationship.  Use null hypothesis to prove.  \n",
    "Ho: B1 = 0   \n",
    "Ha: B1 != 0   \n",
    "\n"
   ]
  },
  {
   "cell_type": "markdown",
   "metadata": {},
   "source": [
    "#### Multiple Regression  \n",
    "y = B0 + B1x1 + B2x2 + B3x3 + error_term   \n"
   ]
  },
  {
   "cell_type": "code",
   "execution_count": null,
   "metadata": {
    "collapsed": true
   },
   "outputs": [],
   "source": []
  }
 ],
 "metadata": {
  "kernelspec": {
   "display_name": "Python 3",
   "language": "python",
   "name": "python3"
  },
  "language_info": {
   "codemirror_mode": {
    "name": "ipython",
    "version": 3
   },
   "file_extension": ".py",
   "mimetype": "text/x-python",
   "name": "python",
   "nbconvert_exporter": "python",
   "pygments_lexer": "ipython3",
   "version": "3.6.3"
  }
 },
 "nbformat": 4,
 "nbformat_minor": 2
}
