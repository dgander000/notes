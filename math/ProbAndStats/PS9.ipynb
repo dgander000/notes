{
 "cells": [
  {
   "cell_type": "markdown",
   "metadata": {},
   "source": [
    "<pre>\n",
    "All questions refer to the following information:\n",
    "A New Orleans restaurateur wants to understand the potential relationship between the prices\n",
    "restaurants charge for entrées and their sales of alcoholic beverages. He hires you to undertake this\n",
    "investigation and, accordingly, you collect data from 16 relatively high-end New Orleans restaurants\n",
    "regarding the average menu prices of their entrées and their average sales of alcoholic beverages per\n",
    "customer. Among the restaurants that you survey, the mean of the average entrée price is $25.94 and\n",
    "the standard deviation is $6.87. You decide to run a regression on your data using average entrée price\n",
    "as the predictor variable and sales of alcoholic beverages per customer as the dependent variable. The\n",
    "results are below:\n",
    "\n",
    "Regression Statistics\n",
    "R       R Square   Adjusted R^2   Standard Error   Observations\n",
    "0.833   0.694      0.672          2.952            16\n",
    "\n",
    "Summary Table\n",
    "Variable     Coefficient     Standard Error\n",
    "Intercept    -3.148          2.969\n",
    "ENTRÉE       0.625           0.111\n",
    "</pre>"
   ]
  },
  {
   "cell_type": "markdown",
   "metadata": {},
   "source": [
    "<pre>\n",
    "1) What is the estimated correlation between the average price of a restaurant’s entrées and their sales\n",
    "of alcoholic beverages per customer?\n",
    "</pre>"
   ]
  },
  {
   "cell_type": "code",
   "execution_count": 1,
   "metadata": {
    "collapsed": true
   },
   "outputs": [],
   "source": [
    "R = 0.833 # correlation between dependent and independent variable"
   ]
  },
  {
   "cell_type": "markdown",
   "metadata": {},
   "source": [
    "<pre>\n",
    "2) Is there enough evidence for you to tell the restaurateur that there is a relationship between average\n",
    "entrée price and per-customer sales of alcoholic beverages with 95% confidence?\n",
    "</pre>"
   ]
  },
  {
   "cell_type": "markdown",
   "metadata": {},
   "source": [
    "Steps to approach this:  \n",
    "1. Look up t-value of alpha you are using (divide by 2 for 2-tailed test)  \n",
    "2. Multiply the t-value from step 1 by the standard error of the coeffients  \n",
    "3. Subtract the amount from step 2 from the coefficient.  This is the lower bound of your range.  \n",
    "4. Add the amount from step 2 to the coefficient.  This is the upper bound of your range.  \n",
    "5. Check the range.  Does it contain zero?  If not, you can reject the null hypothesis that the coefficient is not significant."
   ]
  },
  {
   "cell_type": "markdown",
   "metadata": {},
   "source": [
    "1. t(0.025, 14) = 2.145   \n",
    "2. 2.145 * 0.111 = 0.238  \n",
    "3. 0.625 - 0.238 = 0.387  \n",
    "4. 0.625 + 0.238 = 0.863  \n",
    "5. (0.387, 0.863) - zero not in range  \n",
    "\n",
    "yes"
   ]
  },
  {
   "cell_type": "markdown",
   "metadata": {},
   "source": [
    "<pre>\n",
    "3) Assuming that this data is representative of similar New Orleans restaurants, what is the expected\n",
    "value of alcohol sales per customer for similar New Orleans restaurants?\n",
    "</pre>"
   ]
  },
  {
   "cell_type": "markdown",
   "metadata": {},
   "source": [
    "A = 0.625(E) + -3.148 = $13.06  \n",
    "E = 25.94 "
   ]
  },
  {
   "cell_type": "markdown",
   "metadata": {},
   "source": [
    "<pre>\n",
    "4) If entrée prices do cause alcohol sales to rise, how much should a restaurant’s management expect\n",
    "their alcohol sales per customer to rise if they raised the price of all of their entrées by $2.50? Provide\n",
    "an 80% confidence interval for the expected change.\n",
    "</pre>"
   ]
  },
  {
   "cell_type": "markdown",
   "metadata": {},
   "source": [
    "2.50 x 0.625 +- t(0.1,14) x (2.5 x 0.111) =  \n",
    "($1.189, $1.936)  "
   ]
  },
  {
   "cell_type": "markdown",
   "metadata": {},
   "source": [
    "<pre>\n",
    "5) Provide a range within which you can be 90% certain that drink sales per customer for a restaurant\n",
    "charging an average of $30 per entrée will fall.\n",
    "</pre>"
   ]
  },
  {
   "cell_type": "markdown",
   "metadata": {},
   "source": [
    "prediction = 0.625 x 30 - 3.148 = $15.60   \n",
    "\n",
    "error of prediction = 3.051   \n",
    "\n",
    "15.60 +- t(0.05,14) x 3.051   \n",
    "\n",
    "($10.23, $20.97)   "
   ]
  },
  {
   "cell_type": "markdown",
   "metadata": {},
   "source": [
    "<pre>\n",
    "6) Provide a 90% confidence interval for the mean drink sales per customer for all similar New Orleans\n",
    "restaurants which change an average of $30 per entrée.\n",
    "</pre>"
   ]
  },
  {
   "cell_type": "markdown",
   "metadata": {},
   "source": [
    "prediction = 0.625 x 30 - 3.148 = $15.60   \n",
    " \n",
    "\n",
    "($14.24, $16.96)   "
   ]
  },
  {
   "cell_type": "markdown",
   "metadata": {},
   "source": [
    "<pre>\n",
    "7) What percentage of the variance in alcohol sales per customer can be explained by a restaurant’s\n",
    "average entrée price?\n",
    "</pre>"
   ]
  },
  {
   "cell_type": "markdown",
   "metadata": {},
   "source": [
    "R squared = 0.694"
   ]
  },
  {
   "cell_type": "markdown",
   "metadata": {},
   "source": [
    "<pre>\n",
    "8) The owner of another restaurant states that every dollar increase in average entrée prices raises the\n",
    "sales of alcoholic beverages per customer by no more than $0.50. Does this data provide enough\n",
    "evidence to refute her claim with 95% certainty?\n",
    "</pre>"
   ]
  },
  {
   "cell_type": "markdown",
   "metadata": {},
   "source": [
    "Ho: Be <= 0.5  \n",
    "Ha: Be > 0.5  \n",
    "t(0.05,14) = 1.761  \n",
    "\n",
    "(0.625 - 0.5)/0.111 = 1.126"
   ]
  },
  {
   "cell_type": "markdown",
   "metadata": {},
   "source": [
    "<pre>\n",
    "9) One of the assumptions of linear regression is that residuals are normally distributed around\n",
    "prediction points. If you determine that none of the residuals for this regression fall outside the 90%\n",
    "prediction intervals for each data point, does this fact provide evidence to conclude with 95% certainty\n",
    "that the residuals of this regression are not normally distributed?\n",
    "</pre>"
   ]
  },
  {
   "cell_type": "markdown",
   "metadata": {},
   "source": [
    "0.9 ^ 16 = 0.185"
   ]
  },
  {
   "cell_type": "markdown",
   "metadata": {},
   "source": [
    "<pre>\n",
    "10) If a typical restaurant earns $0.31 in net income per dollar changed for entrées and $0.49 per dollar\n",
    "charged for drinks, what is the minimum amount that the restaurant’s management should charge per\n",
    "entrée if they hope to bring in $20 in net income per customer?\n",
    "</pre>"
   ]
  },
  {
   "cell_type": "markdown",
   "metadata": {},
   "source": [
    "20 = 0.31E + 0.49A   \n",
    "20 = 0.31E + 0.49(0.625E - 3.148)  \n",
    "E = 34.97"
   ]
  }
 ],
 "metadata": {
  "kernelspec": {
   "display_name": "Python 3",
   "language": "python",
   "name": "python3"
  },
  "language_info": {
   "codemirror_mode": {
    "name": "ipython",
    "version": 3
   },
   "file_extension": ".py",
   "mimetype": "text/x-python",
   "name": "python",
   "nbconvert_exporter": "python",
   "pygments_lexer": "ipython3",
   "version": "3.6.3"
  }
 },
 "nbformat": 4,
 "nbformat_minor": 2
}
