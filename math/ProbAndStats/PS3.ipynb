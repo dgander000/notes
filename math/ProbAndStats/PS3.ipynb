{
 "cells": [
  {
   "cell_type": "markdown",
   "metadata": {},
   "source": [
    "1) You are considering investing in your brother-in-law's start-up venture. To buy a stake in his company, you must contribute $10,000. Based on your knowledge of the company (and your brother-in-law) you estimate the following possible outcomes for your investment in one year's time:  \n",
    "\n",
    " - $30%$ chance the company will go under and you will not be able to retrieve any amount of your investment   \n",
    " - $40%$ chance your investment will be worth half (5000) \n",
    " - $25%$ chance the company will break even and your investment will be worth the same   \n",
    " - $5%$ chance the company will be a runaway success and your investment will be worth $200,000   \n",
    " \n",
    "Assuming no inflation or discounting the time value of money, what is the expected value of a decision to invest in your brother-in-law's company, including the initial $10,000 investment?"
   ]
  },
  {
   "cell_type": "code",
   "execution_count": 4,
   "metadata": {},
   "outputs": [
    {
     "data": {
      "text/plain": [
       "4500.0"
      ]
     },
     "execution_count": 4,
     "metadata": {},
     "output_type": "execute_result"
    }
   ],
   "source": [
    ".3*-10000 + .4*-5000 + .25*0 + .05*190000"
   ]
  },
  {
   "cell_type": "markdown",
   "metadata": {},
   "source": [
    "<pre>2) In finance, a call option on a share of stock gives the owner of the option the right -but not the obligation- to purchase a share of that stock at a set price within a specified period of time.  \n",
    "\n",
    "Today a certain stock is currently trading at $100 per share. In a year from now there is a 20 percent chance\n",
    "that the stock price will drop to $60, a 40 percent chance that the price will remain at $100, and a 40 percent chance that the price will rise to $120. \n",
    "\n",
    "Given this information, what is the value of a call option that gives you the optional right to buy a share of this stock at a set price of $100 in one year's time? Assume no inflation or discounting the time value of money.</pre>"
   ]
  },
  {
   "cell_type": "code",
   "execution_count": 7,
   "metadata": {},
   "outputs": [
    {
     "data": {
      "text/plain": [
       "8.0"
      ]
     },
     "execution_count": 7,
     "metadata": {},
     "output_type": "execute_result"
    }
   ],
   "source": [
    "# won't by if less than or equal to current value\n",
    ".2*0 + .4*0 + .4*20"
   ]
  },
  {
   "cell_type": "markdown",
   "metadata": {
    "collapsed": true
   },
   "source": [
    "<pre>\n",
    "3) One quarter of the employees at a company picnic are vegetarian. Of the vegetarians, 20% are also\n",
    "gluten-free. There are three additional gluten-free employees among the 60 non-vegetarians. Among\n",
    "all of the employees at the picnic who do not eat gluten, what percentage of them are vegetarian?\n",
    "</pre>"
   ]
  },
  {
   "cell_type": "code",
   "execution_count": 13,
   "metadata": {},
   "outputs": [
    {
     "name": "stdout",
     "output_type": "stream",
     "text": [
      "0.5714285714285714\n"
     ]
    }
   ],
   "source": [
    "# 75% are not vegiterian = 60\n",
    "total_employees = 60/.75\n",
    "vegs = total_employees * .25\n",
    "veg_g_free = vegs*.2\n",
    "g_free = veg_g_free + 3\n",
    "veg_percent_g_free = veg_g_free/g_free\n",
    "print(veg_percent_g_free)"
   ]
  },
  {
   "cell_type": "markdown",
   "metadata": {
    "collapsed": true
   },
   "source": [
    "<pre>\n",
    "Questions 4-6 refer to the following information:\n",
    "A West Los Angeles-based food truck offers two meals: the “Wildcat” Burger Meal for $8 and the\n",
    "Mushroom Tacos Meal for $9. Both meals come with Cactus Fries and a Cactus Soda and can be\n",
    "upgraded to “Texas Sized” for an additional $2. 40% of the truck’s customers buy the “Wildcat” Burger\n",
    "and 60% buy the Mushroom Tacos. Of the customers who buy the burger, 70% buy the $2 size upgrade,\n",
    "while customers who buy the tacos elect to go “Texas-Sized” only 25% of the time.\n",
    "</pre>"
   ]
  },
  {
   "cell_type": "markdown",
   "metadata": {
    "collapsed": true
   },
   "source": [
    "<pre>\n",
    "4) If the food truck served 139 patrons outside a party at the Natural History Museum one night, what is\n",
    "the expectation for that night’s dollar sales?\n",
    "</pre>"
   ]
  },
  {
   "cell_type": "code",
   "execution_count": 14,
   "metadata": {},
   "outputs": [
    {
     "name": "stdout",
     "output_type": "stream",
     "text": [
      "1314.9399999999998\n"
     ]
    }
   ],
   "source": [
    "wc = 139 * .4\n",
    "wc_up = wc *.7\n",
    "\n",
    "mt = 139 * .6\n",
    "mt_up = mt * .25\n",
    "\n",
    "sales = wc*8 + wc_up*2 + mt*9 + mt_up*2\n",
    "print(sales)"
   ]
  },
  {
   "cell_type": "markdown",
   "metadata": {
    "collapsed": true
   },
   "source": [
    "<pre>\n",
    "5) If a customer chooses to go “Texas-Sized,” what is the probability that he or she ordered the burger\n",
    "</pre>"
   ]
  },
  {
   "cell_type": "code",
   "execution_count": 16,
   "metadata": {},
   "outputs": [
    {
     "name": "stdout",
     "output_type": "stream",
     "text": [
      "0.6511627906976745\n"
     ]
    }
   ],
   "source": [
    "# given they ordered Texas-Sized what's the probability they ordered a burger\n",
    "B_TS = .4 * .7\n",
    "B_NTS = .4 * .3\n",
    "M_TS = .6*.25\n",
    "M_NTS = .6*.75\n",
    "\n",
    "P_B_given_TS = B_TS/(B_TS+M_TS)\n",
    "print(P_B_given_TS)"
   ]
  },
  {
   "cell_type": "markdown",
   "metadata": {
    "collapsed": true
   },
   "source": [
    "<pre>\n",
    "6) If the customer from Question 5 comes back to the truck the next night and orders the same basic\n",
    "meal, what is the probability that he or she will again choose to go “Texas-Sized?”\n",
    "</pre>"
   ]
  },
  {
   "cell_type": "code",
   "execution_count": 17,
   "metadata": {},
   "outputs": [
    {
     "name": "stdout",
     "output_type": "stream",
     "text": [
      "0.5430232558139535\n"
     ]
    }
   ],
   "source": [
    "P_B_TS = P_B_given_TS * .7\n",
    "P_M_TS = (1-P_B_given_TS) * .25\n",
    "P_TS = P_B_TS + P_M_TS\n",
    "print(P_TS)"
   ]
  },
  {
   "cell_type": "markdown",
   "metadata": {
    "collapsed": true
   },
   "source": [
    "<pre>\n",
    "Questions 7-10 refer to the following information:\n",
    "The entire grade for a 300-student introductory Computer Science course at a large public university is\n",
    "determined by each student’s score on a 100-point final exam. The cumulative grade distribution for\n",
    "the class and the minimum exam score needed to earn each grade are listed in the table below:\n",
    "</pre>\n",
    "\n",
    "| Letter Grade | Grade Points | Cumulative Grade Distribution | Minimum Exam Score Needed for Grade |   \n",
    "| ------------- |:-------------:| -----:|  -----:|   \n",
    "| F | 0.0  | 5%  | -- |    \n",
    "| D | 1.0  | 15% | 62/100 |    \n",
    "| C | 2.0  | 35% | 67/100 |   \n",
    "| B | 3.0  | 70% | 75/100 |   \n",
    "| A | 4.0  | 100% | 85/100 |   "
   ]
  },
  {
   "cell_type": "markdown",
   "metadata": {
    "collapsed": true
   },
   "source": [
    "<pre>\n",
    "7) How many students in the class earned a C or better?\n",
    "</pre>"
   ]
  },
  {
   "cell_type": "code",
   "execution_count": 23,
   "metadata": {},
   "outputs": [
    {
     "data": {
      "text/plain": [
       "255.0"
      ]
     },
     "execution_count": 23,
     "metadata": {},
     "output_type": "execute_result"
    }
   ],
   "source": [
    "300 * (1 - .15) # 1 - D or less"
   ]
  },
  {
   "cell_type": "markdown",
   "metadata": {
    "collapsed": true
   },
   "source": [
    "<pre>\n",
    "8) What is the average GPA for the class?\n",
    "</pre>"
   ]
  },
  {
   "cell_type": "code",
   "execution_count": 22,
   "metadata": {},
   "outputs": [
    {
     "data": {
      "text/plain": [
       "2.75"
      ]
     },
     "execution_count": 22,
     "metadata": {},
     "output_type": "execute_result"
    }
   ],
   "source": [
    ".5*0 + .1*1 + .2*2 + .35*3 + .3*4"
   ]
  },
  {
   "cell_type": "markdown",
   "metadata": {
    "collapsed": true
   },
   "source": [
    "<pre>\n",
    "9) If a student scored below 75/100, what is the probability that the student failed?\n",
    "</pre>"
   ]
  },
  {
   "cell_type": "code",
   "execution_count": 25,
   "metadata": {},
   "outputs": [
    {
     "data": {
      "text/plain": [
       "0.14285714285714288"
      ]
     },
     "execution_count": 25,
     "metadata": {},
     "output_type": "execute_result"
    }
   ],
   "source": [
    "# student got a C or less \n",
    ".05/.35"
   ]
  },
  {
   "cell_type": "markdown",
   "metadata": {
    "collapsed": true
   },
   "source": [
    "<pre>\n",
    "10) If 10% of the students who earned an A are upgraded to an A+, how many students will earn an A+?\n",
    "</pre>"
   ]
  },
  {
   "cell_type": "code",
   "execution_count": 27,
   "metadata": {},
   "outputs": [
    {
     "name": "stdout",
     "output_type": "stream",
     "text": [
      "9.0\n"
     ]
    }
   ],
   "source": [
    "A_students = .3 * 300\n",
    "upgraded = .1 * A_students\n",
    "print(upgraded)"
   ]
  },
  {
   "cell_type": "code",
   "execution_count": null,
   "metadata": {
    "collapsed": true
   },
   "outputs": [],
   "source": []
  }
 ],
 "metadata": {
  "kernelspec": {
   "display_name": "Python 3",
   "language": "python",
   "name": "python3"
  },
  "language_info": {
   "codemirror_mode": {
    "name": "ipython",
    "version": 3
   },
   "file_extension": ".py",
   "mimetype": "text/x-python",
   "name": "python",
   "nbconvert_exporter": "python",
   "pygments_lexer": "ipython3",
   "version": "3.6.3"
  }
 },
 "nbformat": 4,
 "nbformat_minor": 2
}
