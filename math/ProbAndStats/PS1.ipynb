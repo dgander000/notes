{
 "cells": [
  {
   "cell_type": "markdown",
   "metadata": {},
   "source": [
    "Questions 1 & 2 refer to the following information:  \n",
    "Jelly Belly brand jelly beans have 50 official flavors which are evenly distributed in every standard bag."
   ]
  },
  {
   "cell_type": "markdown",
   "metadata": {},
   "source": [
    "1) If you select one jelly bean at random from a bag, what is the probability that the bean is not Licorice?"
   ]
  },
  {
   "cell_type": "markdown",
   "metadata": {},
   "source": [
    "P(Licorice) = 1/50 = 0.02  \n",
    "P(not Licorice) = 1 - 1/50 = 1 - .02 = .98   "
   ]
  },
  {
   "cell_type": "markdown",
   "metadata": {},
   "source": [
    "2) What is the probability that a randomly-selected bean is Top Banana, Toasted Marshmallow, or\n",
    "Coconut?"
   ]
  },
  {
   "cell_type": "markdown",
   "metadata": {},
   "source": [
    "mutually exclusive events  \n",
    "P(...) = 1/50 + 1/50 + 1/50 = 3/50 = .06  "
   ]
  },
  {
   "cell_type": "markdown",
   "metadata": {},
   "source": [
    "3) True or false: if you roll two six-sided dice, the probability that at least one die will show a six is one\n",
    "third. Why or why not?"
   ]
  },
  {
   "cell_type": "markdown",
   "metadata": {},
   "source": [
    "not mutually exclusive events - can have 6 on both die  \n",
    "False"
   ]
  },
  {
   "cell_type": "markdown",
   "metadata": {},
   "source": [
    "4) Suppose you shuffle two decks of cards together and draw a single card at random from the deck.\n",
    "What is the probability that the card with be both a club and an eight, nine, or ten?"
   ]
  },
  {
   "cell_type": "markdown",
   "metadata": {},
   "source": [
    "104 cards - 2 eight of clubs, 2 nine of clubs, 2 ten of clubs    \n",
    "P = 6/104 = .05769  "
   ]
  },
  {
   "cell_type": "markdown",
   "metadata": {},
   "source": [
    "5) A recent survey of employees at a firm showed that 55% drink coffee, 25% drink tea, and 35% drink\n",
    "neither. How many of those surveyed drink both coffee and tea?"
   ]
  },
  {
   "cell_type": "markdown",
   "metadata": {},
   "source": [
    "c + t - b = 65%  \n",
    "c + t = 80%  \n",
    "b = 80% - 65% = 15%  "
   ]
  },
  {
   "cell_type": "markdown",
   "metadata": {},
   "source": [
    "6) A university survey on mobile computing finds that 85% of their students own smartphones, 30% own\n",
    "tablets, and 25% own both. What percentage of students own neither?"
   ]
  },
  {
   "cell_type": "markdown",
   "metadata": {},
   "source": [
    "P(A or B) = P(A) + P(B) - P(A ᴖ B) = 85 + 30 - 25 = 90%  \n",
    "P(neither) = 100% - P(A or B) = 100% - 90% = 10%"
   ]
  },
  {
   "cell_type": "markdown",
   "metadata": {},
   "source": [
    "7) Among the guests who stay at a casino hotel, 30% play poker, 40% play blackjack, 10% play both\n",
    "poker and blackjack, 15% play craps, and 25% do not gamble at all. True or false: playing poker and\n",
    "playing craps are mutually exclusive."
   ]
  },
  {
   "cell_type": "markdown",
   "metadata": {},
   "source": [
    "True  \n",
    "P(p or b) = 30% + 40% - 10% = 60%  \n",
    "P(p or b) + P(no gamble) = 60% + 25% = 85%  \n",
    "P(p or b) + P(no gamble) + P(craps) = 100%  \n",
    "No overlap so must be mutually exclusive  "
   ]
  },
  {
   "cell_type": "markdown",
   "metadata": {},
   "source": [
    "8) Each year, Inc. Magazine ranks the top 5000 U.S.-based privately-held companies in terms of their\n",
    "overall percentage revenue growth over the previous three years. Last year, the company ranked #5000\n",
    "had revenues that were 134% of what they were three years prior. You recently started a company and\n",
    "are hoping to make the list in three years’ time. By what percentage will you need to increase revenues\n",
    "per year to meet the mark set by #5000 from this year’s list (34% growth over three years) in order to\n",
    "give your company a good chance of making the list three years from now?"
   ]
  },
  {
   "cell_type": "markdown",
   "metadata": {},
   "source": [
    "(1.34)^(1/3) - 1 = 10.2474%  "
   ]
  },
  {
   "cell_type": "markdown",
   "metadata": {},
   "source": [
    "9) A video game manufacturer offers three different purchase options. Customers can buy the base\n",
    "game for $40, a $60 premium package with additional accessories and exclusive in-game content, or a\n",
    "deluxe package for $100 which contains all of the premium content and allows purchasers the\n",
    "opportunity to beta test content for new updates and expansions. Based on historical data, 70% of the\n",
    "company’s customers elect to purchase the base game, 20% buy the premium, and 10% opt for the\n",
    "deluxe package. If, during one holiday weekend, 40,000 game packages are purchased, what dollar\n",
    "amount can the company expect to receive in revenue?"
   ]
  },
  {
   "cell_type": "markdown",
   "metadata": {},
   "source": [
    "one customer expected value:  \n",
    "$0.7 * 40 + 0.2 * 60 + 0.1 * 100 = $50 $\n",
    "\n",
    "50 * 40,000 = $2m"
   ]
  },
  {
   "cell_type": "markdown",
   "metadata": {},
   "source": [
    "10) During one hour at a retail clothing store, five customers make purchases. The amounts of their\n",
    "purchases are as follows: $99, $78, $14, $49, and $130. What is the standard deviation of these five\n",
    "purchases?"
   ]
  },
  {
   "cell_type": "code",
   "execution_count": 18,
   "metadata": {},
   "outputs": [
    {
     "name": "stdout",
     "output_type": "stream",
     "text": [
      "74.0\n",
      "1600.4\n",
      "40.004999687539055\n"
     ]
    }
   ],
   "source": [
    "purchases = [99.0,78.0,14.0,49.0,130.0]\n",
    "mean = sum(purchases)/len(purchases)\n",
    "print(mean)\n",
    "\n",
    "variance = sum((x-mean)**2 for x in purchases)/5\n",
    "print(variance)\n",
    "\n",
    "sd = variance**(1/2)\n",
    "print(sd)"
   ]
  },
  {
   "cell_type": "code",
   "execution_count": null,
   "metadata": {
    "collapsed": true
   },
   "outputs": [],
   "source": []
  }
 ],
 "metadata": {
  "kernelspec": {
   "display_name": "Python 3",
   "language": "python",
   "name": "python3"
  },
  "language_info": {
   "codemirror_mode": {
    "name": "ipython",
    "version": 3
   },
   "file_extension": ".py",
   "mimetype": "text/x-python",
   "name": "python",
   "nbconvert_exporter": "python",
   "pygments_lexer": "ipython3",
   "version": "3.6.3"
  }
 },
 "nbformat": 4,
 "nbformat_minor": 2
}
