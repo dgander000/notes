{
 "cells": [
  {
   "cell_type": "markdown",
   "metadata": {},
   "source": [
    "Questions 1 & 2 refer to the following information:\n",
    "The password for a garage door security system must be four characters long and can consist of any\n",
    "combination of English letters and numbers, but no special characters."
   ]
  },
  {
   "cell_type": "markdown",
   "metadata": {},
   "source": [
    "1) How many different passwords are possible?"
   ]
  },
  {
   "cell_type": "markdown",
   "metadata": {},
   "source": [
    "x x x x   \n",
    "one x = 10 numbers + 26 letters = 36 "
   ]
  },
  {
   "cell_type": "code",
   "execution_count": 7,
   "metadata": {},
   "outputs": [
    {
     "data": {
      "text/plain": [
       "1679616"
      ]
     },
     "execution_count": 7,
     "metadata": {},
     "output_type": "execute_result"
    }
   ],
   "source": [
    "36 * 36 * 36 * 36"
   ]
  },
  {
   "cell_type": "markdown",
   "metadata": {},
   "source": [
    "2) Now suppose that the same characters may not be reused within each password. How many\n",
    "different passwords are possible in light of this restriction?"
   ]
  },
  {
   "cell_type": "code",
   "execution_count": 6,
   "metadata": {},
   "outputs": [
    {
     "data": {
      "text/plain": [
       "1413720"
      ]
     },
     "execution_count": 6,
     "metadata": {},
     "output_type": "execute_result"
    }
   ],
   "source": [
    "36 * 35 * 34 * 33"
   ]
  },
  {
   "cell_type": "markdown",
   "metadata": {},
   "source": [
    "3) In any given production run, a manufacturer produces parts with defects at a rate of one out of every\n",
    "ten parts produced. If a customer randomly tests three parts off the production line, what is the\n",
    "probability that no more than one of the parts will have a defect?"
   ]
  },
  {
   "cell_type": "code",
   "execution_count": 4,
   "metadata": {},
   "outputs": [
    {
     "name": "stdout",
     "output_type": "stream",
     "text": [
      "0.9719999999999998\n"
     ]
    }
   ],
   "source": [
    "# no defects\n",
    "no_defect = 9/10 * 9/10 * 9/10\n",
    "\n",
    "# one defect\n",
    "first_defect = 1/10 * 9/10 * 9/10\n",
    "second_defect = 9/10 * 1/10 * 9/10\n",
    "third_defect = 9/10 * 9/10 * 1/10\n",
    "\n",
    "prob_no_more_than_one_defect = no_defect + first_defect + second_defect + third_defect\n",
    "\n",
    "print(prob_no_more_than_one_defect)"
   ]
  },
  {
   "cell_type": "markdown",
   "metadata": {},
   "source": [
    "Questions 4-7 refer to the following information:\n",
    "The owner of a bookstore has been collecting data about her customers’ buying habits in order to more\n",
    "effectively manage inventory and promotions. Her store’s customers are 60% female and 40% male.\n",
    "Among the store’s male customers, 50% prefer non-fiction, 20% prefer fiction, and 30% prefer buying\n",
    "music. Among the female customers, 30% prefer non-fiction, 50% prefer fiction, and 20% prefer music."
   ]
  },
  {
   "cell_type": "markdown",
   "metadata": {},
   "source": [
    "4) What is the probability that one of the store’s customers prefers non-fiction books?"
   ]
  },
  {
   "cell_type": "code",
   "execution_count": 8,
   "metadata": {},
   "outputs": [
    {
     "name": "stdout",
     "output_type": "stream",
     "text": [
      "0.38\n"
     ]
    }
   ],
   "source": [
    "# male and non-fiction\n",
    "m = .4 * .5\n",
    "\n",
    "# female and non-fiction\n",
    "f = .6 * .3\n",
    "\n",
    "non_fict = m + f\n",
    "print(non_fict)"
   ]
  },
  {
   "cell_type": "markdown",
   "metadata": {},
   "source": [
    "5) What is the probability that a customer is female and prefers to purchase music?"
   ]
  },
  {
   "cell_type": "code",
   "execution_count": 9,
   "metadata": {},
   "outputs": [
    {
     "name": "stdout",
     "output_type": "stream",
     "text": [
      "0.12\n"
     ]
    }
   ],
   "source": [
    "print(.6 * .2)"
   ]
  },
  {
   "cell_type": "markdown",
   "metadata": {},
   "source": [
    "6) What is the probability that a customer is male or prefers fiction?"
   ]
  },
  {
   "cell_type": "code",
   "execution_count": 18,
   "metadata": {},
   "outputs": [
    {
     "name": "stdout",
     "output_type": "stream",
     "text": [
      "0.7\n"
     ]
    }
   ],
   "source": [
    "m = .4\n",
    "f_fict = .6 * .5\n",
    "# don't double dip for males that prefer fiction, only count females that prefer fiction\n",
    "m_or_fict = m + f_fict\n",
    "print(m_or_fict)"
   ]
  },
  {
   "cell_type": "markdown",
   "metadata": {},
   "source": [
    "7) True or false: the events Male and Prefers Non-Fiction are independent. Why or why not?"
   ]
  },
  {
   "cell_type": "markdown",
   "metadata": {},
   "source": [
    "False  \n",
    "\n",
    "events are independent if P(A and B) = P(A) * P(B)  \n"
   ]
  },
  {
   "cell_type": "code",
   "execution_count": 21,
   "metadata": {},
   "outputs": [
    {
     "name": "stdout",
     "output_type": "stream",
     "text": [
      "0.2\n",
      "0.15200000000000002\n"
     ]
    }
   ],
   "source": [
    "# A = male\n",
    "# B = prefers non-fiction\n",
    "P_AandB = .4 * .5\n",
    "print(P_AandB)\n",
    "P_A = 0.4\n",
    "P_B = (.4 * .5) + (.6 * .3) # male and non-fiction + female and non-fiction\n",
    "print(P_A * P_B)"
   ]
  },
  {
   "cell_type": "markdown",
   "metadata": {},
   "source": [
    "8) 80% of the customers at a pub order drinks and 35% order food. Assuming that there are no\n",
    "customers who order neither food nor drinks, what is the probability that a customer who orders drinks\n",
    "will also order food?"
   ]
  },
  {
   "cell_type": "code",
   "execution_count": 24,
   "metadata": {},
   "outputs": [
    {
     "name": "stdout",
     "output_type": "stream",
     "text": [
      "0.18749999999999997\n"
     ]
    }
   ],
   "source": [
    "# A = order food\n",
    "# B = order drinks\n",
    "# P(A | B) = P(A and B) / P(B)\n",
    "# 80% + 35% = 115%\n",
    "# so the overlap of both is 15% (115% - 100%)\n",
    "P_AandB = .15\n",
    "P_B = .8\n",
    "print(P_AandB/P_B)"
   ]
  },
  {
   "cell_type": "markdown",
   "metadata": {},
   "source": [
    "Questions 9 & 10 refer to the following information:\n",
    "A webpage tracks the visitors to their site according to whether they have signed in to the site and\n",
    "according to what device they have used to access the page. The results are listed in the table below:  \n",
    "\n",
    "|Signed In?  |   Smartphone  | Tablet  |   Personal Computer  |   \n",
    "| ------------- |:-------------:| -----:|    \n",
    "|Yes  |  13%   |  6%   |  20%   |  \n",
    "|No   |  17%   |  8%   |  36%   |  "
   ]
  },
  {
   "cell_type": "markdown",
   "metadata": {},
   "source": [
    "9) What is the probability that a visitor to the site is not using a personal computer?"
   ]
  },
  {
   "cell_type": "markdown",
   "metadata": {},
   "source": [
    "56% probability using a computer  \n",
    "not using a computer = 44% (100% - 56%)"
   ]
  },
  {
   "cell_type": "markdown",
   "metadata": {},
   "source": [
    "10) If a visitor is signed in, what is the probability that the visitor is using a smartphone to access the\n",
    "site?"
   ]
  },
  {
   "cell_type": "code",
   "execution_count": 26,
   "metadata": {},
   "outputs": [
    {
     "name": "stdout",
     "output_type": "stream",
     "text": [
      "0.3333333333333333\n"
     ]
    }
   ],
   "source": [
    "# using a smart phone given they are logged in\n",
    "P_AandB = .13 # signed in and using a smart phone\n",
    "P_B = .39 # probability logged in\n",
    "print(P_AandB/P_B)"
   ]
  },
  {
   "cell_type": "markdown",
   "metadata": {},
   "source": []
  }
 ],
 "metadata": {
  "kernelspec": {
   "display_name": "Python 3",
   "language": "python",
   "name": "python3"
  },
  "language_info": {
   "codemirror_mode": {
    "name": "ipython",
    "version": 3
   },
   "file_extension": ".py",
   "mimetype": "text/x-python",
   "name": "python",
   "nbconvert_exporter": "python",
   "pygments_lexer": "ipython3",
   "version": "3.6.3"
  }
 },
 "nbformat": 4,
 "nbformat_minor": 2
}
