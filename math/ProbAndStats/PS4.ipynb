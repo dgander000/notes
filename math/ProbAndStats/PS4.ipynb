{
 "cells": [
  {
   "cell_type": "markdown",
   "metadata": {},
   "source": [
    "<pre>\n",
    "1) The mayor of the town of Cedar Bluffs is a member of the town council who is elected to the position\n",
    "by a majority vote of the other members of the council. The town council is made up of eleven\n",
    "members, including the mayor. In the upcoming election, the incumbent mayor is being challenged for\n",
    "the position by one other member of the council. Assuming that the incumbent and challenger will each\n",
    "vote for themselves, and that each of the other members of the council have a 60% probability of voting\n",
    "for the incumbent, what is the probability that the incumbent mayor will be reelected?\n",
    "</pre>"
   ]
  },
  {
   "cell_type": "code",
   "execution_count": 5,
   "metadata": {},
   "outputs": [
    {
     "name": "stdout",
     "output_type": "stream",
     "text": [
      "0.73343232\n"
     ]
    }
   ],
   "source": [
    "import scipy.stats as ss\n",
    "\n",
    "n = 9         \n",
    "p = .6  \n",
    "x = 5 \n",
    "\n",
    "hh = ss.binom(n, p)\n",
    "\n",
    "total_p = 0\n",
    "for k in range(x, n+1):  \n",
    "    total_p += hh.pmf(k)\n",
    "\n",
    "print(total_p)"
   ]
  },
  {
   "cell_type": "markdown",
   "metadata": {},
   "source": [
    "<pre>\n",
    "2) A quality control engineer is in charge of testing whether a factory’s production process is meeting\n",
    "specifications. One specification states that at least 85% of all products made by the factory must meet\n",
    "a certain standard of quality. To test this specification, the engineer tests 20 randomly-selected\n",
    "products each day. If more than 3 of them fail to meet quality standards, then production is halted\n",
    "while the entire day’s production must be tested.\n",
    "If the factory is not meeting specifications and only 70% of its produced products are meeting quality\n",
    "standards, what is the probability that the quality control engineer will fail to notice this problem in her\n",
    "daily test?\n",
    "</pre>"
   ]
  },
  {
   "cell_type": "code",
   "execution_count": 9,
   "metadata": {},
   "outputs": [
    {
     "data": {
      "text/plain": [
       "0.10708680450373079"
      ]
     },
     "execution_count": 9,
     "metadata": {},
     "output_type": "execute_result"
    }
   ],
   "source": [
    "import scipy.stats as ss\n",
    "\n",
    "n = 20         \n",
    "p = .7\n",
    "x = 17 \n",
    "\n",
    "hh = ss.binom(n, p)\n",
    "\n",
    "total_p = 0\n",
    "for k in range(x, n+1):  \n",
    "    total_p += hh.pmf(k)\n",
    "\n",
    "total_p"
   ]
  },
  {
   "cell_type": "markdown",
   "metadata": {},
   "source": [
    "<pre>\n",
    "Questions 3 & 4 refer to the following information:\n",
    "Assume that the world harvest of corn averages 30 billion bushels with a standard deviation of 2.5\n",
    "billion bushels. Also assume that the price per bushel of corn in world markets is a function of the global\n",
    "quantity produced that year expressed as: P = -0.4(Q) + 18. In this equation, P is the world price per\n",
    "bushel in U.S. dollars, and Q is the number of bushels produced worldwide, in billions.\n",
    "</pre>"
   ]
  },
  {
   "cell_type": "markdown",
   "metadata": {},
   "source": [
    "<pre>\n",
    "3) What is the expected price of a bushel of corn in any given year?\n",
    "</pre>"
   ]
  },
  {
   "cell_type": "code",
   "execution_count": 8,
   "metadata": {},
   "outputs": [
    {
     "data": {
      "text/plain": [
       "6.0"
      ]
     },
     "execution_count": 8,
     "metadata": {},
     "output_type": "execute_result"
    }
   ],
   "source": [
    "P = -.4*30 + 18\n",
    "P"
   ]
  },
  {
   "cell_type": "markdown",
   "metadata": {},
   "source": [
    "<pre>\n",
    "4) What is the standard deviation of the price of a bushel of corn in any given year?\n",
    "</pre>"
   ]
  },
  {
   "cell_type": "code",
   "execution_count": 11,
   "metadata": {},
   "outputs": [
    {
     "data": {
      "text/plain": [
       "1.0"
      ]
     },
     "execution_count": 11,
     "metadata": {},
     "output_type": "execute_result"
    }
   ],
   "source": [
    "P = abs(-.4)*2.5\n",
    "P"
   ]
  },
  {
   "cell_type": "markdown",
   "metadata": {},
   "source": [
    "<pre>\n",
    "5) A magazine publisher has studied the purchasing habits of customers who buy their magazines from\n",
    "racks that are positioned near supermarket checkout lines. They know that the probability of a shopper\n",
    "buying their magazine from one of these racks can be expressed as a function of the price of the\n",
    "magazine: (Purchase Probability) = -0.06(Price) + 0.6.\n",
    "What price should the publisher set for their magazines if they want 30% of all prospective customers to\n",
    "buy their magazine?\n",
    "</pre>"
   ]
  },
  {
   "cell_type": "code",
   "execution_count": 12,
   "metadata": {},
   "outputs": [
    {
     "data": {
      "text/plain": [
       "5.0"
      ]
     },
     "execution_count": 12,
     "metadata": {},
     "output_type": "execute_result"
    }
   ],
   "source": [
    "Price = (.3 - .6) / -.06\n",
    "Price"
   ]
  },
  {
   "cell_type": "markdown",
   "metadata": {},
   "source": [
    "<pre>\n",
    "6) You are at a charity event participating in a blind auction to win a spa day package with a maximum\n",
    "bid of $100. In a blind auction, all participants simultaneously submit a single bid without knowing who\n",
    "else may be bidding or for what amounts. The highest bid wins.\n",
    "Suppose that you attempted to represent your probability of winning the spa package graphically using\n",
    "the y-axis to represent probability and the x-value as the dollar amount of your bid. You believe that the\n",
    "cumulative probability of your winning the auction can be represented by the area between the line y =\n",
    ".0002x and the x-axis, bordered on the right by the amount of your bid and on the left by the y-axis.\n",
    "What is your probability of winning if you submit a bid of $80?\n",
    "</pre>"
   ]
  },
  {
   "cell_type": "code",
   "execution_count": 14,
   "metadata": {},
   "outputs": [
    {
     "data": {
      "text/plain": [
       "0.64"
      ]
     },
     "execution_count": 14,
     "metadata": {},
     "output_type": "execute_result"
    }
   ],
   "source": [
    "# y = .0002x\n",
    "# area of triange = base*height / 2\n",
    "P = 80*(.0002*80) / 2\n",
    "P"
   ]
  },
  {
   "cell_type": "markdown",
   "metadata": {},
   "source": [
    "<pre>\n",
    "Questions 7-10 refer to the following information:\n",
    "From past experience, the manager of a car rental company knows that 20% of the customers who make\n",
    "a reservation for a car will never appear to claim their cars. Because of this, though the company has\n",
    "only 22 cars to rent, the manager always takes advance reservations from 25 customers per day.\n",
    "</pre>"
   ]
  },
  {
   "cell_type": "markdown",
   "metadata": {},
   "source": [
    "<pre>\n",
    "7) What is the expected number of rental cars that will be claimed by customers on a typical day?\n",
    "</pre>"
   ]
  },
  {
   "cell_type": "code",
   "execution_count": 15,
   "metadata": {},
   "outputs": [
    {
     "data": {
      "text/plain": [
       "20.0"
      ]
     },
     "execution_count": 15,
     "metadata": {},
     "output_type": "execute_result"
    }
   ],
   "source": [
    "25 * .8"
   ]
  },
  {
   "cell_type": "markdown",
   "metadata": {},
   "source": [
    "<pre>\n",
    "8) On any given day, what is the probability that at least one car will go unclaimed?\n",
    "</pre>"
   ]
  },
  {
   "cell_type": "code",
   "execution_count": 17,
   "metadata": {},
   "outputs": [
    {
     "data": {
      "text/plain": [
       "0.76600674077380759"
      ]
     },
     "execution_count": 17,
     "metadata": {},
     "output_type": "execute_result"
    }
   ],
   "source": [
    "n = 25\n",
    "p = .8\n",
    "x = 21 # less than or equal to 21\n",
    "\n",
    "\n",
    "import scipy.stats as ss\n",
    "\n",
    "hh = ss.binom(n, p)\n",
    "\n",
    "total_p = 0\n",
    "for k in range(1, x+1):  \n",
    "    total_p += hh.pmf(k)\n",
    "\n",
    "total_p"
   ]
  },
  {
   "cell_type": "markdown",
   "metadata": {},
   "source": [
    "<pre>\n",
    "9) If all cars were claimed for a day, what is the probability that one or more customers who had\n",
    "reservations were unable to claim their cars?\n",
    "</pre>"
   ]
  },
  {
   "cell_type": "code",
   "execution_count": 18,
   "metadata": {},
   "outputs": [
    {
     "data": {
      "text/plain": [
       "0.4197780020181634"
      ]
     },
     "execution_count": 18,
     "metadata": {},
     "output_type": "execute_result"
    }
   ],
   "source": [
    "# probability that 23 or more people show up and all cars are claimed\n",
    "# P(x>=23) / P(x>=22) = (1 - P(x<=22)) / (1 - P(x<=21))\n",
    "\n",
    "n = 25\n",
    "p = .8\n",
    "\n",
    "import scipy.stats as ss\n",
    "\n",
    "hh = ss.binom(n, p)\n",
    "\n",
    "x = 23 # 23 or more\n",
    "total_p1 = 0\n",
    "for k in range(x, n+1):  \n",
    "    total_p1 += hh.pmf(k)\n",
    "\n",
    "\n",
    "x = 22 # 22 or more\n",
    "total_p2 = 0\n",
    "for k in range(x, n+1):  \n",
    "    total_p2 += hh.pmf(k)\n",
    "    \n",
    "    \n",
    "total_p1/total_p2"
   ]
  },
  {
   "cell_type": "markdown",
   "metadata": {},
   "source": [
    "<pre>\n",
    "10) Every claimed car results in $60 of income for the company. While harder to quantify, the manager\n",
    "estimates that every customer who has a reservation but is turned away due to overbooking results in a\n",
    "loss of $200 to the company due to bad word of mouth. Based on this information, should the manager\n",
    "continue taking 25 reservations per day or would it make more economic sense to take just 24?\n",
    "</pre>"
   ]
  },
  {
   "cell_type": "code",
   "execution_count": null,
   "metadata": {
    "collapsed": true
   },
   "outputs": [],
   "source": [
    "# expected profibility of taking 25 reservations vs 24\n",
    "# 25 = $1142.18\n",
    "# 24 = $1166.34"
   ]
  }
 ],
 "metadata": {
  "kernelspec": {
   "display_name": "Python 3",
   "language": "python",
   "name": "python3"
  },
  "language_info": {
   "codemirror_mode": {
    "name": "ipython",
    "version": 3
   },
   "file_extension": ".py",
   "mimetype": "text/x-python",
   "name": "python",
   "nbconvert_exporter": "python",
   "pygments_lexer": "ipython3",
   "version": "3.6.3"
  }
 },
 "nbformat": 4,
 "nbformat_minor": 2
}
