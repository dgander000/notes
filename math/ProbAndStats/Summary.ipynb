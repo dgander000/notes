{
 "cells": [
  {
   "cell_type": "markdown",
   "metadata": {},
   "source": [
    "<pre>\n",
    "1) You are playing a game of poker with a standard deck of cards. So far, you can see five cards (two in\n",
    "your hand and three face‐up on the table). Three of the five cards that you can see are hearts. What is\n",
    "the probability that the next two cards that are drawn from the remaining cards in the deck will be\n",
    "hearts?\n",
    "</pre>"
   ]
  },
  {
   "cell_type": "code",
   "execution_count": 2,
   "metadata": {},
   "outputs": [
    {
     "data": {
      "text/plain": [
       "0.041628122109158186"
      ]
     },
     "execution_count": 2,
     "metadata": {},
     "output_type": "execute_result"
    }
   ],
   "source": [
    "10/47 * 9/46"
   ]
  },
  {
   "cell_type": "markdown",
   "metadata": {},
   "source": [
    "<pre>\n",
    "2) 20% of a retail store’s customers are members of its rewards program and 10% of their customers\n",
    "have the store visa card. If 30% of the customers who are members of the rewards program have the\n",
    "store visa, what percentage of customers who are not members of the rewards program have the visa?\n",
    "</pre>"
   ]
  },
  {
   "cell_type": "markdown",
   "metadata": {},
   "source": [
    "20% x 30% = 6% have both  \n",
    "visa, not in rewards:  10% - 6% = 4%  \n",
    "not in rewards: 100% - 20% = 80%  \n",
    "4/80 = 5%  "
   ]
  },
  {
   "cell_type": "markdown",
   "metadata": {},
   "source": [
    "<pre>\n",
    "Questions 3 & 4 refer to the following information:\n",
    "A used car dealership makes 40% of its car sales in Baltimore and 60% in Philadelphia. The dealership\n",
    "sells 64% of its cars with financing and the rest without financing. Half of the cars that are sold with\n",
    "financing are sold in Baltimore.\n",
    "</pre>"
   ]
  },
  {
   "cell_type": "markdown",
   "metadata": {},
   "source": [
    "<pre>\n",
    "3) What percentage of the cars sold by this dealership in Baltimore are sold with financing?\n",
    "</pre>"
   ]
  },
  {
   "cell_type": "markdown",
   "metadata": {},
   "source": [
    "conditional probability  \n",
    "64 x 1/2 = 32% with financing in Balt.   \n",
    "40% cars sold in Balt.  \n",
    "32/40 = 80% cars sold with financing "
   ]
  },
  {
   "cell_type": "markdown",
   "metadata": {},
   "source": [
    "<pre>\n",
    "4) For this dealership, the average profit on a car sold with financing in Baltimore is $3,200, compared to\n",
    "just $1,400 average profit on a car sold without financing in Baltimore. Cars sold by this dealership in\n",
    "Philadelphia net an average of $2,800 in profit when sold with financing and $1,600 when sold without\n",
    "financing in Philadelphia. What is the expected profitability of each car sold by this dealership?\n",
    "</pre>"
   ]
  },
  {
   "cell_type": "markdown",
   "metadata": {},
   "source": [
    "city   financing   \n",
    "Balt(0.4)  F (0.8) -> 0.32 x 3200        \n",
    "          ~F (0.2) -> 0.08 x 1400  \n",
    "  \n",
    "Phil(0.6)  F (32/60) -> 0.32 x 2800  \n",
    "          ~F (28/60) -> 0.28 x 1600  "
   ]
  },
  {
   "cell_type": "markdown",
   "metadata": {},
   "source": [
    "<pre>\n",
    "Questions 5 & 6 refer to the following information:\n",
    "In one year, 20% of a ski resort’s customers skied just one day at the resort, 35% skied one or two days,\n",
    "48% skied up to three days, 60% skied up to four days, and 70% skied up to five days. The average\n",
    "number of days skied among all of the resort’s customers was 3.97. Assume all customers skied at least\n",
    "one day.\n",
    "</pre>"
   ]
  },
  {
   "cell_type": "markdown",
   "metadata": {},
   "source": [
    "<pre>\n",
    "5) If a customer skied multiple days, what is the probability that he or she skied at least five days?\n",
    "</pre>"
   ]
  },
  {
   "cell_type": "markdown",
   "metadata": {
    "collapsed": true
   },
   "source": [
    "80% skied multiple days (100 - 20)  \n",
    "40% skied 5 or more days (100 - 60)  \n",
    "40/80 = 50% skied at least 5 days"
   ]
  },
  {
   "cell_type": "markdown",
   "metadata": {},
   "source": [
    "<pre>\n",
    "6) The resort charges its customers $80 per day of skiing. Based on this year’s results, what is the annual\n",
    "expected value from one of the resort’s most‐frequent visitors (those that skied more than five days last\n",
    "year)?\n",
    "</pre>"
   ]
  },
  {
   "cell_type": "markdown",
   "metadata": {},
   "source": [
    "ave 7 days  \n",
    "$560"
   ]
  },
  {
   "cell_type": "markdown",
   "metadata": {},
   "source": [
    "<pre>\n",
    "7) The start‐up companies that a venture capitalist firm invests in typically have a failure rate of 80%,\n",
    "Among the 20 start‐up companies that are currently in the venture capitalist firm’s portfolio, what is the\n",
    "probability that at least three will be successful?\n",
    "</pre>"
   ]
  },
  {
   "cell_type": "markdown",
   "metadata": {},
   "source": [
    "binomial problem  \n",
    "n = 20  \n",
    "p = 0.8    \n",
    "x = 17  \n",
    "\n",
    "0.794"
   ]
  },
  {
   "cell_type": "markdown",
   "metadata": {},
   "source": [
    "<pre>\n",
    "8) The owner of a retail store knows that, for every person who walks by the storefront on the sidewalk,\n",
    "there is a 30% chance that they will come in. If someone comes in to her store, there is a 50% chance\n",
    "that she will be able to sell something to that person. Among the next five people to walk by on the\n",
    "sidewalk, what is the probability that she will make at least one sale?\n",
    "</pre>"
   ]
  },
  {
   "cell_type": "markdown",
   "metadata": {},
   "source": [
    "p of a sale = 0.3 x 0.5 = 0.15  \n",
    "p of not a sale = 1 - 0.15 = 0.85  \n",
    "p of 5 no sales = 0.85^5 = 0.444  \n",
    "p of at least one sale = 1 - 0.444 = 0.556  "
   ]
  },
  {
   "cell_type": "markdown",
   "metadata": {},
   "source": [
    "<pre>\n",
    "9) Liability insurance payouts from an auto insurance company average $2,300 with a normal\n",
    "distribution and a standard deviation of $1,200. What percentage of the firm’s liability insurance\n",
    "payouts are larger than $5,000?\n",
    "</pre>"
   ]
  },
  {
   "cell_type": "markdown",
   "metadata": {},
   "source": [
    "mean = 2300  \n",
    "sd = 1200  \n",
    "\n",
    "(5000 - 2300)/1200 = 2.25  \n",
    "1 - 0.9878 = 1.22%"
   ]
  },
  {
   "cell_type": "markdown",
   "metadata": {},
   "source": [
    "<pre>\n",
    "Questions 10 & 11 refer to the following information:\n",
    "Customer purchase amounts at an electronics retailer are normally distributed with an average of $104.\n",
    "</pre>"
   ]
  },
  {
   "cell_type": "markdown",
   "metadata": {},
   "source": [
    "<pre>\n",
    "10) Given that one quarter of all purchases are for $50 or less, what is the standard deviation for\n",
    "customer purchase amounts at this retailer?\n",
    "</pre>"
   ]
  },
  {
   "cell_type": "markdown",
   "metadata": {},
   "source": [
    "z value for 0.25 = -0.675  \n",
    "(50 - 104)/x = -0.675  \n",
    "x = 80"
   ]
  },
  {
   "cell_type": "markdown",
   "metadata": {},
   "source": [
    "<pre>\n",
    "11) What is the approximate probability that the next five customers to visit this retailer will each spend\n",
    "at least $62?\n",
    "</pre>"
   ]
  },
  {
   "cell_type": "markdown",
   "metadata": {},
   "source": [
    "62-104 / 80 = -0.525  \n",
    "p = 1 - 0.3 = 0.7\n",
    "p_5 = 0.7^5 = 16.8%"
   ]
  },
  {
   "cell_type": "markdown",
   "metadata": {},
   "source": [
    "<pre>\n",
    "12) Weekly production quantity at a manufacturing facility is normally distributed and falls within a\n",
    "range between 734 units and 906 units approximately one third of the time. What is the variance for\n",
    "the quantity of the facility’s weekly production?\n",
    "</pre>"
   ]
  },
  {
   "cell_type": "markdown",
   "metadata": {},
   "source": [
    "200^2"
   ]
  },
  {
   "cell_type": "markdown",
   "metadata": {},
   "source": [
    "<pre>\n",
    "13) You own 1000 shares of Company X and 1200 shares of Company Y. Predictions for the value of\n",
    "both stock prices over the next year are normally distributed. In one year, each share of Company X is\n",
    "expected to be worth $24 with a standard deviation of $2. Each share of Company Y is expected to be\n",
    "worth $17 with a standard deviation of $3. The share prices of Companies X & Y have a correlation of\n",
    "0.22. What is the probability that the combined value of all your shares will exceed $50,000?\n",
    "</pre>"
   ]
  },
  {
   "cell_type": "markdown",
   "metadata": {},
   "source": [
    "10.56%"
   ]
  },
  {
   "cell_type": "markdown",
   "metadata": {},
   "source": [
    "<pre>\n",
    "14) A sports magazine conducts a survey of their customers to ask if they would support a change\n",
    "towards more coverage of professional sports at the expense of some reporting on collegiate athletics.\n",
    "If 216 of the 400 respondents said that they would support the change, what is the lower bound of the\n",
    "99% confidence interval for the true percentage of the magazine’s subscribers who would support the\n",
    "change in coverage?\n",
    "</pre>"
   ]
  },
  {
   "cell_type": "markdown",
   "metadata": {},
   "source": [
    "46.7%"
   ]
  },
  {
   "cell_type": "markdown",
   "metadata": {},
   "source": [
    "<pre>\n",
    "15) A light bulb manufacturer claims that the average lifespan of their bulbs is at least 1000 hours of use.\n",
    "You test 24 of their bulbs and find that, in your sample, the bulbs have an average lifespan of just 975\n",
    "hours, with a standard deviation of 49 hours. If the manufacturer’s claims are true, what is the\n",
    "probability that you would have observed the results that you did?\n",
    "</pre>"
   ]
  },
  {
   "cell_type": "markdown",
   "metadata": {},
   "source": [
    "1%"
   ]
  },
  {
   "cell_type": "markdown",
   "metadata": {},
   "source": [
    "<pre>\n",
    "16) A microbrewery is considering using a new wide‐mouth shape for their beer bottles. The CEO of the\n",
    "brewery contends that customers only care about the taste of the beer and will not show any\n",
    "preference, in the aggregate, for one shape of bottle over another. If you were to ask 225 of the\n",
    "brewer’s customers which shape of bottle they prefer, how many would have to state a preference one\n",
    "way or another in order for you to be able to dispute the CEO’s claim with 95% confidence?\n",
    "</pre>"
   ]
  },
  {
   "cell_type": "markdown",
   "metadata": {},
   "source": [
    "128"
   ]
  },
  {
   "cell_type": "markdown",
   "metadata": {},
   "source": [
    "<pre>\n",
    "Questions 17‐19 refer to the following information:\n",
    "A movie studio wants to build a predictive model for their films’ open weekend box office results based\n",
    "on the amount of money that they spend on advertising and the number of views that the movie’s\n",
    "trailer generates on social media platforms prior to the opening. To this end, they run a regression with\n",
    "the results from their past thirty film releases, using the movies’ opening weekend box office revenues\n",
    "as the dependent variable and the pre‐opening advertising spend and trailer views as the independent\n",
    "variables.\n",
    "This regression yields the following results:\n",
    "\n",
    "Regression Statistics\n",
    "Multiple R          0.841  \n",
    "R Square            0.707\n",
    "Adjusted R Square   0.685\n",
    "Standard Error      12,712,636\n",
    "Observations        30\n",
    "\n",
    "Summary Table        \n",
    "Variable             Coefficient   Standard Error\n",
    "Intercept            13,672,593    3,490,472\n",
    "Trailer Views        1.238         0.396\n",
    "Advertising Spend    6.915         2.495\n",
    "</pre>"
   ]
  },
  {
   "cell_type": "markdown",
   "metadata": {},
   "source": [
    "<pre>\n",
    "17) For a movie with 1m views of its trailer, how much will the studio need to spend in advertising\n",
    "(rounded to the nearest thousand dollars) if it wants the movie to reach an expected value of $20m in\n",
    "opening weekend box office revenues?\n",
    "</pre>"
   ]
  },
  {
   "cell_type": "markdown",
   "metadata": {},
   "source": [
    "<pre>\n",
    "18) One of the studio’s top executives claims that the pre‐opening advertising spend does nothing to\n",
    "help predict a movie’s opening weekend box office results. With what level of certainty can you reject\n",
    "this claim?\n",
    "</pre>"
   ]
  },
  {
   "cell_type": "markdown",
   "metadata": {},
   "source": [
    "<pre>\n",
    "19) Two of the studio’s soon‐to‐be‐released movies, Star Force IX and Natural Born Conspiracy, spent\n",
    "the same amount on advertising, but Star Force IX recorded 15m more views of its trailer. Given this\n",
    "information, provide a conservative estimate for how much more money you expect Star Force IX to\n",
    "bring in compared to Natural Born Conspiracy during the two movies’ opening weekends, such that you\n",
    "can be 99% confident that Star Force IX will make at least that much more money than the other movie.\n",
    "</pre>"
   ]
  },
  {
   "cell_type": "markdown",
   "metadata": {},
   "source": [
    "<pre>\n",
    "20) You are the founder and CEO of a new chain of health clubs called Paleo Gyms and Prehistoric\n",
    "Fitness Clubs. The concept behind this new fitness craze is to only perform exercises that our ancient\n",
    "ancestors might have done: moving boulders, climbing trees, throwing sticks, etc.—all while wearing\n",
    "heavy animal pelts.\n",
    "Your business is growing rapidly, and you have identified San Diego as the next city where you should\n",
    "consider opening a Paleo Gym and Prehistoric Fitness Club. To launch a new gym, however, you will\n",
    "need to spend $700k on the cost of the facility plus equipment (designer rocks, artisanal logs, and such).\n",
    "You will also need to spend some money on promoting the new center both in the month preceding the\n",
    "launch (pre‐launch spend) and in the month when it opens (opening spend). For each of these time\n",
    "periods, you can set your advertising spend at a lower rate of $250k for the month, or at a higher rate of\n",
    "$550k. Your advertising spend does not need to be consistent across months; you may set your pre‐\n",
    "launch spend at the lower rate and then increase to the higher rate for the opening spend, or vice versa.\n",
    "Unfortunately, you have a rival in this emerging market: the Chiseled from Stone Age Luxury Spas and\n",
    "Training Centers. Once Chiseled from Stone sees your pre‐launch advertising for a new Paleo Gym in\n",
    "San Diego, you suspect that there is a good chance they will follow suit by opening one of their clubs in\n",
    "that market as well. You estimate that if your pre‐launch spend is low ($250k), then there is a 60%\n",
    "chance that Chiseled from Stone will enter the San Diego market as well. If, however, your pre‐launch\n",
    "spend is high, you believe that Chiseled from Stone might be somewhat wary of going up against your\n",
    "strong advertising campaign and, therefore, the likelihood of them opening a new center in San Diego\n",
    "will only be 40%. If your rival doesn’t enter the market, you won’t need any opening spend advertising\n",
    "at all. If they do enter, you will then need to decide to run a high or low opening spend campaign.\n",
    "If Chiseled from Stone does open a center in San Diego, they will also face a choice about whether to\n",
    "support their new gym with either an aggressive (high $) or non‐aggressive (low $) advertising campaign.\n",
    "Looking back at their past gym openings, you figure there is a 50% chance that Chiseled from Stone will\n",
    "support their new gym with an aggressive ad campaign, no matter what your own advertising looks like.\n",
    "Unfortunately, you won’t know what type of advertising campaign your rival will run until after you have\n",
    "had to decide on the level of your own opening spend.\n",
    "Naturally, you want to maximize your company’s profits but, in terms of revenue expectations for your\n",
    "new gym, there are a number of possible scenarios that may occur, depending on whether your rival\n",
    "also enters the market, and upon both of your firms’ advertising in the month when your gym opens.\n",
    "The revenue projections (not counting your costs to launch and advertise) for your gym are as follows:\n",
    "\n",
    "$2.5m if you enter the San Diego market but your rival does not\n",
    "$2m if your opening spend is high and your rival engages in a non‐aggressive advertising campaign\n",
    "$1.5m if your opening spend is high and your rival engages in an aggressive advertising campaign\n",
    "$1.5m if your opening spend is low and your rival engages in a non‐aggressive advertising campaign\n",
    "$1m if your opening spend is low and your rival engages in an aggressive advertising campaign\n",
    "$0 if you choose not to launch a new gym in San Diego\n",
    "\n",
    "What is your expected profitability (revenues minus costs) for opening a new Paleo Gym and Prehistoric\n",
    "Fitness Club in San Diego assuming that you follow the best, profit‐maximizing course of action?\n",
    "</pre>"
   ]
  },
  {
   "cell_type": "markdown",
   "metadata": {},
   "source": [
    "<pre>\n",
    "\n",
    "</pre>"
   ]
  }
 ],
 "metadata": {
  "kernelspec": {
   "display_name": "Python 3",
   "language": "python",
   "name": "python3"
  },
  "language_info": {
   "codemirror_mode": {
    "name": "ipython",
    "version": 3
   },
   "file_extension": ".py",
   "mimetype": "text/x-python",
   "name": "python",
   "nbconvert_exporter": "python",
   "pygments_lexer": "ipython3",
   "version": "3.6.3"
  }
 },
 "nbformat": 4,
 "nbformat_minor": 2
}
