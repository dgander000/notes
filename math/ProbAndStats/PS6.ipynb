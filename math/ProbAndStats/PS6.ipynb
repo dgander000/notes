{
 "cells": [
  {
   "cell_type": "code",
   "execution_count": 1,
   "metadata": {
    "collapsed": true
   },
   "outputs": [],
   "source": [
    "def cal_Z(x, mean, sd):\n",
    "    return (x - mean)/sd"
   ]
  },
  {
   "cell_type": "code",
   "execution_count": 8,
   "metadata": {
    "collapsed": true
   },
   "outputs": [],
   "source": [
    "def cal_x(Z, mean, sd):\n",
    "    return Z*sd + mean"
   ]
  },
  {
   "cell_type": "code",
   "execution_count": 9,
   "metadata": {
    "collapsed": true
   },
   "outputs": [],
   "source": [
    "def cal_sd(x, Z, mean):\n",
    "    return (x - mean)/Z"
   ]
  },
  {
   "cell_type": "code",
   "execution_count": 17,
   "metadata": {
    "collapsed": true
   },
   "outputs": [],
   "source": [
    "def cal_mean(Z, x, sd):\n",
    "    return x - Z*sd"
   ]
  },
  {
   "cell_type": "markdown",
   "metadata": {},
   "source": [
    "<pre>\n",
    "Questions 1 & 2 refer to the following information:\n",
    "Based on recent financial data, a major movie studio concludes that their animated features bring in an\n",
    "average net income of $20 million with a standard deviation of $15 million and normal distribution.\n",
    "</pre>"
   ]
  },
  {
   "cell_type": "markdown",
   "metadata": {},
   "source": [
    "<pre>\n",
    "1) Based on this information, what is the 99% confidence interval for the net income of their next\n",
    "animated movie?\n",
    "</pre>"
   ]
  },
  {
   "cell_type": "code",
   "execution_count": 3,
   "metadata": {},
   "outputs": [
    {
     "name": "stdout",
     "output_type": "stream",
     "text": [
      "-18.625\n",
      "58.625\n"
     ]
    }
   ],
   "source": [
    "mean = 20\n",
    "sd = 15\n",
    "\n",
    "# z = (x-mean) / sd\n",
    "# x = z*sd + mean\n",
    "z1 = -2.575 # p = .5%\n",
    "x1 = cal_x(z1, mean, sd)\n",
    "print(x1)\n",
    "\n",
    "z2 = 2.575 # p = 99.5%\n",
    "x2 = cal_x(z2, mean, sd)\n",
    "print(x2)"
   ]
  },
  {
   "cell_type": "markdown",
   "metadata": {},
   "source": [
    "<pre>\n",
    "2) How many of their next 15 animated features would you expect to bring in between $7.376m and\n",
    "$32.624m in net income?\n",
    "</pre>"
   ]
  },
  {
   "cell_type": "code",
   "execution_count": 5,
   "metadata": {},
   "outputs": [
    {
     "name": "stdout",
     "output_type": "stream",
     "text": [
      "-0.8415999999999999 0.8416000000000001\n"
     ]
    }
   ],
   "source": [
    "x1 = 7.376\n",
    "x2 = 32.624\n",
    "\n",
    "z1 = cal_Z(x1, mean, sd)\n",
    "z2 = cal_Z(x2, mean, sd)\n",
    "\n",
    "print(z1, z2)"
   ]
  },
  {
   "cell_type": "code",
   "execution_count": 7,
   "metadata": {},
   "outputs": [
    {
     "data": {
      "text/plain": [
       "9.000000000000002"
      ]
     },
     "execution_count": 7,
     "metadata": {},
     "output_type": "execute_result"
    }
   ],
   "source": [
    "p1 = .2\n",
    "p2 = .8\n",
    "p_final = p2 - p1\n",
    "num = p_final * 15\n",
    "num"
   ]
  },
  {
   "cell_type": "markdown",
   "metadata": {},
   "source": [
    "<pre>\n",
    "Questions 3 & 4 refer to the following information:\n",
    "On a peach farm, half the trees hold between 159 and 217 fruit. This is the middle 50% range.\n",
    "</pre>"
   ]
  },
  {
   "cell_type": "markdown",
   "metadata": {},
   "source": [
    "<pre>\n",
    "3) What is the expected number of fruit on any given tree?\n",
    "</pre>"
   ]
  },
  {
   "cell_type": "code",
   "execution_count": 15,
   "metadata": {},
   "outputs": [
    {
     "data": {
      "text/plain": [
       "188.0"
      ]
     },
     "execution_count": 15,
     "metadata": {},
     "output_type": "execute_result"
    }
   ],
   "source": [
    "mean = (217 + 159)/2 \n",
    "mean"
   ]
  },
  {
   "cell_type": "markdown",
   "metadata": {},
   "source": [
    "<pre>\n",
    "4) What is the standard deviation for number of fruit on a tree?\n",
    "</pre>"
   ]
  },
  {
   "cell_type": "code",
   "execution_count": 13,
   "metadata": {},
   "outputs": [
    {
     "name": "stdout",
     "output_type": "stream",
     "text": [
      "42.96296296296296 42.96296296296296\n"
     ]
    }
   ],
   "source": [
    "mean = (217 + 159)/2 \n",
    "# middle 50% is between 159 and 217\n",
    "# 25% is less than 159, 25% is greater than 217\n",
    "zl = -0.675\n",
    "zu = 0.675\n",
    "\n",
    "x1 = 159\n",
    "x2 = 217\n",
    "\n",
    "sd1 = cal_sd(x1, zl, mean)\n",
    "sd2 = cal_sd(x2, zu, mean)\n",
    "\n",
    "print(sd1, sd2)"
   ]
  },
  {
   "cell_type": "code",
   "execution_count": 14,
   "metadata": {},
   "outputs": [
    {
     "name": "stdout",
     "output_type": "stream",
     "text": [
      "188.0  +-  42.96296296296296\n"
     ]
    }
   ],
   "source": [
    "print(mean, ' +- ', sd1)"
   ]
  },
  {
   "cell_type": "markdown",
   "metadata": {},
   "source": [
    "<pre>\n",
    "5) The standard deviation of home sale prices in a neighborhood is $75,000 and the prices of homes are\n",
    "normally distributed. If the next home to go on the market sells for $350,000, provide a range in which\n",
    "you can be 95% confident that the average sale price for all homes in the neighborhood will fall.\n",
    "</pre>"
   ]
  },
  {
   "cell_type": "code",
   "execution_count": 19,
   "metadata": {},
   "outputs": [
    {
     "data": {
      "text/plain": [
       "(203000.0, 497000.0)"
      ]
     },
     "execution_count": 19,
     "metadata": {},
     "output_type": "execute_result"
    }
   ],
   "source": [
    "sd = 75000\n",
    "# 95% range, +- 2.5% on each side of normal dist.\n",
    "z = 1.96 # 97.5\n",
    "mean = 350000\n",
    "price_at_z = z * sd\n",
    "conf_int = (mean - price_at_z ), (mean + price_at_z )\n",
    "conf_int"
   ]
  },
  {
   "cell_type": "markdown",
   "metadata": {},
   "source": [
    "<pre>\n",
    "Questions 6 & 7 refer to the following information:\n",
    "You own 60 shares of company A and 20 shares of company B. In one year’s time, the value of one\n",
    "share of company A is expected to be $53 with a standard deviation of $3. In the same timeframe, a\n",
    "single share of company B has an expected value of $84 with a standard deviation of $9. Predictions for\n",
    "both firms’ future stock prices are normally distributed and the correlation between the two company’s\n",
    "stock prices is -0.17.\n",
    "</pre>"
   ]
  },
  {
   "cell_type": "markdown",
   "metadata": {},
   "source": [
    "<pre>\n",
    "6) What is the variance of the value of your portfolio in a year from now?\n",
    "</pre>"
   ]
  },
  {
   "cell_type": "code",
   "execution_count": 21,
   "metadata": {},
   "outputs": [
    {
     "data": {
      "text/plain": [
       "53784.0"
      ]
     },
     "execution_count": 21,
     "metadata": {},
     "output_type": "execute_result"
    }
   ],
   "source": [
    "# Var(aA + bB) = a^2 * var_x + b^2 * var_x + 2*a*b*Corr(x,y)*sd_x*sd_y\n",
    "var = (60**2 * 3**2) + (20**2 * 9**2) + 2*60*20*-0.17*3*9\n",
    "var"
   ]
  },
  {
   "cell_type": "markdown",
   "metadata": {},
   "source": [
    "<pre>\n",
    "7) What is the probability that your portfolio will exceed $5,000 in value?\n",
    "</pre>"
   ]
  },
  {
   "cell_type": "code",
   "execution_count": 24,
   "metadata": {},
   "outputs": [
    {
     "data": {
      "text/plain": [
       "0.6036726311049256"
      ]
     },
     "execution_count": 24,
     "metadata": {},
     "output_type": "execute_result"
    }
   ],
   "source": [
    "import math\n",
    "expected_value = (60*53) + (20*84)\n",
    "sd = math.sqrt(var)\n",
    "z = cal_Z(5000, expected_value, sd)\n",
    "z"
   ]
  },
  {
   "cell_type": "code",
   "execution_count": 25,
   "metadata": {},
   "outputs": [
    {
     "data": {
      "text/plain": [
       "0.274"
      ]
     },
     "execution_count": 25,
     "metadata": {},
     "output_type": "execute_result"
    }
   ],
   "source": [
    "p_z = 0.726\n",
    "p = 1 - p_z\n",
    "p"
   ]
  },
  {
   "cell_type": "markdown",
   "metadata": {},
   "source": [
    "<pre>\n",
    "8) The starting center and power forward on a WNBA team average 12.9 and 16.3 points per game,\n",
    "respectively. The center’s scoring has a standard deviation of 4.1 points, and the power forward’s has a\n",
    "standard deviation of 5.2. Their combined scoring per game has a standard deviation of 6.0. What is\n",
    "the correlation of their scoring?\n",
    "</pre>"
   ]
  },
  {
   "cell_type": "code",
   "execution_count": 27,
   "metadata": {},
   "outputs": [
    {
     "data": {
      "text/plain": [
       "-0.18409943714821767"
      ]
     },
     "execution_count": 27,
     "metadata": {},
     "output_type": "execute_result"
    }
   ],
   "source": [
    "# 4.1^2 + 5.2^2 + 2*corr*4.1*5.2 = 6^2\n",
    "corr = (6**2 - 4.1**2 - 5.2**2) / (2*4.1*5.2)\n",
    "corr"
   ]
  },
  {
   "cell_type": "markdown",
   "metadata": {},
   "source": [
    "<pre>\n",
    "Questions 9 & 10 refer to the following information:\n",
    "A husband and wife both leave work at the same time in order to meet at home before going out to\n",
    "dinner. The husband has a 30-minute evening commute with a standard deviation of 8 minutes. The\n",
    "wife has commute of 25 minutes with a standard deviation of 6 minutes.\n",
    "</pre>"
   ]
  },
  {
   "cell_type": "markdown",
   "metadata": {},
   "source": [
    "<pre>\n",
    "9) Assuming that the couple’s commuting times are independent of one another, what is the probability\n",
    "that the husband arrives home before his wife?\n",
    "</pre>"
   ]
  },
  {
   "cell_type": "code",
   "execution_count": 31,
   "metadata": {},
   "outputs": [
    {
     "data": {
      "text/plain": [
       "-0.5"
      ]
     },
     "execution_count": 31,
     "metadata": {},
     "output_type": "execute_result"
    }
   ],
   "source": [
    "import math\n",
    "# P(H < W) = P(H-W < 0)\n",
    "# E(H) - E(W) = 5 min\n",
    "mean = 5\n",
    "x = 0\n",
    "# Var(aX - bY) = a^2*var_x + b^2*var_y - 2*a*b*Corr*sd_x*sd_y\n",
    "# Corr = 0, a and b equal 1\n",
    "# Var(H-W) = var_x + var+y\n",
    "v = 8**2 + 6**2\n",
    "sd = math.sqrt(v)\n",
    "z = cal_Z(0, mean, sd)\n",
    "z"
   ]
  },
  {
   "cell_type": "code",
   "execution_count": null,
   "metadata": {
    "collapsed": true
   },
   "outputs": [],
   "source": [
    "p_z = 0.3085"
   ]
  },
  {
   "cell_type": "markdown",
   "metadata": {},
   "source": [
    "<pre>\n",
    "10) If the couple’s commuting times actually have a correlation of 0.198 because they share some of the\n",
    "same city traffic, now what is the probability that the husband arrives home before his wife?\n",
    "</pre>"
   ]
  },
  {
   "cell_type": "code",
   "execution_count": 33,
   "metadata": {},
   "outputs": [
    {
     "data": {
      "text/plain": [
       "-0.555582992430183"
      ]
     },
     "execution_count": 33,
     "metadata": {},
     "output_type": "execute_result"
    }
   ],
   "source": [
    "v = (8**2 + 6**2) - (2*0.198*8*6)\n",
    "sd = math.sqrt(v)\n",
    "z = cal_Z(0, mean, sd)\n",
    "z"
   ]
  },
  {
   "cell_type": "code",
   "execution_count": 34,
   "metadata": {},
   "outputs": [
    {
     "data": {
      "text/plain": [
       "0.28945"
      ]
     },
     "execution_count": 34,
     "metadata": {},
     "output_type": "execute_result"
    }
   ],
   "source": [
    "p_z = (0.2912 + 0.2877)/2\n",
    "p_z"
   ]
  },
  {
   "cell_type": "code",
   "execution_count": null,
   "metadata": {
    "collapsed": true
   },
   "outputs": [],
   "source": []
  }
 ],
 "metadata": {
  "kernelspec": {
   "display_name": "Python 3",
   "language": "python",
   "name": "python3"
  },
  "language_info": {
   "codemirror_mode": {
    "name": "ipython",
    "version": 3
   },
   "file_extension": ".py",
   "mimetype": "text/x-python",
   "name": "python",
   "nbconvert_exporter": "python",
   "pygments_lexer": "ipython3",
   "version": "3.6.3"
  }
 },
 "nbformat": 4,
 "nbformat_minor": 2
}
