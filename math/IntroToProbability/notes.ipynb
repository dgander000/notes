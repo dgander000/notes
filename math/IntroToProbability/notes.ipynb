{
 "cells": [
  {
   "cell_type": "markdown",
   "metadata": {},
   "source": [
    "### Intro to Probability"
   ]
  },
  {
   "cell_type": "markdown",
   "metadata": {},
   "source": [
    "[**textbook**](https://www.openintro.org/stat/textbook.php?stat_book=os)"
   ]
  },
  {
   "cell_type": "markdown",
   "metadata": {},
   "source": [
    "**install [R](https://cran.r-project.org/)**    \n",
    "\n",
    "sudo apt-get update  \n",
    "sudo apt-get install r-base  \n",
    "sudo apt install libssl-dev  \n",
    "\n",
    "download and install [RStudio](https://www.rstudio.com/products/rstudio/download/)  \n",
    "\n",
    "install packages  \n",
    "install.packages(\"devtools\")\n",
    "library(devtools)\n",
    "\n",
    "now install  \n",
    "install.packages(\"dplyr\")  \n",
    "install.packages(\"ggplot2\")  \n",
    "install.packages(\"shiny\")  \n",
    "install_github(\"StatsWithR/statsr\")  "
   ]
  },
  {
   "cell_type": "markdown",
   "metadata": {},
   "source": [
    "### statistics  \n",
    "how to best collect data, analyze data and infer from data"
   ]
  },
  {
   "cell_type": "markdown",
   "metadata": {},
   "source": [
    "data matrix:  \n",
    " - row: observation (case)  \n",
    " - column:  variable  \n",
    "\n",
    "variables  \n",
    " - numerical (quantitative)  \n",
    " continuous or discrete  \n",
    " - catagorical (qualitative)  \n",
    " regular or ordinal (inherent ordering)  "
   ]
  },
  {
   "cell_type": "markdown",
   "metadata": {},
   "source": [
    "observational study (only show correlation)  \n",
    "or  \n",
    "experiment (can infer causation)    \n",
    "\n",
    "correlations does not imply causation  \n",
    "confounding variables  "
   ]
  },
  {
   "cell_type": "markdown",
   "metadata": {},
   "source": [
    "sampling bias  \n",
    " - convenience sample  \n",
    " - non-response  \n",
    " - voluntary response  "
   ]
  },
  {
   "cell_type": "markdown",
   "metadata": {},
   "source": [
    "sampling methods  \n",
    " - simple random sample    \n",
    " - stratisfied sample  \n",
    " - cluster sample  \n",
    " - multi statge sample  "
   ]
  },
  {
   "cell_type": "markdown",
   "metadata": {},
   "source": [
    "principles of experimental design  \n",
    " - control  \n",
    " - randomize  \n",
    " - replicate  \n",
    " - block  "
   ]
  },
  {
   "cell_type": "markdown",
   "metadata": {},
   "source": [
    "<img src='images/RandomSampleAssignment.png'>"
   ]
  },
  {
   "cell_type": "markdown",
   "metadata": {},
   "source": [
    "evaluating relationship  \n",
    " - direction (positive/negative)  \n",
    " - shape (linear/curved)  \n",
    " - strength (strong/weak(scattered))  \n",
    " - outliers  "
   ]
  },
  {
   "cell_type": "markdown",
   "metadata": {},
   "source": [
    "visualizing data   \n",
    " - scatterplots    \n",
    " - histograms     \n",
    "    skewness (left/symmetric/right) - skewed to side of long tail  \n",
    "    modality (unimodal/bimodal/uniform/multimodal) - normal(unimodal)    \n",
    "    bin width (need to experiment)\n",
    " - dotplot  \n",
    " - boxplot\n",
    " - intensity map"
   ]
  },
  {
   "cell_type": "markdown",
   "metadata": {},
   "source": [
    "measures of center  \n",
    " - mean (average)  \n",
    " - median (midpoint of distribution / 50th percentile)  \n",
    " - mode (most frequent observation)"
   ]
  },
  {
   "cell_type": "markdown",
   "metadata": {},
   "source": []
  },
  {
   "cell_type": "markdown",
   "metadata": {},
   "source": []
  },
  {
   "cell_type": "markdown",
   "metadata": {},
   "source": []
  },
  {
   "cell_type": "markdown",
   "metadata": {},
   "source": []
  },
  {
   "cell_type": "markdown",
   "metadata": {},
   "source": []
  },
  {
   "cell_type": "markdown",
   "metadata": {},
   "source": []
  },
  {
   "cell_type": "markdown",
   "metadata": {},
   "source": []
  },
  {
   "cell_type": "markdown",
   "metadata": {},
   "source": []
  }
 ],
 "metadata": {
  "kernelspec": {
   "display_name": "Python 3",
   "language": "python",
   "name": "python3"
  },
  "language_info": {
   "codemirror_mode": {
    "name": "ipython",
    "version": 3
   },
   "file_extension": ".py",
   "mimetype": "text/x-python",
   "name": "python",
   "nbconvert_exporter": "python",
   "pygments_lexer": "ipython3",
   "version": "3.6.1"
  }
 },
 "nbformat": 4,
 "nbformat_minor": 2
}
