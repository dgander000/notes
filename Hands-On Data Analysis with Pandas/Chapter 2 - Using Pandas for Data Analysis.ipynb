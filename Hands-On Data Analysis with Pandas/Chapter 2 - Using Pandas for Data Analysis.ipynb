{
 "metadata": {
  "language_info": {
   "codemirror_mode": {
    "name": "ipython",
    "version": 3
   },
   "file_extension": ".py",
   "mimetype": "text/x-python",
   "name": "python",
   "nbconvert_exporter": "python",
   "pygments_lexer": "ipython3",
   "version": "3.8.5-final"
  },
  "orig_nbformat": 2,
  "kernelspec": {
   "name": "python385jvsc74a57bd0e65c9f12fe121955c46cd6119809c1187549ab9b1c440c7a57b5d6e66a1d852e",
   "display_name": "Python 3.8.5 64-bit ('base': conda)"
  }
 },
 "nbformat": 4,
 "nbformat_minor": 2,
 "cells": [
  {
   "source": [
    "# Imports"
   ],
   "cell_type": "markdown",
   "metadata": {}
  },
  {
   "cell_type": "code",
   "execution_count": 14,
   "metadata": {},
   "outputs": [],
   "source": [
    "import datetime\n",
    "import numpy as np\n",
    "import pandas as pd"
   ]
  },
  {
   "source": [
    "# Series\n",
    "- Pandas class that provides a data structure for an array of a single type of data\n",
    "- Attributes\n",
    "    - name\n",
    "    - dtype \n",
    "    - shape (tuple)\n",
    "    - index (Index object)\n",
    "    - values (numpy array)\n",
    "    - is_unique\n",
    "- Make with any list type structure (including numpy arrays)"
   ],
   "cell_type": "markdown",
   "metadata": {}
  },
  {
   "cell_type": "code",
   "execution_count": 9,
   "metadata": {},
   "outputs": [
    {
     "output_type": "execute_result",
     "data": {
      "text/plain": [
       "0    0.321646\n",
       "1    0.083513\n",
       "2    0.509376\n",
       "3    0.509602\n",
       "4    0.763671\n",
       "Name: random, dtype: float64"
      ]
     },
     "metadata": {},
     "execution_count": 9
    }
   ],
   "source": [
    "series = pd.Series(np.random.rand(5), name='random')\n",
    "series"
   ]
  },
  {
   "cell_type": "code",
   "execution_count": 10,
   "metadata": {},
   "outputs": [
    {
     "output_type": "execute_result",
     "data": {
      "text/plain": [
       "'random'"
      ]
     },
     "metadata": {},
     "execution_count": 10
    }
   ],
   "source": [
    "series.name"
   ]
  },
  {
   "cell_type": "code",
   "execution_count": 11,
   "metadata": {},
   "outputs": [
    {
     "output_type": "execute_result",
     "data": {
      "text/plain": [
       "True"
      ]
     },
     "metadata": {},
     "execution_count": 11
    }
   ],
   "source": [
    "series.is_unique"
   ]
  },
  {
   "source": [
    "# Dataframe\n",
    "- Builds upon Series class and contains multiple Series, like a spreadsheet\n",
    "- Attributes\n",
    "    - dtype\n",
    "    - shape (tuple)\n",
    "    - index (Index object)\n",
    "    - columns (Index object)\n",
    "    - values (numpy array)"
   ],
   "cell_type": "markdown",
   "metadata": {}
  },
  {
   "source": [
    "# Methods   \n",
    "Series and Dataframes   \n",
    "- count - count all non-null observations\n",
    "- nunique\n",
    "- sum\n",
    "- mean\n",
    "- median\n",
    "- min \n",
    "- idxmin\n",
    "- max\n",
    "- idmax\n",
    "- abs\n",
    "- std\n",
    "- var\n",
    "- cov\n",
    "- corr\n",
    "- quantile - gets a specific quantile\n",
    "- cumsum\n",
    "- cummin\n",
    "- cummax\n",
    "\n",
    "Series   \n",
    "- unuque\n",
    "- value_counts\n",
    "- mode\n",
    "\n",
    "Index object   \n",
    "- argmax/argmin\n",
    "- contains\n",
    "- equals\n",
    "- isin\n",
    "- max/min\n",
    "- nunique\n",
    "- to_series\n",
    "- unique\n",
    "- value_counts"
   ],
   "cell_type": "markdown",
   "metadata": {}
  },
  {
   "cell_type": "code",
   "execution_count": 15,
   "metadata": {},
   "outputs": [],
   "source": [
    "data = {\n",
    "    'random': np.random.rand(5),\n",
    "    'text': ['hot', 'warm', 'cool', 'cold', None],\n",
    "    'truth': [np.random.choice([True, False]) for _ in range(5)]\n",
    "}\n",
    "\n",
    "index = pd.date_range(end=datetime.date(2019, 4, 21), freq='1D', periods=5, name='date')"
   ]
  },
  {
   "cell_type": "code",
   "execution_count": 17,
   "metadata": {},
   "outputs": [
    {
     "output_type": "execute_result",
     "data": {
      "text/plain": [
       "              random  text  truth\n",
       "date                             \n",
       "2019-04-17  0.771144   hot   True\n",
       "2019-04-18  0.889214  warm  False\n",
       "2019-04-19  0.692337  cool  False\n",
       "2019-04-20  0.065306  cold   True\n",
       "2019-04-21  0.235813  None   True"
      ],
      "text/html": "<div>\n<style scoped>\n    .dataframe tbody tr th:only-of-type {\n        vertical-align: middle;\n    }\n\n    .dataframe tbody tr th {\n        vertical-align: top;\n    }\n\n    .dataframe thead th {\n        text-align: right;\n    }\n</style>\n<table border=\"1\" class=\"dataframe\">\n  <thead>\n    <tr style=\"text-align: right;\">\n      <th></th>\n      <th>random</th>\n      <th>text</th>\n      <th>truth</th>\n    </tr>\n    <tr>\n      <th>date</th>\n      <th></th>\n      <th></th>\n      <th></th>\n    </tr>\n  </thead>\n  <tbody>\n    <tr>\n      <th>2019-04-17</th>\n      <td>0.771144</td>\n      <td>hot</td>\n      <td>True</td>\n    </tr>\n    <tr>\n      <th>2019-04-18</th>\n      <td>0.889214</td>\n      <td>warm</td>\n      <td>False</td>\n    </tr>\n    <tr>\n      <th>2019-04-19</th>\n      <td>0.692337</td>\n      <td>cool</td>\n      <td>False</td>\n    </tr>\n    <tr>\n      <th>2019-04-20</th>\n      <td>0.065306</td>\n      <td>cold</td>\n      <td>True</td>\n    </tr>\n    <tr>\n      <th>2019-04-21</th>\n      <td>0.235813</td>\n      <td>None</td>\n      <td>True</td>\n    </tr>\n  </tbody>\n</table>\n</div>"
     },
     "metadata": {},
     "execution_count": 17
    }
   ],
   "source": [
    "df = pd.DataFrame(data, index)\n",
    "df"
   ]
  },
  {
   "cell_type": "code",
   "execution_count": 21,
   "metadata": {},
   "outputs": [],
   "source": [
    "df = pd.read_csv('data/earthquakes.csv')"
   ]
  },
  {
   "source": [
    "## Inspecting a dataframe"
   ],
   "cell_type": "markdown",
   "metadata": {}
  },
  {
   "cell_type": "code",
   "execution_count": 23,
   "metadata": {},
   "outputs": [
    {
     "output_type": "execute_result",
     "data": {
      "text/plain": [
       "(9332, 26)"
      ]
     },
     "metadata": {},
     "execution_count": 23
    }
   ],
   "source": [
    "df.shape"
   ]
  },
  {
   "cell_type": "code",
   "execution_count": 24,
   "metadata": {},
   "outputs": [
    {
     "output_type": "stream",
     "name": "stdout",
     "text": [
      "<class 'pandas.core.frame.DataFrame'>\nRangeIndex: 9332 entries, 0 to 9331\nData columns (total 26 columns):\n #   Column   Non-Null Count  Dtype  \n---  ------   --------------  -----  \n 0   alert    59 non-null     object \n 1   cdi      329 non-null    float64\n 2   code     9332 non-null   object \n 3   detail   9332 non-null   object \n 4   dmin     6139 non-null   float64\n 5   felt     329 non-null    float64\n 6   gap      6164 non-null   float64\n 7   ids      9332 non-null   object \n 8   mag      9331 non-null   float64\n 9   magType  9331 non-null   object \n 10  mmi      93 non-null     float64\n 11  net      9332 non-null   object \n 12  nst      5364 non-null   float64\n 13  place    9332 non-null   object \n 14  rms      9332 non-null   float64\n 15  sig      9332 non-null   int64  \n 16  sources  9332 non-null   object \n 17  status   9332 non-null   object \n 18  time     9332 non-null   int64  \n 19  title    9332 non-null   object \n 20  tsunami  9332 non-null   int64  \n 21  type     9332 non-null   object \n 22  types    9332 non-null   object \n 23  tz       9331 non-null   float64\n 24  updated  9332 non-null   int64  \n 25  url      9332 non-null   object \ndtypes: float64(9), int64(4), object(13)\nmemory usage: 1.9+ MB\n"
     ]
    }
   ],
   "source": [
    "df.info()"
   ]
  },
  {
   "cell_type": "code",
   "execution_count": 25,
   "metadata": {},
   "outputs": [
    {
     "output_type": "execute_result",
     "data": {
      "text/plain": [
       "  alert  cdi      code                                             detail  \\\n",
       "0   NaN  NaN  37389218  https://earthquake.usgs.gov/fdsnws/event/1/que...   \n",
       "1   NaN  NaN  37389202  https://earthquake.usgs.gov/fdsnws/event/1/que...   \n",
       "2   NaN  4.4  37389194  https://earthquake.usgs.gov/fdsnws/event/1/que...   \n",
       "3   NaN  NaN  37389186  https://earthquake.usgs.gov/fdsnws/event/1/que...   \n",
       "4   NaN  NaN  73096941  https://earthquake.usgs.gov/fdsnws/event/1/que...   \n",
       "\n",
       "       dmin  felt    gap           ids   mag magType  ...  sources     status  \\\n",
       "0  0.008693   NaN   85.0  ,ci37389218,  1.35      ml  ...     ,ci,  automatic   \n",
       "1  0.020030   NaN   79.0  ,ci37389202,  1.29      ml  ...     ,ci,  automatic   \n",
       "2  0.021370  28.0   21.0  ,ci37389194,  3.42      ml  ...     ,ci,  automatic   \n",
       "3  0.026180   NaN   39.0  ,ci37389186,  0.44      ml  ...     ,ci,  automatic   \n",
       "4  0.077990   NaN  192.0  ,nc73096941,  2.16      md  ...     ,nc,  automatic   \n",
       "\n",
       "            time                          title  tsunami        type  \\\n",
       "0  1539475168010  M 1.4 - 9km NE of Aguanga, CA        0  earthquake   \n",
       "1  1539475129610  M 1.3 - 9km NE of Aguanga, CA        0  earthquake   \n",
       "2  1539475062610  M 3.4 - 8km NE of Aguanga, CA        0  earthquake   \n",
       "3  1539474978070  M 0.4 - 9km NE of Aguanga, CA        0  earthquake   \n",
       "4  1539474716050  M 2.2 - 10km NW of Avenal, CA        0  earthquake   \n",
       "\n",
       "                                               types     tz        updated  \\\n",
       "0         ,geoserve,nearby-cities,origin,phase-data, -480.0  1539475395144   \n",
       "1         ,geoserve,nearby-cities,origin,phase-data, -480.0  1539475253925   \n",
       "2  ,dyfi,focal-mechanism,geoserve,nearby-cities,o... -480.0  1539536756176   \n",
       "3         ,geoserve,nearby-cities,origin,phase-data, -480.0  1539475196167   \n",
       "4  ,geoserve,nearby-cities,origin,phase-data,scit... -480.0  1539477547926   \n",
       "\n",
       "                                                 url  \n",
       "0  https://earthquake.usgs.gov/earthquakes/eventp...  \n",
       "1  https://earthquake.usgs.gov/earthquakes/eventp...  \n",
       "2  https://earthquake.usgs.gov/earthquakes/eventp...  \n",
       "3  https://earthquake.usgs.gov/earthquakes/eventp...  \n",
       "4  https://earthquake.usgs.gov/earthquakes/eventp...  \n",
       "\n",
       "[5 rows x 26 columns]"
      ],
      "text/html": "<div>\n<style scoped>\n    .dataframe tbody tr th:only-of-type {\n        vertical-align: middle;\n    }\n\n    .dataframe tbody tr th {\n        vertical-align: top;\n    }\n\n    .dataframe thead th {\n        text-align: right;\n    }\n</style>\n<table border=\"1\" class=\"dataframe\">\n  <thead>\n    <tr style=\"text-align: right;\">\n      <th></th>\n      <th>alert</th>\n      <th>cdi</th>\n      <th>code</th>\n      <th>detail</th>\n      <th>dmin</th>\n      <th>felt</th>\n      <th>gap</th>\n      <th>ids</th>\n      <th>mag</th>\n      <th>magType</th>\n      <th>...</th>\n      <th>sources</th>\n      <th>status</th>\n      <th>time</th>\n      <th>title</th>\n      <th>tsunami</th>\n      <th>type</th>\n      <th>types</th>\n      <th>tz</th>\n      <th>updated</th>\n      <th>url</th>\n    </tr>\n  </thead>\n  <tbody>\n    <tr>\n      <th>0</th>\n      <td>NaN</td>\n      <td>NaN</td>\n      <td>37389218</td>\n      <td>https://earthquake.usgs.gov/fdsnws/event/1/que...</td>\n      <td>0.008693</td>\n      <td>NaN</td>\n      <td>85.0</td>\n      <td>,ci37389218,</td>\n      <td>1.35</td>\n      <td>ml</td>\n      <td>...</td>\n      <td>,ci,</td>\n      <td>automatic</td>\n      <td>1539475168010</td>\n      <td>M 1.4 - 9km NE of Aguanga, CA</td>\n      <td>0</td>\n      <td>earthquake</td>\n      <td>,geoserve,nearby-cities,origin,phase-data,</td>\n      <td>-480.0</td>\n      <td>1539475395144</td>\n      <td>https://earthquake.usgs.gov/earthquakes/eventp...</td>\n    </tr>\n    <tr>\n      <th>1</th>\n      <td>NaN</td>\n      <td>NaN</td>\n      <td>37389202</td>\n      <td>https://earthquake.usgs.gov/fdsnws/event/1/que...</td>\n      <td>0.020030</td>\n      <td>NaN</td>\n      <td>79.0</td>\n      <td>,ci37389202,</td>\n      <td>1.29</td>\n      <td>ml</td>\n      <td>...</td>\n      <td>,ci,</td>\n      <td>automatic</td>\n      <td>1539475129610</td>\n      <td>M 1.3 - 9km NE of Aguanga, CA</td>\n      <td>0</td>\n      <td>earthquake</td>\n      <td>,geoserve,nearby-cities,origin,phase-data,</td>\n      <td>-480.0</td>\n      <td>1539475253925</td>\n      <td>https://earthquake.usgs.gov/earthquakes/eventp...</td>\n    </tr>\n    <tr>\n      <th>2</th>\n      <td>NaN</td>\n      <td>4.4</td>\n      <td>37389194</td>\n      <td>https://earthquake.usgs.gov/fdsnws/event/1/que...</td>\n      <td>0.021370</td>\n      <td>28.0</td>\n      <td>21.0</td>\n      <td>,ci37389194,</td>\n      <td>3.42</td>\n      <td>ml</td>\n      <td>...</td>\n      <td>,ci,</td>\n      <td>automatic</td>\n      <td>1539475062610</td>\n      <td>M 3.4 - 8km NE of Aguanga, CA</td>\n      <td>0</td>\n      <td>earthquake</td>\n      <td>,dyfi,focal-mechanism,geoserve,nearby-cities,o...</td>\n      <td>-480.0</td>\n      <td>1539536756176</td>\n      <td>https://earthquake.usgs.gov/earthquakes/eventp...</td>\n    </tr>\n    <tr>\n      <th>3</th>\n      <td>NaN</td>\n      <td>NaN</td>\n      <td>37389186</td>\n      <td>https://earthquake.usgs.gov/fdsnws/event/1/que...</td>\n      <td>0.026180</td>\n      <td>NaN</td>\n      <td>39.0</td>\n      <td>,ci37389186,</td>\n      <td>0.44</td>\n      <td>ml</td>\n      <td>...</td>\n      <td>,ci,</td>\n      <td>automatic</td>\n      <td>1539474978070</td>\n      <td>M 0.4 - 9km NE of Aguanga, CA</td>\n      <td>0</td>\n      <td>earthquake</td>\n      <td>,geoserve,nearby-cities,origin,phase-data,</td>\n      <td>-480.0</td>\n      <td>1539475196167</td>\n      <td>https://earthquake.usgs.gov/earthquakes/eventp...</td>\n    </tr>\n    <tr>\n      <th>4</th>\n      <td>NaN</td>\n      <td>NaN</td>\n      <td>73096941</td>\n      <td>https://earthquake.usgs.gov/fdsnws/event/1/que...</td>\n      <td>0.077990</td>\n      <td>NaN</td>\n      <td>192.0</td>\n      <td>,nc73096941,</td>\n      <td>2.16</td>\n      <td>md</td>\n      <td>...</td>\n      <td>,nc,</td>\n      <td>automatic</td>\n      <td>1539474716050</td>\n      <td>M 2.2 - 10km NW of Avenal, CA</td>\n      <td>0</td>\n      <td>earthquake</td>\n      <td>,geoserve,nearby-cities,origin,phase-data,scit...</td>\n      <td>-480.0</td>\n      <td>1539477547926</td>\n      <td>https://earthquake.usgs.gov/earthquakes/eventp...</td>\n    </tr>\n  </tbody>\n</table>\n<p>5 rows × 26 columns</p>\n</div>"
     },
     "metadata": {},
     "execution_count": 25
    }
   ],
   "source": [
    "df.head()"
   ]
  },
  {
   "cell_type": "code",
   "execution_count": 26,
   "metadata": {},
   "outputs": [
    {
     "output_type": "execute_result",
     "data": {
      "text/plain": [
       "     alert  cdi        code  \\\n",
       "9327   NaN  NaN    73086771   \n",
       "9328   NaN  NaN    38063967   \n",
       "9329   NaN  NaN  2018261000   \n",
       "9330   NaN  NaN    38063959   \n",
       "9331   NaN  NaN    38063935   \n",
       "\n",
       "                                                 detail     dmin  felt    gap  \\\n",
       "9327  https://earthquake.usgs.gov/fdsnws/event/1/que...  0.01806   NaN  185.0   \n",
       "9328  https://earthquake.usgs.gov/fdsnws/event/1/que...  0.03041   NaN   50.0   \n",
       "9329  https://earthquake.usgs.gov/fdsnws/event/1/que...  0.45260   NaN  276.0   \n",
       "9330  https://earthquake.usgs.gov/fdsnws/event/1/que...  0.01865   NaN   61.0   \n",
       "9331  https://earthquake.usgs.gov/fdsnws/event/1/que...  0.01698   NaN   39.0   \n",
       "\n",
       "                 ids   mag magType  ...  sources    status           time  \\\n",
       "9327    ,nc73086771,  0.62      md  ...     ,nc,  reviewed  1537230228060   \n",
       "9328    ,ci38063967,  1.00      ml  ...     ,ci,  reviewed  1537230135130   \n",
       "9329  ,pr2018261000,  2.40      md  ...     ,pr,  reviewed  1537229908180   \n",
       "9330    ,ci38063959,  1.10      ml  ...     ,ci,  reviewed  1537229545350   \n",
       "9331    ,ci38063935,  0.66      ml  ...     ,ci,  reviewed  1537228864470   \n",
       "\n",
       "                                         title  tsunami        type  \\\n",
       "9327      M 0.6 - 9km ENE of Mammoth Lakes, CA        0  earthquake   \n",
       "9328               M 1.0 - 3km W of Julian, CA        0  earthquake   \n",
       "9329  M 2.4 - 35km NNE of Hatillo, Puerto Rico        0  earthquake   \n",
       "9330             M 1.1 - 9km NE of Aguanga, CA        0  earthquake   \n",
       "9331             M 0.7 - 9km NE of Aguanga, CA        0  earthquake   \n",
       "\n",
       "                                                  types     tz        updated  \\\n",
       "9327         ,geoserve,nearby-cities,origin,phase-data, -480.0  1537285598315   \n",
       "9328  ,geoserve,nearby-cities,origin,phase-data,scit... -480.0  1537276800970   \n",
       "9329                       ,geoserve,origin,phase-data, -240.0  1537243777410   \n",
       "9330  ,focal-mechanism,geoserve,nearby-cities,origin... -480.0  1537230211640   \n",
       "9331  ,focal-mechanism,geoserve,nearby-cities,origin... -480.0  1537305830770   \n",
       "\n",
       "                                                    url  \n",
       "9327  https://earthquake.usgs.gov/earthquakes/eventp...  \n",
       "9328  https://earthquake.usgs.gov/earthquakes/eventp...  \n",
       "9329  https://earthquake.usgs.gov/earthquakes/eventp...  \n",
       "9330  https://earthquake.usgs.gov/earthquakes/eventp...  \n",
       "9331  https://earthquake.usgs.gov/earthquakes/eventp...  \n",
       "\n",
       "[5 rows x 26 columns]"
      ],
      "text/html": "<div>\n<style scoped>\n    .dataframe tbody tr th:only-of-type {\n        vertical-align: middle;\n    }\n\n    .dataframe tbody tr th {\n        vertical-align: top;\n    }\n\n    .dataframe thead th {\n        text-align: right;\n    }\n</style>\n<table border=\"1\" class=\"dataframe\">\n  <thead>\n    <tr style=\"text-align: right;\">\n      <th></th>\n      <th>alert</th>\n      <th>cdi</th>\n      <th>code</th>\n      <th>detail</th>\n      <th>dmin</th>\n      <th>felt</th>\n      <th>gap</th>\n      <th>ids</th>\n      <th>mag</th>\n      <th>magType</th>\n      <th>...</th>\n      <th>sources</th>\n      <th>status</th>\n      <th>time</th>\n      <th>title</th>\n      <th>tsunami</th>\n      <th>type</th>\n      <th>types</th>\n      <th>tz</th>\n      <th>updated</th>\n      <th>url</th>\n    </tr>\n  </thead>\n  <tbody>\n    <tr>\n      <th>9327</th>\n      <td>NaN</td>\n      <td>NaN</td>\n      <td>73086771</td>\n      <td>https://earthquake.usgs.gov/fdsnws/event/1/que...</td>\n      <td>0.01806</td>\n      <td>NaN</td>\n      <td>185.0</td>\n      <td>,nc73086771,</td>\n      <td>0.62</td>\n      <td>md</td>\n      <td>...</td>\n      <td>,nc,</td>\n      <td>reviewed</td>\n      <td>1537230228060</td>\n      <td>M 0.6 - 9km ENE of Mammoth Lakes, CA</td>\n      <td>0</td>\n      <td>earthquake</td>\n      <td>,geoserve,nearby-cities,origin,phase-data,</td>\n      <td>-480.0</td>\n      <td>1537285598315</td>\n      <td>https://earthquake.usgs.gov/earthquakes/eventp...</td>\n    </tr>\n    <tr>\n      <th>9328</th>\n      <td>NaN</td>\n      <td>NaN</td>\n      <td>38063967</td>\n      <td>https://earthquake.usgs.gov/fdsnws/event/1/que...</td>\n      <td>0.03041</td>\n      <td>NaN</td>\n      <td>50.0</td>\n      <td>,ci38063967,</td>\n      <td>1.00</td>\n      <td>ml</td>\n      <td>...</td>\n      <td>,ci,</td>\n      <td>reviewed</td>\n      <td>1537230135130</td>\n      <td>M 1.0 - 3km W of Julian, CA</td>\n      <td>0</td>\n      <td>earthquake</td>\n      <td>,geoserve,nearby-cities,origin,phase-data,scit...</td>\n      <td>-480.0</td>\n      <td>1537276800970</td>\n      <td>https://earthquake.usgs.gov/earthquakes/eventp...</td>\n    </tr>\n    <tr>\n      <th>9329</th>\n      <td>NaN</td>\n      <td>NaN</td>\n      <td>2018261000</td>\n      <td>https://earthquake.usgs.gov/fdsnws/event/1/que...</td>\n      <td>0.45260</td>\n      <td>NaN</td>\n      <td>276.0</td>\n      <td>,pr2018261000,</td>\n      <td>2.40</td>\n      <td>md</td>\n      <td>...</td>\n      <td>,pr,</td>\n      <td>reviewed</td>\n      <td>1537229908180</td>\n      <td>M 2.4 - 35km NNE of Hatillo, Puerto Rico</td>\n      <td>0</td>\n      <td>earthquake</td>\n      <td>,geoserve,origin,phase-data,</td>\n      <td>-240.0</td>\n      <td>1537243777410</td>\n      <td>https://earthquake.usgs.gov/earthquakes/eventp...</td>\n    </tr>\n    <tr>\n      <th>9330</th>\n      <td>NaN</td>\n      <td>NaN</td>\n      <td>38063959</td>\n      <td>https://earthquake.usgs.gov/fdsnws/event/1/que...</td>\n      <td>0.01865</td>\n      <td>NaN</td>\n      <td>61.0</td>\n      <td>,ci38063959,</td>\n      <td>1.10</td>\n      <td>ml</td>\n      <td>...</td>\n      <td>,ci,</td>\n      <td>reviewed</td>\n      <td>1537229545350</td>\n      <td>M 1.1 - 9km NE of Aguanga, CA</td>\n      <td>0</td>\n      <td>earthquake</td>\n      <td>,focal-mechanism,geoserve,nearby-cities,origin...</td>\n      <td>-480.0</td>\n      <td>1537230211640</td>\n      <td>https://earthquake.usgs.gov/earthquakes/eventp...</td>\n    </tr>\n    <tr>\n      <th>9331</th>\n      <td>NaN</td>\n      <td>NaN</td>\n      <td>38063935</td>\n      <td>https://earthquake.usgs.gov/fdsnws/event/1/que...</td>\n      <td>0.01698</td>\n      <td>NaN</td>\n      <td>39.0</td>\n      <td>,ci38063935,</td>\n      <td>0.66</td>\n      <td>ml</td>\n      <td>...</td>\n      <td>,ci,</td>\n      <td>reviewed</td>\n      <td>1537228864470</td>\n      <td>M 0.7 - 9km NE of Aguanga, CA</td>\n      <td>0</td>\n      <td>earthquake</td>\n      <td>,focal-mechanism,geoserve,nearby-cities,origin...</td>\n      <td>-480.0</td>\n      <td>1537305830770</td>\n      <td>https://earthquake.usgs.gov/earthquakes/eventp...</td>\n    </tr>\n  </tbody>\n</table>\n<p>5 rows × 26 columns</p>\n</div>"
     },
     "metadata": {},
     "execution_count": 26
    }
   ],
   "source": [
    "df.tail()"
   ]
  },
  {
   "cell_type": "code",
   "execution_count": 27,
   "metadata": {},
   "outputs": [
    {
     "output_type": "execute_result",
     "data": {
      "text/plain": [
       "              cdi         dmin        felt          gap          mag  \\\n",
       "count  329.000000  6139.000000  329.000000  6164.000000  9331.000000   \n",
       "mean     2.754711     0.544925   12.310030   121.506588     1.497345   \n",
       "std      1.010637     2.214305   48.954944    72.962363     1.203347   \n",
       "min      0.000000     0.000648    0.000000    12.000000    -1.260000   \n",
       "25%      2.000000     0.020425    1.000000    66.142500     0.720000   \n",
       "50%      2.700000     0.059050    2.000000   105.000000     1.300000   \n",
       "75%      3.300000     0.177250    5.000000   159.000000     1.900000   \n",
       "max      8.400000    53.737000  580.000000   355.910000     7.500000   \n",
       "\n",
       "             mmi          nst          rms          sig          time  \\\n",
       "count  93.000000  5364.000000  9332.000000  9332.000000  9.332000e+03   \n",
       "mean    3.651398    19.053878     0.362122    56.899914  1.538284e+12   \n",
       "std     1.790523    15.492315     0.317784    91.872163  6.080306e+08   \n",
       "min     0.000000     0.000000     0.000000     0.000000  1.537229e+12   \n",
       "25%     2.680000     8.000000     0.119675     8.000000  1.537793e+12   \n",
       "50%     3.720000    15.000000     0.210000    26.000000  1.538245e+12   \n",
       "75%     4.570000    25.000000     0.590000    56.000000  1.538766e+12   \n",
       "max     9.120000   172.000000     1.910000  2015.000000  1.539475e+12   \n",
       "\n",
       "           tsunami           tz       updated  \n",
       "count  9332.000000  9331.000000  9.332000e+03  \n",
       "mean      0.006537  -451.990140  1.538537e+12  \n",
       "std       0.080589   231.752571  6.564135e+08  \n",
       "min       0.000000  -720.000000  1.537230e+12  \n",
       "25%       0.000000  -540.000000  1.537996e+12  \n",
       "50%       0.000000  -480.000000  1.538621e+12  \n",
       "75%       0.000000  -480.000000  1.539110e+12  \n",
       "max       1.000000   720.000000  1.539537e+12  "
      ],
      "text/html": "<div>\n<style scoped>\n    .dataframe tbody tr th:only-of-type {\n        vertical-align: middle;\n    }\n\n    .dataframe tbody tr th {\n        vertical-align: top;\n    }\n\n    .dataframe thead th {\n        text-align: right;\n    }\n</style>\n<table border=\"1\" class=\"dataframe\">\n  <thead>\n    <tr style=\"text-align: right;\">\n      <th></th>\n      <th>cdi</th>\n      <th>dmin</th>\n      <th>felt</th>\n      <th>gap</th>\n      <th>mag</th>\n      <th>mmi</th>\n      <th>nst</th>\n      <th>rms</th>\n      <th>sig</th>\n      <th>time</th>\n      <th>tsunami</th>\n      <th>tz</th>\n      <th>updated</th>\n    </tr>\n  </thead>\n  <tbody>\n    <tr>\n      <th>count</th>\n      <td>329.000000</td>\n      <td>6139.000000</td>\n      <td>329.000000</td>\n      <td>6164.000000</td>\n      <td>9331.000000</td>\n      <td>93.000000</td>\n      <td>5364.000000</td>\n      <td>9332.000000</td>\n      <td>9332.000000</td>\n      <td>9.332000e+03</td>\n      <td>9332.000000</td>\n      <td>9331.000000</td>\n      <td>9.332000e+03</td>\n    </tr>\n    <tr>\n      <th>mean</th>\n      <td>2.754711</td>\n      <td>0.544925</td>\n      <td>12.310030</td>\n      <td>121.506588</td>\n      <td>1.497345</td>\n      <td>3.651398</td>\n      <td>19.053878</td>\n      <td>0.362122</td>\n      <td>56.899914</td>\n      <td>1.538284e+12</td>\n      <td>0.006537</td>\n      <td>-451.990140</td>\n      <td>1.538537e+12</td>\n    </tr>\n    <tr>\n      <th>std</th>\n      <td>1.010637</td>\n      <td>2.214305</td>\n      <td>48.954944</td>\n      <td>72.962363</td>\n      <td>1.203347</td>\n      <td>1.790523</td>\n      <td>15.492315</td>\n      <td>0.317784</td>\n      <td>91.872163</td>\n      <td>6.080306e+08</td>\n      <td>0.080589</td>\n      <td>231.752571</td>\n      <td>6.564135e+08</td>\n    </tr>\n    <tr>\n      <th>min</th>\n      <td>0.000000</td>\n      <td>0.000648</td>\n      <td>0.000000</td>\n      <td>12.000000</td>\n      <td>-1.260000</td>\n      <td>0.000000</td>\n      <td>0.000000</td>\n      <td>0.000000</td>\n      <td>0.000000</td>\n      <td>1.537229e+12</td>\n      <td>0.000000</td>\n      <td>-720.000000</td>\n      <td>1.537230e+12</td>\n    </tr>\n    <tr>\n      <th>25%</th>\n      <td>2.000000</td>\n      <td>0.020425</td>\n      <td>1.000000</td>\n      <td>66.142500</td>\n      <td>0.720000</td>\n      <td>2.680000</td>\n      <td>8.000000</td>\n      <td>0.119675</td>\n      <td>8.000000</td>\n      <td>1.537793e+12</td>\n      <td>0.000000</td>\n      <td>-540.000000</td>\n      <td>1.537996e+12</td>\n    </tr>\n    <tr>\n      <th>50%</th>\n      <td>2.700000</td>\n      <td>0.059050</td>\n      <td>2.000000</td>\n      <td>105.000000</td>\n      <td>1.300000</td>\n      <td>3.720000</td>\n      <td>15.000000</td>\n      <td>0.210000</td>\n      <td>26.000000</td>\n      <td>1.538245e+12</td>\n      <td>0.000000</td>\n      <td>-480.000000</td>\n      <td>1.538621e+12</td>\n    </tr>\n    <tr>\n      <th>75%</th>\n      <td>3.300000</td>\n      <td>0.177250</td>\n      <td>5.000000</td>\n      <td>159.000000</td>\n      <td>1.900000</td>\n      <td>4.570000</td>\n      <td>25.000000</td>\n      <td>0.590000</td>\n      <td>56.000000</td>\n      <td>1.538766e+12</td>\n      <td>0.000000</td>\n      <td>-480.000000</td>\n      <td>1.539110e+12</td>\n    </tr>\n    <tr>\n      <th>max</th>\n      <td>8.400000</td>\n      <td>53.737000</td>\n      <td>580.000000</td>\n      <td>355.910000</td>\n      <td>7.500000</td>\n      <td>9.120000</td>\n      <td>172.000000</td>\n      <td>1.910000</td>\n      <td>2015.000000</td>\n      <td>1.539475e+12</td>\n      <td>1.000000</td>\n      <td>720.000000</td>\n      <td>1.539537e+12</td>\n    </tr>\n  </tbody>\n</table>\n</div>"
     },
     "metadata": {},
     "execution_count": 27
    }
   ],
   "source": [
    "df.describe()"
   ]
  },
  {
   "cell_type": "code",
   "execution_count": 28,
   "metadata": {},
   "outputs": [
    {
     "output_type": "execute_result",
     "data": {
      "text/plain": [
       "        alert      code                                             detail  \\\n",
       "count      59      9332                                               9332   \n",
       "unique      2      9332                                               9332   \n",
       "top     green  80311464  https://earthquake.usgs.gov/fdsnws/event/1/que...   \n",
       "freq       58         1                                                  1   \n",
       "\n",
       "                 ids magType   net                   place sources    status  \\\n",
       "count           9332    9331  9332                    9332    9332      9332   \n",
       "unique          9332      10    14                    5433      52         2   \n",
       "top     ,nc73090561,      ml    ak  10km NE of Aguanga, CA    ,ak,  reviewed   \n",
       "freq               1    6803  3166                     306    2981      7797   \n",
       "\n",
       "                                 title        type  \\\n",
       "count                             9332        9332   \n",
       "unique                            7807           5   \n",
       "top     M 0.4 - 10km NE of Aguanga, CA  earthquake   \n",
       "freq                                55        9081   \n",
       "\n",
       "                               types  \\\n",
       "count                           9332   \n",
       "unique                            42   \n",
       "top     ,geoserve,origin,phase-data,   \n",
       "freq                            5301   \n",
       "\n",
       "                                                      url  \n",
       "count                                                9332  \n",
       "unique                                               9332  \n",
       "top     https://earthquake.usgs.gov/earthquakes/eventp...  \n",
       "freq                                                    1  "
      ],
      "text/html": "<div>\n<style scoped>\n    .dataframe tbody tr th:only-of-type {\n        vertical-align: middle;\n    }\n\n    .dataframe tbody tr th {\n        vertical-align: top;\n    }\n\n    .dataframe thead th {\n        text-align: right;\n    }\n</style>\n<table border=\"1\" class=\"dataframe\">\n  <thead>\n    <tr style=\"text-align: right;\">\n      <th></th>\n      <th>alert</th>\n      <th>code</th>\n      <th>detail</th>\n      <th>ids</th>\n      <th>magType</th>\n      <th>net</th>\n      <th>place</th>\n      <th>sources</th>\n      <th>status</th>\n      <th>title</th>\n      <th>type</th>\n      <th>types</th>\n      <th>url</th>\n    </tr>\n  </thead>\n  <tbody>\n    <tr>\n      <th>count</th>\n      <td>59</td>\n      <td>9332</td>\n      <td>9332</td>\n      <td>9332</td>\n      <td>9331</td>\n      <td>9332</td>\n      <td>9332</td>\n      <td>9332</td>\n      <td>9332</td>\n      <td>9332</td>\n      <td>9332</td>\n      <td>9332</td>\n      <td>9332</td>\n    </tr>\n    <tr>\n      <th>unique</th>\n      <td>2</td>\n      <td>9332</td>\n      <td>9332</td>\n      <td>9332</td>\n      <td>10</td>\n      <td>14</td>\n      <td>5433</td>\n      <td>52</td>\n      <td>2</td>\n      <td>7807</td>\n      <td>5</td>\n      <td>42</td>\n      <td>9332</td>\n    </tr>\n    <tr>\n      <th>top</th>\n      <td>green</td>\n      <td>80311464</td>\n      <td>https://earthquake.usgs.gov/fdsnws/event/1/que...</td>\n      <td>,nc73090561,</td>\n      <td>ml</td>\n      <td>ak</td>\n      <td>10km NE of Aguanga, CA</td>\n      <td>,ak,</td>\n      <td>reviewed</td>\n      <td>M 0.4 - 10km NE of Aguanga, CA</td>\n      <td>earthquake</td>\n      <td>,geoserve,origin,phase-data,</td>\n      <td>https://earthquake.usgs.gov/earthquakes/eventp...</td>\n    </tr>\n    <tr>\n      <th>freq</th>\n      <td>58</td>\n      <td>1</td>\n      <td>1</td>\n      <td>1</td>\n      <td>6803</td>\n      <td>3166</td>\n      <td>306</td>\n      <td>2981</td>\n      <td>7797</td>\n      <td>55</td>\n      <td>9081</td>\n      <td>5301</td>\n      <td>1</td>\n    </tr>\n  </tbody>\n</table>\n</div>"
     },
     "metadata": {},
     "execution_count": 28
    }
   ],
   "source": [
    "df.describe(include=np.object)"
   ]
  },
  {
   "source": [
    "# Subsetting"
   ],
   "cell_type": "markdown",
   "metadata": {}
  },
  {
   "cell_type": "code",
   "execution_count": 29,
   "metadata": {},
   "outputs": [
    {
     "output_type": "execute_result",
     "data": {
      "text/plain": [
       "0       1.35\n",
       "1       1.29\n",
       "2       3.42\n",
       "3       0.44\n",
       "4       2.16\n",
       "        ... \n",
       "9327    0.62\n",
       "9328    1.00\n",
       "9329    2.40\n",
       "9330    1.10\n",
       "9331    0.66\n",
       "Name: mag, Length: 9332, dtype: float64"
      ]
     },
     "metadata": {},
     "execution_count": 29
    }
   ],
   "source": [
    "df['mag']"
   ]
  },
  {
   "cell_type": "code",
   "execution_count": 30,
   "metadata": {},
   "outputs": [
    {
     "output_type": "execute_result",
     "data": {
      "text/plain": [
       "                                         title           time   mag magType\n",
       "0                M 1.4 - 9km NE of Aguanga, CA  1539475168010  1.35      ml\n",
       "1                M 1.3 - 9km NE of Aguanga, CA  1539475129610  1.29      ml\n",
       "2                M 3.4 - 8km NE of Aguanga, CA  1539475062610  3.42      ml\n",
       "3                M 0.4 - 9km NE of Aguanga, CA  1539474978070  0.44      ml\n",
       "4                M 2.2 - 10km NW of Avenal, CA  1539474716050  2.16      md\n",
       "...                                        ...            ...   ...     ...\n",
       "9327      M 0.6 - 9km ENE of Mammoth Lakes, CA  1537230228060  0.62      md\n",
       "9328               M 1.0 - 3km W of Julian, CA  1537230135130  1.00      ml\n",
       "9329  M 2.4 - 35km NNE of Hatillo, Puerto Rico  1537229908180  2.40      md\n",
       "9330             M 1.1 - 9km NE of Aguanga, CA  1537229545350  1.10      ml\n",
       "9331             M 0.7 - 9km NE of Aguanga, CA  1537228864470  0.66      ml\n",
       "\n",
       "[9332 rows x 4 columns]"
      ],
      "text/html": "<div>\n<style scoped>\n    .dataframe tbody tr th:only-of-type {\n        vertical-align: middle;\n    }\n\n    .dataframe tbody tr th {\n        vertical-align: top;\n    }\n\n    .dataframe thead th {\n        text-align: right;\n    }\n</style>\n<table border=\"1\" class=\"dataframe\">\n  <thead>\n    <tr style=\"text-align: right;\">\n      <th></th>\n      <th>title</th>\n      <th>time</th>\n      <th>mag</th>\n      <th>magType</th>\n    </tr>\n  </thead>\n  <tbody>\n    <tr>\n      <th>0</th>\n      <td>M 1.4 - 9km NE of Aguanga, CA</td>\n      <td>1539475168010</td>\n      <td>1.35</td>\n      <td>ml</td>\n    </tr>\n    <tr>\n      <th>1</th>\n      <td>M 1.3 - 9km NE of Aguanga, CA</td>\n      <td>1539475129610</td>\n      <td>1.29</td>\n      <td>ml</td>\n    </tr>\n    <tr>\n      <th>2</th>\n      <td>M 3.4 - 8km NE of Aguanga, CA</td>\n      <td>1539475062610</td>\n      <td>3.42</td>\n      <td>ml</td>\n    </tr>\n    <tr>\n      <th>3</th>\n      <td>M 0.4 - 9km NE of Aguanga, CA</td>\n      <td>1539474978070</td>\n      <td>0.44</td>\n      <td>ml</td>\n    </tr>\n    <tr>\n      <th>4</th>\n      <td>M 2.2 - 10km NW of Avenal, CA</td>\n      <td>1539474716050</td>\n      <td>2.16</td>\n      <td>md</td>\n    </tr>\n    <tr>\n      <th>...</th>\n      <td>...</td>\n      <td>...</td>\n      <td>...</td>\n      <td>...</td>\n    </tr>\n    <tr>\n      <th>9327</th>\n      <td>M 0.6 - 9km ENE of Mammoth Lakes, CA</td>\n      <td>1537230228060</td>\n      <td>0.62</td>\n      <td>md</td>\n    </tr>\n    <tr>\n      <th>9328</th>\n      <td>M 1.0 - 3km W of Julian, CA</td>\n      <td>1537230135130</td>\n      <td>1.00</td>\n      <td>ml</td>\n    </tr>\n    <tr>\n      <th>9329</th>\n      <td>M 2.4 - 35km NNE of Hatillo, Puerto Rico</td>\n      <td>1537229908180</td>\n      <td>2.40</td>\n      <td>md</td>\n    </tr>\n    <tr>\n      <th>9330</th>\n      <td>M 1.1 - 9km NE of Aguanga, CA</td>\n      <td>1537229545350</td>\n      <td>1.10</td>\n      <td>ml</td>\n    </tr>\n    <tr>\n      <th>9331</th>\n      <td>M 0.7 - 9km NE of Aguanga, CA</td>\n      <td>1537228864470</td>\n      <td>0.66</td>\n      <td>ml</td>\n    </tr>\n  </tbody>\n</table>\n<p>9332 rows × 4 columns</p>\n</div>"
     },
     "metadata": {},
     "execution_count": 30
    }
   ],
   "source": [
    "df[['title', 'time'] + [col for col in df.columns if col.startswith('mag')]]"
   ]
  },
  {
   "cell_type": "code",
   "execution_count": 31,
   "metadata": {},
   "outputs": [
    {
     "output_type": "execute_result",
     "data": {
      "text/plain": [
       "0.5"
      ]
     },
     "metadata": {},
     "execution_count": 31
    }
   ],
   "source": [
    "df.at[10, 'mag']"
   ]
  },
  {
   "source": [
    "# Filtering"
   ],
   "cell_type": "markdown",
   "metadata": {}
  },
  {
   "cell_type": "code",
   "execution_count": 32,
   "metadata": {},
   "outputs": [
    {
     "output_type": "execute_result",
     "data": {
      "text/plain": [
       "      alert  cdi      code                                             detail  \\\n",
       "837   green  4.1  1000haa3  https://earthquake.usgs.gov/fdsnws/event/1/que...   \n",
       "5263    red  8.4  1000h3p4  https://earthquake.usgs.gov/fdsnws/event/1/que...   \n",
       "\n",
       "       dmin  felt   gap                                 ids  mag magType  ...  \\\n",
       "837   1.763   3.0  14.0  ,us1000haa3,pt18283003,at00pgehsk,  7.0     mww  ...   \n",
       "5263  1.589  18.0  27.0             ,us1000h3p4,us1000h4p4,  7.5     mww  ...   \n",
       "\n",
       "         sources    status           time  \\\n",
       "837   ,us,pt,at,  reviewed  1539204500290   \n",
       "5263     ,us,us,  reviewed  1538128963480   \n",
       "\n",
       "                                           title  tsunami        type  \\\n",
       "837   M 7.0 - 117km E of Kimbe, Papua New Guinea        1  earthquake   \n",
       "5263           M 7.5 - 78km N of Palu, Indonesia        1  earthquake   \n",
       "\n",
       "                                                  types     tz        updated  \\\n",
       "837   ,dyfi,finite-fault,general-text,geoserve,groun...  600.0  1539378744253   \n",
       "5263  ,dyfi,finite-fault,general-text,geoserve,groun...  480.0  1539123134531   \n",
       "\n",
       "                                                    url  \n",
       "837   https://earthquake.usgs.gov/earthquakes/eventp...  \n",
       "5263  https://earthquake.usgs.gov/earthquakes/eventp...  \n",
       "\n",
       "[2 rows x 26 columns]"
      ],
      "text/html": "<div>\n<style scoped>\n    .dataframe tbody tr th:only-of-type {\n        vertical-align: middle;\n    }\n\n    .dataframe tbody tr th {\n        vertical-align: top;\n    }\n\n    .dataframe thead th {\n        text-align: right;\n    }\n</style>\n<table border=\"1\" class=\"dataframe\">\n  <thead>\n    <tr style=\"text-align: right;\">\n      <th></th>\n      <th>alert</th>\n      <th>cdi</th>\n      <th>code</th>\n      <th>detail</th>\n      <th>dmin</th>\n      <th>felt</th>\n      <th>gap</th>\n      <th>ids</th>\n      <th>mag</th>\n      <th>magType</th>\n      <th>...</th>\n      <th>sources</th>\n      <th>status</th>\n      <th>time</th>\n      <th>title</th>\n      <th>tsunami</th>\n      <th>type</th>\n      <th>types</th>\n      <th>tz</th>\n      <th>updated</th>\n      <th>url</th>\n    </tr>\n  </thead>\n  <tbody>\n    <tr>\n      <th>837</th>\n      <td>green</td>\n      <td>4.1</td>\n      <td>1000haa3</td>\n      <td>https://earthquake.usgs.gov/fdsnws/event/1/que...</td>\n      <td>1.763</td>\n      <td>3.0</td>\n      <td>14.0</td>\n      <td>,us1000haa3,pt18283003,at00pgehsk,</td>\n      <td>7.0</td>\n      <td>mww</td>\n      <td>...</td>\n      <td>,us,pt,at,</td>\n      <td>reviewed</td>\n      <td>1539204500290</td>\n      <td>M 7.0 - 117km E of Kimbe, Papua New Guinea</td>\n      <td>1</td>\n      <td>earthquake</td>\n      <td>,dyfi,finite-fault,general-text,geoserve,groun...</td>\n      <td>600.0</td>\n      <td>1539378744253</td>\n      <td>https://earthquake.usgs.gov/earthquakes/eventp...</td>\n    </tr>\n    <tr>\n      <th>5263</th>\n      <td>red</td>\n      <td>8.4</td>\n      <td>1000h3p4</td>\n      <td>https://earthquake.usgs.gov/fdsnws/event/1/que...</td>\n      <td>1.589</td>\n      <td>18.0</td>\n      <td>27.0</td>\n      <td>,us1000h3p4,us1000h4p4,</td>\n      <td>7.5</td>\n      <td>mww</td>\n      <td>...</td>\n      <td>,us,us,</td>\n      <td>reviewed</td>\n      <td>1538128963480</td>\n      <td>M 7.5 - 78km N of Palu, Indonesia</td>\n      <td>1</td>\n      <td>earthquake</td>\n      <td>,dyfi,finite-fault,general-text,geoserve,groun...</td>\n      <td>480.0</td>\n      <td>1539123134531</td>\n      <td>https://earthquake.usgs.gov/earthquakes/eventp...</td>\n    </tr>\n  </tbody>\n</table>\n<p>2 rows × 26 columns</p>\n</div>"
     },
     "metadata": {},
     "execution_count": 32
    }
   ],
   "source": [
    "df[df['mag'] >= 7.0]"
   ]
  },
  {
   "source": [
    "# Add and delete data"
   ],
   "cell_type": "markdown",
   "metadata": {}
  },
  {
   "cell_type": "code",
   "execution_count": 34,
   "metadata": {},
   "outputs": [
    {
     "output_type": "execute_result",
     "data": {
      "text/plain": [
       "  alert  cdi      code                                             detail  \\\n",
       "0   NaN  NaN  37389218  https://earthquake.usgs.gov/fdsnws/event/1/que...   \n",
       "1   NaN  NaN  37389202  https://earthquake.usgs.gov/fdsnws/event/1/que...   \n",
       "2   NaN  4.4  37389194  https://earthquake.usgs.gov/fdsnws/event/1/que...   \n",
       "3   NaN  NaN  37389186  https://earthquake.usgs.gov/fdsnws/event/1/que...   \n",
       "4   NaN  NaN  73096941  https://earthquake.usgs.gov/fdsnws/event/1/que...   \n",
       "\n",
       "       dmin  felt    gap           ids   mag magType  ...     status  \\\n",
       "0  0.008693   NaN   85.0  ,ci37389218,  1.35      ml  ...  automatic   \n",
       "1  0.020030   NaN   79.0  ,ci37389202,  1.29      ml  ...  automatic   \n",
       "2  0.021370  28.0   21.0  ,ci37389194,  3.42      ml  ...  automatic   \n",
       "3  0.026180   NaN   39.0  ,ci37389186,  0.44      ml  ...  automatic   \n",
       "4  0.077990   NaN  192.0  ,nc73096941,  2.16      md  ...  automatic   \n",
       "\n",
       "            time                          title tsunami        type  \\\n",
       "0  1539475168010  M 1.4 - 9km NE of Aguanga, CA       0  earthquake   \n",
       "1  1539475129610  M 1.3 - 9km NE of Aguanga, CA       0  earthquake   \n",
       "2  1539475062610  M 3.4 - 8km NE of Aguanga, CA       0  earthquake   \n",
       "3  1539474978070  M 0.4 - 9km NE of Aguanga, CA       0  earthquake   \n",
       "4  1539474716050  M 2.2 - 10km NW of Avenal, CA       0  earthquake   \n",
       "\n",
       "                                               types     tz        updated  \\\n",
       "0         ,geoserve,nearby-cities,origin,phase-data, -480.0  1539475395144   \n",
       "1         ,geoserve,nearby-cities,origin,phase-data, -480.0  1539475253925   \n",
       "2  ,dyfi,focal-mechanism,geoserve,nearby-cities,o... -480.0  1539536756176   \n",
       "3         ,geoserve,nearby-cities,origin,phase-data, -480.0  1539475196167   \n",
       "4  ,geoserve,nearby-cities,origin,phase-data,scit... -480.0  1539477547926   \n",
       "\n",
       "                                                 url one  \n",
       "0  https://earthquake.usgs.gov/earthquakes/eventp...   1  \n",
       "1  https://earthquake.usgs.gov/earthquakes/eventp...   1  \n",
       "2  https://earthquake.usgs.gov/earthquakes/eventp...   1  \n",
       "3  https://earthquake.usgs.gov/earthquakes/eventp...   1  \n",
       "4  https://earthquake.usgs.gov/earthquakes/eventp...   1  \n",
       "\n",
       "[5 rows x 27 columns]"
      ],
      "text/html": "<div>\n<style scoped>\n    .dataframe tbody tr th:only-of-type {\n        vertical-align: middle;\n    }\n\n    .dataframe tbody tr th {\n        vertical-align: top;\n    }\n\n    .dataframe thead th {\n        text-align: right;\n    }\n</style>\n<table border=\"1\" class=\"dataframe\">\n  <thead>\n    <tr style=\"text-align: right;\">\n      <th></th>\n      <th>alert</th>\n      <th>cdi</th>\n      <th>code</th>\n      <th>detail</th>\n      <th>dmin</th>\n      <th>felt</th>\n      <th>gap</th>\n      <th>ids</th>\n      <th>mag</th>\n      <th>magType</th>\n      <th>...</th>\n      <th>status</th>\n      <th>time</th>\n      <th>title</th>\n      <th>tsunami</th>\n      <th>type</th>\n      <th>types</th>\n      <th>tz</th>\n      <th>updated</th>\n      <th>url</th>\n      <th>one</th>\n    </tr>\n  </thead>\n  <tbody>\n    <tr>\n      <th>0</th>\n      <td>NaN</td>\n      <td>NaN</td>\n      <td>37389218</td>\n      <td>https://earthquake.usgs.gov/fdsnws/event/1/que...</td>\n      <td>0.008693</td>\n      <td>NaN</td>\n      <td>85.0</td>\n      <td>,ci37389218,</td>\n      <td>1.35</td>\n      <td>ml</td>\n      <td>...</td>\n      <td>automatic</td>\n      <td>1539475168010</td>\n      <td>M 1.4 - 9km NE of Aguanga, CA</td>\n      <td>0</td>\n      <td>earthquake</td>\n      <td>,geoserve,nearby-cities,origin,phase-data,</td>\n      <td>-480.0</td>\n      <td>1539475395144</td>\n      <td>https://earthquake.usgs.gov/earthquakes/eventp...</td>\n      <td>1</td>\n    </tr>\n    <tr>\n      <th>1</th>\n      <td>NaN</td>\n      <td>NaN</td>\n      <td>37389202</td>\n      <td>https://earthquake.usgs.gov/fdsnws/event/1/que...</td>\n      <td>0.020030</td>\n      <td>NaN</td>\n      <td>79.0</td>\n      <td>,ci37389202,</td>\n      <td>1.29</td>\n      <td>ml</td>\n      <td>...</td>\n      <td>automatic</td>\n      <td>1539475129610</td>\n      <td>M 1.3 - 9km NE of Aguanga, CA</td>\n      <td>0</td>\n      <td>earthquake</td>\n      <td>,geoserve,nearby-cities,origin,phase-data,</td>\n      <td>-480.0</td>\n      <td>1539475253925</td>\n      <td>https://earthquake.usgs.gov/earthquakes/eventp...</td>\n      <td>1</td>\n    </tr>\n    <tr>\n      <th>2</th>\n      <td>NaN</td>\n      <td>4.4</td>\n      <td>37389194</td>\n      <td>https://earthquake.usgs.gov/fdsnws/event/1/que...</td>\n      <td>0.021370</td>\n      <td>28.0</td>\n      <td>21.0</td>\n      <td>,ci37389194,</td>\n      <td>3.42</td>\n      <td>ml</td>\n      <td>...</td>\n      <td>automatic</td>\n      <td>1539475062610</td>\n      <td>M 3.4 - 8km NE of Aguanga, CA</td>\n      <td>0</td>\n      <td>earthquake</td>\n      <td>,dyfi,focal-mechanism,geoserve,nearby-cities,o...</td>\n      <td>-480.0</td>\n      <td>1539536756176</td>\n      <td>https://earthquake.usgs.gov/earthquakes/eventp...</td>\n      <td>1</td>\n    </tr>\n    <tr>\n      <th>3</th>\n      <td>NaN</td>\n      <td>NaN</td>\n      <td>37389186</td>\n      <td>https://earthquake.usgs.gov/fdsnws/event/1/que...</td>\n      <td>0.026180</td>\n      <td>NaN</td>\n      <td>39.0</td>\n      <td>,ci37389186,</td>\n      <td>0.44</td>\n      <td>ml</td>\n      <td>...</td>\n      <td>automatic</td>\n      <td>1539474978070</td>\n      <td>M 0.4 - 9km NE of Aguanga, CA</td>\n      <td>0</td>\n      <td>earthquake</td>\n      <td>,geoserve,nearby-cities,origin,phase-data,</td>\n      <td>-480.0</td>\n      <td>1539475196167</td>\n      <td>https://earthquake.usgs.gov/earthquakes/eventp...</td>\n      <td>1</td>\n    </tr>\n    <tr>\n      <th>4</th>\n      <td>NaN</td>\n      <td>NaN</td>\n      <td>73096941</td>\n      <td>https://earthquake.usgs.gov/fdsnws/event/1/que...</td>\n      <td>0.077990</td>\n      <td>NaN</td>\n      <td>192.0</td>\n      <td>,nc73096941,</td>\n      <td>2.16</td>\n      <td>md</td>\n      <td>...</td>\n      <td>automatic</td>\n      <td>1539474716050</td>\n      <td>M 2.2 - 10km NW of Avenal, CA</td>\n      <td>0</td>\n      <td>earthquake</td>\n      <td>,geoserve,nearby-cities,origin,phase-data,scit...</td>\n      <td>-480.0</td>\n      <td>1539477547926</td>\n      <td>https://earthquake.usgs.gov/earthquakes/eventp...</td>\n      <td>1</td>\n    </tr>\n  </tbody>\n</table>\n<p>5 rows × 27 columns</p>\n</div>"
     },
     "metadata": {},
     "execution_count": 34
    }
   ],
   "source": [
    "df['one'] = 1\n",
    "df.head()"
   ]
  },
  {
   "cell_type": "code",
   "execution_count": 36,
   "metadata": {},
   "outputs": [
    {
     "output_type": "execute_result",
     "data": {
      "text/plain": [
       "  alert  cdi      code                                             detail  \\\n",
       "0   NaN  NaN  37389218  https://earthquake.usgs.gov/fdsnws/event/1/que...   \n",
       "1   NaN  NaN  37389202  https://earthquake.usgs.gov/fdsnws/event/1/que...   \n",
       "2   NaN  4.4  37389194  https://earthquake.usgs.gov/fdsnws/event/1/que...   \n",
       "3   NaN  NaN  37389186  https://earthquake.usgs.gov/fdsnws/event/1/que...   \n",
       "4   NaN  NaN  73096941  https://earthquake.usgs.gov/fdsnws/event/1/que...   \n",
       "\n",
       "       dmin  felt    gap           ids   mag magType  ...  sources     status  \\\n",
       "0  0.008693   NaN   85.0  ,ci37389218,  1.35      ml  ...     ,ci,  automatic   \n",
       "1  0.020030   NaN   79.0  ,ci37389202,  1.29      ml  ...     ,ci,  automatic   \n",
       "2  0.021370  28.0   21.0  ,ci37389194,  3.42      ml  ...     ,ci,  automatic   \n",
       "3  0.026180   NaN   39.0  ,ci37389186,  0.44      ml  ...     ,ci,  automatic   \n",
       "4  0.077990   NaN  192.0  ,nc73096941,  2.16      md  ...     ,nc,  automatic   \n",
       "\n",
       "            time                          title  tsunami        type  \\\n",
       "0  1539475168010  M 1.4 - 9km NE of Aguanga, CA        0  earthquake   \n",
       "1  1539475129610  M 1.3 - 9km NE of Aguanga, CA        0  earthquake   \n",
       "2  1539475062610  M 3.4 - 8km NE of Aguanga, CA        0  earthquake   \n",
       "3  1539474978070  M 0.4 - 9km NE of Aguanga, CA        0  earthquake   \n",
       "4  1539474716050  M 2.2 - 10km NW of Avenal, CA        0  earthquake   \n",
       "\n",
       "                                               types     tz        updated  \\\n",
       "0         ,geoserve,nearby-cities,origin,phase-data, -480.0  1539475395144   \n",
       "1         ,geoserve,nearby-cities,origin,phase-data, -480.0  1539475253925   \n",
       "2  ,dyfi,focal-mechanism,geoserve,nearby-cities,o... -480.0  1539536756176   \n",
       "3         ,geoserve,nearby-cities,origin,phase-data, -480.0  1539475196167   \n",
       "4  ,geoserve,nearby-cities,origin,phase-data,scit... -480.0  1539477547926   \n",
       "\n",
       "                                                 url  \n",
       "0  https://earthquake.usgs.gov/earthquakes/eventp...  \n",
       "1  https://earthquake.usgs.gov/earthquakes/eventp...  \n",
       "2  https://earthquake.usgs.gov/earthquakes/eventp...  \n",
       "3  https://earthquake.usgs.gov/earthquakes/eventp...  \n",
       "4  https://earthquake.usgs.gov/earthquakes/eventp...  \n",
       "\n",
       "[5 rows x 26 columns]"
      ],
      "text/html": "<div>\n<style scoped>\n    .dataframe tbody tr th:only-of-type {\n        vertical-align: middle;\n    }\n\n    .dataframe tbody tr th {\n        vertical-align: top;\n    }\n\n    .dataframe thead th {\n        text-align: right;\n    }\n</style>\n<table border=\"1\" class=\"dataframe\">\n  <thead>\n    <tr style=\"text-align: right;\">\n      <th></th>\n      <th>alert</th>\n      <th>cdi</th>\n      <th>code</th>\n      <th>detail</th>\n      <th>dmin</th>\n      <th>felt</th>\n      <th>gap</th>\n      <th>ids</th>\n      <th>mag</th>\n      <th>magType</th>\n      <th>...</th>\n      <th>sources</th>\n      <th>status</th>\n      <th>time</th>\n      <th>title</th>\n      <th>tsunami</th>\n      <th>type</th>\n      <th>types</th>\n      <th>tz</th>\n      <th>updated</th>\n      <th>url</th>\n    </tr>\n  </thead>\n  <tbody>\n    <tr>\n      <th>0</th>\n      <td>NaN</td>\n      <td>NaN</td>\n      <td>37389218</td>\n      <td>https://earthquake.usgs.gov/fdsnws/event/1/que...</td>\n      <td>0.008693</td>\n      <td>NaN</td>\n      <td>85.0</td>\n      <td>,ci37389218,</td>\n      <td>1.35</td>\n      <td>ml</td>\n      <td>...</td>\n      <td>,ci,</td>\n      <td>automatic</td>\n      <td>1539475168010</td>\n      <td>M 1.4 - 9km NE of Aguanga, CA</td>\n      <td>0</td>\n      <td>earthquake</td>\n      <td>,geoserve,nearby-cities,origin,phase-data,</td>\n      <td>-480.0</td>\n      <td>1539475395144</td>\n      <td>https://earthquake.usgs.gov/earthquakes/eventp...</td>\n    </tr>\n    <tr>\n      <th>1</th>\n      <td>NaN</td>\n      <td>NaN</td>\n      <td>37389202</td>\n      <td>https://earthquake.usgs.gov/fdsnws/event/1/que...</td>\n      <td>0.020030</td>\n      <td>NaN</td>\n      <td>79.0</td>\n      <td>,ci37389202,</td>\n      <td>1.29</td>\n      <td>ml</td>\n      <td>...</td>\n      <td>,ci,</td>\n      <td>automatic</td>\n      <td>1539475129610</td>\n      <td>M 1.3 - 9km NE of Aguanga, CA</td>\n      <td>0</td>\n      <td>earthquake</td>\n      <td>,geoserve,nearby-cities,origin,phase-data,</td>\n      <td>-480.0</td>\n      <td>1539475253925</td>\n      <td>https://earthquake.usgs.gov/earthquakes/eventp...</td>\n    </tr>\n    <tr>\n      <th>2</th>\n      <td>NaN</td>\n      <td>4.4</td>\n      <td>37389194</td>\n      <td>https://earthquake.usgs.gov/fdsnws/event/1/que...</td>\n      <td>0.021370</td>\n      <td>28.0</td>\n      <td>21.0</td>\n      <td>,ci37389194,</td>\n      <td>3.42</td>\n      <td>ml</td>\n      <td>...</td>\n      <td>,ci,</td>\n      <td>automatic</td>\n      <td>1539475062610</td>\n      <td>M 3.4 - 8km NE of Aguanga, CA</td>\n      <td>0</td>\n      <td>earthquake</td>\n      <td>,dyfi,focal-mechanism,geoserve,nearby-cities,o...</td>\n      <td>-480.0</td>\n      <td>1539536756176</td>\n      <td>https://earthquake.usgs.gov/earthquakes/eventp...</td>\n    </tr>\n    <tr>\n      <th>3</th>\n      <td>NaN</td>\n      <td>NaN</td>\n      <td>37389186</td>\n      <td>https://earthquake.usgs.gov/fdsnws/event/1/que...</td>\n      <td>0.026180</td>\n      <td>NaN</td>\n      <td>39.0</td>\n      <td>,ci37389186,</td>\n      <td>0.44</td>\n      <td>ml</td>\n      <td>...</td>\n      <td>,ci,</td>\n      <td>automatic</td>\n      <td>1539474978070</td>\n      <td>M 0.4 - 9km NE of Aguanga, CA</td>\n      <td>0</td>\n      <td>earthquake</td>\n      <td>,geoserve,nearby-cities,origin,phase-data,</td>\n      <td>-480.0</td>\n      <td>1539475196167</td>\n      <td>https://earthquake.usgs.gov/earthquakes/eventp...</td>\n    </tr>\n    <tr>\n      <th>4</th>\n      <td>NaN</td>\n      <td>NaN</td>\n      <td>73096941</td>\n      <td>https://earthquake.usgs.gov/fdsnws/event/1/que...</td>\n      <td>0.077990</td>\n      <td>NaN</td>\n      <td>192.0</td>\n      <td>,nc73096941,</td>\n      <td>2.16</td>\n      <td>md</td>\n      <td>...</td>\n      <td>,nc,</td>\n      <td>automatic</td>\n      <td>1539474716050</td>\n      <td>M 2.2 - 10km NW of Avenal, CA</td>\n      <td>0</td>\n      <td>earthquake</td>\n      <td>,geoserve,nearby-cities,origin,phase-data,scit...</td>\n      <td>-480.0</td>\n      <td>1539477547926</td>\n      <td>https://earthquake.usgs.gov/earthquakes/eventp...</td>\n    </tr>\n  </tbody>\n</table>\n<p>5 rows × 26 columns</p>\n</div>"
     },
     "metadata": {},
     "execution_count": 36
    }
   ],
   "source": [
    "del df['one']\n",
    "df.head()"
   ]
  },
  {
   "source": [
    "# Slicing and indexing"
   ],
   "cell_type": "markdown",
   "metadata": {}
  },
  {
   "cell_type": "code",
   "execution_count": 37,
   "metadata": {},
   "outputs": [
    {
     "output_type": "execute_result",
     "data": {
      "text/plain": [
       "                                    title           time\n",
       "100      M 1.2 - 25km NW of Ester, Alaska  1539435449480\n",
       "101  M 0.6 - 8km ESE of Mammoth Lakes, CA  1539435391320\n",
       "102        M 1.3 - 8km ENE of Aguanga, CA  1539435293090"
      ],
      "text/html": "<div>\n<style scoped>\n    .dataframe tbody tr th:only-of-type {\n        vertical-align: middle;\n    }\n\n    .dataframe tbody tr th {\n        vertical-align: top;\n    }\n\n    .dataframe thead th {\n        text-align: right;\n    }\n</style>\n<table border=\"1\" class=\"dataframe\">\n  <thead>\n    <tr style=\"text-align: right;\">\n      <th></th>\n      <th>title</th>\n      <th>time</th>\n    </tr>\n  </thead>\n  <tbody>\n    <tr>\n      <th>100</th>\n      <td>M 1.2 - 25km NW of Ester, Alaska</td>\n      <td>1539435449480</td>\n    </tr>\n    <tr>\n      <th>101</th>\n      <td>M 0.6 - 8km ESE of Mammoth Lakes, CA</td>\n      <td>1539435391320</td>\n    </tr>\n    <tr>\n      <th>102</th>\n      <td>M 1.3 - 8km ENE of Aguanga, CA</td>\n      <td>1539435293090</td>\n    </tr>\n  </tbody>\n</table>\n</div>"
     },
     "metadata": {},
     "execution_count": 37
    }
   ],
   "source": [
    "df[['title', 'time']][100:103]"
   ]
  },
  {
   "cell_type": "code",
   "execution_count": 38,
   "metadata": {},
   "outputs": [
    {
     "output_type": "execute_result",
     "data": {
      "text/plain": [
       "     alert  mag magType                              title  tsunami  \\\n",
       "5263   red  7.5     mww  M 7.5 - 78km N of Palu, Indonesia        1   \n",
       "\n",
       "            type  \n",
       "5263  earthquake  "
      ],
      "text/html": "<div>\n<style scoped>\n    .dataframe tbody tr th:only-of-type {\n        vertical-align: middle;\n    }\n\n    .dataframe tbody tr th {\n        vertical-align: top;\n    }\n\n    .dataframe thead th {\n        text-align: right;\n    }\n</style>\n<table border=\"1\" class=\"dataframe\">\n  <thead>\n    <tr style=\"text-align: right;\">\n      <th></th>\n      <th>alert</th>\n      <th>mag</th>\n      <th>magType</th>\n      <th>title</th>\n      <th>tsunami</th>\n      <th>type</th>\n    </tr>\n  </thead>\n  <tbody>\n    <tr>\n      <th>5263</th>\n      <td>red</td>\n      <td>7.5</td>\n      <td>mww</td>\n      <td>M 7.5 - 78km N of Palu, Indonesia</td>\n      <td>1</td>\n      <td>earthquake</td>\n    </tr>\n  </tbody>\n</table>\n</div>"
     },
     "metadata": {},
     "execution_count": 38
    }
   ],
   "source": [
    "df.loc[\n",
    "    (df.tsunami == 1) & (df.alert == 'red'),\n",
    "    ['alert', 'mag', 'magType', 'title', 'tsunami', 'type']\n",
    "]"
   ]
  },
  {
   "cell_type": "code",
   "execution_count": 39,
   "metadata": {},
   "outputs": [
    {
     "output_type": "execute_result",
     "data": {
      "text/plain": [
       "      alert  mag magType                                        title  \\\n",
       "1015  green  5.0      ml     M 5.0 - 61km SSW of Chignik Lake, Alaska   \n",
       "1273  green  4.0      ml          M 4.0 - 71km SW of Kaktovik, Alaska   \n",
       "1795  green  4.0      ml           M 4.0 - 60km WNW of Valdez, Alaska   \n",
       "2752  green  4.0      ml         M 4.0 - 67km SSW of Kaktovik, Alaska   \n",
       "3260  green  3.9      ml       M 3.9 - 44km N of North Nenana, Alaska   \n",
       "4101  green  4.2      ml  M 4.2 - 131km NNW of Arctic Village, Alaska   \n",
       "6897  green  3.8      ml         M 3.8 - 80km SSW of Kaktovik, Alaska   \n",
       "8524  green  3.8      ml         M 3.8 - 69km SSW of Kaktovik, Alaska   \n",
       "9133  green  5.1      ml         M 5.1 - 64km SSW of Kaktovik, Alaska   \n",
       "\n",
       "      tsunami        type  \n",
       "1015        1  earthquake  \n",
       "1273        1  earthquake  \n",
       "1795        1  earthquake  \n",
       "2752        1  earthquake  \n",
       "3260        0  earthquake  \n",
       "4101        0  earthquake  \n",
       "6897        0  earthquake  \n",
       "8524        0  earthquake  \n",
       "9133        1  earthquake  "
      ],
      "text/html": "<div>\n<style scoped>\n    .dataframe tbody tr th:only-of-type {\n        vertical-align: middle;\n    }\n\n    .dataframe tbody tr th {\n        vertical-align: top;\n    }\n\n    .dataframe thead th {\n        text-align: right;\n    }\n</style>\n<table border=\"1\" class=\"dataframe\">\n  <thead>\n    <tr style=\"text-align: right;\">\n      <th></th>\n      <th>alert</th>\n      <th>mag</th>\n      <th>magType</th>\n      <th>title</th>\n      <th>tsunami</th>\n      <th>type</th>\n    </tr>\n  </thead>\n  <tbody>\n    <tr>\n      <th>1015</th>\n      <td>green</td>\n      <td>5.0</td>\n      <td>ml</td>\n      <td>M 5.0 - 61km SSW of Chignik Lake, Alaska</td>\n      <td>1</td>\n      <td>earthquake</td>\n    </tr>\n    <tr>\n      <th>1273</th>\n      <td>green</td>\n      <td>4.0</td>\n      <td>ml</td>\n      <td>M 4.0 - 71km SW of Kaktovik, Alaska</td>\n      <td>1</td>\n      <td>earthquake</td>\n    </tr>\n    <tr>\n      <th>1795</th>\n      <td>green</td>\n      <td>4.0</td>\n      <td>ml</td>\n      <td>M 4.0 - 60km WNW of Valdez, Alaska</td>\n      <td>1</td>\n      <td>earthquake</td>\n    </tr>\n    <tr>\n      <th>2752</th>\n      <td>green</td>\n      <td>4.0</td>\n      <td>ml</td>\n      <td>M 4.0 - 67km SSW of Kaktovik, Alaska</td>\n      <td>1</td>\n      <td>earthquake</td>\n    </tr>\n    <tr>\n      <th>3260</th>\n      <td>green</td>\n      <td>3.9</td>\n      <td>ml</td>\n      <td>M 3.9 - 44km N of North Nenana, Alaska</td>\n      <td>0</td>\n      <td>earthquake</td>\n    </tr>\n    <tr>\n      <th>4101</th>\n      <td>green</td>\n      <td>4.2</td>\n      <td>ml</td>\n      <td>M 4.2 - 131km NNW of Arctic Village, Alaska</td>\n      <td>0</td>\n      <td>earthquake</td>\n    </tr>\n    <tr>\n      <th>6897</th>\n      <td>green</td>\n      <td>3.8</td>\n      <td>ml</td>\n      <td>M 3.8 - 80km SSW of Kaktovik, Alaska</td>\n      <td>0</td>\n      <td>earthquake</td>\n    </tr>\n    <tr>\n      <th>8524</th>\n      <td>green</td>\n      <td>3.8</td>\n      <td>ml</td>\n      <td>M 3.8 - 69km SSW of Kaktovik, Alaska</td>\n      <td>0</td>\n      <td>earthquake</td>\n    </tr>\n    <tr>\n      <th>9133</th>\n      <td>green</td>\n      <td>5.1</td>\n      <td>ml</td>\n      <td>M 5.1 - 64km SSW of Kaktovik, Alaska</td>\n      <td>1</td>\n      <td>earthquake</td>\n    </tr>\n  </tbody>\n</table>\n</div>"
     },
     "metadata": {},
     "execution_count": 39
    }
   ],
   "source": [
    "df.loc[\n",
    "    (df.place.str.contains('Alaska')) & (df.alert.notnull()),\n",
    "    ['alert', 'mag', 'magType', 'title', 'tsunami', 'type']\n",
    "]"
   ]
  },
  {
   "cell_type": "code",
   "execution_count": 40,
   "metadata": {},
   "outputs": [
    {
     "output_type": "execute_result",
     "data": {
      "text/plain": [
       "      alert   mag magType                              title  tsunami  \\\n",
       "1465  green  3.83      mw  M 3.8 - 109km WNW of Trinidad, CA        0   \n",
       "2414  green  3.83      mw   M 3.8 - 5km SW of Tres Pinos, CA        1   \n",
       "\n",
       "            type  \n",
       "1465  earthquake  \n",
       "2414  earthquake  "
      ],
      "text/html": "<div>\n<style scoped>\n    .dataframe tbody tr th:only-of-type {\n        vertical-align: middle;\n    }\n\n    .dataframe tbody tr th {\n        vertical-align: top;\n    }\n\n    .dataframe thead th {\n        text-align: right;\n    }\n</style>\n<table border=\"1\" class=\"dataframe\">\n  <thead>\n    <tr style=\"text-align: right;\">\n      <th></th>\n      <th>alert</th>\n      <th>mag</th>\n      <th>magType</th>\n      <th>title</th>\n      <th>tsunami</th>\n      <th>type</th>\n    </tr>\n  </thead>\n  <tbody>\n    <tr>\n      <th>1465</th>\n      <td>green</td>\n      <td>3.83</td>\n      <td>mw</td>\n      <td>M 3.8 - 109km WNW of Trinidad, CA</td>\n      <td>0</td>\n      <td>earthquake</td>\n    </tr>\n    <tr>\n      <th>2414</th>\n      <td>green</td>\n      <td>3.83</td>\n      <td>mw</td>\n      <td>M 3.8 - 5km SW of Tres Pinos, CA</td>\n      <td>1</td>\n      <td>earthquake</td>\n    </tr>\n  </tbody>\n</table>\n</div>"
     },
     "metadata": {},
     "execution_count": 40
    }
   ],
   "source": [
    "df.loc[\n",
    "    (df.place.str.contains(r'CA|California$')) & (df.mag > 3.8),\n",
    "    ['alert', 'mag', 'magType', 'title', 'tsunami', 'type']\n",
    "]"
   ]
  },
  {
   "cell_type": "code",
   "execution_count": 41,
   "metadata": {},
   "outputs": [
    {
     "output_type": "execute_result",
     "data": {
      "text/plain": [
       "      alert  mag magType                                       title  tsunami  \\\n",
       "118   green  6.7     mww     M 6.7 - 262km NW of Ozernovskiy, Russia        1   \n",
       "799   green  6.5     mww  M 6.5 - 148km S of Severo-Kuril'sk, Russia        1   \n",
       "837   green  7.0     mww  M 7.0 - 117km E of Kimbe, Papua New Guinea        1   \n",
       "4363  green  6.7     mww      M 6.7 - 263km NNE of Ndoi Island, Fiji        1   \n",
       "5263    red  7.5     mww           M 7.5 - 78km N of Palu, Indonesia        1   \n",
       "\n",
       "            type  \n",
       "118   earthquake  \n",
       "799   earthquake  \n",
       "837   earthquake  \n",
       "4363  earthquake  \n",
       "5263  earthquake  "
      ],
      "text/html": "<div>\n<style scoped>\n    .dataframe tbody tr th:only-of-type {\n        vertical-align: middle;\n    }\n\n    .dataframe tbody tr th {\n        vertical-align: top;\n    }\n\n    .dataframe thead th {\n        text-align: right;\n    }\n</style>\n<table border=\"1\" class=\"dataframe\">\n  <thead>\n    <tr style=\"text-align: right;\">\n      <th></th>\n      <th>alert</th>\n      <th>mag</th>\n      <th>magType</th>\n      <th>title</th>\n      <th>tsunami</th>\n      <th>type</th>\n    </tr>\n  </thead>\n  <tbody>\n    <tr>\n      <th>118</th>\n      <td>green</td>\n      <td>6.7</td>\n      <td>mww</td>\n      <td>M 6.7 - 262km NW of Ozernovskiy, Russia</td>\n      <td>1</td>\n      <td>earthquake</td>\n    </tr>\n    <tr>\n      <th>799</th>\n      <td>green</td>\n      <td>6.5</td>\n      <td>mww</td>\n      <td>M 6.5 - 148km S of Severo-Kuril'sk, Russia</td>\n      <td>1</td>\n      <td>earthquake</td>\n    </tr>\n    <tr>\n      <th>837</th>\n      <td>green</td>\n      <td>7.0</td>\n      <td>mww</td>\n      <td>M 7.0 - 117km E of Kimbe, Papua New Guinea</td>\n      <td>1</td>\n      <td>earthquake</td>\n    </tr>\n    <tr>\n      <th>4363</th>\n      <td>green</td>\n      <td>6.7</td>\n      <td>mww</td>\n      <td>M 6.7 - 263km NNE of Ndoi Island, Fiji</td>\n      <td>1</td>\n      <td>earthquake</td>\n    </tr>\n    <tr>\n      <th>5263</th>\n      <td>red</td>\n      <td>7.5</td>\n      <td>mww</td>\n      <td>M 7.5 - 78km N of Palu, Indonesia</td>\n      <td>1</td>\n      <td>earthquake</td>\n    </tr>\n  </tbody>\n</table>\n</div>"
     },
     "metadata": {},
     "execution_count": 41
    }
   ],
   "source": [
    "df.loc[\n",
    "    df.mag.between(6.5, 7.5),\n",
    "    ['alert', 'mag', 'magType', 'title', 'tsunami', 'type']\n",
    "]"
   ]
  },
  {
   "cell_type": "code",
   "execution_count": 42,
   "metadata": {},
   "outputs": [
    {
     "output_type": "execute_result",
     "data": {
      "text/plain": [
       "     alert  mag magType                              title  tsunami  \\\n",
       "5263   red  7.5     mww  M 7.5 - 78km N of Palu, Indonesia        1   \n",
       "\n",
       "            type  \n",
       "5263  earthquake  "
      ],
      "text/html": "<div>\n<style scoped>\n    .dataframe tbody tr th:only-of-type {\n        vertical-align: middle;\n    }\n\n    .dataframe tbody tr th {\n        vertical-align: top;\n    }\n\n    .dataframe thead th {\n        text-align: right;\n    }\n</style>\n<table border=\"1\" class=\"dataframe\">\n  <thead>\n    <tr style=\"text-align: right;\">\n      <th></th>\n      <th>alert</th>\n      <th>mag</th>\n      <th>magType</th>\n      <th>title</th>\n      <th>tsunami</th>\n      <th>type</th>\n    </tr>\n  </thead>\n  <tbody>\n    <tr>\n      <th>5263</th>\n      <td>red</td>\n      <td>7.5</td>\n      <td>mww</td>\n      <td>M 7.5 - 78km N of Palu, Indonesia</td>\n      <td>1</td>\n      <td>earthquake</td>\n    </tr>\n  </tbody>\n</table>\n</div>"
     },
     "metadata": {},
     "execution_count": 42
    }
   ],
   "source": [
    "df.loc[\n",
    "    df.alert.isin(['orange', 'red']),\n",
    "    ['alert', 'mag', 'magType', 'title', 'tsunami', 'type']\n",
    "]"
   ]
  },
  {
   "cell_type": "code",
   "execution_count": 43,
   "metadata": {},
   "outputs": [
    {
     "output_type": "execute_result",
     "data": {
      "text/plain": [
       "     alert   mag magType                              title  tsunami  \\\n",
       "2409   NaN -1.26      ml  M -1.3 - 41km ENE of Adak, Alaska        0   \n",
       "5263   red  7.50     mww  M 7.5 - 78km N of Palu, Indonesia        1   \n",
       "\n",
       "            type  \n",
       "2409  earthquake  \n",
       "5263  earthquake  "
      ],
      "text/html": "<div>\n<style scoped>\n    .dataframe tbody tr th:only-of-type {\n        vertical-align: middle;\n    }\n\n    .dataframe tbody tr th {\n        vertical-align: top;\n    }\n\n    .dataframe thead th {\n        text-align: right;\n    }\n</style>\n<table border=\"1\" class=\"dataframe\">\n  <thead>\n    <tr style=\"text-align: right;\">\n      <th></th>\n      <th>alert</th>\n      <th>mag</th>\n      <th>magType</th>\n      <th>title</th>\n      <th>tsunami</th>\n      <th>type</th>\n    </tr>\n  </thead>\n  <tbody>\n    <tr>\n      <th>2409</th>\n      <td>NaN</td>\n      <td>-1.26</td>\n      <td>ml</td>\n      <td>M -1.3 - 41km ENE of Adak, Alaska</td>\n      <td>0</td>\n      <td>earthquake</td>\n    </tr>\n    <tr>\n      <th>5263</th>\n      <td>red</td>\n      <td>7.50</td>\n      <td>mww</td>\n      <td>M 7.5 - 78km N of Palu, Indonesia</td>\n      <td>1</td>\n      <td>earthquake</td>\n    </tr>\n  </tbody>\n</table>\n</div>"
     },
     "metadata": {},
     "execution_count": 43
    }
   ],
   "source": [
    "df.loc[\n",
    "    [df.mag.idxmin(), df.mag.idxmax()],\n",
    "    ['alert', 'mag', 'magType', 'title', 'tsunami', 'type']\n",
    "]"
   ]
  },
  {
   "cell_type": "code",
   "execution_count": 44,
   "metadata": {},
   "outputs": [
    {
     "output_type": "execute_result",
     "data": {
      "text/plain": [
       "    mag magType\n",
       "0  1.35      ml\n",
       "1  1.29      ml\n",
       "2  3.42      ml\n",
       "3  0.44      ml\n",
       "4  2.16      md"
      ],
      "text/html": "<div>\n<style scoped>\n    .dataframe tbody tr th:only-of-type {\n        vertical-align: middle;\n    }\n\n    .dataframe tbody tr th {\n        vertical-align: top;\n    }\n\n    .dataframe thead th {\n        text-align: right;\n    }\n</style>\n<table border=\"1\" class=\"dataframe\">\n  <thead>\n    <tr style=\"text-align: right;\">\n      <th></th>\n      <th>mag</th>\n      <th>magType</th>\n    </tr>\n  </thead>\n  <tbody>\n    <tr>\n      <th>0</th>\n      <td>1.35</td>\n      <td>ml</td>\n    </tr>\n    <tr>\n      <th>1</th>\n      <td>1.29</td>\n      <td>ml</td>\n    </tr>\n    <tr>\n      <th>2</th>\n      <td>3.42</td>\n      <td>ml</td>\n    </tr>\n    <tr>\n      <th>3</th>\n      <td>0.44</td>\n      <td>ml</td>\n    </tr>\n    <tr>\n      <th>4</th>\n      <td>2.16</td>\n      <td>md</td>\n    </tr>\n  </tbody>\n</table>\n</div>"
     },
     "metadata": {},
     "execution_count": 44
    }
   ],
   "source": [
    "df.filter(items=['mag', 'magType']).head()"
   ]
  },
  {
   "cell_type": "code",
   "execution_count": null,
   "metadata": {},
   "outputs": [],
   "source": []
  }
 ]
}