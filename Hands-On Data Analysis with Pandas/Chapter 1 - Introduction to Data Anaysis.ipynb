{
 "metadata": {
  "language_info": {
   "codemirror_mode": {
    "name": "ipython",
    "version": 3
   },
   "file_extension": ".py",
   "mimetype": "text/x-python",
   "name": "python",
   "nbconvert_exporter": "python",
   "pygments_lexer": "ipython3",
   "version": "3.8.5-final"
  },
  "orig_nbformat": 2,
  "kernelspec": {
   "name": "python385jvsc74a57bd0e65c9f12fe121955c46cd6119809c1187549ab9b1c440c7a57b5d6e66a1d852e",
   "display_name": "Python 3.8.5 64-bit ('base': conda)"
  }
 },
 "nbformat": 4,
 "nbformat_minor": 2,
 "cells": [
  {
   "cell_type": "code",
   "execution_count": 1,
   "metadata": {},
   "outputs": [],
   "source": [
    "# Imports\n"
   ]
  },
  {
   "source": [
    "# Source Code\n",
    "[github repo](https://github.com/stefmolin/Hands-On-Data-Analysis-with-Pandas)   \n",
    "[solutions](https://github.com/stefmolin/Hands-On-Data-Analysis-with-Pandas/tree/master/solutions)   "
   ],
   "cell_type": "markdown",
   "metadata": {}
  },
  {
   "source": [
    "# Topics Covered\n",
    "- Core components of conducting data analysis\n",
    "- Statistical foundations\n",
    "- Setting up Python data science environments"
   ],
   "cell_type": "markdown",
   "metadata": {}
  },
  {
   "source": [
    "# Fundamentals of data analysis\n",
    "Data analysis is an iterative process that involves:   \n",
    "- Data collection\n",
    "- Data preparation (wrangling)  \n",
    "- Exploratory data analysis (EDA)\n",
    "- Drawing conclusions"
   ],
   "cell_type": "markdown",
   "metadata": {}
  },
  {
   "source": [
    "# Data Collection\n",
    "- Web scraping\n",
    "- APIs\n",
    "- Databases\n",
    "- Internet sources\n",
    "- Log files\n",
    "- IOT data"
   ],
   "cell_type": "markdown",
   "metadata": {}
  },
  {
   "source": [
    "# Data Preparation\n",
    "- Human error\n",
    "- Computer error \n",
    "- Unexpected values\n",
    "- Incomplete information\n",
    "- Resolution\n",
    "- Relevance of fields\n",
    "- Format of the data\n",
    "- Misconfiguration in the data recording process"
   ],
   "cell_type": "markdown",
   "metadata": {}
  },
  {
   "source": [
    "# Exploratory data analysis\n",
    "- Use visualizations and summary statistics to better understand the data\n",
    "- View data over time\n",
    "- Compare how many obserations belong to a category\n",
    "- Find outliers\n",
    "- Look at distributions"
   ],
   "cell_type": "markdown",
   "metadata": {}
  },
  {
   "source": [
    "# Types of data\n",
    "- quantitative\n",
    "    - measurable quantities\n",
    "    - continuous\n",
    "    - discrete\n",
    "    - interval scale\n",
    "    - ratio scale \n",
    "- categorical\n",
    "    - descriptions, groupings, categories\n",
    "    - nominal - one value is not greater than the other\n",
    "    - ordinal - values have a ranking (i.e. low, medium, high)"
   ],
   "cell_type": "markdown",
   "metadata": {}
  },
  {
   "cell_type": "code",
   "execution_count": null,
   "metadata": {},
   "outputs": [],
   "source": []
  }
 ]
}