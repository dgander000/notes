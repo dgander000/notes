{
 "metadata": {
  "language_info": {
   "codemirror_mode": {
    "name": "ipython",
    "version": 3
   },
   "file_extension": ".py",
   "mimetype": "text/x-python",
   "name": "python",
   "nbconvert_exporter": "python",
   "pygments_lexer": "ipython3",
   "version": "3.8.5-final"
  },
  "orig_nbformat": 2,
  "kernelspec": {
   "name": "python385jvsc74a57bd0e65c9f12fe121955c46cd6119809c1187549ab9b1c440c7a57b5d6e66a1d852e",
   "display_name": "Python 3.8.5 64-bit ('base': conda)"
  }
 },
 "nbformat": 4,
 "nbformat_minor": 2,
 "cells": [
  {
   "source": [
    "# Imports"
   ],
   "cell_type": "markdown",
   "metadata": {}
  },
  {
   "cell_type": "code",
   "execution_count": 1,
   "metadata": {},
   "outputs": [],
   "source": [
    "import numpy as np\n",
    "import pandas as pd"
   ]
  },
  {
   "source": [
    "# Data wrangling\n",
    "- Data cleaning\n",
    "    - Renaming\n",
    "    - Sorting and reordering\n",
    "    - Data type conversion\n",
    "    - Removing duplicate data \n",
    "    - Addressing missing or invalid data \n",
    "    - Filtering to the desired subset\n",
    "- Data transformation\n",
    "    - Wide format\n",
    "        - Preferred\n",
    "        - Each observation is a row\n",
    "        - Each variable is it's own column\n",
    "    - Long format \n",
    "        - Row for each observation of a variable\n",
    "- Data enrichment\n",
    "    - Feature engineering\n",
    "    - Adding new columns\n",
    "    - Binning\n",
    "    - Aggregating\n",
    "    - Resampling"
   ],
   "cell_type": "markdown",
   "metadata": {}
  },
  {
   "source": [
    "# Get the data"
   ],
   "cell_type": "markdown",
   "metadata": {}
  },
  {
   "cell_type": "code",
   "execution_count": 2,
   "metadata": {},
   "outputs": [
    {
     "output_type": "execute_result",
     "data": {
      "text/plain": [
       "  attributes datatype                 date            station  value\n",
       "0      H,,S,     TAVG  2018-10-01T00:00:00  GHCND:USW00014732   21.2\n",
       "1   ,,W,2400     TMAX  2018-10-01T00:00:00  GHCND:USW00014732   25.6\n",
       "2   ,,W,2400     TMIN  2018-10-01T00:00:00  GHCND:USW00014732   18.3\n",
       "3      H,,S,     TAVG  2018-10-02T00:00:00  GHCND:USW00014732   22.7\n",
       "4   ,,W,2400     TMAX  2018-10-02T00:00:00  GHCND:USW00014732   26.1"
      ],
      "text/html": "<div>\n<style scoped>\n    .dataframe tbody tr th:only-of-type {\n        vertical-align: middle;\n    }\n\n    .dataframe tbody tr th {\n        vertical-align: top;\n    }\n\n    .dataframe thead th {\n        text-align: right;\n    }\n</style>\n<table border=\"1\" class=\"dataframe\">\n  <thead>\n    <tr style=\"text-align: right;\">\n      <th></th>\n      <th>attributes</th>\n      <th>datatype</th>\n      <th>date</th>\n      <th>station</th>\n      <th>value</th>\n    </tr>\n  </thead>\n  <tbody>\n    <tr>\n      <th>0</th>\n      <td>H,,S,</td>\n      <td>TAVG</td>\n      <td>2018-10-01T00:00:00</td>\n      <td>GHCND:USW00014732</td>\n      <td>21.2</td>\n    </tr>\n    <tr>\n      <th>1</th>\n      <td>,,W,2400</td>\n      <td>TMAX</td>\n      <td>2018-10-01T00:00:00</td>\n      <td>GHCND:USW00014732</td>\n      <td>25.6</td>\n    </tr>\n    <tr>\n      <th>2</th>\n      <td>,,W,2400</td>\n      <td>TMIN</td>\n      <td>2018-10-01T00:00:00</td>\n      <td>GHCND:USW00014732</td>\n      <td>18.3</td>\n    </tr>\n    <tr>\n      <th>3</th>\n      <td>H,,S,</td>\n      <td>TAVG</td>\n      <td>2018-10-02T00:00:00</td>\n      <td>GHCND:USW00014732</td>\n      <td>22.7</td>\n    </tr>\n    <tr>\n      <th>4</th>\n      <td>,,W,2400</td>\n      <td>TMAX</td>\n      <td>2018-10-02T00:00:00</td>\n      <td>GHCND:USW00014732</td>\n      <td>26.1</td>\n    </tr>\n  </tbody>\n</table>\n</div>"
     },
     "metadata": {},
     "execution_count": 2
    }
   ],
   "source": [
    "df = pd.read_csv('data/nyc_temperatures.csv')\n",
    "df.head()"
   ]
  },
  {
   "source": [
    "# Data cleanup"
   ],
   "cell_type": "markdown",
   "metadata": {}
  },
  {
   "source": [
    "## Rename columns"
   ],
   "cell_type": "markdown",
   "metadata": {}
  },
  {
   "cell_type": "code",
   "execution_count": 4,
   "metadata": {},
   "outputs": [
    {
     "output_type": "execute_result",
     "data": {
      "text/plain": [
       "      flags datatype                 date            station  temp_C\n",
       "0     H,,S,     TAVG  2018-10-01T00:00:00  GHCND:USW00014732    21.2\n",
       "1  ,,W,2400     TMAX  2018-10-01T00:00:00  GHCND:USW00014732    25.6\n",
       "2  ,,W,2400     TMIN  2018-10-01T00:00:00  GHCND:USW00014732    18.3\n",
       "3     H,,S,     TAVG  2018-10-02T00:00:00  GHCND:USW00014732    22.7\n",
       "4  ,,W,2400     TMAX  2018-10-02T00:00:00  GHCND:USW00014732    26.1"
      ],
      "text/html": "<div>\n<style scoped>\n    .dataframe tbody tr th:only-of-type {\n        vertical-align: middle;\n    }\n\n    .dataframe tbody tr th {\n        vertical-align: top;\n    }\n\n    .dataframe thead th {\n        text-align: right;\n    }\n</style>\n<table border=\"1\" class=\"dataframe\">\n  <thead>\n    <tr style=\"text-align: right;\">\n      <th></th>\n      <th>flags</th>\n      <th>datatype</th>\n      <th>date</th>\n      <th>station</th>\n      <th>temp_C</th>\n    </tr>\n  </thead>\n  <tbody>\n    <tr>\n      <th>0</th>\n      <td>H,,S,</td>\n      <td>TAVG</td>\n      <td>2018-10-01T00:00:00</td>\n      <td>GHCND:USW00014732</td>\n      <td>21.2</td>\n    </tr>\n    <tr>\n      <th>1</th>\n      <td>,,W,2400</td>\n      <td>TMAX</td>\n      <td>2018-10-01T00:00:00</td>\n      <td>GHCND:USW00014732</td>\n      <td>25.6</td>\n    </tr>\n    <tr>\n      <th>2</th>\n      <td>,,W,2400</td>\n      <td>TMIN</td>\n      <td>2018-10-01T00:00:00</td>\n      <td>GHCND:USW00014732</td>\n      <td>18.3</td>\n    </tr>\n    <tr>\n      <th>3</th>\n      <td>H,,S,</td>\n      <td>TAVG</td>\n      <td>2018-10-02T00:00:00</td>\n      <td>GHCND:USW00014732</td>\n      <td>22.7</td>\n    </tr>\n    <tr>\n      <th>4</th>\n      <td>,,W,2400</td>\n      <td>TMAX</td>\n      <td>2018-10-02T00:00:00</td>\n      <td>GHCND:USW00014732</td>\n      <td>26.1</td>\n    </tr>\n  </tbody>\n</table>\n</div>"
     },
     "metadata": {},
     "execution_count": 4
    }
   ],
   "source": [
    "columns = {\n",
    "    'value':'temp_C',\n",
    "    'attributes':'flags'\n",
    "}\n",
    "df.rename(columns=columns, inplace=True)\n",
    "df.head()"
   ]
  },
  {
   "source": [
    "## Type conversion"
   ],
   "cell_type": "markdown",
   "metadata": {}
  },
  {
   "cell_type": "code",
   "execution_count": 5,
   "metadata": {},
   "outputs": [
    {
     "output_type": "execute_result",
     "data": {
      "text/plain": [
       "flags        object\n",
       "datatype     object\n",
       "date         object\n",
       "station      object\n",
       "temp_C      float64\n",
       "dtype: object"
      ]
     },
     "metadata": {},
     "execution_count": 5
    }
   ],
   "source": [
    "df.dtypes"
   ]
  },
  {
   "cell_type": "code",
   "execution_count": 6,
   "metadata": {},
   "outputs": [
    {
     "output_type": "execute_result",
     "data": {
      "text/plain": [
       "                          attributes datatype            station  value\n",
       "date                                                                   \n",
       "2018-10-01 00:00:00-05:00      H,,S,     TAVG  GHCND:USW00014732   21.2\n",
       "2018-10-01 00:00:00-05:00   ,,W,2400     TMAX  GHCND:USW00014732   25.6\n",
       "2018-10-01 00:00:00-05:00   ,,W,2400     TMIN  GHCND:USW00014732   18.3\n",
       "2018-10-02 00:00:00-05:00      H,,S,     TAVG  GHCND:USW00014732   22.7\n",
       "2018-10-02 00:00:00-05:00   ,,W,2400     TMAX  GHCND:USW00014732   26.1"
      ],
      "text/html": "<div>\n<style scoped>\n    .dataframe tbody tr th:only-of-type {\n        vertical-align: middle;\n    }\n\n    .dataframe tbody tr th {\n        vertical-align: top;\n    }\n\n    .dataframe thead th {\n        text-align: right;\n    }\n</style>\n<table border=\"1\" class=\"dataframe\">\n  <thead>\n    <tr style=\"text-align: right;\">\n      <th></th>\n      <th>attributes</th>\n      <th>datatype</th>\n      <th>station</th>\n      <th>value</th>\n    </tr>\n    <tr>\n      <th>date</th>\n      <th></th>\n      <th></th>\n      <th></th>\n      <th></th>\n    </tr>\n  </thead>\n  <tbody>\n    <tr>\n      <th>2018-10-01 00:00:00-05:00</th>\n      <td>H,,S,</td>\n      <td>TAVG</td>\n      <td>GHCND:USW00014732</td>\n      <td>21.2</td>\n    </tr>\n    <tr>\n      <th>2018-10-01 00:00:00-05:00</th>\n      <td>,,W,2400</td>\n      <td>TMAX</td>\n      <td>GHCND:USW00014732</td>\n      <td>25.6</td>\n    </tr>\n    <tr>\n      <th>2018-10-01 00:00:00-05:00</th>\n      <td>,,W,2400</td>\n      <td>TMIN</td>\n      <td>GHCND:USW00014732</td>\n      <td>18.3</td>\n    </tr>\n    <tr>\n      <th>2018-10-02 00:00:00-05:00</th>\n      <td>H,,S,</td>\n      <td>TAVG</td>\n      <td>GHCND:USW00014732</td>\n      <td>22.7</td>\n    </tr>\n    <tr>\n      <th>2018-10-02 00:00:00-05:00</th>\n      <td>,,W,2400</td>\n      <td>TMAX</td>\n      <td>GHCND:USW00014732</td>\n      <td>26.1</td>\n    </tr>\n  </tbody>\n</table>\n</div>"
     },
     "metadata": {},
     "execution_count": 6
    }
   ],
   "source": [
    "df = df = pd.read_csv('data/nyc_temperatures.csv', index_col='date', parse_dates=True).tz_localize('EST')\n",
    "df.head()"
   ]
  },
  {
   "cell_type": "code",
   "execution_count": 7,
   "metadata": {},
   "outputs": [
    {
     "output_type": "execute_result",
     "data": {
      "text/plain": [
       "                          attributes datatype            station  value\n",
       "date                                                                   \n",
       "2018-10-01 05:00:00+00:00      H,,S,     TAVG  GHCND:USW00014732   21.2\n",
       "2018-10-01 05:00:00+00:00   ,,W,2400     TMAX  GHCND:USW00014732   25.6\n",
       "2018-10-01 05:00:00+00:00   ,,W,2400     TMIN  GHCND:USW00014732   18.3\n",
       "2018-10-02 05:00:00+00:00      H,,S,     TAVG  GHCND:USW00014732   22.7\n",
       "2018-10-02 05:00:00+00:00   ,,W,2400     TMAX  GHCND:USW00014732   26.1"
      ],
      "text/html": "<div>\n<style scoped>\n    .dataframe tbody tr th:only-of-type {\n        vertical-align: middle;\n    }\n\n    .dataframe tbody tr th {\n        vertical-align: top;\n    }\n\n    .dataframe thead th {\n        text-align: right;\n    }\n</style>\n<table border=\"1\" class=\"dataframe\">\n  <thead>\n    <tr style=\"text-align: right;\">\n      <th></th>\n      <th>attributes</th>\n      <th>datatype</th>\n      <th>station</th>\n      <th>value</th>\n    </tr>\n    <tr>\n      <th>date</th>\n      <th></th>\n      <th></th>\n      <th></th>\n      <th></th>\n    </tr>\n  </thead>\n  <tbody>\n    <tr>\n      <th>2018-10-01 05:00:00+00:00</th>\n      <td>H,,S,</td>\n      <td>TAVG</td>\n      <td>GHCND:USW00014732</td>\n      <td>21.2</td>\n    </tr>\n    <tr>\n      <th>2018-10-01 05:00:00+00:00</th>\n      <td>,,W,2400</td>\n      <td>TMAX</td>\n      <td>GHCND:USW00014732</td>\n      <td>25.6</td>\n    </tr>\n    <tr>\n      <th>2018-10-01 05:00:00+00:00</th>\n      <td>,,W,2400</td>\n      <td>TMIN</td>\n      <td>GHCND:USW00014732</td>\n      <td>18.3</td>\n    </tr>\n    <tr>\n      <th>2018-10-02 05:00:00+00:00</th>\n      <td>H,,S,</td>\n      <td>TAVG</td>\n      <td>GHCND:USW00014732</td>\n      <td>22.7</td>\n    </tr>\n    <tr>\n      <th>2018-10-02 05:00:00+00:00</th>\n      <td>,,W,2400</td>\n      <td>TMAX</td>\n      <td>GHCND:USW00014732</td>\n      <td>26.1</td>\n    </tr>\n  </tbody>\n</table>\n</div>"
     },
     "metadata": {},
     "execution_count": 7
    }
   ],
   "source": [
    "df.tz_convert('UTC').head()"
   ]
  },
  {
   "cell_type": "code",
   "execution_count": 9,
   "metadata": {},
   "outputs": [
    {
     "output_type": "execute_result",
     "data": {
      "text/plain": [
       "      flags datatype                 date            station  temp_C\n",
       "0     H,,S,     TAVG  2018-10-01T00:00:00  GHCND:USW00014732    21.2\n",
       "1  ,,W,2400     TMAX  2018-10-01T00:00:00  GHCND:USW00014732    25.6\n",
       "2  ,,W,2400     TMIN  2018-10-01T00:00:00  GHCND:USW00014732    18.3\n",
       "3     H,,S,     TAVG  2018-10-02T00:00:00  GHCND:USW00014732    22.7\n",
       "4  ,,W,2400     TMAX  2018-10-02T00:00:00  GHCND:USW00014732    26.1"
      ],
      "text/html": "<div>\n<style scoped>\n    .dataframe tbody tr th:only-of-type {\n        vertical-align: middle;\n    }\n\n    .dataframe tbody tr th {\n        vertical-align: top;\n    }\n\n    .dataframe thead th {\n        text-align: right;\n    }\n</style>\n<table border=\"1\" class=\"dataframe\">\n  <thead>\n    <tr style=\"text-align: right;\">\n      <th></th>\n      <th>flags</th>\n      <th>datatype</th>\n      <th>date</th>\n      <th>station</th>\n      <th>temp_C</th>\n    </tr>\n  </thead>\n  <tbody>\n    <tr>\n      <th>0</th>\n      <td>H,,S,</td>\n      <td>TAVG</td>\n      <td>2018-10-01T00:00:00</td>\n      <td>GHCND:USW00014732</td>\n      <td>21.2</td>\n    </tr>\n    <tr>\n      <th>1</th>\n      <td>,,W,2400</td>\n      <td>TMAX</td>\n      <td>2018-10-01T00:00:00</td>\n      <td>GHCND:USW00014732</td>\n      <td>25.6</td>\n    </tr>\n    <tr>\n      <th>2</th>\n      <td>,,W,2400</td>\n      <td>TMIN</td>\n      <td>2018-10-01T00:00:00</td>\n      <td>GHCND:USW00014732</td>\n      <td>18.3</td>\n    </tr>\n    <tr>\n      <th>3</th>\n      <td>H,,S,</td>\n      <td>TAVG</td>\n      <td>2018-10-02T00:00:00</td>\n      <td>GHCND:USW00014732</td>\n      <td>22.7</td>\n    </tr>\n    <tr>\n      <th>4</th>\n      <td>,,W,2400</td>\n      <td>TMAX</td>\n      <td>2018-10-02T00:00:00</td>\n      <td>GHCND:USW00014732</td>\n      <td>26.1</td>\n    </tr>\n  </tbody>\n</table>\n</div>"
     },
     "metadata": {},
     "execution_count": 9
    }
   ],
   "source": [
    "df = df = pd.read_csv('data/nyc_temperatures.csv')\n",
    "\n",
    "columns = {\n",
    "    'value':'temp_C',\n",
    "    'attributes':'flags'\n",
    "}\n",
    "df.rename(columns=columns, inplace=True)\n",
    "\n",
    "df.assign(\n",
    "    date = pd.to_datetime(df.date),\n",
    "    temp_F = (df.temp_C * 9/5) + 32,\n",
    "    inplace = True\n",
    ")\n",
    "\n",
    "df.head()"
   ]
  },
  {
   "source": [
    "## Reordering, reindexing, sorting"
   ],
   "cell_type": "markdown",
   "metadata": {}
  },
  {
   "cell_type": "code",
   "execution_count": 10,
   "metadata": {},
   "outputs": [
    {
     "output_type": "execute_result",
     "data": {
      "text/plain": [
       "       flags datatype                 date            station  temp_C\n",
       "19  ,,W,2400     TMAX  2018-10-07T00:00:00  GHCND:USW00014732    27.8\n",
       "28  ,,W,2400     TMAX  2018-10-10T00:00:00  GHCND:USW00014732    27.8\n",
       "31  ,,W,2400     TMAX  2018-10-11T00:00:00  GHCND:USW00014732    26.7\n",
       "4   ,,W,2400     TMAX  2018-10-02T00:00:00  GHCND:USW00014732    26.1\n",
       "10  ,,W,2400     TMAX  2018-10-04T00:00:00  GHCND:USW00014732    26.1"
      ],
      "text/html": "<div>\n<style scoped>\n    .dataframe tbody tr th:only-of-type {\n        vertical-align: middle;\n    }\n\n    .dataframe tbody tr th {\n        vertical-align: top;\n    }\n\n    .dataframe thead th {\n        text-align: right;\n    }\n</style>\n<table border=\"1\" class=\"dataframe\">\n  <thead>\n    <tr style=\"text-align: right;\">\n      <th></th>\n      <th>flags</th>\n      <th>datatype</th>\n      <th>date</th>\n      <th>station</th>\n      <th>temp_C</th>\n    </tr>\n  </thead>\n  <tbody>\n    <tr>\n      <th>19</th>\n      <td>,,W,2400</td>\n      <td>TMAX</td>\n      <td>2018-10-07T00:00:00</td>\n      <td>GHCND:USW00014732</td>\n      <td>27.8</td>\n    </tr>\n    <tr>\n      <th>28</th>\n      <td>,,W,2400</td>\n      <td>TMAX</td>\n      <td>2018-10-10T00:00:00</td>\n      <td>GHCND:USW00014732</td>\n      <td>27.8</td>\n    </tr>\n    <tr>\n      <th>31</th>\n      <td>,,W,2400</td>\n      <td>TMAX</td>\n      <td>2018-10-11T00:00:00</td>\n      <td>GHCND:USW00014732</td>\n      <td>26.7</td>\n    </tr>\n    <tr>\n      <th>4</th>\n      <td>,,W,2400</td>\n      <td>TMAX</td>\n      <td>2018-10-02T00:00:00</td>\n      <td>GHCND:USW00014732</td>\n      <td>26.1</td>\n    </tr>\n    <tr>\n      <th>10</th>\n      <td>,,W,2400</td>\n      <td>TMAX</td>\n      <td>2018-10-04T00:00:00</td>\n      <td>GHCND:USW00014732</td>\n      <td>26.1</td>\n    </tr>\n  </tbody>\n</table>\n</div>"
     },
     "metadata": {},
     "execution_count": 10
    }
   ],
   "source": [
    "df.sort_values(by='temp_C', ascending=False).head()"
   ]
  },
  {
   "cell_type": "code",
   "execution_count": 11,
   "metadata": {},
   "outputs": [
    {
     "output_type": "execute_result",
     "data": {
      "text/plain": [
       "       flags datatype                 date            station  temp_C\n",
       "19  ,,W,2400     TMAX  2018-10-07T00:00:00  GHCND:USW00014732    27.8\n",
       "28  ,,W,2400     TMAX  2018-10-10T00:00:00  GHCND:USW00014732    27.8\n",
       "31  ,,W,2400     TMAX  2018-10-11T00:00:00  GHCND:USW00014732    26.7\n",
       "4   ,,W,2400     TMAX  2018-10-02T00:00:00  GHCND:USW00014732    26.1\n",
       "10  ,,W,2400     TMAX  2018-10-04T00:00:00  GHCND:USW00014732    26.1"
      ],
      "text/html": "<div>\n<style scoped>\n    .dataframe tbody tr th:only-of-type {\n        vertical-align: middle;\n    }\n\n    .dataframe tbody tr th {\n        vertical-align: top;\n    }\n\n    .dataframe thead th {\n        text-align: right;\n    }\n</style>\n<table border=\"1\" class=\"dataframe\">\n  <thead>\n    <tr style=\"text-align: right;\">\n      <th></th>\n      <th>flags</th>\n      <th>datatype</th>\n      <th>date</th>\n      <th>station</th>\n      <th>temp_C</th>\n    </tr>\n  </thead>\n  <tbody>\n    <tr>\n      <th>19</th>\n      <td>,,W,2400</td>\n      <td>TMAX</td>\n      <td>2018-10-07T00:00:00</td>\n      <td>GHCND:USW00014732</td>\n      <td>27.8</td>\n    </tr>\n    <tr>\n      <th>28</th>\n      <td>,,W,2400</td>\n      <td>TMAX</td>\n      <td>2018-10-10T00:00:00</td>\n      <td>GHCND:USW00014732</td>\n      <td>27.8</td>\n    </tr>\n    <tr>\n      <th>31</th>\n      <td>,,W,2400</td>\n      <td>TMAX</td>\n      <td>2018-10-11T00:00:00</td>\n      <td>GHCND:USW00014732</td>\n      <td>26.7</td>\n    </tr>\n    <tr>\n      <th>4</th>\n      <td>,,W,2400</td>\n      <td>TMAX</td>\n      <td>2018-10-02T00:00:00</td>\n      <td>GHCND:USW00014732</td>\n      <td>26.1</td>\n    </tr>\n    <tr>\n      <th>10</th>\n      <td>,,W,2400</td>\n      <td>TMAX</td>\n      <td>2018-10-04T00:00:00</td>\n      <td>GHCND:USW00014732</td>\n      <td>26.1</td>\n    </tr>\n  </tbody>\n</table>\n</div>"
     },
     "metadata": {},
     "execution_count": 11
    }
   ],
   "source": [
    "df.nlargest(n=5, columns=['temp_C'])"
   ]
  },
  {
   "source": [
    "df.sort_index()   \n",
    "df.set_index()   \n",
    "df.drop(columns=[])   \n",
    "df.reindex()   \n",
    "\n",
    "df.T - transpose   \n",
    "\n",
    "df.pivot() - long to wide format   \n",
    "df.unstack() - if multi-level index   \n",
    "\n",
    "df.melt() - wide to long    "
   ],
   "cell_type": "markdown",
   "metadata": {}
  },
  {
   "source": [
    "## Missing or invalid data"
   ],
   "cell_type": "markdown",
   "metadata": {}
  },
  {
   "source": [
    "df.isnull()   \n",
    "df.isna()   \n",
    "df.dropna()  \n",
    "df.fillna()   \n",
    "df.interpolate()   \n",
    "\n",
    "df.drop_duplicates()   "
   ],
   "cell_type": "markdown",
   "metadata": {}
  }
 ]
}