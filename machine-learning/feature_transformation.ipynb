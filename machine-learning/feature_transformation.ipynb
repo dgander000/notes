{
 "cells": [
  {
   "cell_type": "markdown",
   "metadata": {},
   "source": [
    "# Feature Transformation\n",
    "---\n",
    "- The problem of pre-processing a set of features to create a new feature set (usually smaller, more compact), while retaining as much information as possible (relevant, useful)\n",
    "- M < N (usually)\n",
    "- $P^Tx \\rightarrow$ linear combination of original features "
   ]
  },
  {
   "cell_type": "markdown",
   "metadata": {},
   "source": [
    "## Why\n",
    "---\n",
    "- Example: information retrieval\n",
    "- can use words as features BUT:\n",
    "- lots of words (curse of dimensionality)\n",
    "- words any have multiple meanings (leads to false positives)\n",
    "- multiple words mean the same thing (leads to false negatives)\n",
    "- in this case words are insufficient indicators"
   ]
  },
  {
   "cell_type": "markdown",
   "metadata": {},
   "source": [
    "## Principal Components Analysis\n",
    "---\n",
    " - Eigenproblem\n",
    " - maximizes variance: finds direction of maximal variance (variance of data)\n",
    " - orthogonal: finds directions that are mutually orthogonal (perpendicular in 2D)\n",
    " - global algorithm\n",
    " - best resconstruction\n",
    " - eigenvalue: monotonically non-increase, non-negative\n",
    " - if eigenvalue is low add little value\n",
    " - 0 eigenvalue means it can be ignored\n",
    " - like filtering\n",
    " - may throw away important feature if it has low variance\n",
    " - finds different set of axis (orthogonal) and lines up variance of data with those axis, drop those with least variance\n",
    " - about finding correlation by maximizing variance, give you ability to do reconstruction"
   ]
  },
  {
   "cell_type": "markdown",
   "metadata": {},
   "source": [
    "## Independent Components Analysis\n",
    "---\n",
    "- maximize independence\n",
    "- find a linear transformation of feature space into new feature space such that each new feature is mutually independent (statistically)\n",
    "- mutual information between new feature pairs is 0\n",
    "- mutual information between new features and original features is as high as possible\n",
    "- example: hidden variables inferred from observables\n",
    "- cocktail problem\n",
    "    - people talking into microphone (each have one)\n",
    "    - but microphone picks up others talking too\n",
    "    - how to separate source\n",
    "    - blind source separation\n",
    "    - people are hidden variables (don't know whose talking into which microphone)\n",
    "    - microphones are observables"
   ]
  },
  {
   "cell_type": "markdown",
   "metadata": {},
   "source": [
    "## PCA vs ICA\n",
    "---\n",
    "- PCA\n",
    "    - mutually orthogonal\n",
    "    - maximal variance\n",
    "    - ordered features\n",
    "    - bad job of solving blind source separation problem\n",
    "- ICA\n",
    "    - mutually independent\n",
    "    - maximal mutual information\n",
    "    - bag of features\n",
    "    - great at solving blind source separation problem\n",
    "    - directional\n",
    "- Faces\n",
    "    - PCA\n",
    "        - finds brightness, average face\n",
    "        - global\n",
    "    - ICA\n",
    "        - finds nose, eyes, etc, part of\n",
    "        - local\n",
    "- Natural Scenes\n",
    "    - ICA finds edges\n",
    "- Documents\n",
    "    - ICA finds topics\n",
    "- **ICA allows you to do analysis of data to discover fundamental features**"
   ]
  },
  {
   "cell_type": "markdown",
   "metadata": {},
   "source": [
    "## Alternatives\n",
    "---\n",
    "- RCA: Random Components Analysis\n",
    "    - generates random directions\n",
    "    - work?!\n",
    "    - still picks up correlations\n",
    "    - M typically bigger than PCA\n",
    "- LDA: Linear Discriminant Analysis\n",
    "    - finds a projections that discriminates based on the label"
   ]
  },
  {
   "cell_type": "markdown",
   "metadata": {},
   "source": []
  },
  {
   "cell_type": "markdown",
   "metadata": {},
   "source": []
  }
 ],
 "metadata": {
  "kernelspec": {
   "display_name": "Python 3",
   "language": "python",
   "name": "python3"
  },
  "language_info": {
   "codemirror_mode": {
    "name": "ipython",
    "version": 3
   },
   "file_extension": ".py",
   "mimetype": "text/x-python",
   "name": "python",
   "nbconvert_exporter": "python",
   "pygments_lexer": "ipython3",
   "version": "3.6.5"
  }
 },
 "nbformat": 4,
 "nbformat_minor": 2
}
