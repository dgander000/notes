{
 "cells": [
  {
   "cell_type": "code",
   "execution_count": 1,
   "metadata": {},
   "outputs": [],
   "source": [
    "import numpy as np\n",
    "import pandas as pd\n",
    "\n",
    "from sklearn.model_selection import train_test_split\n",
    "from sklearn.feature_selection import VarianceThreshold"
   ]
  },
  {
   "cell_type": "markdown",
   "metadata": {},
   "source": [
    "# Remove constant features\n",
    "---"
   ]
  },
  {
   "cell_type": "code",
   "execution_count": 8,
   "metadata": {},
   "outputs": [
    {
     "data": {
      "text/plain": [
       "(50000, 301)"
      ]
     },
     "execution_count": 8,
     "metadata": {},
     "output_type": "execute_result"
    }
   ],
   "source": [
    "# load the data\n",
    "data = pd.read_csv('datasets/dataset_1.csv')\n",
    "data.shape"
   ]
  },
  {
   "cell_type": "code",
   "execution_count": 9,
   "metadata": {},
   "outputs": [
    {
     "data": {
      "text/plain": [
       "((35000, 300), (15000, 300))"
      ]
     },
     "execution_count": 9,
     "metadata": {},
     "output_type": "execute_result"
    }
   ],
   "source": [
    "# create test train split\n",
    "X_train, X_test, y_train, y_test = train_test_split(\n",
    "    data.drop(labels=['target'], axis=1),  # drop the target\n",
    "    data['target'],  # just the target\n",
    "    test_size=0.3,\n",
    "    random_state=0)\n",
    "\n",
    "X_train.shape, X_test.shape"
   ]
  },
  {
   "cell_type": "markdown",
   "metadata": {},
   "source": [
    "## Using VarianceThreshold from sklearn"
   ]
  },
  {
   "cell_type": "code",
   "execution_count": 10,
   "metadata": {},
   "outputs": [
    {
     "data": {
      "text/plain": [
       "VarianceThreshold(threshold=0)"
      ]
     },
     "execution_count": 10,
     "metadata": {},
     "output_type": "execute_result"
    }
   ],
   "source": [
    "sel = VarianceThreshold(threshold=0)\n",
    "sel.fit(X_train) # fit finds the features with 0 variance"
   ]
  },
  {
   "cell_type": "code",
   "execution_count": 11,
   "metadata": {},
   "outputs": [
    {
     "data": {
      "text/plain": [
       "266"
      ]
     },
     "execution_count": 11,
     "metadata": {},
     "output_type": "execute_result"
    }
   ],
   "source": [
    "# get_support is a boolean that indicates which features are retained\n",
    "sum(sel.get_support())"
   ]
  },
  {
   "cell_type": "code",
   "execution_count": 12,
   "metadata": {},
   "outputs": [
    {
     "data": {
      "text/plain": [
       "34"
      ]
     },
     "execution_count": 12,
     "metadata": {},
     "output_type": "execute_result"
    }
   ],
   "source": [
    "# get the constant features that can be removed\n",
    "constant = X_train.columns[~sel.get_support()]\n",
    "len(constant)"
   ]
  },
  {
   "cell_type": "code",
   "execution_count": 13,
   "metadata": {},
   "outputs": [
    {
     "data": {
      "text/plain": [
       "Index(['var_23', 'var_33', 'var_44', 'var_61', 'var_80', 'var_81', 'var_87',\n",
       "       'var_89', 'var_92', 'var_97', 'var_99', 'var_112', 'var_113', 'var_120',\n",
       "       'var_122', 'var_127', 'var_135', 'var_158', 'var_167', 'var_170',\n",
       "       'var_171', 'var_178', 'var_180', 'var_182', 'var_195', 'var_196',\n",
       "       'var_201', 'var_212', 'var_215', 'var_225', 'var_227', 'var_248',\n",
       "       'var_294', 'var_297'],\n",
       "      dtype='object')"
      ]
     },
     "execution_count": 13,
     "metadata": {},
     "output_type": "execute_result"
    }
   ],
   "source": [
    "constant"
   ]
  },
  {
   "cell_type": "code",
   "execution_count": 14,
   "metadata": {},
   "outputs": [
    {
     "name": "stdout",
     "output_type": "stream",
     "text": [
      "var_23 [0]\n",
      "var_33 [0]\n",
      "var_44 [0]\n",
      "var_61 [0]\n",
      "var_80 [0]\n",
      "var_81 [0]\n",
      "var_87 [0]\n",
      "var_89 [0.]\n",
      "var_92 [0]\n",
      "var_97 [0]\n",
      "var_99 [0]\n",
      "var_112 [0]\n",
      "var_113 [0]\n",
      "var_120 [0]\n",
      "var_122 [0]\n",
      "var_127 [0]\n",
      "var_135 [0]\n",
      "var_158 [0]\n",
      "var_167 [0]\n",
      "var_170 [0]\n",
      "var_171 [0]\n",
      "var_178 [0.]\n",
      "var_180 [0.]\n",
      "var_182 [0]\n",
      "var_195 [0]\n",
      "var_196 [0]\n",
      "var_201 [0]\n",
      "var_212 [0]\n",
      "var_215 [0]\n",
      "var_225 [0]\n",
      "var_227 [0.]\n",
      "var_248 [0]\n",
      "var_294 [0]\n",
      "var_297 [0]\n"
     ]
    }
   ],
   "source": [
    "# double check using np.unique()\n",
    "for col in constant:\n",
    "    print(col, X_train[col].unique())"
   ]
  },
  {
   "cell_type": "code",
   "execution_count": 15,
   "metadata": {},
   "outputs": [],
   "source": [
    "# get the non-constant features\n",
    "features = X_train.columns[sel.get_support()]"
   ]
  },
  {
   "cell_type": "code",
   "execution_count": 16,
   "metadata": {},
   "outputs": [
    {
     "data": {
      "text/plain": [
       "((35000, 266), (15000, 266))"
      ]
     },
     "execution_count": 16,
     "metadata": {},
     "output_type": "execute_result"
    }
   ],
   "source": [
    "X_train = sel.transform(X_train)\n",
    "X_test = sel.transform(X_test)\n",
    "\n",
    "X_train.shape, X_test.shape"
   ]
  },
  {
   "cell_type": "code",
   "execution_count": 17,
   "metadata": {},
   "outputs": [
    {
     "data": {
      "text/html": [
       "<div>\n",
       "<style scoped>\n",
       "    .dataframe tbody tr th:only-of-type {\n",
       "        vertical-align: middle;\n",
       "    }\n",
       "\n",
       "    .dataframe tbody tr th {\n",
       "        vertical-align: top;\n",
       "    }\n",
       "\n",
       "    .dataframe thead th {\n",
       "        text-align: right;\n",
       "    }\n",
       "</style>\n",
       "<table border=\"1\" class=\"dataframe\">\n",
       "  <thead>\n",
       "    <tr style=\"text-align: right;\">\n",
       "      <th></th>\n",
       "      <th>var_1</th>\n",
       "      <th>var_2</th>\n",
       "      <th>var_3</th>\n",
       "      <th>var_4</th>\n",
       "      <th>var_5</th>\n",
       "      <th>var_6</th>\n",
       "      <th>var_7</th>\n",
       "      <th>var_8</th>\n",
       "      <th>var_9</th>\n",
       "      <th>var_10</th>\n",
       "      <th>...</th>\n",
       "      <th>var_289</th>\n",
       "      <th>var_290</th>\n",
       "      <th>var_291</th>\n",
       "      <th>var_292</th>\n",
       "      <th>var_293</th>\n",
       "      <th>var_295</th>\n",
       "      <th>var_296</th>\n",
       "      <th>var_298</th>\n",
       "      <th>var_299</th>\n",
       "      <th>var_300</th>\n",
       "    </tr>\n",
       "  </thead>\n",
       "  <tbody>\n",
       "    <tr>\n",
       "      <th>0</th>\n",
       "      <td>0.0</td>\n",
       "      <td>0.0</td>\n",
       "      <td>0.0</td>\n",
       "      <td>2.79</td>\n",
       "      <td>0.0</td>\n",
       "      <td>0.0</td>\n",
       "      <td>0.0</td>\n",
       "      <td>0.0</td>\n",
       "      <td>0.0</td>\n",
       "      <td>0.0</td>\n",
       "      <td>...</td>\n",
       "      <td>0.0</td>\n",
       "      <td>0.0</td>\n",
       "      <td>0.0</td>\n",
       "      <td>0.0</td>\n",
       "      <td>0.0</td>\n",
       "      <td>0.0</td>\n",
       "      <td>0.0</td>\n",
       "      <td>0.0</td>\n",
       "      <td>0.0</td>\n",
       "      <td>0.0</td>\n",
       "    </tr>\n",
       "    <tr>\n",
       "      <th>1</th>\n",
       "      <td>0.0</td>\n",
       "      <td>0.0</td>\n",
       "      <td>0.0</td>\n",
       "      <td>2.97</td>\n",
       "      <td>0.0</td>\n",
       "      <td>0.0</td>\n",
       "      <td>0.0</td>\n",
       "      <td>0.0</td>\n",
       "      <td>0.0</td>\n",
       "      <td>0.0</td>\n",
       "      <td>...</td>\n",
       "      <td>0.0</td>\n",
       "      <td>0.0</td>\n",
       "      <td>0.0</td>\n",
       "      <td>0.0</td>\n",
       "      <td>0.0</td>\n",
       "      <td>0.0</td>\n",
       "      <td>0.0</td>\n",
       "      <td>0.0</td>\n",
       "      <td>0.0</td>\n",
       "      <td>0.0</td>\n",
       "    </tr>\n",
       "    <tr>\n",
       "      <th>2</th>\n",
       "      <td>0.0</td>\n",
       "      <td>0.0</td>\n",
       "      <td>0.0</td>\n",
       "      <td>0.00</td>\n",
       "      <td>0.0</td>\n",
       "      <td>0.0</td>\n",
       "      <td>0.0</td>\n",
       "      <td>0.0</td>\n",
       "      <td>0.0</td>\n",
       "      <td>0.0</td>\n",
       "      <td>...</td>\n",
       "      <td>0.0</td>\n",
       "      <td>0.0</td>\n",
       "      <td>0.0</td>\n",
       "      <td>0.0</td>\n",
       "      <td>0.0</td>\n",
       "      <td>0.0</td>\n",
       "      <td>0.0</td>\n",
       "      <td>0.0</td>\n",
       "      <td>0.0</td>\n",
       "      <td>0.0</td>\n",
       "    </tr>\n",
       "    <tr>\n",
       "      <th>3</th>\n",
       "      <td>0.0</td>\n",
       "      <td>0.0</td>\n",
       "      <td>0.0</td>\n",
       "      <td>2.79</td>\n",
       "      <td>85435.2</td>\n",
       "      <td>0.0</td>\n",
       "      <td>0.0</td>\n",
       "      <td>0.0</td>\n",
       "      <td>0.0</td>\n",
       "      <td>0.0</td>\n",
       "      <td>...</td>\n",
       "      <td>0.0</td>\n",
       "      <td>0.0</td>\n",
       "      <td>0.0</td>\n",
       "      <td>0.0</td>\n",
       "      <td>0.0</td>\n",
       "      <td>0.0</td>\n",
       "      <td>0.0</td>\n",
       "      <td>0.0</td>\n",
       "      <td>0.0</td>\n",
       "      <td>0.0</td>\n",
       "    </tr>\n",
       "    <tr>\n",
       "      <th>4</th>\n",
       "      <td>0.0</td>\n",
       "      <td>0.0</td>\n",
       "      <td>0.0</td>\n",
       "      <td>5.70</td>\n",
       "      <td>0.0</td>\n",
       "      <td>0.0</td>\n",
       "      <td>0.0</td>\n",
       "      <td>0.0</td>\n",
       "      <td>0.0</td>\n",
       "      <td>0.0</td>\n",
       "      <td>...</td>\n",
       "      <td>0.0</td>\n",
       "      <td>0.0</td>\n",
       "      <td>0.0</td>\n",
       "      <td>0.0</td>\n",
       "      <td>0.0</td>\n",
       "      <td>0.0</td>\n",
       "      <td>0.0</td>\n",
       "      <td>0.0</td>\n",
       "      <td>0.0</td>\n",
       "      <td>0.0</td>\n",
       "    </tr>\n",
       "  </tbody>\n",
       "</table>\n",
       "<p>5 rows × 266 columns</p>\n",
       "</div>"
      ],
      "text/plain": [
       "   var_1  var_2  var_3  var_4    var_5  var_6  var_7  var_8  var_9  var_10  \\\n",
       "0    0.0    0.0    0.0   2.79      0.0    0.0    0.0    0.0    0.0     0.0   \n",
       "1    0.0    0.0    0.0   2.97      0.0    0.0    0.0    0.0    0.0     0.0   \n",
       "2    0.0    0.0    0.0   0.00      0.0    0.0    0.0    0.0    0.0     0.0   \n",
       "3    0.0    0.0    0.0   2.79  85435.2    0.0    0.0    0.0    0.0     0.0   \n",
       "4    0.0    0.0    0.0   5.70      0.0    0.0    0.0    0.0    0.0     0.0   \n",
       "\n",
       "   ...  var_289  var_290  var_291  var_292  var_293  var_295  var_296  \\\n",
       "0  ...      0.0      0.0      0.0      0.0      0.0      0.0      0.0   \n",
       "1  ...      0.0      0.0      0.0      0.0      0.0      0.0      0.0   \n",
       "2  ...      0.0      0.0      0.0      0.0      0.0      0.0      0.0   \n",
       "3  ...      0.0      0.0      0.0      0.0      0.0      0.0      0.0   \n",
       "4  ...      0.0      0.0      0.0      0.0      0.0      0.0      0.0   \n",
       "\n",
       "   var_298  var_299  var_300  \n",
       "0      0.0      0.0      0.0  \n",
       "1      0.0      0.0      0.0  \n",
       "2      0.0      0.0      0.0  \n",
       "3      0.0      0.0      0.0  \n",
       "4      0.0      0.0      0.0  \n",
       "\n",
       "[5 rows x 266 columns]"
      ]
     },
     "execution_count": 17,
     "metadata": {},
     "output_type": "execute_result"
    }
   ],
   "source": [
    "# turn back into dataframe (transform returns numpy array)\n",
    "X_train = pd.DataFrame(X_train, columns=features)\n",
    "X_train.head()"
   ]
  },
  {
   "cell_type": "markdown",
   "metadata": {},
   "source": [
    "## Manual method for numeric values only"
   ]
  },
  {
   "cell_type": "code",
   "execution_count": 18,
   "metadata": {},
   "outputs": [
    {
     "data": {
      "text/plain": [
       "((35000, 300), (15000, 300))"
      ]
     },
     "execution_count": 18,
     "metadata": {},
     "output_type": "execute_result"
    }
   ],
   "source": [
    "X_train, X_test, y_train, y_test = train_test_split(\n",
    "    data.drop(labels=['target'], axis=1),\n",
    "    data['target'],\n",
    "    test_size=0.3,\n",
    "    random_state=0)\n",
    "\n",
    "X_train.shape, X_test.shape"
   ]
  },
  {
   "cell_type": "code",
   "execution_count": 19,
   "metadata": {},
   "outputs": [
    {
     "data": {
      "text/plain": [
       "34"
      ]
     },
     "execution_count": 19,
     "metadata": {},
     "output_type": "execute_result"
    }
   ],
   "source": [
    "constant_features = [\n",
    "    feat for feat in X_train.columns if X_train[feat].std() == 0\n",
    "]\n",
    "\n",
    "len(constant_features)"
   ]
  },
  {
   "cell_type": "code",
   "execution_count": 20,
   "metadata": {},
   "outputs": [
    {
     "data": {
      "text/plain": [
       "((35000, 266), (15000, 266))"
      ]
     },
     "execution_count": 20,
     "metadata": {},
     "output_type": "execute_result"
    }
   ],
   "source": [
    "X_train.drop(labels=constant_features, axis=1, inplace=True)\n",
    "X_test.drop(labels=constant_features, axis=1, inplace=True)\n",
    "\n",
    "X_train.shape, X_test.shape"
   ]
  },
  {
   "cell_type": "markdown",
   "metadata": {},
   "source": [
    "## Manual method that also works with categorical variables"
   ]
  },
  {
   "cell_type": "code",
   "execution_count": 21,
   "metadata": {},
   "outputs": [
    {
     "data": {
      "text/plain": [
       "((35000, 300), (15000, 300))"
      ]
     },
     "execution_count": 21,
     "metadata": {},
     "output_type": "execute_result"
    }
   ],
   "source": [
    "X_train, X_test, y_train, y_test = train_test_split(\n",
    "    data.drop(labels=['target'], axis=1),\n",
    "    data['target'],\n",
    "    test_size=0.3,\n",
    "    random_state=0)\n",
    "\n",
    "X_train.shape, X_test.shape"
   ]
  },
  {
   "cell_type": "code",
   "execution_count": 22,
   "metadata": {},
   "outputs": [
    {
     "data": {
      "text/plain": [
       "var_1      object\n",
       "var_2      object\n",
       "var_3      object\n",
       "var_4      object\n",
       "var_5      object\n",
       "            ...  \n",
       "var_296    object\n",
       "var_297    object\n",
       "var_298    object\n",
       "var_299    object\n",
       "var_300    object\n",
       "Length: 300, dtype: object"
      ]
     },
     "execution_count": 22,
     "metadata": {},
     "output_type": "execute_result"
    }
   ],
   "source": [
    "# cast to object to simulate categorical variables\n",
    "X_train = X_train.astype('O')\n",
    "X_train.dtypes"
   ]
  },
  {
   "cell_type": "code",
   "execution_count": 25,
   "metadata": {},
   "outputs": [
    {
     "data": {
      "text/plain": [
       "0"
      ]
     },
     "execution_count": 25,
     "metadata": {},
     "output_type": "execute_result"
    }
   ],
   "source": [
    "# note nunique ignores missing values - if the variable has missing values use dropna=False\n",
    "constant_features = [\n",
    "    feat for feat in X_train.columns if X_train[feat].nunique() == 1\n",
    "]\n",
    "\n",
    "len(constant_features)"
   ]
  },
  {
   "cell_type": "code",
   "execution_count": 26,
   "metadata": {},
   "outputs": [
    {
     "data": {
      "text/plain": [
       "((35000, 266), (15000, 266))"
      ]
     },
     "execution_count": 26,
     "metadata": {},
     "output_type": "execute_result"
    }
   ],
   "source": [
    "X_train.drop(labels=constant_features, axis=1, inplace=True)\n",
    "X_test.drop(labels=constant_features, axis=1, inplace=True)\n",
    "\n",
    "X_train.shape, X_test.shape"
   ]
  },
  {
   "cell_type": "markdown",
   "metadata": {},
   "source": [
    "# Remove quasi-constant features"
   ]
  },
  {
   "cell_type": "code",
   "execution_count": 27,
   "metadata": {},
   "outputs": [
    {
     "data": {
      "text/plain": [
       "(50000, 301)"
      ]
     },
     "execution_count": 27,
     "metadata": {},
     "output_type": "execute_result"
    }
   ],
   "source": [
    "# load the data\n",
    "data = pd.read_csv('datasets/dataset_1.csv')\n",
    "data.shape"
   ]
  },
  {
   "cell_type": "code",
   "execution_count": 28,
   "metadata": {},
   "outputs": [
    {
     "data": {
      "text/plain": [
       "((35000, 300), (15000, 300))"
      ]
     },
     "execution_count": 28,
     "metadata": {},
     "output_type": "execute_result"
    }
   ],
   "source": [
    "# create test train split\n",
    "X_train, X_test, y_train, y_test = train_test_split(\n",
    "    data.drop(labels=['target'], axis=1),  # drop the target\n",
    "    data['target'],  # just the target\n",
    "    test_size=0.3,\n",
    "    random_state=0)\n",
    "\n",
    "X_train.shape, X_test.shape"
   ]
  },
  {
   "cell_type": "code",
   "execution_count": 29,
   "metadata": {},
   "outputs": [
    {
     "data": {
      "text/plain": [
       "142"
      ]
     },
     "execution_count": 29,
     "metadata": {},
     "output_type": "execute_result"
    }
   ],
   "source": [
    "# create an empty list\n",
    "quasi_constant_feat = []\n",
    "\n",
    "# iterate over every feature\n",
    "for feature in X_train.columns:\n",
    "\n",
    "    # find the predominant value, that is the value that is shared\n",
    "    # by most observations\n",
    "    predominant = (X_train[feature].value_counts() / np.float(\n",
    "        len(X_train))).sort_values(ascending=False).values[0]\n",
    "\n",
    "    # evaluate the predominant feature\n",
    "    if predominant > 0.998:\n",
    "        \n",
    "        # if yes, add the variable to the list\n",
    "        quasi_constant_feat.append(feature)\n",
    "\n",
    "len(quasi_constant_feat)"
   ]
  },
  {
   "cell_type": "code",
   "execution_count": 30,
   "metadata": {},
   "outputs": [
    {
     "data": {
      "text/plain": [
       "'var_3'"
      ]
     },
     "execution_count": 30,
     "metadata": {},
     "output_type": "execute_result"
    }
   ],
   "source": [
    "quasi_constant_feat[2]"
   ]
  },
  {
   "cell_type": "code",
   "execution_count": 31,
   "metadata": {},
   "outputs": [
    {
     "data": {
      "text/plain": [
       "0.0000         0.999629\n",
       "35685.9459     0.000029\n",
       "3583.3941      0.000029\n",
       "15028.0560     0.000029\n",
       "52105.7901     0.000029\n",
       "10281.6000     0.000029\n",
       "86718.0000     0.000029\n",
       "207901.3365    0.000029\n",
       "25905.4866     0.000029\n",
       "5209.9500      0.000029\n",
       "2641.0164      0.000029\n",
       "12542.3100     0.000029\n",
       "861.0900       0.000029\n",
       "27.3000        0.000029\n",
       "Name: var_3, dtype: float64"
      ]
     },
     "execution_count": 31,
     "metadata": {},
     "output_type": "execute_result"
    }
   ],
   "source": [
    "X_train['var_3'].value_counts() / np.float(len(X_train))"
   ]
  },
  {
   "cell_type": "code",
   "execution_count": 32,
   "metadata": {},
   "outputs": [
    {
     "data": {
      "text/plain": [
       "((35000, 158), (15000, 158))"
      ]
     },
     "execution_count": 32,
     "metadata": {},
     "output_type": "execute_result"
    }
   ],
   "source": [
    "# drop the quasi-constant features:\n",
    "\n",
    "X_train.drop(labels=quasi_constant_feat, axis=1, inplace=True)\n",
    "X_test.drop(labels=quasi_constant_feat, axis=1, inplace=True)\n",
    "\n",
    "X_train.shape, X_test.shape"
   ]
  },
  {
   "cell_type": "markdown",
   "metadata": {},
   "source": [
    "# Remove duplicate features"
   ]
  },
  {
   "cell_type": "code",
   "execution_count": 33,
   "metadata": {},
   "outputs": [
    {
     "data": {
      "text/plain": [
       "(50000, 301)"
      ]
     },
     "execution_count": 33,
     "metadata": {},
     "output_type": "execute_result"
    }
   ],
   "source": [
    "# load the data\n",
    "data = pd.read_csv('datasets/dataset_1.csv')\n",
    "data.shape"
   ]
  },
  {
   "cell_type": "code",
   "execution_count": 34,
   "metadata": {},
   "outputs": [
    {
     "data": {
      "text/plain": [
       "((35000, 300), (15000, 300))"
      ]
     },
     "execution_count": 34,
     "metadata": {},
     "output_type": "execute_result"
    }
   ],
   "source": [
    "# create test train split\n",
    "X_train, X_test, y_train, y_test = train_test_split(\n",
    "    data.drop(labels=['target'], axis=1),  # drop the target\n",
    "    data['target'],  # just the target\n",
    "    test_size=0.3,\n",
    "    random_state=0)\n",
    "\n",
    "X_train.shape, X_test.shape"
   ]
  },
  {
   "cell_type": "code",
   "execution_count": 35,
   "metadata": {},
   "outputs": [
    {
     "data": {
      "text/plain": [
       "142"
      ]
     },
     "execution_count": 35,
     "metadata": {},
     "output_type": "execute_result"
    }
   ],
   "source": [
    "# remove constant and quasi-constant features first\n",
    "\n",
    "# create an empty list\n",
    "quasi_constant_feat = []\n",
    "\n",
    "# iterate over every feature\n",
    "for feature in X_train.columns:\n",
    "\n",
    "    # find the predominant value, that is the value that is shared\n",
    "    # by most observations\n",
    "    predominant = (X_train[feature].value_counts() / np.float(\n",
    "        len(X_train))).sort_values(ascending=False).values[0]\n",
    "\n",
    "    # evaluate predominant features\n",
    "    if predominant > 0.998:\n",
    "        quasi_constant_feat.append(feature)\n",
    "\n",
    "len(quasi_constant_feat)"
   ]
  },
  {
   "cell_type": "code",
   "execution_count": 36,
   "metadata": {},
   "outputs": [
    {
     "data": {
      "text/plain": [
       "((35000, 158), (15000, 158))"
      ]
     },
     "execution_count": 36,
     "metadata": {},
     "output_type": "execute_result"
    }
   ],
   "source": [
    "# drop the quasi-constant features:\n",
    "\n",
    "X_train.drop(labels=quasi_constant_feat, axis=1, inplace=True)\n",
    "X_test.drop(labels=quasi_constant_feat, axis=1, inplace=True)\n",
    "\n",
    "X_train.shape, X_test.shape"
   ]
  },
  {
   "cell_type": "code",
   "execution_count": 37,
   "metadata": {},
   "outputs": [
    {
     "name": "stdout",
     "output_type": "stream",
     "text": [
      "0\n",
      "10\n",
      "20\n",
      "30\n",
      "40\n",
      "50\n",
      "60\n",
      "70\n",
      "80\n",
      "90\n",
      "100\n",
      "110\n",
      "120\n",
      "130\n",
      "140\n",
      "150\n"
     ]
    }
   ],
   "source": [
    "# check for duplicated features in the training set\n",
    "\n",
    "# create an empty dictionary, where we will store the groups of duplicates\n",
    "duplicated_feat_pairs = {}\n",
    "\n",
    "# create an empty list to collect features that were found to be duplicated\n",
    "_duplicated_feat = []\n",
    "\n",
    "# iterate over every feature in our dataset:\n",
    "for i in range(0, len(X_train.columns)):\n",
    "    \n",
    "    # this bit helps me understand where the loop is at:\n",
    "    if i % 10 == 0:  \n",
    "        print(i)\n",
    "    \n",
    "    # choose 1 feature:\n",
    "    feat_1 = X_train.columns[i]\n",
    "    \n",
    "    # check if this feature has already been identified\n",
    "    # as a duplicate of another one. If it was, it should be stored in\n",
    "    # our _duplicated_feat list.\n",
    "    \n",
    "    # If this feature was already identified as a duplicate, we skip it, if\n",
    "    # it has not yet been identified as a duplicate, then we proceed:\n",
    "    if feat_1 not in _duplicated_feat:\n",
    "    \n",
    "        # create an empty list as an entry for this feature in the dictionary:\n",
    "        duplicated_feat_pairs[feat_1] = []\n",
    "\n",
    "        # now, iterate over the remaining features of the dataset:\n",
    "        for feat_2 in X_train.columns[i + 1:]:\n",
    "\n",
    "            # check if this second feature is identical to the first one\n",
    "            if X_train[feat_1].equals(X_train[feat_2]):\n",
    "\n",
    "                # if it is identical, append it to the list in the dictionary\n",
    "                duplicated_feat_pairs[feat_1].append(feat_2)\n",
    "                \n",
    "                # and append it to our monitor list for duplicated variables\n",
    "                _duplicated_feat.append(feat_2)"
   ]
  },
  {
   "cell_type": "code",
   "execution_count": 38,
   "metadata": {},
   "outputs": [
    {
     "data": {
      "text/plain": [
       "6"
      ]
     },
     "execution_count": 38,
     "metadata": {},
     "output_type": "execute_result"
    }
   ],
   "source": [
    "len(_duplicated_feat)"
   ]
  },
  {
   "cell_type": "code",
   "execution_count": 39,
   "metadata": {},
   "outputs": [
    {
     "data": {
      "text/plain": [
       "['var_148', 'var_199', 'var_296', 'var_250', 'var_232', 'var_269']"
      ]
     },
     "execution_count": 39,
     "metadata": {},
     "output_type": "execute_result"
    }
   ],
   "source": [
    "_duplicated_feat"
   ]
  },
  {
   "cell_type": "code",
   "execution_count": 40,
   "metadata": {
    "scrolled": true
   },
   "outputs": [
    {
     "data": {
      "text/plain": [
       "{'var_4': [],\n",
       " 'var_5': [],\n",
       " 'var_8': [],\n",
       " 'var_13': [],\n",
       " 'var_15': [],\n",
       " 'var_17': [],\n",
       " 'var_18': [],\n",
       " 'var_19': [],\n",
       " 'var_21': [],\n",
       " 'var_22': [],\n",
       " 'var_25': [],\n",
       " 'var_26': [],\n",
       " 'var_27': [],\n",
       " 'var_29': [],\n",
       " 'var_30': [],\n",
       " 'var_31': [],\n",
       " 'var_35': [],\n",
       " 'var_37': ['var_148'],\n",
       " 'var_38': [],\n",
       " 'var_41': [],\n",
       " 'var_46': [],\n",
       " 'var_47': [],\n",
       " 'var_49': [],\n",
       " 'var_50': [],\n",
       " 'var_51': [],\n",
       " 'var_52': [],\n",
       " 'var_54': [],\n",
       " 'var_55': [],\n",
       " 'var_57': [],\n",
       " 'var_58': [],\n",
       " 'var_62': [],\n",
       " 'var_63': [],\n",
       " 'var_64': [],\n",
       " 'var_68': [],\n",
       " 'var_70': [],\n",
       " 'var_74': [],\n",
       " 'var_75': [],\n",
       " 'var_76': [],\n",
       " 'var_79': [],\n",
       " 'var_82': [],\n",
       " 'var_83': [],\n",
       " 'var_84': ['var_199'],\n",
       " 'var_85': [],\n",
       " 'var_86': [],\n",
       " 'var_88': [],\n",
       " 'var_91': [],\n",
       " 'var_93': [],\n",
       " 'var_94': [],\n",
       " 'var_96': [],\n",
       " 'var_100': [],\n",
       " 'var_101': [],\n",
       " 'var_103': [],\n",
       " 'var_105': [],\n",
       " 'var_107': [],\n",
       " 'var_108': [],\n",
       " 'var_109': [],\n",
       " 'var_110': [],\n",
       " 'var_114': [],\n",
       " 'var_117': [],\n",
       " 'var_118': [],\n",
       " 'var_119': [],\n",
       " 'var_121': [],\n",
       " 'var_123': [],\n",
       " 'var_128': [],\n",
       " 'var_131': [],\n",
       " 'var_132': [],\n",
       " 'var_134': [],\n",
       " 'var_137': [],\n",
       " 'var_139': [],\n",
       " 'var_140': [],\n",
       " 'var_143': ['var_296'],\n",
       " 'var_144': [],\n",
       " 'var_145': [],\n",
       " 'var_147': [],\n",
       " 'var_152': [],\n",
       " 'var_154': [],\n",
       " 'var_155': [],\n",
       " 'var_156': [],\n",
       " 'var_157': [],\n",
       " 'var_160': [],\n",
       " 'var_161': [],\n",
       " 'var_162': [],\n",
       " 'var_163': [],\n",
       " 'var_164': [],\n",
       " 'var_165': [],\n",
       " 'var_166': [],\n",
       " 'var_168': [],\n",
       " 'var_169': [],\n",
       " 'var_172': [],\n",
       " 'var_173': [],\n",
       " 'var_174': [],\n",
       " 'var_175': [],\n",
       " 'var_176': [],\n",
       " 'var_177': ['var_250'],\n",
       " 'var_179': [],\n",
       " 'var_181': [],\n",
       " 'var_185': [],\n",
       " 'var_186': [],\n",
       " 'var_188': [],\n",
       " 'var_190': [],\n",
       " 'var_191': [],\n",
       " 'var_192': [],\n",
       " 'var_193': [],\n",
       " 'var_194': [],\n",
       " 'var_198': [],\n",
       " 'var_200': [],\n",
       " 'var_203': [],\n",
       " 'var_205': [],\n",
       " 'var_206': [],\n",
       " 'var_207': [],\n",
       " 'var_208': [],\n",
       " 'var_209': [],\n",
       " 'var_213': [],\n",
       " 'var_214': [],\n",
       " 'var_218': [],\n",
       " 'var_220': [],\n",
       " 'var_222': [],\n",
       " 'var_226': ['var_232'],\n",
       " 'var_229': ['var_269'],\n",
       " 'var_230': [],\n",
       " 'var_231': [],\n",
       " 'var_238': [],\n",
       " 'var_240': [],\n",
       " 'var_241': [],\n",
       " 'var_242': [],\n",
       " 'var_244': [],\n",
       " 'var_252': [],\n",
       " 'var_253': [],\n",
       " 'var_255': [],\n",
       " 'var_256': [],\n",
       " 'var_258': [],\n",
       " 'var_259': [],\n",
       " 'var_261': [],\n",
       " 'var_262': [],\n",
       " 'var_266': [],\n",
       " 'var_268': [],\n",
       " 'var_270': [],\n",
       " 'var_271': [],\n",
       " 'var_272': [],\n",
       " 'var_273': [],\n",
       " 'var_275': [],\n",
       " 'var_276': [],\n",
       " 'var_277': [],\n",
       " 'var_278': [],\n",
       " 'var_279': [],\n",
       " 'var_281': [],\n",
       " 'var_284': [],\n",
       " 'var_288': [],\n",
       " 'var_292': [],\n",
       " 'var_293': [],\n",
       " 'var_295': [],\n",
       " 'var_300': []}"
      ]
     },
     "execution_count": 40,
     "metadata": {},
     "output_type": "execute_result"
    }
   ],
   "source": [
    "duplicated_feat_pairs"
   ]
  },
  {
   "cell_type": "code",
   "execution_count": 41,
   "metadata": {},
   "outputs": [
    {
     "name": "stdout",
     "output_type": "stream",
     "text": [
      "152\n"
     ]
    }
   ],
   "source": [
    "print(len(duplicated_feat_pairs.keys()))"
   ]
  },
  {
   "cell_type": "code",
   "execution_count": 42,
   "metadata": {},
   "outputs": [
    {
     "data": {
      "text/plain": [
       "((35000, 152), (15000, 152))"
      ]
     },
     "execution_count": 42,
     "metadata": {},
     "output_type": "execute_result"
    }
   ],
   "source": [
    "# remove the duplicates, retain only the keys of the dictionary\n",
    "\n",
    "X_train = X_train[duplicated_feat_pairs.keys()]\n",
    "X_test = X_test[duplicated_feat_pairs.keys()]\n",
    "\n",
    "X_train.shape, X_test.shape"
   ]
  },
  {
   "cell_type": "markdown",
   "metadata": {},
   "source": [
    "# Correlation\n",
    "---"
   ]
  },
  {
   "cell_type": "markdown",
   "metadata": {},
   "source": [
    "Any statistical relationship or association between two random variables.   \n",
    "Typically linear relationship.  \n",
    "Good variables are highly correlated with the target.   \n",
    "Correlated variables are redundant and don't provide additional value.   \n",
    "Good features are highly correlated with the target but are uncorrelated with each other."
   ]
  },
  {
   "cell_type": "markdown",
   "metadata": {},
   "source": [
    "## Pearson's correlation coefficient   \n",
    "Sum((X1-X1mean)\\*(Xn-Xn_mean)) / VarX1\\*VarXn   \n",
    "Value vary's between -1 and 1   \n",
    "1 is highly correlated   \n",
    "-1 is highly anti-correlated  "
   ]
  },
  {
   "cell_type": "code",
   "execution_count": 2,
   "metadata": {},
   "outputs": [],
   "source": [
    "import pandas as pd\n",
    "import numpy as np\n",
    "\n",
    "import matplotlib.pyplot as plt\n",
    "import seaborn as sns\n",
    "\n",
    "from sklearn.model_selection import train_test_split"
   ]
  },
  {
   "cell_type": "code",
   "execution_count": 4,
   "metadata": {},
   "outputs": [
    {
     "data": {
      "text/plain": [
       "(50000, 109)"
      ]
     },
     "execution_count": 4,
     "metadata": {},
     "output_type": "execute_result"
    }
   ],
   "source": [
    "# load dataset\n",
    "data = pd.read_csv('datasets/dataset_2.csv', nrows=50000)\n",
    "data.shape"
   ]
  },
  {
   "cell_type": "code",
   "execution_count": 5,
   "metadata": {},
   "outputs": [
    {
     "data": {
      "text/html": [
       "<div>\n",
       "<style scoped>\n",
       "    .dataframe tbody tr th:only-of-type {\n",
       "        vertical-align: middle;\n",
       "    }\n",
       "\n",
       "    .dataframe tbody tr th {\n",
       "        vertical-align: top;\n",
       "    }\n",
       "\n",
       "    .dataframe thead th {\n",
       "        text-align: right;\n",
       "    }\n",
       "</style>\n",
       "<table border=\"1\" class=\"dataframe\">\n",
       "  <thead>\n",
       "    <tr style=\"text-align: right;\">\n",
       "      <th></th>\n",
       "      <th>var_1</th>\n",
       "      <th>var_2</th>\n",
       "      <th>var_3</th>\n",
       "      <th>var_4</th>\n",
       "      <th>var_5</th>\n",
       "      <th>var_6</th>\n",
       "      <th>var_7</th>\n",
       "      <th>var_8</th>\n",
       "      <th>var_9</th>\n",
       "      <th>var_10</th>\n",
       "      <th>...</th>\n",
       "      <th>var_100</th>\n",
       "      <th>var_101</th>\n",
       "      <th>var_102</th>\n",
       "      <th>var_103</th>\n",
       "      <th>var_104</th>\n",
       "      <th>var_105</th>\n",
       "      <th>var_106</th>\n",
       "      <th>var_107</th>\n",
       "      <th>var_108</th>\n",
       "      <th>var_109</th>\n",
       "    </tr>\n",
       "  </thead>\n",
       "  <tbody>\n",
       "    <tr>\n",
       "      <th>0</th>\n",
       "      <td>4.532710</td>\n",
       "      <td>3.280834</td>\n",
       "      <td>17.982476</td>\n",
       "      <td>4.404259</td>\n",
       "      <td>2.349910</td>\n",
       "      <td>0.603264</td>\n",
       "      <td>2.784655</td>\n",
       "      <td>0.323146</td>\n",
       "      <td>12.009691</td>\n",
       "      <td>0.139346</td>\n",
       "      <td>...</td>\n",
       "      <td>2.079066</td>\n",
       "      <td>6.748819</td>\n",
       "      <td>2.941445</td>\n",
       "      <td>18.360496</td>\n",
       "      <td>17.726613</td>\n",
       "      <td>7.774031</td>\n",
       "      <td>1.473441</td>\n",
       "      <td>1.973832</td>\n",
       "      <td>0.976806</td>\n",
       "      <td>2.541417</td>\n",
       "    </tr>\n",
       "    <tr>\n",
       "      <th>1</th>\n",
       "      <td>5.821374</td>\n",
       "      <td>12.098722</td>\n",
       "      <td>13.309151</td>\n",
       "      <td>4.125599</td>\n",
       "      <td>1.045386</td>\n",
       "      <td>1.832035</td>\n",
       "      <td>1.833494</td>\n",
       "      <td>0.709090</td>\n",
       "      <td>8.652883</td>\n",
       "      <td>0.102757</td>\n",
       "      <td>...</td>\n",
       "      <td>2.479789</td>\n",
       "      <td>7.795290</td>\n",
       "      <td>3.557890</td>\n",
       "      <td>17.383378</td>\n",
       "      <td>15.193423</td>\n",
       "      <td>8.263673</td>\n",
       "      <td>1.878108</td>\n",
       "      <td>0.567939</td>\n",
       "      <td>1.018818</td>\n",
       "      <td>1.416433</td>\n",
       "    </tr>\n",
       "    <tr>\n",
       "      <th>2</th>\n",
       "      <td>1.938776</td>\n",
       "      <td>7.952752</td>\n",
       "      <td>0.972671</td>\n",
       "      <td>3.459267</td>\n",
       "      <td>1.935782</td>\n",
       "      <td>0.621463</td>\n",
       "      <td>2.338139</td>\n",
       "      <td>0.344948</td>\n",
       "      <td>9.937850</td>\n",
       "      <td>11.691283</td>\n",
       "      <td>...</td>\n",
       "      <td>1.861487</td>\n",
       "      <td>6.130886</td>\n",
       "      <td>3.401064</td>\n",
       "      <td>15.850471</td>\n",
       "      <td>14.620599</td>\n",
       "      <td>6.849776</td>\n",
       "      <td>1.098210</td>\n",
       "      <td>1.959183</td>\n",
       "      <td>1.575493</td>\n",
       "      <td>1.857893</td>\n",
       "    </tr>\n",
       "    <tr>\n",
       "      <th>3</th>\n",
       "      <td>6.020690</td>\n",
       "      <td>9.900544</td>\n",
       "      <td>17.869637</td>\n",
       "      <td>4.366715</td>\n",
       "      <td>1.973693</td>\n",
       "      <td>2.026012</td>\n",
       "      <td>2.853025</td>\n",
       "      <td>0.674847</td>\n",
       "      <td>11.816859</td>\n",
       "      <td>0.011151</td>\n",
       "      <td>...</td>\n",
       "      <td>1.340944</td>\n",
       "      <td>7.240058</td>\n",
       "      <td>2.417235</td>\n",
       "      <td>15.194609</td>\n",
       "      <td>13.553772</td>\n",
       "      <td>7.229971</td>\n",
       "      <td>0.835158</td>\n",
       "      <td>2.234482</td>\n",
       "      <td>0.946170</td>\n",
       "      <td>2.700606</td>\n",
       "    </tr>\n",
       "    <tr>\n",
       "      <th>4</th>\n",
       "      <td>3.909506</td>\n",
       "      <td>10.576516</td>\n",
       "      <td>0.934191</td>\n",
       "      <td>3.419572</td>\n",
       "      <td>1.871438</td>\n",
       "      <td>3.340811</td>\n",
       "      <td>1.868282</td>\n",
       "      <td>0.439865</td>\n",
       "      <td>13.585620</td>\n",
       "      <td>1.153366</td>\n",
       "      <td>...</td>\n",
       "      <td>2.738095</td>\n",
       "      <td>6.565509</td>\n",
       "      <td>4.341414</td>\n",
       "      <td>15.893832</td>\n",
       "      <td>11.929787</td>\n",
       "      <td>6.954033</td>\n",
       "      <td>1.853364</td>\n",
       "      <td>0.511027</td>\n",
       "      <td>2.599562</td>\n",
       "      <td>0.811364</td>\n",
       "    </tr>\n",
       "  </tbody>\n",
       "</table>\n",
       "<p>5 rows × 109 columns</p>\n",
       "</div>"
      ],
      "text/plain": [
       "      var_1      var_2      var_3     var_4     var_5     var_6     var_7  \\\n",
       "0  4.532710   3.280834  17.982476  4.404259  2.349910  0.603264  2.784655   \n",
       "1  5.821374  12.098722  13.309151  4.125599  1.045386  1.832035  1.833494   \n",
       "2  1.938776   7.952752   0.972671  3.459267  1.935782  0.621463  2.338139   \n",
       "3  6.020690   9.900544  17.869637  4.366715  1.973693  2.026012  2.853025   \n",
       "4  3.909506  10.576516   0.934191  3.419572  1.871438  3.340811  1.868282   \n",
       "\n",
       "      var_8      var_9     var_10  ...   var_100   var_101   var_102  \\\n",
       "0  0.323146  12.009691   0.139346  ...  2.079066  6.748819  2.941445   \n",
       "1  0.709090   8.652883   0.102757  ...  2.479789  7.795290  3.557890   \n",
       "2  0.344948   9.937850  11.691283  ...  1.861487  6.130886  3.401064   \n",
       "3  0.674847  11.816859   0.011151  ...  1.340944  7.240058  2.417235   \n",
       "4  0.439865  13.585620   1.153366  ...  2.738095  6.565509  4.341414   \n",
       "\n",
       "     var_103    var_104   var_105   var_106   var_107   var_108   var_109  \n",
       "0  18.360496  17.726613  7.774031  1.473441  1.973832  0.976806  2.541417  \n",
       "1  17.383378  15.193423  8.263673  1.878108  0.567939  1.018818  1.416433  \n",
       "2  15.850471  14.620599  6.849776  1.098210  1.959183  1.575493  1.857893  \n",
       "3  15.194609  13.553772  7.229971  0.835158  2.234482  0.946170  2.700606  \n",
       "4  15.893832  11.929787  6.954033  1.853364  0.511027  2.599562  0.811364  \n",
       "\n",
       "[5 rows x 109 columns]"
      ]
     },
     "execution_count": 5,
     "metadata": {},
     "output_type": "execute_result"
    }
   ],
   "source": [
    "data.head()"
   ]
  },
  {
   "cell_type": "code",
   "execution_count": 16,
   "metadata": {},
   "outputs": [
    {
     "data": {
      "text/plain": [
       "((35000, 108), (15000, 108))"
      ]
     },
     "execution_count": 16,
     "metadata": {},
     "output_type": "execute_result"
    }
   ],
   "source": [
    "# create test train split\n",
    "X_train, X_test, y_train, y_test = train_test_split(\n",
    "    data.drop(labels=['target'], axis=1),  # drop the target\n",
    "    data['target'],  # just the target\n",
    "    test_size=0.3,\n",
    "    random_state=0)\n",
    "\n",
    "X_train.shape, X_test.shape"
   ]
  },
  {
   "cell_type": "markdown",
   "metadata": {},
   "source": [
    "## Correlation heatmap"
   ]
  },
  {
   "cell_type": "code",
   "execution_count": 7,
   "metadata": {},
   "outputs": [
    {
     "data": {
      "text/plain": [
       "<matplotlib.axes._subplots.AxesSubplot at 0x7fb5bc1cd9a0>"
      ]
     },
     "execution_count": 7,
     "metadata": {},
     "output_type": "execute_result"
    },
    {
     "data": {
      "image/png": "[encoded data removed]",
      "text/plain": [
       "<Figure size 792x792 with 2 Axes>"
      ]
     },
     "metadata": {
      "needs_background": "light"
     },
     "output_type": "display_data"
    }
   ],
   "source": [
    "# the default correlation method of pandas.corr is pearson\n",
    "corrmat = X_train.corr(method='pearson')\n",
    "\n",
    "# we can make a heatmap with the package seaborn\n",
    "# and customise the colours of searborn's heatmap\n",
    "cmap = sns.diverging_palette(220, 20, as_cmap=True)\n",
    "\n",
    "# some more parameters for the figure\n",
    "fig, ax = plt.subplots()\n",
    "fig.set_size_inches(11,11)\n",
    "\n",
    "# and now plot the correlation matrix\n",
    "sns.heatmap(corrmat, cmap=cmap)"
   ]
  },
  {
   "cell_type": "markdown",
   "metadata": {},
   "source": [
    "In the plot above, the dark orange squares correspond to highly correlated features (>0.8). Darker blue squares corresponds to negatively correlated features (<-0.8).   \n",
    "\n",
    "The diagonal represents the correlation of a feature with itself, therefore the value is 1.   \n",
    "\n",
    "We can see that there are a few features that are highly correlated.    "
   ]
  },
  {
   "cell_type": "markdown",
   "metadata": {},
   "source": [
    "## Correlation scatterplots"
   ]
  },
  {
   "cell_type": "code",
   "execution_count": 9,
   "metadata": {},
   "outputs": [
    {
     "name": "stdout",
     "output_type": "stream",
     "text": [
      "var_5 1.0\n",
      "var_28 0.9536721652385074\n",
      "var_75 0.8616179292025175\n"
     ]
    }
   ],
   "source": [
    "# compare var_5 to other variable\n",
    "c = 0\n",
    "\n",
    "# iterate over each correlation value for var_5:\n",
    "for i in corrmat.loc['var_5']:\n",
    "    \n",
    "    # if highly correlated\n",
    "    if i>0.8:\n",
    "        \n",
    "        # print the variable name and the correlation coefficient\n",
    "        print(corrmat.columns[c], i)\n",
    "        \n",
    "    c = c +1"
   ]
  },
  {
   "cell_type": "code",
   "execution_count": 10,
   "metadata": {},
   "outputs": [
    {
     "data": {
      "image/png": "[encoded data removed]",
      "text/plain": [
       "<Figure size 432x288 with 1 Axes>"
      ]
     },
     "metadata": {
      "needs_background": "light"
     },
     "output_type": "display_data"
    }
   ],
   "source": [
    "plt.scatter(X_train['var_5'], X_train['var_28'])\n",
    "plt.ylabel('var_28')\n",
    "plt.xlabel('var_5')\n",
    "plt.show()"
   ]
  },
  {
   "cell_type": "code",
   "execution_count": 11,
   "metadata": {},
   "outputs": [
    {
     "data": {
      "image/png": "[encoded data removed]",
      "text/plain": [
       "<Figure size 432x288 with 1 Axes>"
      ]
     },
     "metadata": {
      "needs_background": "light"
     },
     "output_type": "display_data"
    }
   ],
   "source": [
    "plt.scatter(X_train['var_5'], X_train['var_75'])\n",
    "plt.ylabel('var_75')\n",
    "plt.xlabel('var_5')\n",
    "plt.show()"
   ]
  },
  {
   "cell_type": "markdown",
   "metadata": {},
   "source": [
    "## Remove correlated features"
   ]
  },
  {
   "cell_type": "markdown",
   "metadata": {},
   "source": [
    "### Brute force approach"
   ]
  },
  {
   "cell_type": "code",
   "execution_count": 12,
   "metadata": {},
   "outputs": [],
   "source": [
    "def correlation(dataset, threshold):\n",
    "    # create a set to store the names of correlated columns\n",
    "    col_corr = set()\n",
    "    \n",
    "    # create the correlation matrix\n",
    "    corr_matrix = dataset.corr()\n",
    "    \n",
    "    # for each feature in the dataset (columns of the correlation matrix)\n",
    "    for i in range(len(corr_matrix.columns)):\n",
    "        # check with other features\n",
    "        for j in range(i):\n",
    "            # if the correlation is higher than a certain threshold\n",
    "            if abs(corr_matrix.iloc[i, j]) > threshold: # we are interested in absolute coeff value\n",
    "                # get the name of the correlated feature\n",
    "                colname = corr_matrix.columns[i]\n",
    "                \n",
    "                # and add it to our correlated set\n",
    "                col_corr.add(colname)\n",
    "                \n",
    "    return col_corr"
   ]
  },
  {
   "cell_type": "code",
   "execution_count": 13,
   "metadata": {},
   "outputs": [
    {
     "data": {
      "text/plain": [
       "36"
      ]
     },
     "execution_count": 13,
     "metadata": {},
     "output_type": "execute_result"
    }
   ],
   "source": [
    "corr_features = correlation(X_train, 0.8)\n",
    "len(set(corr_features))"
   ]
  },
  {
   "cell_type": "code",
   "execution_count": 17,
   "metadata": {},
   "outputs": [
    {
     "data": {
      "text/plain": [
       "((35000, 72), (15000, 72))"
      ]
     },
     "execution_count": 17,
     "metadata": {},
     "output_type": "execute_result"
    }
   ],
   "source": [
    "X_train.drop(labels=corr_features, axis=1, inplace=True)\n",
    "X_test.drop(labels=corr_features, axis=1, inplace=True)\n",
    "\n",
    "X_train.shape, X_test.shape"
   ]
  },
  {
   "cell_type": "markdown",
   "metadata": {},
   "source": [
    "### Model importance approach"
   ]
  },
  {
   "cell_type": "code",
   "execution_count": 18,
   "metadata": {},
   "outputs": [
    {
     "data": {
      "text/plain": [
       "((35000, 108), (15000, 108))"
      ]
     },
     "execution_count": 18,
     "metadata": {},
     "output_type": "execute_result"
    }
   ],
   "source": [
    "# create test train split\n",
    "X_train, X_test, y_train, y_test = train_test_split(\n",
    "    data.drop(labels=['target'], axis=1),  # drop the target\n",
    "    data['target'],  # just the target\n",
    "    test_size=0.3,\n",
    "    random_state=0)\n",
    "\n",
    "X_train.shape, X_test.shape"
   ]
  },
  {
   "cell_type": "code",
   "execution_count": 19,
   "metadata": {},
   "outputs": [
    {
     "data": {
      "text/html": [
       "<div>\n",
       "<style scoped>\n",
       "    .dataframe tbody tr th:only-of-type {\n",
       "        vertical-align: middle;\n",
       "    }\n",
       "\n",
       "    .dataframe tbody tr th {\n",
       "        vertical-align: top;\n",
       "    }\n",
       "\n",
       "    .dataframe thead th {\n",
       "        text-align: right;\n",
       "    }\n",
       "</style>\n",
       "<table border=\"1\" class=\"dataframe\">\n",
       "  <thead>\n",
       "    <tr style=\"text-align: right;\">\n",
       "      <th></th>\n",
       "      <th>feature1</th>\n",
       "      <th>feature2</th>\n",
       "      <th>corr</th>\n",
       "    </tr>\n",
       "  </thead>\n",
       "  <tbody>\n",
       "    <tr>\n",
       "      <th>0</th>\n",
       "      <td>var_80</td>\n",
       "      <td>var_3</td>\n",
       "      <td>0.994923</td>\n",
       "    </tr>\n",
       "    <tr>\n",
       "      <th>1</th>\n",
       "      <td>var_3</td>\n",
       "      <td>var_80</td>\n",
       "      <td>0.994923</td>\n",
       "    </tr>\n",
       "    <tr>\n",
       "      <th>2</th>\n",
       "      <td>var_22</td>\n",
       "      <td>var_32</td>\n",
       "      <td>0.990431</td>\n",
       "    </tr>\n",
       "    <tr>\n",
       "      <th>3</th>\n",
       "      <td>var_32</td>\n",
       "      <td>var_22</td>\n",
       "      <td>0.990431</td>\n",
       "    </tr>\n",
       "    <tr>\n",
       "      <th>4</th>\n",
       "      <td>var_109</td>\n",
       "      <td>var_56</td>\n",
       "      <td>0.987777</td>\n",
       "    </tr>\n",
       "  </tbody>\n",
       "</table>\n",
       "</div>"
      ],
      "text/plain": [
       "  feature1 feature2      corr\n",
       "0   var_80    var_3  0.994923\n",
       "1    var_3   var_80  0.994923\n",
       "2   var_22   var_32  0.990431\n",
       "3   var_32   var_22  0.990431\n",
       "4  var_109   var_56  0.987777"
      ]
     },
     "execution_count": 19,
     "metadata": {},
     "output_type": "execute_result"
    }
   ],
   "source": [
    "# build a dataframe with the correlation between features\n",
    "# remember that the absolute value of the correlation\n",
    "# coefficient is important and not the sign\n",
    "\n",
    "corrmat = X_train.corr()\n",
    "corrmat = corrmat.abs().unstack() # absolute value of corr coef\n",
    "corrmat = corrmat.sort_values(ascending=False)\n",
    "corrmat = corrmat[corrmat >= 0.8]\n",
    "corrmat = corrmat[corrmat < 1]\n",
    "corrmat = pd.DataFrame(corrmat).reset_index()\n",
    "corrmat.columns = ['feature1', 'feature2', 'corr']\n",
    "corrmat.head()"
   ]
  },
  {
   "cell_type": "code",
   "execution_count": 20,
   "metadata": {},
   "outputs": [
    {
     "name": "stdout",
     "output_type": "stream",
     "text": [
      "found 26 correlated groups\n",
      "out of 108 total features\n"
     ]
    }
   ],
   "source": [
    "# find groups of correlated features\n",
    "grouped_feature_ls = []\n",
    "correlated_groups = []\n",
    "\n",
    "for feature in corrmat.feature1.unique():\n",
    "    if feature not in grouped_feature_ls:\n",
    "        # find all features correlated to a single feature\n",
    "        correlated_block = corrmat[corrmat.feature1 == feature]\n",
    "        grouped_feature_ls = grouped_feature_ls + list(\n",
    "            correlated_block.feature2.unique()) + [feature]\n",
    "\n",
    "        # append the block of features to the list\n",
    "        correlated_groups.append(correlated_block)\n",
    "\n",
    "print('found {} correlated groups'.format(len(correlated_groups)))\n",
    "print('out of {} total features'.format(X_train.shape[1]))"
   ]
  },
  {
   "cell_type": "code",
   "execution_count": 21,
   "metadata": {},
   "outputs": [
    {
     "data": {
      "text/html": [
       "<div>\n",
       "<style scoped>\n",
       "    .dataframe tbody tr th:only-of-type {\n",
       "        vertical-align: middle;\n",
       "    }\n",
       "\n",
       "    .dataframe tbody tr th {\n",
       "        vertical-align: top;\n",
       "    }\n",
       "\n",
       "    .dataframe thead th {\n",
       "        text-align: right;\n",
       "    }\n",
       "</style>\n",
       "<table border=\"1\" class=\"dataframe\">\n",
       "  <thead>\n",
       "    <tr style=\"text-align: right;\">\n",
       "      <th></th>\n",
       "      <th>feature1</th>\n",
       "      <th>feature2</th>\n",
       "      <th>corr</th>\n",
       "    </tr>\n",
       "  </thead>\n",
       "  <tbody>\n",
       "    <tr>\n",
       "      <th>2</th>\n",
       "      <td>var_22</td>\n",
       "      <td>var_32</td>\n",
       "      <td>0.990431</td>\n",
       "    </tr>\n",
       "    <tr>\n",
       "      <th>6</th>\n",
       "      <td>var_22</td>\n",
       "      <td>var_24</td>\n",
       "      <td>0.981341</td>\n",
       "    </tr>\n",
       "    <tr>\n",
       "      <th>15</th>\n",
       "      <td>var_22</td>\n",
       "      <td>var_39</td>\n",
       "      <td>0.974461</td>\n",
       "    </tr>\n",
       "    <tr>\n",
       "      <th>45</th>\n",
       "      <td>var_22</td>\n",
       "      <td>var_76</td>\n",
       "      <td>0.931911</td>\n",
       "    </tr>\n",
       "    <tr>\n",
       "      <th>59</th>\n",
       "      <td>var_22</td>\n",
       "      <td>var_42</td>\n",
       "      <td>0.919106</td>\n",
       "    </tr>\n",
       "  </tbody>\n",
       "</table>\n",
       "</div>"
      ],
      "text/plain": [
       "   feature1 feature2      corr\n",
       "2    var_22   var_32  0.990431\n",
       "6    var_22   var_24  0.981341\n",
       "15   var_22   var_39  0.974461\n",
       "45   var_22   var_76  0.931911\n",
       "59   var_22   var_42  0.919106"
      ]
     },
     "execution_count": 21,
     "metadata": {},
     "output_type": "execute_result"
    }
   ],
   "source": [
    "group = correlated_groups[1]\n",
    "group"
   ]
  },
  {
   "cell_type": "code",
   "execution_count": 24,
   "metadata": {},
   "outputs": [
    {
     "data": {
      "image/png": "[encoded data removed]",
      "text/plain": [
       "<Figure size 432x288 with 1 Axes>"
      ]
     },
     "metadata": {
      "needs_background": "light"
     },
     "output_type": "display_data"
    },
    {
     "data": {
      "image/png": "[encoded data removed]",
      "text/plain": [
       "<Figure size 432x288 with 1 Axes>"
      ]
     },
     "metadata": {
      "needs_background": "light"
     },
     "output_type": "display_data"
    },
    {
     "data": {
      "image/png": "[encoded data removed]",
      "text/plain": [
       "<Figure size 432x288 with 1 Axes>"
      ]
     },
     "metadata": {
      "needs_background": "light"
     },
     "output_type": "display_data"
    },
    {
     "data": {
      "image/png": "[encoded data removed]",
      "text/plain": [
       "<Figure size 432x288 with 1 Axes>"
      ]
     },
     "metadata": {
      "needs_background": "light"
     },
     "output_type": "display_data"
    },
    {
     "data": {
      "image/png": "[encoded data removed]",
      "text/plain": [
       "<Figure size 432x288 with 1 Axes>"
      ]
     },
     "metadata": {
      "needs_background": "light"
     },
     "output_type": "display_data"
    }
   ],
   "source": [
    "for feature in group['feature2']:\n",
    "    plt.scatter(X_train['var_22'], X_train[feature])\n",
    "    plt.xlabel('var_22')\n",
    "    plt.ylabel(feature)\n",
    "    plt.show()"
   ]
  },
  {
   "cell_type": "code",
   "execution_count": 22,
   "metadata": {},
   "outputs": [
    {
     "data": {
      "text/plain": [
       "RandomForestClassifier(max_depth=4, n_estimators=200, random_state=39)"
      ]
     },
     "execution_count": 22,
     "metadata": {},
     "output_type": "execute_result"
    }
   ],
   "source": [
    "from sklearn.ensemble import RandomForestClassifier\n",
    "\n",
    "# add all features of the group to a list\n",
    "features = list(group['feature2'].unique())+['var_22']\n",
    "\n",
    "# train a random forest \n",
    "rf = RandomForestClassifier(n_estimators=200, random_state=39, max_depth=4)\n",
    "rf.fit(X_train[features].fillna(0), y_train)"
   ]
  },
  {
   "cell_type": "code",
   "execution_count": 23,
   "metadata": {},
   "outputs": [
    {
     "data": {
      "text/html": [
       "<div>\n",
       "<style scoped>\n",
       "    .dataframe tbody tr th:only-of-type {\n",
       "        vertical-align: middle;\n",
       "    }\n",
       "\n",
       "    .dataframe tbody tr th {\n",
       "        vertical-align: top;\n",
       "    }\n",
       "\n",
       "    .dataframe thead th {\n",
       "        text-align: right;\n",
       "    }\n",
       "</style>\n",
       "<table border=\"1\" class=\"dataframe\">\n",
       "  <thead>\n",
       "    <tr style=\"text-align: right;\">\n",
       "      <th></th>\n",
       "      <th>feature</th>\n",
       "      <th>importance</th>\n",
       "    </tr>\n",
       "  </thead>\n",
       "  <tbody>\n",
       "    <tr>\n",
       "      <th>2</th>\n",
       "      <td>var_39</td>\n",
       "      <td>0.193758</td>\n",
       "    </tr>\n",
       "    <tr>\n",
       "      <th>3</th>\n",
       "      <td>var_76</td>\n",
       "      <td>0.181767</td>\n",
       "    </tr>\n",
       "    <tr>\n",
       "      <th>5</th>\n",
       "      <td>var_22</td>\n",
       "      <td>0.177793</td>\n",
       "    </tr>\n",
       "    <tr>\n",
       "      <th>4</th>\n",
       "      <td>var_42</td>\n",
       "      <td>0.154643</td>\n",
       "    </tr>\n",
       "    <tr>\n",
       "      <th>1</th>\n",
       "      <td>var_24</td>\n",
       "      <td>0.152343</td>\n",
       "    </tr>\n",
       "    <tr>\n",
       "      <th>0</th>\n",
       "      <td>var_32</td>\n",
       "      <td>0.139697</td>\n",
       "    </tr>\n",
       "  </tbody>\n",
       "</table>\n",
       "</div>"
      ],
      "text/plain": [
       "  feature  importance\n",
       "2  var_39    0.193758\n",
       "3  var_76    0.181767\n",
       "5  var_22    0.177793\n",
       "4  var_42    0.154643\n",
       "1  var_24    0.152343\n",
       "0  var_32    0.139697"
      ]
     },
     "execution_count": 23,
     "metadata": {},
     "output_type": "execute_result"
    }
   ],
   "source": [
    "# get the feature importance attributed by the \n",
    "# random forest model (more on this in coming lectures)\n",
    "\n",
    "importance = pd.concat(\n",
    "    [pd.Series(features),\n",
    "     pd.Series(rf.feature_importances_)], axis=1)\n",
    "\n",
    "importance.columns = ['feature', 'importance']\n",
    "\n",
    "# sort features by importance, most important first\n",
    "importance.sort_values(by='importance', ascending=False)"
   ]
  },
  {
   "cell_type": "markdown",
   "metadata": {},
   "source": [
    "# Statistical measures\n",
    "---"
   ]
  },
  {
   "cell_type": "markdown",
   "metadata": {},
   "source": [
    "## Mutual Information\n",
    "Amount of information gained about one random variable through observing the other random variable."
   ]
  },
  {
   "cell_type": "code",
   "execution_count": 25,
   "metadata": {},
   "outputs": [],
   "source": [
    "import numpy as np\n",
    "import pandas as pd\n",
    "import matplotlib.pyplot as plt\n",
    "from sklearn.model_selection import train_test_split\n",
    "\n",
    "# to obtain the mutual information values\n",
    "from sklearn.feature_selection import mutual_info_classif, mutual_info_regression\n",
    "\n",
    "# to select the features\n",
    "from sklearn.feature_selection import SelectKBest, SelectPercentile"
   ]
  },
  {
   "cell_type": "markdown",
   "metadata": {},
   "source": [
    "### Classification"
   ]
  },
  {
   "cell_type": "code",
   "execution_count": 28,
   "metadata": {},
   "outputs": [
    {
     "data": {
      "text/plain": [
       "(50000, 109)"
      ]
     },
     "execution_count": 28,
     "metadata": {},
     "output_type": "execute_result"
    }
   ],
   "source": [
    "# load dataset\n",
    "data = pd.read_csv('datasets/dataset_2.csv')\n",
    "data.shape"
   ]
  },
  {
   "cell_type": "code",
   "execution_count": 29,
   "metadata": {},
   "outputs": [
    {
     "data": {
      "text/plain": [
       "((35000, 108), (15000, 108))"
      ]
     },
     "execution_count": 29,
     "metadata": {},
     "output_type": "execute_result"
    }
   ],
   "source": [
    "# separate train and test sets\n",
    "X_train, X_test, y_train, y_test = train_test_split(\n",
    "    data.drop(labels=['target'], axis=1),\n",
    "    data['target'],\n",
    "    test_size=0.3,\n",
    "    random_state=0)\n",
    "\n",
    "X_train.shape, X_test.shape"
   ]
  },
  {
   "cell_type": "code",
   "execution_count": 30,
   "metadata": {},
   "outputs": [
    {
     "data": {
      "text/plain": [
       "array([0.00000000e+00, 3.45228407e-03, 0.00000000e+00, 1.29212097e-03,\n",
       "       2.52722938e-04, 4.94099638e-03, 4.89970777e-03, 2.73733979e-03,\n",
       "       0.00000000e+00, 0.00000000e+00, 8.96028301e-04, 8.12432409e-04,\n",
       "       9.21413934e-04, 4.97441269e-03, 0.00000000e+00, 1.56560009e-02,\n",
       "       0.00000000e+00, 0.00000000e+00, 1.44767963e-04, 0.00000000e+00,\n",
       "       3.97314147e-03, 0.00000000e+00, 0.00000000e+00, 0.00000000e+00,\n",
       "       5.28201311e-05, 0.00000000e+00, 0.00000000e+00, 0.00000000e+00,\n",
       "       1.58056201e-03, 1.51381008e-03, 0.00000000e+00, 0.00000000e+00,\n",
       "       4.92153185e-03, 1.67474934e-02, 0.00000000e+00, 2.13881231e-03,\n",
       "       4.28043982e-04, 1.88053224e-03, 4.56972887e-04, 0.00000000e+00,\n",
       "       0.00000000e+00, 0.00000000e+00, 3.04630448e-06, 2.92647829e-03,\n",
       "       1.95590351e-03, 2.04931977e-03, 0.00000000e+00, 2.44590695e-03,\n",
       "       0.00000000e+00, 2.86040239e-04, 0.00000000e+00, 2.61186089e-03,\n",
       "       0.00000000e+00, 3.27833395e-03, 4.07370396e-02, 1.54694222e-03,\n",
       "       3.56656573e-03, 0.00000000e+00, 9.74935737e-05, 2.53516702e-03,\n",
       "       0.00000000e+00, 0.00000000e+00, 1.02074749e-03, 0.00000000e+00,\n",
       "       3.67273656e-03, 0.00000000e+00, 0.00000000e+00, 1.10858351e-02,\n",
       "       0.00000000e+00, 2.83486218e-04, 0.00000000e+00, 4.20875541e-03,\n",
       "       2.38910471e-03, 4.84896840e-04, 1.56030615e-03, 3.12459396e-04,\n",
       "       4.17996579e-03, 0.00000000e+00, 3.19949362e-03, 2.46032691e-03,\n",
       "       1.22028882e-03, 7.76660574e-05, 0.00000000e+00, 0.00000000e+00,\n",
       "       3.86067185e-03, 0.00000000e+00, 0.00000000e+00, 0.00000000e+00,\n",
       "       3.37403990e-03, 4.03311375e-03, 2.49390133e-03, 0.00000000e+00,\n",
       "       1.21465417e-03, 1.25294511e-03, 7.36052733e-03, 2.55731186e-03,\n",
       "       3.45437314e-03, 5.29847659e-04, 4.30757729e-03, 2.62115364e-03,\n",
       "       3.33448443e-03, 2.68943080e-03, 1.31963273e-04, 0.00000000e+00,\n",
       "       2.10094656e-03, 0.00000000e+00, 1.89638780e-02, 1.25964174e-04])"
      ]
     },
     "execution_count": 30,
     "metadata": {},
     "output_type": "execute_result"
    }
   ],
   "source": [
    "# calculate the mutual information between the variables and the target\n",
    "\n",
    "# the smaller the value of the mi, the less information we can infer from\n",
    "# the feature about the target\n",
    "\n",
    "mi = mutual_info_classif(X_train, y_train)\n",
    "mi"
   ]
  },
  {
   "cell_type": "code",
   "execution_count": 31,
   "metadata": {},
   "outputs": [
    {
     "data": {
      "text/plain": [
       "Text(0, 0.5, 'Mutual Information')"
      ]
     },
     "execution_count": 31,
     "metadata": {},
     "output_type": "execute_result"
    },
    {
     "data": {
      "image/png": "[encoded data removed]",
      "text/plain": [
       "<Figure size 1440x432 with 1 Axes>"
      ]
     },
     "metadata": {
      "needs_background": "light"
     },
     "output_type": "display_data"
    }
   ],
   "source": [
    "# 1) let's capture the above array in a pandas series\n",
    "# 2) add the variable names in the index\n",
    "# 3) sort the features based on their mutual information value\n",
    "# 4) and make a var plot\n",
    "\n",
    "mi = pd.Series(mi)\n",
    "mi.index = X_train.columns\n",
    "mi.sort_values(ascending=False).plot.bar(figsize=(20, 6))\n",
    "plt.ylabel('Mutual Information')"
   ]
  },
  {
   "cell_type": "code",
   "execution_count": 32,
   "metadata": {},
   "outputs": [
    {
     "data": {
      "text/plain": [
       "Index(['var_6', 'var_7', 'var_14', 'var_16', 'var_34', 'var_55', 'var_69',\n",
       "       'var_91', 'var_96', 'var_108'],\n",
       "      dtype='object')"
      ]
     },
     "execution_count": 32,
     "metadata": {},
     "output_type": "execute_result"
    }
   ],
   "source": [
    "# here we will select the top 10 features\n",
    "# based on their mutual information value\n",
    "\n",
    "# select features\n",
    "sel_ = SelectKBest(mutual_info_classif, k=10).fit(X_train, y_train)\n",
    "\n",
    "# display features\n",
    "X_train.columns[sel_.get_support()]"
   ]
  },
  {
   "cell_type": "code",
   "execution_count": 33,
   "metadata": {},
   "outputs": [],
   "source": [
    "# remove the rest of the features:\n",
    "X_train = sel_.transform(X_train)\n",
    "X_test = sel_.transform(X_test)"
   ]
  },
  {
   "cell_type": "markdown",
   "metadata": {},
   "source": [
    "### Regression"
   ]
  },
  {
   "cell_type": "code",
   "execution_count": 34,
   "metadata": {},
   "outputs": [
    {
     "data": {
      "text/plain": [
       "(1095, 11)"
      ]
     },
     "execution_count": 34,
     "metadata": {},
     "output_type": "execute_result"
    }
   ],
   "source": [
    "# load dataset\n",
    "data = pd.read_csv('datasets/daily_weather.csv')\n",
    "data.shape"
   ]
  },
  {
   "cell_type": "code",
   "execution_count": 36,
   "metadata": {},
   "outputs": [
    {
     "data": {
      "text/plain": [
       "((766, 10), (329, 10))"
      ]
     },
     "execution_count": 36,
     "metadata": {},
     "output_type": "execute_result"
    }
   ],
   "source": [
    "# separate train and test sets\n",
    "X_train, X_test, y_train, y_test = train_test_split(\n",
    "    data.drop(labels=['air_temp_9am'], axis=1),\n",
    "    data['air_temp_9am'],\n",
    "    test_size=0.3,\n",
    "    random_state=0)\n",
    "\n",
    "X_train.shape, X_test.shape"
   ]
  },
  {
   "cell_type": "code",
   "execution_count": 39,
   "metadata": {},
   "outputs": [],
   "source": [
    "# fill missing values\n",
    "X_train = X_train.fillna(0)\n",
    "X_test = X_test.fillna(0)\n",
    "y_train = y_train.fillna(0)\n",
    "y_test = y_test.fillna(0)"
   ]
  },
  {
   "cell_type": "code",
   "execution_count": 40,
   "metadata": {},
   "outputs": [
    {
     "data": {
      "text/plain": [
       "Text(0, 0.5, 'Mutual Information')"
      ]
     },
     "execution_count": 40,
     "metadata": {},
     "output_type": "execute_result"
    },
    {
     "data": {
      "image/png": "[encoded data removed]",
      "text/plain": [
       "<Figure size 1440x432 with 1 Axes>"
      ]
     },
     "metadata": {
      "needs_background": "light"
     },
     "output_type": "display_data"
    }
   ],
   "source": [
    "# determine the mutual information\n",
    "mi = mutual_info_regression(X_train, y_train)\n",
    "\n",
    "# and make a bar  plot\n",
    "mi = pd.Series(mi)\n",
    "mi.index = X_train.columns\n",
    "mi.sort_values(ascending=False).plot.bar(figsize=(20,6))\n",
    "plt.ylabel('Mutual Information')"
   ]
  },
  {
   "cell_type": "code",
   "execution_count": 41,
   "metadata": {},
   "outputs": [
    {
     "data": {
      "text/plain": [
       "Index(['relative_humidity_3pm'], dtype='object')"
      ]
     },
     "execution_count": 41,
     "metadata": {},
     "output_type": "execute_result"
    }
   ],
   "source": [
    "# Select the features in the top percentile\n",
    "sel_ = SelectPercentile(mutual_info_regression, percentile=10).fit(X_train, y_train)\n",
    "\n",
    "# display the features\n",
    "X_train.columns[sel_.get_support()]"
   ]
  },
  {
   "cell_type": "code",
   "execution_count": 42,
   "metadata": {},
   "outputs": [
    {
     "data": {
      "text/plain": [
       "array([[48.98      ],\n",
       "       [ 8.77073238],\n",
       "       [21.5984327 ],\n",
       "       [68.05      ],\n",
       "       [79.38      ],\n",
       "       [11.10544045],\n",
       "       [56.6       ],\n",
       "       [27.66      ],\n",
       "       [23.92037235],\n",
       "       [15.84193979],\n",
       "       [11.13959641],\n",
       "       [16.46168535],\n",
       "       [21.38565673],\n",
       "       [17.78      ],\n",
       "       [55.52      ],\n",
       "       [88.35      ],\n",
       "       [52.38      ],\n",
       "       [14.41557484],\n",
       "       [46.66      ],\n",
       "       [26.94      ],\n",
       "       [45.61      ],\n",
       "       [19.56875014],\n",
       "       [70.32      ],\n",
       "       [47.93      ],\n",
       "       [14.05      ],\n",
       "       [ 9.13      ],\n",
       "       [17.6       ],\n",
       "       [19.58      ],\n",
       "       [17.82      ],\n",
       "       [15.37      ],\n",
       "       [17.4       ],\n",
       "       [17.08277678],\n",
       "       [57.14      ],\n",
       "       [21.40006281],\n",
       "       [64.07      ],\n",
       "       [10.89967875],\n",
       "       [73.65      ],\n",
       "       [64.71      ],\n",
       "       [15.68484501],\n",
       "       [23.8       ],\n",
       "       [14.4090867 ],\n",
       "       [39.52      ],\n",
       "       [30.02      ],\n",
       "       [54.2       ],\n",
       "       [15.22690772],\n",
       "       [54.06      ],\n",
       "       [15.84956394],\n",
       "       [ 6.46735868],\n",
       "       [54.37      ],\n",
       "       [12.05463897],\n",
       "       [53.44      ],\n",
       "       [16.79245463],\n",
       "       [19.59      ],\n",
       "       [51.65      ],\n",
       "       [23.89      ],\n",
       "       [48.91      ],\n",
       "       [41.85      ],\n",
       "       [24.38      ],\n",
       "       [16.17      ],\n",
       "       [19.47085631],\n",
       "       [21.40158687],\n",
       "       [58.28      ],\n",
       "       [72.31      ],\n",
       "       [32.13      ],\n",
       "       [47.53      ],\n",
       "       [37.82      ],\n",
       "       [20.27354026],\n",
       "       [16.72822756],\n",
       "       [21.32      ],\n",
       "       [12.34      ],\n",
       "       [12.31      ],\n",
       "       [20.89      ],\n",
       "       [30.        ],\n",
       "       [55.29      ],\n",
       "       [17.74857781],\n",
       "       [66.14      ],\n",
       "       [17.49593059],\n",
       "       [16.35686883],\n",
       "       [49.09      ],\n",
       "       [51.14      ],\n",
       "       [19.9765781 ],\n",
       "       [49.5       ],\n",
       "       [58.81      ],\n",
       "       [14.64990936],\n",
       "       [16.95525969],\n",
       "       [70.17      ],\n",
       "       [50.65      ],\n",
       "       [23.05376569],\n",
       "       [23.03597591],\n",
       "       [22.53383155],\n",
       "       [17.48      ],\n",
       "       [18.06422562],\n",
       "       [17.88774436],\n",
       "       [11.54199692],\n",
       "       [51.54      ],\n",
       "       [38.23      ],\n",
       "       [16.65085284],\n",
       "       [20.59496559],\n",
       "       [14.22808216],\n",
       "       [20.52      ],\n",
       "       [55.15      ],\n",
       "       [21.79370897],\n",
       "       [37.8       ],\n",
       "       [18.27451897],\n",
       "       [22.46006195],\n",
       "       [76.97      ],\n",
       "       [20.31486676],\n",
       "       [23.11      ],\n",
       "       [17.79      ],\n",
       "       [12.71      ],\n",
       "       [13.09702532],\n",
       "       [10.23      ],\n",
       "       [20.35659405],\n",
       "       [36.69      ],\n",
       "       [82.61      ],\n",
       "       [18.76      ],\n",
       "       [68.6       ],\n",
       "       [88.56      ],\n",
       "       [90.06      ],\n",
       "       [47.15      ],\n",
       "       [29.86      ],\n",
       "       [58.43      ],\n",
       "       [19.1003094 ],\n",
       "       [15.11      ],\n",
       "       [89.4       ],\n",
       "       [19.67626147],\n",
       "       [69.19      ],\n",
       "       [21.17396146],\n",
       "       [51.52      ],\n",
       "       [69.74      ],\n",
       "       [17.71      ],\n",
       "       [13.55961808],\n",
       "       [67.17      ],\n",
       "       [75.42      ],\n",
       "       [24.27      ],\n",
       "       [19.05      ],\n",
       "       [46.5       ],\n",
       "       [35.58      ],\n",
       "       [42.74      ],\n",
       "       [20.29      ],\n",
       "       [30.57      ],\n",
       "       [70.44      ],\n",
       "       [19.30666431],\n",
       "       [66.87      ],\n",
       "       [11.4117152 ],\n",
       "       [14.27588983],\n",
       "       [20.75568332],\n",
       "       [58.25      ],\n",
       "       [52.97      ],\n",
       "       [91.68      ],\n",
       "       [80.87      ],\n",
       "       [32.51      ],\n",
       "       [75.57      ],\n",
       "       [16.43      ],\n",
       "       [13.02      ],\n",
       "       [17.81402175],\n",
       "       [22.34397526],\n",
       "       [22.78404812],\n",
       "       [92.11      ],\n",
       "       [48.3       ],\n",
       "       [19.68      ],\n",
       "       [22.20154393],\n",
       "       [14.83      ],\n",
       "       [16.03      ],\n",
       "       [64.01      ],\n",
       "       [79.45      ],\n",
       "       [14.12435786],\n",
       "       [16.79      ],\n",
       "       [40.47      ],\n",
       "       [46.08      ],\n",
       "       [33.86      ],\n",
       "       [14.50518985],\n",
       "       [71.42      ],\n",
       "       [19.60693827],\n",
       "       [37.01      ],\n",
       "       [64.23      ],\n",
       "       [15.67259273],\n",
       "       [ 7.44364185],\n",
       "       [64.52      ],\n",
       "       [56.31      ],\n",
       "       [36.54      ],\n",
       "       [39.98      ],\n",
       "       [12.75      ],\n",
       "       [44.72      ],\n",
       "       [23.68297841],\n",
       "       [41.34      ],\n",
       "       [81.53      ],\n",
       "       [55.49      ],\n",
       "       [66.71      ],\n",
       "       [91.16      ],\n",
       "       [18.1239118 ],\n",
       "       [29.84      ],\n",
       "       [13.75295587],\n",
       "       [57.4       ],\n",
       "       [42.95      ],\n",
       "       [20.04      ],\n",
       "       [22.77      ],\n",
       "       [37.25      ],\n",
       "       [18.30612273],\n",
       "       [12.01883617],\n",
       "       [28.82      ],\n",
       "       [20.44003606],\n",
       "       [22.1791115 ],\n",
       "       [28.12      ],\n",
       "       [62.58      ],\n",
       "       [16.87177039],\n",
       "       [19.04826571],\n",
       "       [23.03      ],\n",
       "       [14.79      ],\n",
       "       [21.30294192],\n",
       "       [ 8.56      ],\n",
       "       [25.11      ],\n",
       "       [34.96      ],\n",
       "       [56.22      ],\n",
       "       [56.93      ],\n",
       "       [13.96      ],\n",
       "       [45.72      ],\n",
       "       [32.9       ],\n",
       "       [80.93      ],\n",
       "       [18.67616179],\n",
       "       [13.7       ],\n",
       "       [27.44      ],\n",
       "       [25.14      ],\n",
       "       [44.24      ],\n",
       "       [41.11      ],\n",
       "       [61.89      ],\n",
       "       [22.16642603],\n",
       "       [75.97      ],\n",
       "       [20.56      ],\n",
       "       [52.31      ],\n",
       "       [ 9.6644229 ],\n",
       "       [64.74      ],\n",
       "       [29.09      ],\n",
       "       [15.47248703],\n",
       "       [26.06      ],\n",
       "       [17.28116117],\n",
       "       [18.71059461],\n",
       "       [37.44      ],\n",
       "       [19.04997387],\n",
       "       [25.28      ],\n",
       "       [77.75      ],\n",
       "       [44.04      ],\n",
       "       [24.17      ],\n",
       "       [85.73      ],\n",
       "       [21.69      ],\n",
       "       [77.89      ],\n",
       "       [17.51267493],\n",
       "       [ 9.44929193],\n",
       "       [44.46      ],\n",
       "       [23.45      ],\n",
       "       [ 9.34664431],\n",
       "       [73.08      ],\n",
       "       [11.68      ],\n",
       "       [29.89      ],\n",
       "       [29.09      ],\n",
       "       [22.67496457],\n",
       "       [66.63      ],\n",
       "       [27.06      ],\n",
       "       [23.72      ],\n",
       "       [17.95956978],\n",
       "       [13.06896176],\n",
       "       [19.57991484],\n",
       "       [88.73      ],\n",
       "       [ 7.42      ],\n",
       "       [39.19      ],\n",
       "       [55.07      ],\n",
       "       [10.46      ],\n",
       "       [42.05      ],\n",
       "       [36.16      ],\n",
       "       [31.64      ],\n",
       "       [57.93      ],\n",
       "       [54.89      ],\n",
       "       [86.91      ],\n",
       "       [74.39      ],\n",
       "       [22.39256638],\n",
       "       [12.05      ],\n",
       "       [65.41      ],\n",
       "       [19.82618853],\n",
       "       [17.88519538],\n",
       "       [38.89      ],\n",
       "       [15.46261112],\n",
       "       [16.05      ],\n",
       "       [14.05374792],\n",
       "       [68.27      ],\n",
       "       [47.71      ],\n",
       "       [61.05      ],\n",
       "       [ 9.37301285],\n",
       "       [15.85190084],\n",
       "       [20.44656233],\n",
       "       [14.41069359],\n",
       "       [43.51      ],\n",
       "       [46.6       ],\n",
       "       [63.97      ],\n",
       "       [90.99      ],\n",
       "       [49.95      ],\n",
       "       [14.26026507],\n",
       "       [35.16      ],\n",
       "       [39.37      ],\n",
       "       [12.74254735],\n",
       "       [13.26699768],\n",
       "       [21.73      ],\n",
       "       [91.64      ],\n",
       "       [14.96107362],\n",
       "       [10.31224421],\n",
       "       [15.25344497],\n",
       "       [10.65816881],\n",
       "       [41.57      ],\n",
       "       [23.06942388],\n",
       "       [37.95      ],\n",
       "       [13.91      ],\n",
       "       [37.89      ],\n",
       "       [54.85      ],\n",
       "       [39.21      ],\n",
       "       [77.96      ],\n",
       "       [13.25729753],\n",
       "       [29.47      ],\n",
       "       [ 7.22      ],\n",
       "       [28.43      ],\n",
       "       [48.49      ],\n",
       "       [21.27759609],\n",
       "       [15.87360525],\n",
       "       [42.02      ],\n",
       "       [44.8       ],\n",
       "       [18.41817887],\n",
       "       [91.06      ],\n",
       "       [ 9.58719828],\n",
       "       [48.81      ],\n",
       "       [53.84      ],\n",
       "       [90.78      ],\n",
       "       [45.82      ],\n",
       "       [59.69      ],\n",
       "       [13.29026528],\n",
       "       [74.92      ],\n",
       "       [86.55      ],\n",
       "       [42.53      ],\n",
       "       [51.9       ],\n",
       "       [56.93      ],\n",
       "       [24.35      ],\n",
       "       [62.93      ],\n",
       "       [13.12639448],\n",
       "       [21.42521509],\n",
       "       [23.51      ],\n",
       "       [14.29028236],\n",
       "       [15.64703999],\n",
       "       [55.03      ],\n",
       "       [15.13      ],\n",
       "       [12.54177857],\n",
       "       [20.02      ],\n",
       "       [78.84      ],\n",
       "       [85.96      ],\n",
       "       [80.23      ],\n",
       "       [22.01948134],\n",
       "       [27.52      ],\n",
       "       [ 8.62      ],\n",
       "       [90.3       ],\n",
       "       [63.48      ],\n",
       "       [19.10960194],\n",
       "       [30.78      ],\n",
       "       [17.76664624],\n",
       "       [52.19      ],\n",
       "       [16.32780669],\n",
       "       [62.53      ],\n",
       "       [22.57935654],\n",
       "       [49.29      ],\n",
       "       [11.38499204],\n",
       "       [20.21      ],\n",
       "       [60.4       ],\n",
       "       [17.02234251],\n",
       "       [50.7       ],\n",
       "       [13.75319224],\n",
       "       [63.36      ],\n",
       "       [62.25      ],\n",
       "       [44.59      ],\n",
       "       [ 7.18736098],\n",
       "       [26.27      ],\n",
       "       [55.56      ],\n",
       "       [19.45805179],\n",
       "       [30.42      ],\n",
       "       [16.72805406],\n",
       "       [88.22      ],\n",
       "       [49.61      ],\n",
       "       [36.12      ],\n",
       "       [46.69      ],\n",
       "       [13.17754565],\n",
       "       [23.28      ],\n",
       "       [14.1       ],\n",
       "       [18.78987913],\n",
       "       [62.3       ],\n",
       "       [38.45      ],\n",
       "       [76.74      ],\n",
       "       [57.55      ],\n",
       "       [55.53      ],\n",
       "       [77.89      ],\n",
       "       [21.03831789],\n",
       "       [13.43243979],\n",
       "       [84.53      ],\n",
       "       [ 5.36      ],\n",
       "       [12.70505876],\n",
       "       [13.16324401],\n",
       "       [27.33      ],\n",
       "       [40.65      ],\n",
       "       [80.61      ],\n",
       "       [38.18      ],\n",
       "       [16.48969347],\n",
       "       [23.87159318],\n",
       "       [88.92      ],\n",
       "       [45.35      ],\n",
       "       [26.7       ],\n",
       "       [62.03      ],\n",
       "       [28.94      ],\n",
       "       [28.18      ],\n",
       "       [17.66      ],\n",
       "       [81.89      ],\n",
       "       [27.99      ],\n",
       "       [57.81      ],\n",
       "       [25.3       ],\n",
       "       [ 8.76931379],\n",
       "       [43.63      ],\n",
       "       [13.83993332],\n",
       "       [62.4       ],\n",
       "       [14.27388591],\n",
       "       [45.22      ],\n",
       "       [19.81      ],\n",
       "       [18.27291835],\n",
       "       [13.27      ],\n",
       "       [20.78822981],\n",
       "       [10.28      ],\n",
       "       [62.94      ],\n",
       "       [40.37      ],\n",
       "       [65.65      ],\n",
       "       [51.19      ],\n",
       "       [35.95      ],\n",
       "       [35.47      ],\n",
       "       [21.89759191],\n",
       "       [ 9.98407134],\n",
       "       [17.87166282],\n",
       "       [19.92657856],\n",
       "       [59.96      ],\n",
       "       [41.38      ],\n",
       "       [41.31      ],\n",
       "       [12.69623258],\n",
       "       [21.86553243],\n",
       "       [18.11012393],\n",
       "       [20.71      ],\n",
       "       [15.52      ],\n",
       "       [24.29      ],\n",
       "       [60.81      ],\n",
       "       [21.77      ],\n",
       "       [32.97      ],\n",
       "       [31.31      ],\n",
       "       [34.69      ],\n",
       "       [48.8       ],\n",
       "       [45.85      ],\n",
       "       [16.18121087],\n",
       "       [16.24050487],\n",
       "       [15.32410468],\n",
       "       [62.76      ],\n",
       "       [26.9       ],\n",
       "       [13.23763896],\n",
       "       [21.98746067],\n",
       "       [17.28      ],\n",
       "       [22.60694278],\n",
       "       [17.41234338],\n",
       "       [19.97861256],\n",
       "       [22.87      ],\n",
       "       [20.33369723],\n",
       "       [68.39      ],\n",
       "       [14.06      ],\n",
       "       [90.58      ],\n",
       "       [81.4       ],\n",
       "       [83.17      ],\n",
       "       [58.55      ],\n",
       "       [13.65      ],\n",
       "       [20.4       ],\n",
       "       [22.41      ],\n",
       "       [28.51      ],\n",
       "       [19.52840871],\n",
       "       [16.43676641],\n",
       "       [20.3686575 ],\n",
       "       [15.34081443],\n",
       "       [16.49931661],\n",
       "       [15.51115701],\n",
       "       [51.1       ],\n",
       "       [90.21      ],\n",
       "       [16.08178178],\n",
       "       [53.84      ],\n",
       "       [17.25880526],\n",
       "       [36.91      ],\n",
       "       [62.49      ],\n",
       "       [17.93710044],\n",
       "       [28.45      ],\n",
       "       [42.28      ],\n",
       "       [14.46958649],\n",
       "       [56.93      ],\n",
       "       [52.4       ],\n",
       "       [57.85      ],\n",
       "       [14.54      ],\n",
       "       [12.69854598],\n",
       "       [13.57499205],\n",
       "       [13.58      ],\n",
       "       [26.65      ],\n",
       "       [89.93      ],\n",
       "       [17.33182335],\n",
       "       [21.88523559],\n",
       "       [44.75      ],\n",
       "       [17.15      ],\n",
       "       [17.92415353],\n",
       "       [38.12      ],\n",
       "       [17.61      ],\n",
       "       [ 7.52      ],\n",
       "       [19.52606277],\n",
       "       [62.81      ],\n",
       "       [13.62      ],\n",
       "       [54.5       ],\n",
       "       [17.52458142],\n",
       "       [38.79      ],\n",
       "       [12.08116646],\n",
       "       [22.91998856],\n",
       "       [14.11011567],\n",
       "       [23.11818221],\n",
       "       [18.73681441],\n",
       "       [21.02724511],\n",
       "       [65.87      ],\n",
       "       [78.01      ],\n",
       "       [56.22      ],\n",
       "       [12.29759587],\n",
       "       [52.12      ],\n",
       "       [20.51159597],\n",
       "       [26.12      ],\n",
       "       [10.6       ],\n",
       "       [12.15540564],\n",
       "       [32.44      ],\n",
       "       [19.59      ],\n",
       "       [73.05      ],\n",
       "       [15.86277037],\n",
       "       [22.4       ],\n",
       "       [19.64184076],\n",
       "       [21.29552402],\n",
       "       [22.06132947],\n",
       "       [10.04502993],\n",
       "       [22.4310849 ],\n",
       "       [60.38      ],\n",
       "       [76.94      ],\n",
       "       [66.26      ],\n",
       "       [18.96374582],\n",
       "       [12.71      ],\n",
       "       [18.62568523],\n",
       "       [11.43602921],\n",
       "       [16.33171563],\n",
       "       [14.35      ],\n",
       "       [44.29      ],\n",
       "       [35.68      ],\n",
       "       [56.05      ],\n",
       "       [17.42827468],\n",
       "       [14.45222233],\n",
       "       [29.69      ],\n",
       "       [55.78      ],\n",
       "       [54.82      ],\n",
       "       [53.23      ],\n",
       "       [58.21      ],\n",
       "       [16.77548161],\n",
       "       [17.31998661],\n",
       "       [43.96      ],\n",
       "       [19.47      ],\n",
       "       [12.28      ],\n",
       "       [23.52462533],\n",
       "       [26.17      ],\n",
       "       [20.9       ],\n",
       "       [53.67      ],\n",
       "       [57.97      ],\n",
       "       [11.15      ],\n",
       "       [16.68      ],\n",
       "       [73.34      ],\n",
       "       [51.9       ],\n",
       "       [22.4393455 ],\n",
       "       [16.47641162],\n",
       "       [90.65      ],\n",
       "       [12.36298408],\n",
       "       [ 9.61323503],\n",
       "       [17.3342963 ],\n",
       "       [17.56      ],\n",
       "       [12.39242514],\n",
       "       [52.7       ],\n",
       "       [47.03      ],\n",
       "       [22.18990678],\n",
       "       [22.72      ],\n",
       "       [44.27      ],\n",
       "       [17.76      ],\n",
       "       [26.18      ],\n",
       "       [22.84121232],\n",
       "       [16.60677905],\n",
       "       [ 8.16622919],\n",
       "       [27.21      ],\n",
       "       [26.07      ],\n",
       "       [15.88708044],\n",
       "       [43.81      ],\n",
       "       [14.08      ],\n",
       "       [44.71      ],\n",
       "       [60.98      ],\n",
       "       [77.32      ],\n",
       "       [88.67      ],\n",
       "       [61.12      ],\n",
       "       [51.1       ],\n",
       "       [13.17715066],\n",
       "       [74.1       ],\n",
       "       [18.15435776],\n",
       "       [43.05      ],\n",
       "       [ 7.74      ],\n",
       "       [19.0723995 ],\n",
       "       [60.52      ],\n",
       "       [82.03      ],\n",
       "       [11.00459535],\n",
       "       [10.376058  ],\n",
       "       [52.44      ],\n",
       "       [26.93      ],\n",
       "       [38.85      ],\n",
       "       [34.91      ],\n",
       "       [64.2       ],\n",
       "       [60.2       ],\n",
       "       [24.37257155],\n",
       "       [17.56749525],\n",
       "       [16.15894313],\n",
       "       [18.65026305],\n",
       "       [35.52      ],\n",
       "       [54.07      ],\n",
       "       [43.99      ],\n",
       "       [53.86      ],\n",
       "       [20.36778566],\n",
       "       [90.67      ],\n",
       "       [17.42026353],\n",
       "       [41.2       ],\n",
       "       [31.97      ],\n",
       "       [28.39      ],\n",
       "       [20.59355754],\n",
       "       [58.26      ],\n",
       "       [79.09      ],\n",
       "       [29.36      ],\n",
       "       [49.39      ],\n",
       "       [23.40857794],\n",
       "       [51.96      ],\n",
       "       [55.57      ],\n",
       "       [88.16      ],\n",
       "       [23.29      ],\n",
       "       [14.24      ],\n",
       "       [17.93124055],\n",
       "       [19.38931405],\n",
       "       [12.56263846],\n",
       "       [18.75      ],\n",
       "       [47.16      ],\n",
       "       [39.36      ],\n",
       "       [16.36071157],\n",
       "       [36.68      ],\n",
       "       [12.73      ],\n",
       "       [52.1       ],\n",
       "       [22.63757766],\n",
       "       [41.25      ],\n",
       "       [11.24      ],\n",
       "       [78.51      ],\n",
       "       [71.9       ],\n",
       "       [49.75      ],\n",
       "       [20.98675056],\n",
       "       [66.        ],\n",
       "       [23.78131327],\n",
       "       [76.72      ],\n",
       "       [ 7.91      ],\n",
       "       [54.77      ],\n",
       "       [17.36374555],\n",
       "       [64.24      ],\n",
       "       [17.33744917],\n",
       "       [16.9971455 ],\n",
       "       [13.98359457],\n",
       "       [39.43      ],\n",
       "       [17.09214436],\n",
       "       [17.75      ],\n",
       "       [17.39      ],\n",
       "       [16.83403837],\n",
       "       [91.2       ],\n",
       "       [13.43851828],\n",
       "       [23.06873515],\n",
       "       [22.28      ],\n",
       "       [20.354712  ],\n",
       "       [48.96      ],\n",
       "       [60.04      ],\n",
       "       [54.18      ],\n",
       "       [71.44      ],\n",
       "       [14.61      ],\n",
       "       [14.05      ],\n",
       "       [27.45      ],\n",
       "       [47.77      ],\n",
       "       [88.7       ],\n",
       "       [20.08      ],\n",
       "       [67.41      ],\n",
       "       [13.52559044],\n",
       "       [43.62      ],\n",
       "       [44.52      ],\n",
       "       [18.95075085],\n",
       "       [32.36      ],\n",
       "       [17.96141563],\n",
       "       [56.68      ],\n",
       "       [15.94      ],\n",
       "       [19.72234023],\n",
       "       [33.19      ],\n",
       "       [48.9       ],\n",
       "       [13.21      ],\n",
       "       [78.28      ],\n",
       "       [48.89      ],\n",
       "       [26.89      ],\n",
       "       [58.18      ],\n",
       "       [44.82      ],\n",
       "       [22.53      ],\n",
       "       [50.38      ],\n",
       "       [42.22      ],\n",
       "       [23.29505378],\n",
       "       [78.82      ],\n",
       "       [51.07      ],\n",
       "       [39.95      ],\n",
       "       [20.39105   ],\n",
       "       [10.78      ],\n",
       "       [33.88      ],\n",
       "       [50.63      ],\n",
       "       [76.7       ],\n",
       "       [63.2       ],\n",
       "       [36.21      ],\n",
       "       [10.74938905],\n",
       "       [26.94      ],\n",
       "       [78.34      ],\n",
       "       [84.39      ],\n",
       "       [17.23931591],\n",
       "       [ 9.78      ],\n",
       "       [18.94946415],\n",
       "       [67.46      ],\n",
       "       [51.91      ],\n",
       "       [18.6       ],\n",
       "       [20.89      ],\n",
       "       [14.03442675],\n",
       "       [ 6.52      ],\n",
       "       [32.18      ],\n",
       "       [53.04      ],\n",
       "       [49.75      ],\n",
       "       [13.35131297],\n",
       "       [22.92345708],\n",
       "       [53.38      ],\n",
       "       [35.18      ],\n",
       "       [23.90173941],\n",
       "       [25.37      ],\n",
       "       [20.04530549],\n",
       "       [89.93      ],\n",
       "       [43.37      ],\n",
       "       [20.77      ],\n",
       "       [ 8.28381281],\n",
       "       [19.40873667],\n",
       "       [21.09812207],\n",
       "       [18.87896988],\n",
       "       [16.45      ],\n",
       "       [19.94      ],\n",
       "       [92.25      ],\n",
       "       [59.13      ],\n",
       "       [18.9414337 ],\n",
       "       [23.87      ],\n",
       "       [23.34      ],\n",
       "       [54.03      ],\n",
       "       [21.07682408],\n",
       "       [29.24      ],\n",
       "       [30.86      ],\n",
       "       [19.99      ],\n",
       "       [23.88      ]])"
      ]
     },
     "execution_count": 42,
     "metadata": {},
     "output_type": "execute_result"
    }
   ],
   "source": [
    "# to remove the rest of the features:\n",
    "X_train = sel_.transform(X_train)\n",
    "X_test = sel_.transform(X_test)\n",
    "\n",
    "X_train"
   ]
  },
  {
   "cell_type": "markdown",
   "metadata": {},
   "source": [
    "## Chi-square\n",
    "Suited for categorical variables"
   ]
  },
  {
   "cell_type": "code",
   "execution_count": 51,
   "metadata": {},
   "outputs": [],
   "source": [
    "import pandas as pd\n",
    "import numpy as np\n",
    "from sklearn.model_selection import train_test_split\n",
    "\n",
    "# to determine the chi2 value\n",
    "from sklearn.feature_selection import chi2\n",
    "\n",
    "# to select the features\n",
    "from sklearn.feature_selection import SelectKBest"
   ]
  },
  {
   "cell_type": "code",
   "execution_count": 52,
   "metadata": {},
   "outputs": [
    {
     "data": {
      "text/plain": [
       "(1306, 9)"
      ]
     },
     "execution_count": 52,
     "metadata": {},
     "output_type": "execute_result"
    }
   ],
   "source": [
    "# load dataset\n",
    "data = pd.read_csv('datasets/titanic.csv')\n",
    "data.shape"
   ]
  },
  {
   "cell_type": "code",
   "execution_count": 53,
   "metadata": {},
   "outputs": [
    {
     "data": {
      "text/html": [
       "<div>\n",
       "<style scoped>\n",
       "    .dataframe tbody tr th:only-of-type {\n",
       "        vertical-align: middle;\n",
       "    }\n",
       "\n",
       "    .dataframe tbody tr th {\n",
       "        vertical-align: top;\n",
       "    }\n",
       "\n",
       "    .dataframe thead th {\n",
       "        text-align: right;\n",
       "    }\n",
       "</style>\n",
       "<table border=\"1\" class=\"dataframe\">\n",
       "  <thead>\n",
       "    <tr style=\"text-align: right;\">\n",
       "      <th></th>\n",
       "      <th>pclass</th>\n",
       "      <th>survived</th>\n",
       "      <th>sex</th>\n",
       "      <th>age</th>\n",
       "      <th>sibsp</th>\n",
       "      <th>parch</th>\n",
       "      <th>fare</th>\n",
       "      <th>cabin</th>\n",
       "      <th>embarked</th>\n",
       "    </tr>\n",
       "  </thead>\n",
       "  <tbody>\n",
       "    <tr>\n",
       "      <th>0</th>\n",
       "      <td>1</td>\n",
       "      <td>1</td>\n",
       "      <td>female</td>\n",
       "      <td>29.0000</td>\n",
       "      <td>0</td>\n",
       "      <td>0</td>\n",
       "      <td>211.3375</td>\n",
       "      <td>B5</td>\n",
       "      <td>S</td>\n",
       "    </tr>\n",
       "    <tr>\n",
       "      <th>1</th>\n",
       "      <td>1</td>\n",
       "      <td>1</td>\n",
       "      <td>male</td>\n",
       "      <td>0.9167</td>\n",
       "      <td>1</td>\n",
       "      <td>2</td>\n",
       "      <td>151.5500</td>\n",
       "      <td>C22</td>\n",
       "      <td>S</td>\n",
       "    </tr>\n",
       "    <tr>\n",
       "      <th>2</th>\n",
       "      <td>1</td>\n",
       "      <td>0</td>\n",
       "      <td>female</td>\n",
       "      <td>2.0000</td>\n",
       "      <td>1</td>\n",
       "      <td>2</td>\n",
       "      <td>151.5500</td>\n",
       "      <td>C22</td>\n",
       "      <td>S</td>\n",
       "    </tr>\n",
       "    <tr>\n",
       "      <th>3</th>\n",
       "      <td>1</td>\n",
       "      <td>0</td>\n",
       "      <td>male</td>\n",
       "      <td>30.0000</td>\n",
       "      <td>1</td>\n",
       "      <td>2</td>\n",
       "      <td>151.5500</td>\n",
       "      <td>C22</td>\n",
       "      <td>S</td>\n",
       "    </tr>\n",
       "    <tr>\n",
       "      <th>4</th>\n",
       "      <td>1</td>\n",
       "      <td>0</td>\n",
       "      <td>female</td>\n",
       "      <td>25.0000</td>\n",
       "      <td>1</td>\n",
       "      <td>2</td>\n",
       "      <td>151.5500</td>\n",
       "      <td>C22</td>\n",
       "      <td>S</td>\n",
       "    </tr>\n",
       "  </tbody>\n",
       "</table>\n",
       "</div>"
      ],
      "text/plain": [
       "   pclass  survived     sex      age  sibsp  parch      fare cabin embarked\n",
       "0       1         1  female  29.0000      0      0  211.3375    B5        S\n",
       "1       1         1    male   0.9167      1      2  151.5500   C22        S\n",
       "2       1         0  female   2.0000      1      2  151.5500   C22        S\n",
       "3       1         0    male  30.0000      1      2  151.5500   C22        S\n",
       "4       1         0  female  25.0000      1      2  151.5500   C22        S"
      ]
     },
     "execution_count": 53,
     "metadata": {},
     "output_type": "execute_result"
    }
   ],
   "source": [
    "data.head()"
   ]
  },
  {
   "cell_type": "code",
   "execution_count": 54,
   "metadata": {},
   "outputs": [],
   "source": [
    "# the categorical variables in the titanic are pclass, sex and embarked\n",
    "# first encode the labels of the categories into numbers\n",
    "\n",
    "# for Sex / Gender\n",
    "data['sex'] = np.where(data['sex'] == 'male', 1, 0)\n",
    "\n",
    "# for Embarked\n",
    "ordinal_label = {k: i for i, k in enumerate(data['embarked'].unique(), 0)}\n",
    "data['embarked'] = data['embarked'].map(ordinal_label)\n",
    "\n",
    "# pclass is already ordinal"
   ]
  },
  {
   "cell_type": "code",
   "execution_count": 55,
   "metadata": {},
   "outputs": [
    {
     "data": {
      "text/plain": [
       "((914, 3), (392, 3))"
      ]
     },
     "execution_count": 55,
     "metadata": {},
     "output_type": "execute_result"
    }
   ],
   "source": [
    "# separate train and test sets\n",
    "X_train, X_test, y_train, y_test = train_test_split(\n",
    "    data[['pclass', 'sex', 'embarked']],\n",
    "    data['survived'],\n",
    "    test_size=0.3,\n",
    "    random_state=0)\n",
    "\n",
    "X_train.shape, X_test.shape"
   ]
  },
  {
   "cell_type": "code",
   "execution_count": 56,
   "metadata": {},
   "outputs": [
    {
     "data": {
      "text/plain": [
       "(array([32.49351818, 81.97868872,  5.66498574]),\n",
       " array([1.19590735e-08, 1.37561991e-19, 1.73068577e-02]))"
      ]
     },
     "execution_count": 56,
     "metadata": {},
     "output_type": "execute_result"
    }
   ],
   "source": [
    "# calculate the chi2 p_value between each of the variables\n",
    "# and the target\n",
    "\n",
    "# chi2 returns 2 arrays, one contains the F-Scores which are then\n",
    "# evaluated against the chi2 distribution to obtain the pvalue.\n",
    "# The pvalues are in the second array\n",
    "f_score = chi2(X_train.fillna(0), y_train)\n",
    "\n",
    "# the 2 arrays of values\n",
    "f_score"
   ]
  },
  {
   "cell_type": "code",
   "execution_count": 57,
   "metadata": {},
   "outputs": [
    {
     "data": {
      "text/plain": [
       "sex         1.375620e-19\n",
       "pclass      1.195907e-08\n",
       "embarked    1.730686e-02\n",
       "dtype: float64"
      ]
     },
     "execution_count": 57,
     "metadata": {},
     "output_type": "execute_result"
    }
   ],
   "source": [
    "# 1) let's capture the p_values (in the second array, remember python indexes at 0) in a pandas Series\n",
    "# 2) add the variable names in the index\n",
    "# 3) order the variables based on their fscore\n",
    "\n",
    "pvalues = pd.Series(f_score[1])\n",
    "pvalues.index = X_train.columns\n",
    "pvalues.sort_values(ascending=True)"
   ]
  },
  {
   "cell_type": "code",
   "execution_count": 58,
   "metadata": {},
   "outputs": [
    {
     "data": {
      "text/plain": [
       "Index(['sex'], dtype='object')"
      ]
     },
     "execution_count": 58,
     "metadata": {},
     "output_type": "execute_result"
    }
   ],
   "source": [
    "sel_ = SelectKBest(chi2, k=1).fit(X_train, y_train)\n",
    "\n",
    "# display features\n",
    "X_train.columns[sel_.get_support()]"
   ]
  },
  {
   "cell_type": "code",
   "execution_count": 59,
   "metadata": {},
   "outputs": [],
   "source": [
    "# remove the rest of the features:\n",
    "X_train = sel_.transform(X_train)\n",
    "X_test = sel_.transform(X_test)"
   ]
  },
  {
   "cell_type": "markdown",
   "metadata": {},
   "source": [
    "## Anova\n",
    "tests hypothesis that 2 or more samples have the same mean"
   ]
  },
  {
   "cell_type": "code",
   "execution_count": 60,
   "metadata": {},
   "outputs": [],
   "source": [
    "import pandas as pd\n",
    "import numpy as np\n",
    "import matplotlib.pyplot as plt\n",
    "from sklearn.model_selection import train_test_split\n",
    "\n",
    "# to determine the p-values with anova\n",
    "from sklearn.feature_selection import f_classif, f_regression\n",
    "\n",
    "# to select features\n",
    "from sklearn.feature_selection import SelectKBest, SelectPercentile"
   ]
  },
  {
   "cell_type": "code",
   "execution_count": 62,
   "metadata": {},
   "outputs": [
    {
     "data": {
      "text/plain": [
       "(50000, 109)"
      ]
     },
     "execution_count": 62,
     "metadata": {},
     "output_type": "execute_result"
    }
   ],
   "source": [
    "# load dataset\n",
    "data = pd.read_csv('datasets/dataset_2.csv')\n",
    "data.shape"
   ]
  },
  {
   "cell_type": "code",
   "execution_count": 63,
   "metadata": {},
   "outputs": [
    {
     "data": {
      "text/plain": [
       "((35000, 108), (15000, 108))"
      ]
     },
     "execution_count": 63,
     "metadata": {},
     "output_type": "execute_result"
    }
   ],
   "source": [
    "# separate train and test sets\n",
    "X_train, X_test, y_train, y_test = train_test_split(\n",
    "    data.drop(labels=['target'], axis=1),\n",
    "    data['target'],\n",
    "    test_size=0.3,\n",
    "    random_state=0)\n",
    "\n",
    "X_train.shape, X_test.shape"
   ]
  },
  {
   "cell_type": "code",
   "execution_count": 64,
   "metadata": {},
   "outputs": [
    {
     "data": {
      "text/plain": [
       "(array([2.92073990e-01, 3.67738039e+01, 1.30411853e+01, 1.17574360e+01,\n",
       "        1.41563181e+01, 3.06381672e+01, 2.02234060e+01, 2.96271569e+00,\n",
       "        2.29045228e-01, 3.77443721e+00, 2.90430896e+00, 1.91250548e+01,\n",
       "        5.05376700e+01, 1.19013857e+01, 2.07311280e+01, 7.33476852e+02,\n",
       "        4.27044609e+01, 1.27667244e+01, 6.44432030e+00, 1.19060034e+01,\n",
       "        2.73829670e+02, 3.90587287e+00, 1.12131044e+01, 3.51833011e+00,\n",
       "        7.22171922e-01, 4.33080273e+01, 1.11696498e+00, 1.35149019e+01,\n",
       "        7.04378672e-01, 7.82273154e+01, 1.07853079e+01, 5.07871810e+00,\n",
       "        1.88154600e+00, 5.39927733e+02, 3.35223341e-02, 7.88844093e+00,\n",
       "        2.39605100e+01, 2.36349439e+01, 5.53456743e+00, 2.23455847e-04,\n",
       "        1.62264425e+00, 2.64838234e+00, 7.22501472e+00, 1.25555915e+00,\n",
       "        1.32941890e+01, 3.83273241e+00, 3.27938257e+00, 1.98713697e+02,\n",
       "        2.76343404e-02, 9.87511329e+00, 1.15466653e+01, 7.89411872e+00,\n",
       "        2.45008055e+00, 2.00266136e+00, 2.16675637e+03, 1.26459962e+01,\n",
       "        2.11590217e+01, 3.09655364e+01, 1.66566824e+01, 3.41394883e+01,\n",
       "        3.67423371e+00, 3.63858074e+01, 2.97353473e+01, 1.27324365e+01,\n",
       "        3.97551392e+00, 4.46523549e+00, 5.42482298e+00, 2.98152486e+02,\n",
       "        1.73200477e+02, 2.05572030e+00, 1.00332971e+01, 1.90251279e+01,\n",
       "        2.80236636e+00, 1.18308570e+01, 3.33921673e+00, 9.15047933e+00,\n",
       "        2.83685566e-02, 3.86263842e+01, 1.24909009e+01, 2.01871053e+00,\n",
       "        4.18625543e-03, 1.28152231e+01, 4.30746687e+01, 4.73154924e+00,\n",
       "        3.35420311e+01, 2.44364581e+00, 2.41009145e+01, 3.09488281e+00,\n",
       "        3.20397408e+00, 1.07893592e+02, 1.31775730e-01, 6.52110911e-04,\n",
       "        4.37703471e+00, 2.78625862e+00, 1.42459940e+02, 3.14364579e+01,\n",
       "        2.24989447e+01, 2.62738306e-05, 2.03271850e+01, 1.89499631e-03,\n",
       "        1.48141952e+01, 3.41611839e+00, 1.47663471e+01, 2.21074345e-01,\n",
       "        1.63215251e+01, 7.42280408e+00, 7.25720547e+02, 1.11102347e+01]),\n",
       " array([5.88897963e-001, 1.34017256e-009, 3.05141021e-004, 6.06704427e-004,\n",
       "        1.68505435e-004, 3.13142776e-008, 6.91258213e-006, 8.52135611e-002,\n",
       "        6.32235673e-001, 5.20494143e-002, 8.83519856e-002, 1.22780230e-005,\n",
       "        1.19134737e-012, 5.61582815e-004, 5.30277214e-006, 7.02611551e-160,\n",
       "        6.45400148e-011, 3.53314015e-004, 1.11350566e-002, 5.60192854e-004,\n",
       "        2.84034488e-061, 4.81254650e-002, 8.13073929e-004, 6.07018873e-002,\n",
       "        3.95438215e-001, 4.74253858e-011, 2.90580208e-001, 2.37030138e-004,\n",
       "        4.01322029e-001, 9.60436850e-019, 1.02409281e-003, 2.42274333e-002,\n",
       "        1.70167331e-001, 1.54761600e-118, 8.54727635e-001, 4.97792919e-003,\n",
       "        9.87691978e-007, 1.16957734e-006, 1.86498793e-002, 9.88073400e-001,\n",
       "        2.02731938e-001, 1.03664331e-001, 7.19285882e-003, 2.62501048e-001,\n",
       "        2.66615664e-004, 5.02688683e-002, 7.01638875e-002, 5.29421160e-045,\n",
       "        8.67972349e-001, 1.67669012e-003, 6.79464614e-004, 4.96233051e-003,\n",
       "        1.17527879e-001, 1.57032192e-001, 0.00000000e+000, 3.76867399e-004,\n",
       "        4.24186104e-006, 2.64570691e-008, 4.48915299e-005, 5.17531301e-009,\n",
       "        5.52677832e-002, 1.63498761e-009, 4.98580251e-008, 3.59848258e-004,\n",
       "        4.61741100e-002, 3.45983806e-002, 1.98581093e-002, 1.57161517e-066,\n",
       "        1.83659843e-039, 1.51644464e-001, 1.53867639e-003, 1.29376718e-005,\n",
       "        9.41342307e-002, 5.83250511e-004, 6.76553149e-002, 2.48833276e-003,\n",
       "        8.66246235e-001, 5.18982518e-010, 4.09466157e-004, 1.55379943e-001,\n",
       "        9.48412214e-001, 3.44275418e-004, 5.34249892e-011, 2.96208698e-002,\n",
       "        7.03361744e-009, 1.18010723e-001, 9.18279050e-007, 7.85475438e-002,\n",
       "        7.34682081e-002, 3.08614107e-025, 7.16600152e-001, 9.79627211e-001,\n",
       "        3.64335025e-002, 9.50849151e-002, 8.93270587e-033, 2.07625905e-008,\n",
       "        2.11087114e-006, 9.95910250e-001, 6.54781860e-006, 9.65278059e-001,\n",
       "        1.18849791e-004, 6.45710824e-002, 1.21902715e-004, 6.38225468e-001,\n",
       "        5.35673276e-005, 6.44343455e-003, 3.15381291e-158, 8.59416366e-004]))"
      ]
     },
     "execution_count": 64,
     "metadata": {},
     "output_type": "execute_result"
    }
   ],
   "source": [
    "# calculate the univariate statistical measure between\n",
    "# each of the variables and the target\n",
    "\n",
    "# similarly to chi2, the output is one array with f-scores\n",
    "# and one array with the pvalues\n",
    "univariate = f_classif(X_train, y_train)\n",
    "\n",
    "univariate"
   ]
  },
  {
   "cell_type": "code",
   "execution_count": 65,
   "metadata": {},
   "outputs": [
    {
     "data": {
      "text/plain": [
       "<matplotlib.axes._subplots.AxesSubplot at 0x7fb5b5039070>"
      ]
     },
     "execution_count": 65,
     "metadata": {},
     "output_type": "execute_result"
    },
    {
     "data": {
      "image/png": "[encoded data removed]",
      "text/plain": [
       "<Figure size 1440x432 with 1 Axes>"
      ]
     },
     "metadata": {
      "needs_background": "light"
     },
     "output_type": "display_data"
    }
   ],
   "source": [
    "# 1) let's capture the pvalues in a pandas series\n",
    "# 2) add the variable names in the index\n",
    "# 3) sort the features based on their anova pvalues\n",
    "# 4) and make a var plot\n",
    "\n",
    "univariate = pd.Series(univariate[1])\n",
    "univariate.index = X_train.columns\n",
    "univariate.sort_values(ascending=False).plot.bar(figsize=(20, 6))"
   ]
  },
  {
   "cell_type": "code",
   "execution_count": 66,
   "metadata": {},
   "outputs": [
    {
     "data": {
      "text/plain": [
       "Index(['var_16', 'var_21', 'var_34', 'var_48', 'var_55', 'var_69', 'var_70',\n",
       "       'var_91', 'var_96', 'var_108'],\n",
       "      dtype='object')"
      ]
     },
     "execution_count": 66,
     "metadata": {},
     "output_type": "execute_result"
    }
   ],
   "source": [
    "# select the top 10 features\n",
    "sel_ = SelectKBest(f_classif, k=10).fit(X_train, y_train)\n",
    "\n",
    "# display selected feature names\n",
    "X_train.columns[sel_.get_support()]"
   ]
  },
  {
   "cell_type": "code",
   "execution_count": 67,
   "metadata": {},
   "outputs": [
    {
     "data": {
      "text/plain": [
       "(35000, 10)"
      ]
     },
     "execution_count": 67,
     "metadata": {},
     "output_type": "execute_result"
    }
   ],
   "source": [
    "# remove unwanted features from the dataset\n",
    "X_train = sel_.transform(X_train)\n",
    "\n",
    "X_train.shape"
   ]
  },
  {
   "cell_type": "markdown",
   "metadata": {},
   "source": [
    "## Univariate roc-auc or mse"
   ]
  },
  {
   "cell_type": "code",
   "execution_count": 3,
   "metadata": {},
   "outputs": [],
   "source": [
    "import pandas as pd\n",
    "import numpy as np\n",
    "import matplotlib.pyplot as plt\n",
    "\n",
    "from sklearn.model_selection import train_test_split\n",
    "from sklearn.tree import DecisionTreeClassifier, DecisionTreeRegressor\n",
    "from sklearn.metrics import roc_auc_score, mean_squared_error"
   ]
  },
  {
   "cell_type": "code",
   "execution_count": 4,
   "metadata": {},
   "outputs": [
    {
     "data": {
      "text/plain": [
       "(50000, 109)"
      ]
     },
     "execution_count": 4,
     "metadata": {},
     "output_type": "execute_result"
    }
   ],
   "source": [
    "# load dataset\n",
    "data = pd.read_csv('datasets/dataset_2.csv')\n",
    "data.shape"
   ]
  },
  {
   "cell_type": "code",
   "execution_count": 5,
   "metadata": {},
   "outputs": [
    {
     "data": {
      "text/plain": [
       "((35000, 108), (15000, 108))"
      ]
     },
     "execution_count": 5,
     "metadata": {},
     "output_type": "execute_result"
    }
   ],
   "source": [
    "# separate train and test sets\n",
    "X_train, X_test, y_train, y_test = train_test_split(\n",
    "    data.drop(labels=['target'], axis=1),\n",
    "    data['target'],\n",
    "    test_size=0.3,\n",
    "    random_state=0)\n",
    "\n",
    "X_train.shape, X_test.shape"
   ]
  },
  {
   "cell_type": "code",
   "execution_count": 6,
   "metadata": {},
   "outputs": [
    {
     "data": {
      "text/plain": [
       "[0.5069248231292061,\n",
       " 0.5006908738145861,\n",
       " 0.4931445654646017,\n",
       " 0.5039101753068067,\n",
       " 0.5014351366034588,\n",
       " 0.5028347252717772,\n",
       " 0.5095234564543892,\n",
       " 0.5062626193645395,\n",
       " 0.4913455716601861,\n",
       " 0.5066196352647712]"
      ]
     },
     "execution_count": 6,
     "metadata": {},
     "output_type": "execute_result"
    }
   ],
   "source": [
    "# determine roc-auc for each feature\n",
    "\n",
    "# here we store the roc-auc values\n",
    "roc_values = []\n",
    "\n",
    "# iterate over each feature in the dataset\n",
    "for feature in X_train.columns:\n",
    "\n",
    "    # train a decision tree classifier\n",
    "    clf = DecisionTreeClassifier()\n",
    "    clf.fit(X_train[feature].fillna(0).to_frame(), y_train)\n",
    "\n",
    "    # obtain the predictions\n",
    "    y_scored = clf.predict_proba(X_test[feature].to_frame())\n",
    "\n",
    "    # calculate and store the roc-auc\n",
    "    roc_values.append(roc_auc_score(y_test, y_scored[:, 1]))\n",
    "    \n",
    "# display the result\n",
    "roc_values[0:10]"
   ]
  },
  {
   "cell_type": "code",
   "execution_count": 7,
   "metadata": {},
   "outputs": [
    {
     "data": {
      "text/plain": [
       "Text(0, 0.5, 'roc-auc')"
      ]
     },
     "execution_count": 7,
     "metadata": {},
     "output_type": "execute_result"
    },
    {
     "data": {
      "image/png": "[encoded data removed]",
      "text/plain": [
       "<Figure size 1440x360 with 1 Axes>"
      ]
     },
     "metadata": {
      "needs_background": "light"
     },
     "output_type": "display_data"
    }
   ],
   "source": [
    "# now let's:\n",
    "\n",
    "# 1) capture the roc-auc values in a pandas series\n",
    "# 2) add the variable names in the index\n",
    "# 3) sort the features based on the roc-auc\n",
    "# 4) and make a var plot\n",
    "\n",
    "roc_values = pd.Series(roc_values)\n",
    "roc_values.index = X_train.columns\n",
    "roc_values.sort_values(ascending=False).plot.bar(figsize=(20, 5))\n",
    "plt.ylabel('roc-auc')"
   ]
  },
  {
   "cell_type": "code",
   "execution_count": 8,
   "metadata": {},
   "outputs": [
    {
     "data": {
      "text/plain": [
       "67"
      ]
     },
     "execution_count": 8,
     "metadata": {},
     "output_type": "execute_result"
    }
   ],
   "source": [
    "# a roc auc value of 0.5 indicates random decision\n",
    "# let's check how many features show a roc-auc value\n",
    "# higher than random\n",
    "\n",
    "len(roc_values[roc_values > 0.5])"
   ]
  },
  {
   "cell_type": "code",
   "execution_count": 9,
   "metadata": {},
   "outputs": [
    {
     "data": {
      "text/plain": [
       "Index(['var_1', 'var_2', 'var_4', 'var_5', 'var_6', 'var_7', 'var_8', 'var_10',\n",
       "       'var_11', 'var_12', 'var_13', 'var_14', 'var_15', 'var_16', 'var_18',\n",
       "       'var_21', 'var_22', 'var_23', 'var_25', 'var_26', 'var_27', 'var_28',\n",
       "       'var_29', 'var_30', 'var_33', 'var_34', 'var_35', 'var_38', 'var_39',\n",
       "       'var_43', 'var_44', 'var_46', 'var_47', 'var_48', 'var_50', 'var_51',\n",
       "       'var_52', 'var_53', 'var_54', 'var_55', 'var_57', 'var_59', 'var_65',\n",
       "       'var_67', 'var_69', 'var_70', 'var_71', 'var_72', 'var_74', 'var_75',\n",
       "       'var_78', 'var_80', 'var_82', 'var_83', 'var_84', 'var_85', 'var_88',\n",
       "       'var_91', 'var_94', 'var_96', 'var_97', 'var_98', 'var_100', 'var_101',\n",
       "       'var_105', 'var_106', 'var_108'],\n",
       "      dtype='object')"
      ]
     },
     "execution_count": 9,
     "metadata": {},
     "output_type": "execute_result"
    }
   ],
   "source": [
    "selected_features = roc_values[roc_values > 0.5].index\n",
    "\n",
    "selected_features"
   ]
  },
  {
   "cell_type": "code",
   "execution_count": 10,
   "metadata": {},
   "outputs": [
    {
     "data": {
      "text/plain": [
       "((35000, 67), (15000, 67))"
      ]
     },
     "execution_count": 10,
     "metadata": {},
     "output_type": "execute_result"
    }
   ],
   "source": [
    "# select features in the dataframes\n",
    "\n",
    "X_train = X_train[selected_features]\n",
    "X_test = X_test[selected_features]\n",
    "\n",
    "X_train.shape, X_test.shape"
   ]
  },
  {
   "cell_type": "markdown",
   "metadata": {},
   "source": [
    "## Target mean encoding"
   ]
  },
  {
   "cell_type": "code",
   "execution_count": 1,
   "metadata": {},
   "outputs": [],
   "source": [
    "import pandas as pd\n",
    "import numpy as np\n",
    "\n",
    "from sklearn.model_selection import train_test_split\n",
    "from sklearn.metrics import roc_auc_score"
   ]
  },
  {
   "cell_type": "code",
   "execution_count": 2,
   "metadata": {},
   "outputs": [
    {
     "data": {
      "text/plain": [
       "(1306, 9)"
      ]
     },
     "execution_count": 2,
     "metadata": {},
     "output_type": "execute_result"
    }
   ],
   "source": [
    "# load dataset\n",
    "data = pd.read_csv('datasets/titanic.csv')\n",
    "data.shape"
   ]
  },
  {
   "cell_type": "code",
   "execution_count": 3,
   "metadata": {},
   "outputs": [
    {
     "data": {
      "text/html": [
       "<div>\n",
       "<style scoped>\n",
       "    .dataframe tbody tr th:only-of-type {\n",
       "        vertical-align: middle;\n",
       "    }\n",
       "\n",
       "    .dataframe tbody tr th {\n",
       "        vertical-align: top;\n",
       "    }\n",
       "\n",
       "    .dataframe thead th {\n",
       "        text-align: right;\n",
       "    }\n",
       "</style>\n",
       "<table border=\"1\" class=\"dataframe\">\n",
       "  <thead>\n",
       "    <tr style=\"text-align: right;\">\n",
       "      <th></th>\n",
       "      <th>pclass</th>\n",
       "      <th>survived</th>\n",
       "      <th>sex</th>\n",
       "      <th>age</th>\n",
       "      <th>sibsp</th>\n",
       "      <th>parch</th>\n",
       "      <th>fare</th>\n",
       "      <th>cabin</th>\n",
       "      <th>embarked</th>\n",
       "    </tr>\n",
       "  </thead>\n",
       "  <tbody>\n",
       "    <tr>\n",
       "      <th>0</th>\n",
       "      <td>1</td>\n",
       "      <td>1</td>\n",
       "      <td>female</td>\n",
       "      <td>29.0000</td>\n",
       "      <td>0</td>\n",
       "      <td>0</td>\n",
       "      <td>211.3375</td>\n",
       "      <td>B5</td>\n",
       "      <td>S</td>\n",
       "    </tr>\n",
       "    <tr>\n",
       "      <th>1</th>\n",
       "      <td>1</td>\n",
       "      <td>1</td>\n",
       "      <td>male</td>\n",
       "      <td>0.9167</td>\n",
       "      <td>1</td>\n",
       "      <td>2</td>\n",
       "      <td>151.5500</td>\n",
       "      <td>C22</td>\n",
       "      <td>S</td>\n",
       "    </tr>\n",
       "    <tr>\n",
       "      <th>2</th>\n",
       "      <td>1</td>\n",
       "      <td>0</td>\n",
       "      <td>female</td>\n",
       "      <td>2.0000</td>\n",
       "      <td>1</td>\n",
       "      <td>2</td>\n",
       "      <td>151.5500</td>\n",
       "      <td>C22</td>\n",
       "      <td>S</td>\n",
       "    </tr>\n",
       "    <tr>\n",
       "      <th>3</th>\n",
       "      <td>1</td>\n",
       "      <td>0</td>\n",
       "      <td>male</td>\n",
       "      <td>30.0000</td>\n",
       "      <td>1</td>\n",
       "      <td>2</td>\n",
       "      <td>151.5500</td>\n",
       "      <td>C22</td>\n",
       "      <td>S</td>\n",
       "    </tr>\n",
       "    <tr>\n",
       "      <th>4</th>\n",
       "      <td>1</td>\n",
       "      <td>0</td>\n",
       "      <td>female</td>\n",
       "      <td>25.0000</td>\n",
       "      <td>1</td>\n",
       "      <td>2</td>\n",
       "      <td>151.5500</td>\n",
       "      <td>C22</td>\n",
       "      <td>S</td>\n",
       "    </tr>\n",
       "  </tbody>\n",
       "</table>\n",
       "</div>"
      ],
      "text/plain": [
       "   pclass  survived     sex      age  sibsp  parch      fare cabin embarked\n",
       "0       1         1  female  29.0000      0      0  211.3375    B5        S\n",
       "1       1         1    male   0.9167      1      2  151.5500   C22        S\n",
       "2       1         0  female   2.0000      1      2  151.5500   C22        S\n",
       "3       1         0    male  30.0000      1      2  151.5500   C22        S\n",
       "4       1         0  female  25.0000      1      2  151.5500   C22        S"
      ]
     },
     "execution_count": 3,
     "metadata": {},
     "output_type": "execute_result"
    }
   ],
   "source": [
    "data.head()"
   ]
  },
  {
   "cell_type": "code",
   "execution_count": 4,
   "metadata": {},
   "outputs": [
    {
     "data": {
      "text/plain": [
       "array(['B', 'C', 'E', 'D', 'A', 'N', 'T', 'F', 'G'], dtype=object)"
      ]
     },
     "execution_count": 4,
     "metadata": {},
     "output_type": "execute_result"
    }
   ],
   "source": [
    "# Variable preprocessing:\n",
    "\n",
    "# Cabin contains missing data\n",
    "# I will replace missing data by the string \"Missing\"\n",
    "\n",
    "# then I will narrow down the different cabins by selecting only the\n",
    "# first letter, which represents the deck in which the cabin was located\n",
    "\n",
    "data['cabin'].fillna('Missing', inplace=True)\n",
    "\n",
    "# captures first letter of string (the letter of the cabin)\n",
    "data['cabin'] = data['cabin'].str[0]\n",
    "data['cabin'].unique()"
   ]
  },
  {
   "cell_type": "code",
   "execution_count": 5,
   "metadata": {},
   "outputs": [
    {
     "data": {
      "text/plain": [
       "((914, 5), (392, 5))"
      ]
     },
     "execution_count": 5,
     "metadata": {},
     "output_type": "execute_result"
    }
   ],
   "source": [
    "# separate train and test sets\n",
    "\n",
    "# I will only use the categorical variables and the target\n",
    "\n",
    "X_train, X_test, y_train, y_test = train_test_split(\n",
    "    data[['pclass', 'sex', 'embarked', 'cabin', 'survived']],\n",
    "    data['survived'],\n",
    "    test_size=0.3,\n",
    "    random_state=0)\n",
    "\n",
    "X_train.shape, X_test.shape"
   ]
  },
  {
   "cell_type": "code",
   "execution_count": 7,
   "metadata": {},
   "outputs": [],
   "source": [
    "# function that determines the target mean per category\n",
    "\n",
    "def mean_encoding(df_train, df_test, categorical_vars):\n",
    "    \n",
    "    # temporary copy of the original dataframes\n",
    "    df_train_temp = df_train.copy()\n",
    "    df_test_temp = df_test.copy()\n",
    "    \n",
    "    # iterate over each variable\n",
    "    for col in categorical_vars:\n",
    "        \n",
    "        # make a dictionary of categories, target-mean pairs\n",
    "        target_mean_dict = df_train.groupby([col])['survived'].mean().to_dict()\n",
    "        \n",
    "        # replace the categories by the mean of the target\n",
    "        df_train_temp[col] = df_train[col].map(target_mean_dict)\n",
    "        df_test_temp[col] = df_test[col].map(target_mean_dict)\n",
    "    \n",
    "    # drop the target from the daatset\n",
    "    df_train_temp.drop(['survived'], axis=1, inplace=True)\n",
    "    df_test_temp.drop(['survived'], axis=1, inplace=True)\n",
    "    \n",
    "    # return  remapped datasets\n",
    "    return df_train_temp, df_test_temp"
   ]
  },
  {
   "cell_type": "code",
   "execution_count": 8,
   "metadata": {},
   "outputs": [
    {
     "data": {
      "text/html": [
       "<div>\n",
       "<style scoped>\n",
       "    .dataframe tbody tr th:only-of-type {\n",
       "        vertical-align: middle;\n",
       "    }\n",
       "\n",
       "    .dataframe tbody tr th {\n",
       "        vertical-align: top;\n",
       "    }\n",
       "\n",
       "    .dataframe thead th {\n",
       "        text-align: right;\n",
       "    }\n",
       "</style>\n",
       "<table border=\"1\" class=\"dataframe\">\n",
       "  <thead>\n",
       "    <tr style=\"text-align: right;\">\n",
       "      <th></th>\n",
       "      <th>pclass</th>\n",
       "      <th>sex</th>\n",
       "      <th>embarked</th>\n",
       "      <th>cabin</th>\n",
       "    </tr>\n",
       "  </thead>\n",
       "  <tbody>\n",
       "    <tr>\n",
       "      <th>840</th>\n",
       "      <td>0.243902</td>\n",
       "      <td>0.199664</td>\n",
       "      <td>0.338534</td>\n",
       "      <td>0.295875</td>\n",
       "    </tr>\n",
       "    <tr>\n",
       "      <th>866</th>\n",
       "      <td>0.243902</td>\n",
       "      <td>0.199664</td>\n",
       "      <td>0.338534</td>\n",
       "      <td>0.295875</td>\n",
       "    </tr>\n",
       "    <tr>\n",
       "      <th>427</th>\n",
       "      <td>0.416667</td>\n",
       "      <td>0.199664</td>\n",
       "      <td>0.338534</td>\n",
       "      <td>0.295875</td>\n",
       "    </tr>\n",
       "    <tr>\n",
       "      <th>478</th>\n",
       "      <td>0.416667</td>\n",
       "      <td>0.199664</td>\n",
       "      <td>0.545946</td>\n",
       "      <td>0.295875</td>\n",
       "    </tr>\n",
       "    <tr>\n",
       "      <th>1305</th>\n",
       "      <td>0.243902</td>\n",
       "      <td>0.199664</td>\n",
       "      <td>0.338534</td>\n",
       "      <td>0.295875</td>\n",
       "    </tr>\n",
       "  </tbody>\n",
       "</table>\n",
       "</div>"
      ],
      "text/plain": [
       "        pclass       sex  embarked     cabin\n",
       "840   0.243902  0.199664  0.338534  0.295875\n",
       "866   0.243902  0.199664  0.338534  0.295875\n",
       "427   0.416667  0.199664  0.338534  0.295875\n",
       "478   0.416667  0.199664  0.545946  0.295875\n",
       "1305  0.243902  0.199664  0.338534  0.295875"
      ]
     },
     "execution_count": 8,
     "metadata": {},
     "output_type": "execute_result"
    }
   ],
   "source": [
    "categorical_vars = ['pclass', 'sex', 'embarked', 'cabin']\n",
    "X_train_enc, X_test_enc = mean_encoding(X_train, X_test, categorical_vars)\n",
    "X_train_enc.head()"
   ]
  },
  {
   "cell_type": "code",
   "execution_count": 9,
   "metadata": {},
   "outputs": [
    {
     "data": {
      "text/html": [
       "<div>\n",
       "<style scoped>\n",
       "    .dataframe tbody tr th:only-of-type {\n",
       "        vertical-align: middle;\n",
       "    }\n",
       "\n",
       "    .dataframe tbody tr th {\n",
       "        vertical-align: top;\n",
       "    }\n",
       "\n",
       "    .dataframe thead th {\n",
       "        text-align: right;\n",
       "    }\n",
       "</style>\n",
       "<table border=\"1\" class=\"dataframe\">\n",
       "  <thead>\n",
       "    <tr style=\"text-align: right;\">\n",
       "      <th></th>\n",
       "      <th>pclass</th>\n",
       "      <th>sex</th>\n",
       "      <th>embarked</th>\n",
       "      <th>cabin</th>\n",
       "    </tr>\n",
       "  </thead>\n",
       "  <tbody>\n",
       "    <tr>\n",
       "      <th>609</th>\n",
       "      <td>0.243902</td>\n",
       "      <td>0.199664</td>\n",
       "      <td>0.338534</td>\n",
       "      <td>0.295875</td>\n",
       "    </tr>\n",
       "    <tr>\n",
       "      <th>412</th>\n",
       "      <td>0.416667</td>\n",
       "      <td>0.199664</td>\n",
       "      <td>0.338534</td>\n",
       "      <td>0.295875</td>\n",
       "    </tr>\n",
       "    <tr>\n",
       "      <th>528</th>\n",
       "      <td>0.416667</td>\n",
       "      <td>0.199664</td>\n",
       "      <td>0.338534</td>\n",
       "      <td>0.295875</td>\n",
       "    </tr>\n",
       "    <tr>\n",
       "      <th>1147</th>\n",
       "      <td>0.243902</td>\n",
       "      <td>0.716981</td>\n",
       "      <td>0.329545</td>\n",
       "      <td>0.295875</td>\n",
       "    </tr>\n",
       "    <tr>\n",
       "      <th>942</th>\n",
       "      <td>0.243902</td>\n",
       "      <td>0.199664</td>\n",
       "      <td>0.338534</td>\n",
       "      <td>0.295875</td>\n",
       "    </tr>\n",
       "  </tbody>\n",
       "</table>\n",
       "</div>"
      ],
      "text/plain": [
       "        pclass       sex  embarked     cabin\n",
       "609   0.243902  0.199664  0.338534  0.295875\n",
       "412   0.416667  0.199664  0.338534  0.295875\n",
       "528   0.416667  0.199664  0.338534  0.295875\n",
       "1147  0.243902  0.716981  0.329545  0.295875\n",
       "942   0.243902  0.199664  0.338534  0.295875"
      ]
     },
     "execution_count": 9,
     "metadata": {},
     "output_type": "execute_result"
    }
   ],
   "source": [
    "X_test_enc.head()"
   ]
  },
  {
   "cell_type": "code",
   "execution_count": 12,
   "metadata": {},
   "outputs": [],
   "source": [
    "# now, we calculate a roc-auc value, using the encoded variables\n",
    "# as predictions\n",
    "\n",
    "roc_values = []\n",
    "\n",
    "for feature in categorical_vars:\n",
    "    roc_values.append(roc_auc_score(y_test, X_test_enc[feature]))"
   ]
  },
  {
   "cell_type": "code",
   "execution_count": 13,
   "metadata": {},
   "outputs": [
    {
     "data": {
      "text/plain": [
       "sex         0.784164\n",
       "pclass      0.630389\n",
       "cabin       0.610934\n",
       "embarked    0.573342\n",
       "dtype: float64"
      ]
     },
     "execution_count": 13,
     "metadata": {},
     "output_type": "execute_result"
    }
   ],
   "source": [
    "# I make a series for easy visualisation\n",
    "\n",
    "m1 = pd.Series(roc_values)\n",
    "m1.index = categorical_vars\n",
    "m1.sort_values(ascending=False)"
   ]
  },
  {
   "cell_type": "code",
   "execution_count": 14,
   "metadata": {},
   "outputs": [
    {
     "data": {
      "text/plain": [
       "((914, 3), (392, 3))"
      ]
     },
     "execution_count": 14,
     "metadata": {},
     "output_type": "execute_result"
    }
   ],
   "source": [
    "# separate train and test sets\n",
    "X_train, X_test, y_train, y_test = train_test_split(\n",
    "    data[['age', 'fare', 'survived']],\n",
    "    data['survived'],\n",
    "    test_size=0.3,\n",
    "    random_state=0)\n",
    "\n",
    "X_train.shape, X_test.shape"
   ]
  },
  {
   "cell_type": "code",
   "execution_count": 15,
   "metadata": {},
   "outputs": [],
   "source": [
    "# fill missing values\n",
    "\n",
    "X_train = X_train.fillna(0)\n",
    "X_test = X_test.fillna(0)"
   ]
  },
  {
   "cell_type": "code",
   "execution_count": 16,
   "metadata": {},
   "outputs": [
    {
     "data": {
      "text/html": [
       "<div>\n",
       "<style scoped>\n",
       "    .dataframe tbody tr th:only-of-type {\n",
       "        vertical-align: middle;\n",
       "    }\n",
       "\n",
       "    .dataframe tbody tr th {\n",
       "        vertical-align: top;\n",
       "    }\n",
       "\n",
       "    .dataframe thead th {\n",
       "        text-align: right;\n",
       "    }\n",
       "</style>\n",
       "<table border=\"1\" class=\"dataframe\">\n",
       "  <thead>\n",
       "    <tr style=\"text-align: right;\">\n",
       "      <th></th>\n",
       "      <th>age_binned</th>\n",
       "      <th>age</th>\n",
       "    </tr>\n",
       "  </thead>\n",
       "  <tbody>\n",
       "    <tr>\n",
       "      <th>840</th>\n",
       "      <td>2</td>\n",
       "      <td>29.813199</td>\n",
       "    </tr>\n",
       "    <tr>\n",
       "      <th>866</th>\n",
       "      <td>4</td>\n",
       "      <td>43.000000</td>\n",
       "    </tr>\n",
       "    <tr>\n",
       "      <th>427</th>\n",
       "      <td>4</td>\n",
       "      <td>44.000000</td>\n",
       "    </tr>\n",
       "    <tr>\n",
       "      <th>478</th>\n",
       "      <td>1</td>\n",
       "      <td>25.000000</td>\n",
       "    </tr>\n",
       "    <tr>\n",
       "      <th>1305</th>\n",
       "      <td>1</td>\n",
       "      <td>29.000000</td>\n",
       "    </tr>\n",
       "    <tr>\n",
       "      <th>453</th>\n",
       "      <td>4</td>\n",
       "      <td>63.000000</td>\n",
       "    </tr>\n",
       "    <tr>\n",
       "      <th>117</th>\n",
       "      <td>3</td>\n",
       "      <td>30.000000</td>\n",
       "    </tr>\n",
       "    <tr>\n",
       "      <th>482</th>\n",
       "      <td>3</td>\n",
       "      <td>34.000000</td>\n",
       "    </tr>\n",
       "    <tr>\n",
       "      <th>294</th>\n",
       "      <td>3</td>\n",
       "      <td>39.000000</td>\n",
       "    </tr>\n",
       "    <tr>\n",
       "      <th>261</th>\n",
       "      <td>4</td>\n",
       "      <td>50.000000</td>\n",
       "    </tr>\n",
       "  </tbody>\n",
       "</table>\n",
       "</div>"
      ],
      "text/plain": [
       "      age_binned        age\n",
       "840            2  29.813199\n",
       "866            4  43.000000\n",
       "427            4  44.000000\n",
       "478            1  25.000000\n",
       "1305           1  29.000000\n",
       "453            4  63.000000\n",
       "117            3  30.000000\n",
       "482            3  34.000000\n",
       "294            3  39.000000\n",
       "261            4  50.000000"
      ]
     },
     "execution_count": 16,
     "metadata": {},
     "output_type": "execute_result"
    }
   ],
   "source": [
    "# Let's divide Age in 10 bins. We use the qcut (quantile cut)\n",
    "# function from pandas indicating that 11 cutting points (q),\n",
    "# thus 10 bins.\n",
    "\n",
    "# retbins= True indicates that I want to capture the limits of\n",
    "# each interval (so I can then use them to cut the test set)\n",
    "\n",
    "X_train['age_binned'], intervals = pd.qcut(\n",
    "    X_train['age'],\n",
    "    q = 5,\n",
    "    labels=False,\n",
    "    retbins=True,\n",
    "    precision=3,\n",
    "    duplicates='drop',\n",
    ")\n",
    "\n",
    "X_train[['age_binned', 'age']].head(10)"
   ]
  },
  {
   "cell_type": "code",
   "execution_count": 17,
   "metadata": {},
   "outputs": [
    {
     "data": {
      "text/plain": [
       "5"
      ]
     },
     "execution_count": 17,
     "metadata": {},
     "output_type": "execute_result"
    }
   ],
   "source": [
    "# count the number of distinct bins\n",
    "\n",
    "X_train['age_binned'].nunique()"
   ]
  },
  {
   "cell_type": "code",
   "execution_count": 18,
   "metadata": {},
   "outputs": [
    {
     "data": {
      "text/plain": [
       "array([2, 4, 1, 3, 0])"
      ]
     },
     "execution_count": 18,
     "metadata": {},
     "output_type": "execute_result"
    }
   ],
   "source": [
    "# display the bins\n",
    "\n",
    "X_train['age_binned'].unique()"
   ]
  },
  {
   "cell_type": "code",
   "execution_count": 19,
   "metadata": {},
   "outputs": [
    {
     "data": {
      "text/html": [
       "<div>\n",
       "<style scoped>\n",
       "    .dataframe tbody tr th:only-of-type {\n",
       "        vertical-align: middle;\n",
       "    }\n",
       "\n",
       "    .dataframe tbody tr th {\n",
       "        vertical-align: top;\n",
       "    }\n",
       "\n",
       "    .dataframe thead th {\n",
       "        text-align: right;\n",
       "    }\n",
       "</style>\n",
       "<table border=\"1\" class=\"dataframe\">\n",
       "  <thead>\n",
       "    <tr style=\"text-align: right;\">\n",
       "      <th></th>\n",
       "      <th>age_binned</th>\n",
       "      <th>age</th>\n",
       "    </tr>\n",
       "  </thead>\n",
       "  <tbody>\n",
       "    <tr>\n",
       "      <th>609</th>\n",
       "      <td>0.0</td>\n",
       "      <td>0.833300</td>\n",
       "    </tr>\n",
       "    <tr>\n",
       "      <th>412</th>\n",
       "      <td>3.0</td>\n",
       "      <td>34.000000</td>\n",
       "    </tr>\n",
       "    <tr>\n",
       "      <th>528</th>\n",
       "      <td>0.0</td>\n",
       "      <td>19.000000</td>\n",
       "    </tr>\n",
       "    <tr>\n",
       "      <th>1147</th>\n",
       "      <td>2.0</td>\n",
       "      <td>29.813199</td>\n",
       "    </tr>\n",
       "    <tr>\n",
       "      <th>942</th>\n",
       "      <td>2.0</td>\n",
       "      <td>29.813199</td>\n",
       "    </tr>\n",
       "    <tr>\n",
       "      <th>870</th>\n",
       "      <td>2.0</td>\n",
       "      <td>29.813199</td>\n",
       "    </tr>\n",
       "    <tr>\n",
       "      <th>5</th>\n",
       "      <td>4.0</td>\n",
       "      <td>48.000000</td>\n",
       "    </tr>\n",
       "    <tr>\n",
       "      <th>231</th>\n",
       "      <td>4.0</td>\n",
       "      <td>47.000000</td>\n",
       "    </tr>\n",
       "    <tr>\n",
       "      <th>731</th>\n",
       "      <td>0.0</td>\n",
       "      <td>9.000000</td>\n",
       "    </tr>\n",
       "    <tr>\n",
       "      <th>1289</th>\n",
       "      <td>2.0</td>\n",
       "      <td>29.813199</td>\n",
       "    </tr>\n",
       "  </tbody>\n",
       "</table>\n",
       "</div>"
      ],
      "text/plain": [
       "      age_binned        age\n",
       "609          0.0   0.833300\n",
       "412          3.0  34.000000\n",
       "528          0.0  19.000000\n",
       "1147         2.0  29.813199\n",
       "942          2.0  29.813199\n",
       "870          2.0  29.813199\n",
       "5            4.0  48.000000\n",
       "231          4.0  47.000000\n",
       "731          0.0   9.000000\n",
       "1289         2.0  29.813199"
      ]
     },
     "execution_count": 19,
     "metadata": {},
     "output_type": "execute_result"
    }
   ],
   "source": [
    "# now I use the interval limits calculated in the previous cell to\n",
    "# bin the testing set\n",
    "\n",
    "X_test['age_binned'] = pd.cut(x = X_test['age'], bins=intervals, labels=False)\n",
    "\n",
    "X_test[['age_binned', 'age']].head(10)"
   ]
  },
  {
   "cell_type": "code",
   "execution_count": 20,
   "metadata": {},
   "outputs": [],
   "source": [
    "# train\n",
    "X_train['fare_binned'], intervals = pd.qcut(\n",
    "    X_train['fare'],\n",
    "    q=5,\n",
    "    labels=False,\n",
    "    retbins=True,\n",
    "    precision=3,\n",
    "    duplicates='drop',\n",
    ")\n",
    "\n",
    "# test\n",
    "X_test['fare_binned'] = pd.cut(x = X_test['fare'], bins=intervals, labels=False)"
   ]
  },
  {
   "cell_type": "code",
   "execution_count": 21,
   "metadata": {},
   "outputs": [
    {
     "data": {
      "text/plain": [
       "5"
      ]
     },
     "execution_count": 21,
     "metadata": {},
     "output_type": "execute_result"
    }
   ],
   "source": [
    "X_test['fare_binned'].nunique()"
   ]
  },
  {
   "cell_type": "code",
   "execution_count": 22,
   "metadata": {},
   "outputs": [
    {
     "data": {
      "text/plain": [
       "age            0\n",
       "fare           0\n",
       "survived       0\n",
       "age_binned     2\n",
       "fare_binned    5\n",
       "dtype: int64"
      ]
     },
     "execution_count": 22,
     "metadata": {},
     "output_type": "execute_result"
    }
   ],
   "source": [
    "X_test.isnull().sum()"
   ]
  },
  {
   "cell_type": "code",
   "execution_count": 23,
   "metadata": {},
   "outputs": [],
   "source": [
    "# test shows some missing data. These appear when the Fare values can't\n",
    "# fill missing values\n",
    "\n",
    "X_train = X_train.fillna(0)\n",
    "X_test = X_test.fillna(0)"
   ]
  },
  {
   "cell_type": "code",
   "execution_count": 24,
   "metadata": {},
   "outputs": [
    {
     "data": {
      "text/html": [
       "<div>\n",
       "<style scoped>\n",
       "    .dataframe tbody tr th:only-of-type {\n",
       "        vertical-align: middle;\n",
       "    }\n",
       "\n",
       "    .dataframe tbody tr th {\n",
       "        vertical-align: top;\n",
       "    }\n",
       "\n",
       "    .dataframe thead th {\n",
       "        text-align: right;\n",
       "    }\n",
       "</style>\n",
       "<table border=\"1\" class=\"dataframe\">\n",
       "  <thead>\n",
       "    <tr style=\"text-align: right;\">\n",
       "      <th></th>\n",
       "      <th>age_binned</th>\n",
       "      <th>fare_binned</th>\n",
       "    </tr>\n",
       "  </thead>\n",
       "  <tbody>\n",
       "    <tr>\n",
       "      <th>840</th>\n",
       "      <td>0.254237</td>\n",
       "      <td>0.367232</td>\n",
       "    </tr>\n",
       "    <tr>\n",
       "      <th>866</th>\n",
       "      <td>0.421965</td>\n",
       "      <td>0.256831</td>\n",
       "    </tr>\n",
       "    <tr>\n",
       "      <th>427</th>\n",
       "      <td>0.421965</td>\n",
       "      <td>0.367232</td>\n",
       "    </tr>\n",
       "    <tr>\n",
       "      <th>478</th>\n",
       "      <td>0.379487</td>\n",
       "      <td>0.629834</td>\n",
       "    </tr>\n",
       "    <tr>\n",
       "      <th>1305</th>\n",
       "      <td>0.379487</td>\n",
       "      <td>0.207447</td>\n",
       "    </tr>\n",
       "  </tbody>\n",
       "</table>\n",
       "</div>"
      ],
      "text/plain": [
       "      age_binned  fare_binned\n",
       "840     0.254237     0.367232\n",
       "866     0.421965     0.256831\n",
       "427     0.421965     0.367232\n",
       "478     0.379487     0.629834\n",
       "1305    0.379487     0.207447"
      ]
     },
     "execution_count": 24,
     "metadata": {},
     "output_type": "execute_result"
    }
   ],
   "source": [
    "# now we use our previous function to encode the variables\n",
    "# with the target mean\n",
    "\n",
    "binned_vars = ['age_binned', 'fare_binned']\n",
    "\n",
    "X_train_enc, X_test_enc = mean_encoding(\n",
    "    X_train[binned_vars+['survived']], X_test[binned_vars+['survived']], binned_vars)\n",
    "\n",
    "X_train_enc.head()"
   ]
  },
  {
   "cell_type": "code",
   "execution_count": 25,
   "metadata": {},
   "outputs": [],
   "source": [
    "# now, we calculate a roc-auc value, using the encoded variables\n",
    "# as predictions\n",
    "\n",
    "roc_values = []\n",
    "for feature in binned_vars:\n",
    "    roc_values.append(roc_auc_score(y_test, X_test_enc[feature]))"
   ]
  },
  {
   "cell_type": "code",
   "execution_count": 26,
   "metadata": {},
   "outputs": [
    {
     "data": {
      "text/plain": [
       "fare_binned    0.666964\n",
       "age_binned     0.497335\n",
       "dtype: float64"
      ]
     },
     "execution_count": 26,
     "metadata": {},
     "output_type": "execute_result"
    }
   ],
   "source": [
    "# I make a series for easy visualisation\n",
    "\n",
    "m1 = pd.Series(roc_values)\n",
    "m1.index = binned_vars\n",
    "m1.sort_values(ascending=False)"
   ]
  },
  {
   "cell_type": "markdown",
   "metadata": {},
   "source": [
    "## Step forward feature selection"
   ]
  },
  {
   "cell_type": "code",
   "execution_count": 1,
   "metadata": {},
   "outputs": [],
   "source": [
    "import pandas as pd\n",
    "import numpy as np\n",
    "\n",
    "from sklearn.model_selection import train_test_split\n",
    "\n",
    "from sklearn.ensemble import RandomForestRegressor, RandomForestClassifier\n",
    "from sklearn.metrics import roc_auc_score, r2_score\n",
    "\n",
    "from mlxtend.feature_selection import SequentialFeatureSelector as SFS"
   ]
  },
  {
   "cell_type": "code",
   "execution_count": 2,
   "metadata": {},
   "outputs": [
    {
     "data": {
      "text/plain": [
       "(50000, 109)"
      ]
     },
     "execution_count": 2,
     "metadata": {},
     "output_type": "execute_result"
    }
   ],
   "source": [
    "# load dataset\n",
    "data = pd.read_csv('datasets/dataset_2.csv')\n",
    "data.shape"
   ]
  },
  {
   "cell_type": "code",
   "execution_count": 3,
   "metadata": {},
   "outputs": [
    {
     "data": {
      "text/plain": [
       "((35000, 108), (15000, 108))"
      ]
     },
     "execution_count": 3,
     "metadata": {},
     "output_type": "execute_result"
    }
   ],
   "source": [
    "# separate train and test sets\n",
    "\n",
    "X_train, X_test, y_train, y_test = train_test_split(\n",
    "    data.drop(labels=['target'], axis=1),\n",
    "    data['target'],\n",
    "    test_size=0.3,\n",
    "    random_state=0)\n",
    "\n",
    "X_train.shape, X_test.shape"
   ]
  },
  {
   "cell_type": "code",
   "execution_count": 4,
   "metadata": {},
   "outputs": [
    {
     "name": "stdout",
     "output_type": "stream",
     "text": [
      "correlated features:  36\n"
     ]
    }
   ],
   "source": [
    "# remove correlated features to reduce the feature space\n",
    "\n",
    "def correlation(dataset, threshold):\n",
    "    col_corr = set()  # Set of all the names of correlated columns\n",
    "    corr_matrix = dataset.corr()\n",
    "    for i in range(len(corr_matrix.columns)):\n",
    "        for j in range(i):\n",
    "            if abs(corr_matrix.iloc[i, j]) > threshold: # we are interested in absolute coeff value\n",
    "                colname = corr_matrix.columns[i]  # getting the name of column\n",
    "                col_corr.add(colname)\n",
    "    return col_corr\n",
    "\n",
    "corr_features = correlation(X_train, 0.8)\n",
    "print('correlated features: ', len(set(corr_features)) )"
   ]
  },
  {
   "cell_type": "code",
   "execution_count": 5,
   "metadata": {},
   "outputs": [
    {
     "data": {
      "text/plain": [
       "((35000, 72), (15000, 72))"
      ]
     },
     "execution_count": 5,
     "metadata": {},
     "output_type": "execute_result"
    }
   ],
   "source": [
    "# remove correlated features\n",
    "X_train.drop(labels=corr_features, axis=1, inplace=True)\n",
    "X_test.drop(labels=corr_features, axis=1, inplace=True)\n",
    "\n",
    "X_train.shape, X_test.shape"
   ]
  },
  {
   "cell_type": "code",
   "execution_count": 6,
   "metadata": {},
   "outputs": [
    {
     "name": "stderr",
     "output_type": "stream",
     "text": [
      "[Parallel(n_jobs=1)]: Using backend SequentialBackend with 1 concurrent workers.\n",
      "[Parallel(n_jobs=1)]: Done   1 out of   1 | elapsed:    0.9s remaining:    0.0s\n",
      "[Parallel(n_jobs=1)]: Done  72 out of  72 | elapsed:   22.8s finished\n",
      "\n",
      "[2020-11-02 07:40:09] Features: 1/10 -- score: 0.576816743026821[Parallel(n_jobs=1)]: Using backend SequentialBackend with 1 concurrent workers.\n",
      "[Parallel(n_jobs=1)]: Done   1 out of   1 | elapsed:    0.3s remaining:    0.0s\n",
      "[Parallel(n_jobs=1)]: Done  71 out of  71 | elapsed:   18.8s finished\n",
      "\n",
      "[2020-11-02 07:40:28] Features: 2/10 -- score: 0.5886873005393484[Parallel(n_jobs=1)]: Using backend SequentialBackend with 1 concurrent workers.\n",
      "[Parallel(n_jobs=1)]: Done   1 out of   1 | elapsed:    0.2s remaining:    0.0s\n",
      "[Parallel(n_jobs=1)]: Done  70 out of  70 | elapsed:   12.9s finished\n",
      "\n",
      "[2020-11-02 07:40:41] Features: 3/10 -- score: 0.5968615155864854[Parallel(n_jobs=1)]: Using backend SequentialBackend with 1 concurrent workers.\n",
      "[Parallel(n_jobs=1)]: Done   1 out of   1 | elapsed:    0.2s remaining:    0.0s\n",
      "[Parallel(n_jobs=1)]: Done  69 out of  69 | elapsed:   14.8s finished\n",
      "\n",
      "[2020-11-02 07:40:56] Features: 4/10 -- score: 0.6342366871808505[Parallel(n_jobs=1)]: Using backend SequentialBackend with 1 concurrent workers.\n",
      "[Parallel(n_jobs=1)]: Done   1 out of   1 | elapsed:    0.3s remaining:    0.0s\n",
      "[Parallel(n_jobs=1)]: Done  68 out of  68 | elapsed:   15.5s finished\n",
      "\n",
      "[2020-11-02 07:41:11] Features: 5/10 -- score: 0.6395204169210958[Parallel(n_jobs=1)]: Using backend SequentialBackend with 1 concurrent workers.\n",
      "[Parallel(n_jobs=1)]: Done   1 out of   1 | elapsed:    0.3s remaining:    0.0s\n",
      "[Parallel(n_jobs=1)]: Done  67 out of  67 | elapsed:   22.3s finished\n",
      "\n",
      "[2020-11-02 07:41:33] Features: 6/10 -- score: 0.6475122379633955[Parallel(n_jobs=1)]: Using backend SequentialBackend with 1 concurrent workers.\n",
      "[Parallel(n_jobs=1)]: Done   1 out of   1 | elapsed:    0.4s remaining:    0.0s\n",
      "[Parallel(n_jobs=1)]: Done  66 out of  66 | elapsed:   31.8s finished\n",
      "\n",
      "[2020-11-02 07:42:05] Features: 7/10 -- score: 0.6509009821966717[Parallel(n_jobs=1)]: Using backend SequentialBackend with 1 concurrent workers.\n",
      "[Parallel(n_jobs=1)]: Done   1 out of   1 | elapsed:    0.5s remaining:    0.0s\n",
      "[Parallel(n_jobs=1)]: Done  65 out of  65 | elapsed:   33.3s finished\n",
      "\n",
      "[2020-11-02 07:42:38] Features: 8/10 -- score: 0.6507078905291351[Parallel(n_jobs=1)]: Using backend SequentialBackend with 1 concurrent workers.\n",
      "[Parallel(n_jobs=1)]: Done   1 out of   1 | elapsed:    0.7s remaining:    0.0s\n",
      "[Parallel(n_jobs=1)]: Done  64 out of  64 | elapsed:   39.5s finished\n",
      "\n",
      "[2020-11-02 07:43:18] Features: 9/10 -- score: 0.6470808098186058[Parallel(n_jobs=1)]: Using backend SequentialBackend with 1 concurrent workers.\n",
      "[Parallel(n_jobs=1)]: Done   1 out of   1 | elapsed:    0.6s remaining:    0.0s\n",
      "[Parallel(n_jobs=1)]: Done  63 out of  63 | elapsed:   40.5s finished\n",
      "\n",
      "[2020-11-02 07:43:58] Features: 10/10 -- score: 0.6464405950663173"
     ]
    }
   ],
   "source": [
    "# within the SFS we indicate:\n",
    "\n",
    "# 1) the algorithm we want to create, in this case RandomForests\n",
    "# (note that I use few trees to speed things up)\n",
    "\n",
    "# 2) the stopping criteria: want to select 10 features \n",
    "\n",
    "# 3) wheter to perform step forward or step backward\n",
    "\n",
    "# 4) the evaluation metric: in this case the roc_auc\n",
    "# 5) the cross-validation\n",
    "\n",
    "# this is going to take a while, do not despair\n",
    "\n",
    "sfs = SFS(RandomForestClassifier(n_estimators=10, n_jobs=4, random_state=0), \n",
    "           k_features=10, # the more features we want, the longer it will take to run\n",
    "           forward=True, \n",
    "           floating=False, # see the docs for more details in this parameter\n",
    "           verbose=2, # this indicates how much to print out intermediate steps\n",
    "           scoring='roc_auc',\n",
    "           cv=2)\n",
    "\n",
    "sfs = sfs.fit(np.array(X_train), y_train)"
   ]
  },
  {
   "cell_type": "code",
   "execution_count": 7,
   "metadata": {},
   "outputs": [
    {
     "data": {
      "text/plain": [
       "Index(['var_16', 'var_41', 'var_45', 'var_55', 'var_62', 'var_69', 'var_78',\n",
       "       'var_91', 'var_98', 'var_103'],\n",
       "      dtype='object')"
      ]
     },
     "execution_count": 7,
     "metadata": {},
     "output_type": "execute_result"
    }
   ],
   "source": [
    "selected_feat = X_train.columns[list(sfs.k_feature_idx_)]\n",
    "selected_feat"
   ]
  },
  {
   "cell_type": "code",
   "execution_count": 8,
   "metadata": {},
   "outputs": [],
   "source": [
    "def run_randomForests(X_train, X_test, y_train, y_test):\n",
    "    \n",
    "    rf = RandomForestClassifier(n_estimators=200, random_state=39, max_depth=4)\n",
    "    rf.fit(X_train, y_train)\n",
    "\n",
    "    print('Train set')\n",
    "    pred = rf.predict_proba(X_train)\n",
    "    print('Random Forests roc-auc: {}'.format(roc_auc_score(y_train, pred[:,1])))\n",
    "    \n",
    "    print('Test set')\n",
    "    pred = rf.predict_proba(X_test)\n",
    "    print('Random Forests roc-auc: {}'.format(roc_auc_score(y_test, pred[:,1])))"
   ]
  },
  {
   "cell_type": "code",
   "execution_count": 9,
   "metadata": {},
   "outputs": [
    {
     "name": "stdout",
     "output_type": "stream",
     "text": [
      "Train set\n",
      "Random Forests roc-auc: 0.7091645231260754\n",
      "Test set\n",
      "Random Forests roc-auc: 0.697368477213042\n"
     ]
    }
   ],
   "source": [
    "# evaluate performance of algorithm built\n",
    "# using selected features\n",
    "\n",
    "run_randomForests(X_train[selected_feat],\n",
    "                  X_test[selected_feat],\n",
    "                  y_train, y_test)"
   ]
  },
  {
   "cell_type": "code",
   "execution_count": 10,
   "metadata": {},
   "outputs": [
    {
     "name": "stdout",
     "output_type": "stream",
     "text": [
      "Train set\n",
      "Random Forests roc-auc: 0.7119921185820277\n",
      "Test set\n",
      "Random Forests roc-auc: 0.6957598691250635\n"
     ]
    }
   ],
   "source": [
    "# and for comparison, we train random forests using\n",
    "# all features (except the correlated ones, which we removed already)\n",
    "\n",
    "run_randomForests(X_train,\n",
    "                  X_test,\n",
    "                  y_train, y_test)\n"
   ]
  },
  {
   "cell_type": "markdown",
   "metadata": {},
   "source": [
    "## Backward feature selection"
   ]
  },
  {
   "cell_type": "code",
   "execution_count": 11,
   "metadata": {},
   "outputs": [],
   "source": [
    "import pandas as pd\n",
    "import numpy as np\n",
    "\n",
    "from sklearn.model_selection import train_test_split\n",
    "\n",
    "from sklearn.ensemble import RandomForestRegressor, RandomForestClassifier\n",
    "from sklearn.metrics import roc_auc_score, r2_score\n",
    "\n",
    "from mlxtend.feature_selection import SequentialFeatureSelector as SFS"
   ]
  },
  {
   "cell_type": "code",
   "execution_count": 12,
   "metadata": {},
   "outputs": [
    {
     "data": {
      "text/plain": [
       "(50000, 109)"
      ]
     },
     "execution_count": 12,
     "metadata": {},
     "output_type": "execute_result"
    }
   ],
   "source": [
    "# load dataset\n",
    "data = pd.read_csv('datasets/dataset_2.csv')\n",
    "data.shape"
   ]
  },
  {
   "cell_type": "code",
   "execution_count": 13,
   "metadata": {},
   "outputs": [
    {
     "data": {
      "text/plain": [
       "((35000, 108), (15000, 108))"
      ]
     },
     "execution_count": 13,
     "metadata": {},
     "output_type": "execute_result"
    }
   ],
   "source": [
    "# separate train and test sets\n",
    "X_train, X_test, y_train, y_test = train_test_split(\n",
    "    data.drop(labels=['target'], axis=1),\n",
    "    data['target'],\n",
    "    test_size=0.3,\n",
    "    random_state=0)\n",
    "\n",
    "X_train.shape, X_test.shape"
   ]
  },
  {
   "cell_type": "code",
   "execution_count": 14,
   "metadata": {},
   "outputs": [
    {
     "name": "stdout",
     "output_type": "stream",
     "text": [
      "correlated features:  36\n"
     ]
    }
   ],
   "source": [
    "# remove correlated features to reduce the feature space\n",
    "\n",
    "def correlation(dataset, threshold):\n",
    "    col_corr = set()  # Set of all the names of correlated columns\n",
    "    corr_matrix = dataset.corr()\n",
    "    for i in range(len(corr_matrix.columns)):\n",
    "        for j in range(i):\n",
    "            if abs(corr_matrix.iloc[i, j]) > threshold: # we are interested in absolute coeff value\n",
    "                colname = corr_matrix.columns[i]  # getting the name of column\n",
    "                col_corr.add(colname)\n",
    "    return col_corr\n",
    "\n",
    "corr_features = correlation(X_train, 0.8)\n",
    "print('correlated features: ', len(set(corr_features)) )"
   ]
  },
  {
   "cell_type": "code",
   "execution_count": 15,
   "metadata": {},
   "outputs": [
    {
     "data": {
      "text/plain": [
       "((35000, 72), (15000, 72))"
      ]
     },
     "execution_count": 15,
     "metadata": {},
     "output_type": "execute_result"
    }
   ],
   "source": [
    "# removed correlated  features\n",
    "X_train.drop(labels=corr_features, axis=1, inplace=True)\n",
    "X_test.drop(labels=corr_features, axis=1, inplace=True)\n",
    "\n",
    "X_train.shape, X_test.shape"
   ]
  },
  {
   "cell_type": "code",
   "execution_count": 16,
   "metadata": {},
   "outputs": [
    {
     "name": "stderr",
     "output_type": "stream",
     "text": [
      "[Parallel(n_jobs=1)]: Using backend SequentialBackend with 1 concurrent workers.\n",
      "[Parallel(n_jobs=1)]: Done   1 out of   1 | elapsed:    1.5s remaining:    0.0s\n",
      "[Parallel(n_jobs=1)]: Done  72 out of  72 | elapsed:  1.8min finished\n",
      "\n",
      "[2020-11-02 07:47:56] Features: 71/65 -- score: 0.6268872842282114[Parallel(n_jobs=1)]: Using backend SequentialBackend with 1 concurrent workers.\n",
      "[Parallel(n_jobs=1)]: Done   1 out of   1 | elapsed:    1.9s remaining:    0.0s\n",
      "[Parallel(n_jobs=1)]: Done  71 out of  71 | elapsed:  2.4min finished\n",
      "\n",
      "[2020-11-02 07:50:20] Features: 70/65 -- score: 0.6307351898704118[Parallel(n_jobs=1)]: Using backend SequentialBackend with 1 concurrent workers.\n",
      "[Parallel(n_jobs=1)]: Done   1 out of   1 | elapsed:    2.0s remaining:    0.0s\n",
      "[Parallel(n_jobs=1)]: Done  70 out of  70 | elapsed:  1.4min finished\n",
      "\n",
      "[2020-11-02 07:51:43] Features: 69/65 -- score: 0.6300809921574941[Parallel(n_jobs=1)]: Using backend SequentialBackend with 1 concurrent workers.\n",
      "[Parallel(n_jobs=1)]: Done   1 out of   1 | elapsed:    1.0s remaining:    0.0s\n",
      "[Parallel(n_jobs=1)]: Done  69 out of  69 | elapsed:  1.2min finished\n",
      "\n",
      "[2020-11-02 07:52:55] Features: 68/65 -- score: 0.6326173155997817[Parallel(n_jobs=1)]: Using backend SequentialBackend with 1 concurrent workers.\n",
      "[Parallel(n_jobs=1)]: Done   1 out of   1 | elapsed:    1.1s remaining:    0.0s\n",
      "[Parallel(n_jobs=1)]: Done  68 out of  68 | elapsed:  1.2min finished\n",
      "\n",
      "[2020-11-02 07:54:10] Features: 67/65 -- score: 0.632735049392825[Parallel(n_jobs=1)]: Using backend SequentialBackend with 1 concurrent workers.\n",
      "[Parallel(n_jobs=1)]: Done   1 out of   1 | elapsed:    1.1s remaining:    0.0s\n",
      "[Parallel(n_jobs=1)]: Done  67 out of  67 | elapsed:  1.2min finished\n",
      "\n",
      "[2020-11-02 07:55:24] Features: 66/65 -- score: 0.6306512985168471[Parallel(n_jobs=1)]: Using backend SequentialBackend with 1 concurrent workers.\n",
      "[Parallel(n_jobs=1)]: Done   1 out of   1 | elapsed:    1.0s remaining:    0.0s\n",
      "[Parallel(n_jobs=1)]: Done  66 out of  66 | elapsed:  1.6min finished\n",
      "\n",
      "[2020-11-02 07:57:02] Features: 65/65 -- score: 0.6303118281824431"
     ]
    }
   ],
   "source": [
    "# within the SFS we indicate:\n",
    "\n",
    "# 1) the algorithm we want to create, in this case RandomForests\n",
    "# (note that I use few trees to speed things up)\n",
    "\n",
    "# 2) the stopping criteria: want to select 50 features\n",
    "\n",
    "# 3) wheter to perform step forward or step backward\n",
    "\n",
    "# 4) the evaluation metric: in this case the roc_auc\n",
    "# 5) the want cross-validation\n",
    "\n",
    "# this is going to take a while, do not despair\n",
    "\n",
    "sfs = SFS(RandomForestClassifier(n_estimators=10, n_jobs=4, random_state=0),\n",
    "          k_features=65, # the lower the features we want, the longer this will take\n",
    "          forward=False,\n",
    "          floating=False,\n",
    "          verbose=2,\n",
    "          scoring='roc_auc',\n",
    "          cv=2)\n",
    "\n",
    "sfs = sfs.fit(np.array(X_train), y_train)"
   ]
  },
  {
   "cell_type": "code",
   "execution_count": 17,
   "metadata": {},
   "outputs": [],
   "source": [
    "# function to train random forests and evaluate the performance\n",
    "\n",
    "def run_randomForests(X_train, X_test, y_train, y_test):\n",
    "    rf = RandomForestClassifier(n_estimators=200, random_state=39, max_depth=4)\n",
    "    rf.fit(X_train, y_train)\n",
    "\n",
    "    print('Train set')\n",
    "    pred = rf.predict_proba(X_train)\n",
    "    print('Random Forests roc-auc: {}'.format(roc_auc_score(y_train, pred[:,1])))\n",
    "    \n",
    "    print('Test set')\n",
    "    pred = rf.predict_proba(X_test)\n",
    "    print('Random Forests roc-auc: {}'.format(roc_auc_score(y_test, pred[:,1])))"
   ]
  },
  {
   "cell_type": "code",
   "execution_count": 18,
   "metadata": {},
   "outputs": [
    {
     "data": {
      "text/plain": [
       "Index(['var_1', 'var_2', 'var_3', 'var_4', 'var_5', 'var_6', 'var_7', 'var_8',\n",
       "       'var_10', 'var_11', 'var_12', 'var_13', 'var_14', 'var_15', 'var_16',\n",
       "       'var_18', 'var_19', 'var_20', 'var_21', 'var_22', 'var_23', 'var_25',\n",
       "       'var_26', 'var_27', 'var_30', 'var_31', 'var_34', 'var_35', 'var_37',\n",
       "       'var_40', 'var_41', 'var_45', 'var_47', 'var_48', 'var_49', 'var_50',\n",
       "       'var_51', 'var_52', 'var_53', 'var_55', 'var_56', 'var_58', 'var_60',\n",
       "       'var_62', 'var_63', 'var_67', 'var_68', 'var_69', 'var_71', 'var_73',\n",
       "       'var_77', 'var_78', 'var_79', 'var_81', 'var_82', 'var_83', 'var_86',\n",
       "       'var_89', 'var_90', 'var_91', 'var_93', 'var_96', 'var_98', 'var_103',\n",
       "       'var_107'],\n",
       "      dtype='object')"
      ]
     },
     "execution_count": 18,
     "metadata": {},
     "output_type": "execute_result"
    }
   ],
   "source": [
    "selected_feat= X_train.columns[list(sfs.k_feature_idx_)]\n",
    "\n",
    "selected_feat"
   ]
  },
  {
   "cell_type": "code",
   "execution_count": 19,
   "metadata": {},
   "outputs": [
    {
     "name": "stdout",
     "output_type": "stream",
     "text": [
      "Train set\n",
      "Random Forests roc-auc: 0.7118554905228884\n",
      "Test set\n",
      "Random Forests roc-auc: 0.6960298383148206\n"
     ]
    }
   ],
   "source": [
    "# evaluate performance of algorithm built\n",
    "# using selected features\n",
    "\n",
    "run_randomForests(X_train[selected_feat],\n",
    "                  X_test[selected_feat],\n",
    "                  y_train, y_test)"
   ]
  },
  {
   "cell_type": "code",
   "execution_count": 20,
   "metadata": {},
   "outputs": [
    {
     "name": "stdout",
     "output_type": "stream",
     "text": [
      "Train set\n",
      "Random Forests roc-auc: 0.7119921185820277\n",
      "Test set\n",
      "Random Forests roc-auc: 0.6957598691250635\n"
     ]
    }
   ],
   "source": [
    "# and for comparison, we train random forests using\n",
    "# all features (except the correlated ones, which we removed already)\n",
    "\n",
    "run_randomForests(X_train,\n",
    "                  X_test,\n",
    "                  y_train, y_test)"
   ]
  },
  {
   "cell_type": "markdown",
   "metadata": {},
   "source": [
    "# Exhaustive search"
   ]
  },
  {
   "cell_type": "code",
   "execution_count": 21,
   "metadata": {},
   "outputs": [],
   "source": [
    "import pandas as pd\n",
    "import numpy as np\n",
    "\n",
    "from sklearn.model_selection import train_test_split\n",
    "\n",
    "from sklearn.ensemble import RandomForestRegressor, RandomForestClassifier\n",
    "from sklearn.metrics import roc_auc_score, r2_score\n",
    "\n",
    "from mlxtend.feature_selection import ExhaustiveFeatureSelector as EFS"
   ]
  },
  {
   "cell_type": "code",
   "execution_count": 22,
   "metadata": {},
   "outputs": [
    {
     "data": {
      "text/plain": [
       "(50000, 109)"
      ]
     },
     "execution_count": 22,
     "metadata": {},
     "output_type": "execute_result"
    }
   ],
   "source": [
    "# load dataset\n",
    "data = pd.read_csv('datasets/dataset_2.csv')\n",
    "data.shape"
   ]
  },
  {
   "cell_type": "code",
   "execution_count": 23,
   "metadata": {},
   "outputs": [
    {
     "data": {
      "text/plain": [
       "((35000, 108), (15000, 108))"
      ]
     },
     "execution_count": 23,
     "metadata": {},
     "output_type": "execute_result"
    }
   ],
   "source": [
    "# separate train and test sets\n",
    "X_train, X_test, y_train, y_test = train_test_split(\n",
    "    data.drop(labels=['target'], axis=1),\n",
    "    data['target'],\n",
    "    test_size=0.3,\n",
    "    random_state=0)\n",
    "\n",
    "X_train.shape, X_test.shape"
   ]
  },
  {
   "cell_type": "code",
   "execution_count": 24,
   "metadata": {},
   "outputs": [
    {
     "name": "stdout",
     "output_type": "stream",
     "text": [
      "correlated features:  56\n"
     ]
    }
   ],
   "source": [
    "# remove correlated features to reduce the feature space\n",
    "\n",
    "def correlation(dataset, threshold):\n",
    "    col_corr = set()  # Set of all the names of correlated columns\n",
    "    corr_matrix = dataset.corr()\n",
    "    for i in range(len(corr_matrix.columns)):\n",
    "        for j in range(i):\n",
    "            if abs(corr_matrix.iloc[i, j]) > threshold: # we are interested in absolute coeff value\n",
    "                colname = corr_matrix.columns[i]  # getting the name of column\n",
    "                col_corr.add(colname)\n",
    "    return col_corr\n",
    "\n",
    "# note that we reduce the correlation threshold\n",
    "# to remove more features\n",
    "corr_features = correlation(X_train, 0.6)\n",
    "print('correlated features: ', len(set(corr_features)) )"
   ]
  },
  {
   "cell_type": "code",
   "execution_count": 25,
   "metadata": {},
   "outputs": [
    {
     "data": {
      "text/plain": [
       "((35000, 52), (15000, 52))"
      ]
     },
     "execution_count": 25,
     "metadata": {},
     "output_type": "execute_result"
    }
   ],
   "source": [
    "# removed correlated features\n",
    "X_train.drop(labels=corr_features, axis=1, inplace=True)\n",
    "X_test.drop(labels=corr_features, axis=1, inplace=True)\n",
    "\n",
    "X_train.shape, X_test.shape"
   ]
  },
  {
   "cell_type": "code",
   "execution_count": 26,
   "metadata": {},
   "outputs": [
    {
     "name": "stderr",
     "output_type": "stream",
     "text": [
      "Features: 1378/1378"
     ]
    }
   ],
   "source": [
    "##################################\n",
    "\n",
    "# in order to shorter search time for the demonstration\n",
    "# i will ask the algorithm to try all possible 1 and 2\n",
    "# feature combinations\n",
    "\n",
    "# if you have access to a multicore or distributed computer\n",
    "# system you can try more greedy searches\n",
    "\n",
    "###################################\n",
    "\n",
    "# within the EFS we indicate:\n",
    "\n",
    "# 1) the algorithm we want to create, in this case RandomForests\n",
    "# (note that I use few trees to speed things up)\n",
    "\n",
    "# 2) the number of minimum features we want our model to have\n",
    "\n",
    "# 3) the number of maximum features we want our model to have\n",
    "\n",
    "# with 2 and 3 we regulate the number of possible feature combinations to\n",
    "# be evaluated by the model.\n",
    "\n",
    "# 4) the evaluation metric: in this case the roc_auc\n",
    "# 5) the cross-validation\n",
    "\n",
    "# this is going to take a while, do not despair\n",
    "\n",
    "efs = EFS(RandomForestClassifier(n_estimators=5,\n",
    "                                 n_jobs=4,\n",
    "                                 random_state=0,\n",
    "                                 max_depth=2),\n",
    "          min_features=1,\n",
    "          max_features=2,\n",
    "          scoring='roc_auc',\n",
    "          print_progress=True,\n",
    "          cv=2)\n",
    "\n",
    "# search features\n",
    "efs = efs.fit(np.array(X_train), y_train)"
   ]
  },
  {
   "cell_type": "code",
   "execution_count": 27,
   "metadata": {},
   "outputs": [
    {
     "data": {
      "text/plain": [
       "(13, 34)"
      ]
     },
     "execution_count": 27,
     "metadata": {},
     "output_type": "execute_result"
    }
   ],
   "source": [
    "efs.best_idx_"
   ]
  },
  {
   "cell_type": "code",
   "execution_count": 28,
   "metadata": {},
   "outputs": [
    {
     "data": {
      "text/plain": [
       "Index(['var_16', 'var_55'], dtype='object')"
      ]
     },
     "execution_count": 28,
     "metadata": {},
     "output_type": "execute_result"
    }
   ],
   "source": [
    "selected_feat = X_train.columns[list(efs.best_idx_)]\n",
    "selected_feat"
   ]
  },
  {
   "cell_type": "code",
   "execution_count": 29,
   "metadata": {},
   "outputs": [],
   "source": [
    "# function to train random forests and evaluate the performance\n",
    "\n",
    "def run_randomForests(X_train, X_test, y_train, y_test):\n",
    "    \n",
    "    rf = RandomForestClassifier(n_estimators=200, random_state=39, max_depth=4)\n",
    "    rf.fit(X_train, y_train)\n",
    "\n",
    "    print('Train set')\n",
    "    pred = rf.predict_proba(X_train)\n",
    "    print('Random Forests roc-auc: {}'.format(roc_auc_score(y_train, pred[:,1])))\n",
    "    \n",
    "    print('Test set')\n",
    "    pred = rf.predict_proba(X_test)\n",
    "    print('Random Forests roc-auc: {}'.format(roc_auc_score(y_test, pred[:,1])))"
   ]
  },
  {
   "cell_type": "code",
   "execution_count": 30,
   "metadata": {},
   "outputs": [
    {
     "name": "stdout",
     "output_type": "stream",
     "text": [
      "Train set\n",
      "Random Forests roc-auc: 0.7035772664841601\n",
      "Test set\n",
      "Random Forests roc-auc: 0.6965072903754118\n"
     ]
    }
   ],
   "source": [
    "# evaluate performance of classifier using selected features\n",
    "\n",
    "run_randomForests(X_train[selected_feat],\n",
    "                  X_test[selected_feat],\n",
    "                  y_train, y_test)"
   ]
  },
  {
   "cell_type": "code",
   "execution_count": 31,
   "metadata": {},
   "outputs": [
    {
     "name": "stdout",
     "output_type": "stream",
     "text": [
      "Train set\n",
      "Random Forests roc-auc: 0.7134043748007022\n",
      "Test set\n",
      "Random Forests roc-auc: 0.6983389541346272\n"
     ]
    }
   ],
   "source": [
    "# and for comparison, we train random forests using\n",
    "# all features (except the correlated ones, which we removed already)\n",
    "\n",
    "run_randomForests(X_train,\n",
    "                  X_test,\n",
    "                  y_train, y_test)"
   ]
  },
  {
   "cell_type": "code",
   "execution_count": null,
   "metadata": {},
   "outputs": [],
   "source": []
  }
 ],
 "metadata": {
  "kernelspec": {
   "display_name": "Python 3",
   "language": "python",
   "name": "python3"
  },
  "language_info": {
   "codemirror_mode": {
    "name": "ipython",
    "version": 3
   },
   "file_extension": ".py",
   "mimetype": "text/x-python",
   "name": "python",
   "nbconvert_exporter": "python",
   "pygments_lexer": "ipython3",
   "version": "3.8.3"
  }
 },
 "nbformat": 4,
 "nbformat_minor": 4
}
