{
 "cells": [
  {
   "cell_type": "markdown",
   "metadata": {},
   "source": [
    "# Feature Selection\n",
    "---\n",
    "Why   \n",
    "- knowledge discovery interpretability and insight (which features matter)\n",
    "- curse of dimensionality\n",
    "    - amount of data you need grows exponentially in the number of features you have\n",
    "    - $2^N$\n",
    "\n",
    "NP- hard   \n",
    "- effectively an optimization problem over arbitrary discrete set of variables\n",
    "- have to find all possible subsets"
   ]
  },
  {
   "cell_type": "markdown",
   "metadata": {},
   "source": [
    "## Filtering\n",
    "---\n",
    "- set of features as inuput\n",
    "- run some algorithm that maximizes some type of criteria (search)\n",
    "- outputs features that go to some learning algorithm\n",
    "- faster than wrapping\n",
    "- but looks at features in isolation, no feedback from learner, could remove important feature (especially is feature works well when combined with another feature)\n",
    "- could use \n",
    "    - information gain or decision tree as filter\n",
    "    - run DT -> overfits -> send features it used to another algorithm\n",
    "    - variance, entropy, gini index\n",
    "    - check for independent/not redundant (e.g. get rid of $x_2$ if $x_2 = x_1 + x_3$)"
   ]
  },
  {
   "cell_type": "markdown",
   "metadata": {},
   "source": [
    "## Wrapping\n",
    "---\n",
    "- set of features as inputs\n",
    "- search over a subset of features\n",
    "- ask learning alogrithm to use them and report back results\n",
    "- update subset of features based on results\n",
    "- slowwwwwwwww\n",
    "- takes learning into account and model bias\n",
    "- could use\n",
    "    - hill climbining\n",
    "    - randomized optimization\n",
    "    - forward sequential selection and backward elimination\n",
    "- domain knowledge: choice of critia to search"
   ]
  },
  {
   "cell_type": "markdown",
   "metadata": {},
   "source": [
    "<img src=\"images/feature_selection.png\" width=600 align=\"left\"/>  "
   ]
  },
  {
   "cell_type": "markdown",
   "metadata": {},
   "source": [
    "## Searching\n",
    "---\n",
    "- Forward search\n",
    "    - search and find best feature\n",
    "    - then add other features to see which one works best iwth first feature\n",
    "    - keep repeating, adding the feature that works best with current group of features\n",
    "    - stop when error isn't getting better\n",
    "- Backward search\n",
    "    - start with all features and see which one can be eliminated\n",
    "    - keep repeating until error isn't getting better"
   ]
  },
  {
   "cell_type": "markdown",
   "metadata": {},
   "source": [
    "## Relevance\n",
    "---\n",
    "- $x_i$ is strongly relevant if removing it degrades B.O.C. (Bayes Optimal Classifier)\n",
    "- $x_i$ is weakly relevant if \n",
    "    - not strongly relevant\n",
    "    - $\\exists$ subset of features S such that adding $x_i$ to S improves B.O.C.\n",
    "- $x_i$ is otherwise irrelevant"
   ]
  },
  {
   "cell_type": "markdown",
   "metadata": {},
   "source": [
    "## Relevance vs Usefulness\n",
    "--- \n",
    "- Relevance measures effect on B.O.C.\n",
    "- Relevance is about information\n",
    "- Usefulness measures effect on a particular predictor\n",
    "- Usefulness is about affect on error given a particular learner (minimize error given a model)"
   ]
  },
  {
   "cell_type": "markdown",
   "metadata": {},
   "source": []
  },
  {
   "cell_type": "markdown",
   "metadata": {},
   "source": []
  },
  {
   "cell_type": "markdown",
   "metadata": {},
   "source": []
  },
  {
   "cell_type": "markdown",
   "metadata": {},
   "source": []
  },
  {
   "cell_type": "markdown",
   "metadata": {},
   "source": []
  },
  {
   "cell_type": "markdown",
   "metadata": {},
   "source": []
  },
  {
   "cell_type": "markdown",
   "metadata": {},
   "source": []
  }
 ],
 "metadata": {
  "kernelspec": {
   "display_name": "Python 3",
   "language": "python",
   "name": "python3"
  },
  "language_info": {
   "codemirror_mode": {
    "name": "ipython",
    "version": 3
   },
   "file_extension": ".py",
   "mimetype": "text/x-python",
   "name": "python",
   "nbconvert_exporter": "python",
   "pygments_lexer": "ipython3",
   "version": "3.6.5"
  }
 },
 "nbformat": 4,
 "nbformat_minor": 2
}
