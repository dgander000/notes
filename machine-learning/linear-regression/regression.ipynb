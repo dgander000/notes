{
 "cells": [
  {
   "cell_type": "code",
   "execution_count": 153,
   "metadata": {},
   "outputs": [],
   "source": [
    "import pandas as pd\n",
    "import numpy as np\n",
    "import numpy.polynomial.polynomial as poly\n",
    "import math\n",
    "import seaborn as sns\n",
    "import matplotlib.pyplot as plt\n",
    "%matplotlib inline"
   ]
  },
  {
   "cell_type": "markdown",
   "metadata": {},
   "source": [
    "## Regression"
   ]
  },
  {
   "cell_type": "markdown",
   "metadata": {},
   "source": [
    "Type of supervised learning that maps continuous inputs to outputs.    \n",
    "\n",
    "Regression, as a term, stems from the observation that individual instances of any observed attribute tend to *regress* towards the mean. Slope of the line is $2/3$ (regresses to mean).   \n",
    "    \n",
    "Regression now refers mostly to function approximation.    "
   ]
  },
  {
   "cell_type": "markdown",
   "metadata": {},
   "source": [
    "### Linear Regression"
   ]
  },
  {
   "cell_type": "code",
   "execution_count": 213,
   "metadata": {},
   "outputs": [
    {
     "data": {
      "image/png": "[encoded data removed]",
      "text/plain": [
       "<Figure size 432x288 with 1 Axes>"
      ]
     },
     "metadata": {
      "needs_background": "light"
     },
     "output_type": "display_data"
    }
   ],
   "source": [
    "x = np.array([500, 800, 1200, 1800, 2600, 3200, 4000, 4600, 5200, 5900])\n",
    "# y = X*100*np.random.uniform(0.5, 1.5, len(x))\n",
    "y = (X*np.random.uniform(0.8, 1.2, len(x)))*10 + (X*np.random.uniform(-0.8, 1, len(x)))\n",
    "plt.scatter(x, y)\n",
    "plt.show()"
   ]
  },
  {
   "cell_type": "markdown",
   "metadata": {},
   "source": [
    "### Find best line  \n",
    "$y = mx + b$   \n",
    "### Use a cost function to measure error   \n",
    "Tells us how well the model is making predictions     \n",
    "- **Sum of Squared Errors:**  \n",
    "    - $1/2 \\sum_i^n{({\\hat y_i} - y_i)^2}$\n",
    "    - one approach is to minimize sum of squared error (least squared error) \n",
    "    - squared error is sum of distances between line and data points  \n",
    "    - minimize the distance of our line with sample data (dots) to get best fit line.\n",
    "    - minimize error by using gradient descent   \n",
    "- **Mean Squared Error** (L2 loss)  \n",
    "    - $1/N \\sum_i^n{({\\hat y_i} - y_i)^2}$   \n",
    "- **Gradient Descent**\n",
    "    - Gradient descent is an optimization algorithm used to minimize some function by iteratively moving in the direction of steepest descent as defined by the negative of the gradient. \n",
    "    - In machine learning, we use gradient descent to update the parameters of our model. Parameters refer to coefficients in Linear Regression and weights in neural networks. [source](https://ml-cheatsheet.readthedocs.io/en/latest/gradient_descent.html)  \n",
    "    - Calculate the partial derivatives of the cost function with respect to each parameter\n",
    "    - Cost function is a function of two parameters, m and b\n",
    "    - $f(m,b)$ = $1/2 \\sum_i^n{((mx_i + b) - y_i)^2}$\n",
    "    - Partial derivative with respect to m\n",
    "        - $\\frac {\\partial}{\\partial m}$ = $1/2 \\sum_i^n$ $2((mx_i + b) - y_i)$ $x$\n",
    "        - $\\frac {\\partial}{\\partial m}$ = $\\sum_i^n$ $x$ $((mx_i + b) - y_i)$\n",
    "    - Partial derivative with respect to b\n",
    "        - $\\frac {\\partial}{\\partial b}$ = $1/2 \\sum_i^n$ $2((mx_i + b) - y_i)$ $1$\n",
    "        - $\\frac {\\partial}{\\partial b}$ = $\\sum_i^n$ $((mx_i + b) - y_i)$"
   ]
  },
  {
   "cell_type": "code",
   "execution_count": 214,
   "metadata": {},
   "outputs": [
    {
     "name": "stdout",
     "output_type": "stream",
     "text": [
      "m: 11.144421959476707   b: -1669.407434312073\n"
     ]
    },
    {
     "data": {
      "image/png": "[encoded data removed]",
      "text/plain": [
       "<Figure size 432x288 with 1 Axes>"
      ]
     },
     "metadata": {
      "needs_background": "light"
     },
     "output_type": "display_data"
    }
   ],
   "source": [
    "m, b = np.polyfit(x,y,1)\n",
    "print('m:', m, '  b:', b)\n",
    "y_pred = m*x + b\n",
    "plt.scatter(x, y, color='b', s=50)\n",
    "plt.scatter(x, y_pred, color='r')\n",
    "plt.plot(x, y_pred, '--k')\n",
    "for i in range(x.shape[0]):\n",
    "    plt.plot([x[i],x[i]],[y[i],y_pred[i]],'r-')\n",
    "plt.show()"
   ]
  },
  {
   "cell_type": "markdown",
   "metadata": {},
   "source": [
    "Each red line ($d0$, $d1$, ..., $d_n$) represents an error between the actual value and the estimated value.   \n",
    "D = $d0^2$ + $d1^2$ + ... $d_n^2$   \n",
    "The best linear model will have the smallest D (sum of squared errors)"
   ]
  },
  {
   "cell_type": "markdown",
   "metadata": {},
   "source": [
    "### Linear Regression from scratch"
   ]
  },
  {
   "cell_type": "code",
   "execution_count": 285,
   "metadata": {},
   "outputs": [],
   "source": [
    "def linear_regression(x, y, m_current=0, b_current=0, epochs=10000, learning_rate=0.001):\n",
    "    for i in range(epochs):\n",
    "        y_pred = (m_current*x) + b_current\n",
    "        cost = sum([data**2 for data in (y_pred-y)])/2\n",
    "        m_gradient = sum(x * (y_pred - y))\n",
    "        b_gradient = sum(y_pred - y)\n",
    "        m_current = m_current - (learning_rate * m_gradient)\n",
    "        b_current = b_current - (learning_rate * b_gradient)\n",
    "    return m_current, b_current, cost"
   ]
  },
  {
   "cell_type": "markdown",
   "metadata": {},
   "source": [
    "#### With large values the gradient will explode so scale the values."
   ]
  },
  {
   "cell_type": "code",
   "execution_count": 286,
   "metadata": {},
   "outputs": [],
   "source": [
    "x_scaled = x/1000\n",
    "y_scaled = y/1000"
   ]
  },
  {
   "cell_type": "code",
   "execution_count": 287,
   "metadata": {},
   "outputs": [
    {
     "name": "stdout",
     "output_type": "stream",
     "text": [
      "m: 11.144421959467236   b: -1669.4074342742501\n"
     ]
    }
   ],
   "source": [
    "m, b, cost = linear_regression(x_scaled, y_scaled)\n",
    "# slope is same but b needs to be scaled back to original value\n",
    "b *= 1000\n",
    "print('m:', m, '  b:', b)"
   ]
  },
  {
   "cell_type": "code",
   "execution_count": 288,
   "metadata": {},
   "outputs": [
    {
     "name": "stdout",
     "output_type": "stream",
     "text": [
      "m: 11.144421959467236   b: -1669.4074342742501\n"
     ]
    },
    {
     "data": {
      "image/png": "[encoded data removed]",
      "text/plain": [
       "<Figure size 432x288 with 1 Axes>"
      ]
     },
     "metadata": {
      "needs_background": "light"
     },
     "output_type": "display_data"
    }
   ],
   "source": [
    "print('m:', m, '  b:', b)\n",
    "y_pred = m*x + b\n",
    "plt.plot(x, y_pred, '--k')\n",
    "plt.scatter(x, y)\n",
    "plt.show()"
   ]
  },
  {
   "cell_type": "code",
   "execution_count": 234,
   "metadata": {},
   "outputs": [
    {
     "name": "stdout",
     "output_type": "stream",
     "text": [
      "Starting gradient descent at b = 0, m = 0, error = 5565.107834483211\n",
      "Running...\n",
      "After 1000 iterations b = 0.08893651993741346, m = 1.4777440851894448, error = 112.61481011613473\n"
     ]
    }
   ],
   "source": [
    "#The optimal values of m and b can be actually calculated with way less effort than doing a linear regression. \n",
    "#this is just to demonstrate gradient descent\n",
    "\n",
    "# from https://medium.com/@Aj.Cheng/linear-regression-by-gradient-decent-bb198724eb2c\n",
    "\n",
    "# more resources\n",
    "# https://github.com/llSourcell/Intro_to_the_Math_of_intelligence\n",
    "# https://www.pugetsystems.com/labs/hpc/Machine-Learning-and-Data-Science-Linear-Regression-Part-4-968/\n",
    "from numpy import *\n",
    "\n",
    "# y = mx + b\n",
    "# m is slope, b is y-intercept\n",
    "def compute_error_for_line_given_points(b, m, points):\n",
    "    totalError = 0\n",
    "    for i in range(0, len(points)):\n",
    "        x = points[i, 0]\n",
    "        y = points[i, 1]\n",
    "        totalError += (y - (m * x + b)) ** 2\n",
    "    return totalError / float(len(points))\n",
    "\n",
    "def step_gradient(b_current, m_current, points, learningRate):\n",
    "    b_gradient = 0\n",
    "    m_gradient = 0\n",
    "    N = float(len(points))\n",
    "    for i in range(0, len(points)):\n",
    "        x = points[i, 0]\n",
    "        y = points[i, 1]\n",
    "        b_gradient += -(2/N) * (y - ((m_current * x) + b_current))\n",
    "        m_gradient += -(2/N) * x * (y - ((m_current * x) + b_current))\n",
    "    new_b = b_current - (learningRate * b_gradient)\n",
    "    new_m = m_current - (learningRate * m_gradient)\n",
    "    return [new_b, new_m]\n",
    "\n",
    "def gradient_descent_runner(points, starting_b, starting_m, learning_rate, num_iterations):\n",
    "    b = starting_b\n",
    "    m = starting_m\n",
    "    for i in range(num_iterations):\n",
    "        b, m = step_gradient(b, m, array(points), learning_rate)\n",
    "    return [b, m]\n",
    "\n",
    "def run():\n",
    "    points = genfromtxt(\"data.csv\", delimiter=\",\")\n",
    "    learning_rate = 0.0001\n",
    "    initial_b = 0 # initial y-intercept guess\n",
    "    initial_m = 0 # initial slope guess\n",
    "    num_iterations = 1000\n",
    "    print(\"Starting gradient descent at b = {0}, m = {1}, error = {2}\".format(initial_b, initial_m, compute_error_for_line_given_points(initial_b, initial_m, points)))\n",
    "    print(\"Running...\")\n",
    "    [b, m] = gradient_descent_runner(points, initial_b, initial_m, learning_rate, num_iterations)\n",
    "    print(\"After {0} iterations b = {1}, m = {2}, error = {3}\".format(num_iterations, b, m, compute_error_for_line_given_points(b, m, points)))\n",
    "\n",
    "if __name__ == '__main__':\n",
    "    run()"
   ]
  },
  {
   "cell_type": "code",
   "execution_count": null,
   "metadata": {},
   "outputs": [],
   "source": []
  },
  {
   "cell_type": "markdown",
   "metadata": {},
   "source": [
    "## Polynomial regression\n",
    "---\n",
    "### Order of polynomial\n",
    "$f(x) = c_0 + c_1x + c_2x^2 + ... + c_kx^k$     \n",
    "\n",
    "k=0 : constant   \n",
    "k=1 : line  \n",
    "k=2 : parabola"
   ]
  },
  {
   "cell_type": "code",
   "execution_count": 221,
   "metadata": {},
   "outputs": [
    {
     "data": {
      "image/png": "[encoded data removed]",
      "text/plain": [
       "<Figure size 432x288 with 1 Axes>"
      ]
     },
     "metadata": {
      "needs_background": "light"
     },
     "output_type": "display_data"
    }
   ],
   "source": [
    "c2, c1, c0 = np.polyfit(x,y,2)\n",
    "y_pred = c2*(x**2) + c1*x + c0\n",
    "plt.scatter(x, y, color='b', s=50)\n",
    "plt.scatter(x, y_pred, color='r')\n",
    "plt.plot(x, y_pred, '--k')\n",
    "plt.show()"
   ]
  },
  {
   "cell_type": "code",
   "execution_count": 223,
   "metadata": {},
   "outputs": [
    {
     "data": {
      "image/png": "[encoded data removed]",
      "text/plain": [
       "<Figure size 432x288 with 1 Axes>"
      ]
     },
     "metadata": {
      "needs_background": "light"
     },
     "output_type": "display_data"
    }
   ],
   "source": [
    "coefs = poly.polyfit(x, y, 4)\n",
    "ffit = poly.polyval(x, coefs)\n",
    "plt.scatter(x, y, color='b', s=50)\n",
    "plt.scatter(x, ffit, color='r')\n",
    "plt.plot(x, ffit, '--k')\n",
    "plt.show()"
   ]
  },
  {
   "cell_type": "code",
   "execution_count": 222,
   "metadata": {},
   "outputs": [
    {
     "data": {
      "image/png": "[encoded data removed]",
      "text/plain": [
       "<Figure size 432x288 with 1 Axes>"
      ]
     },
     "metadata": {
      "needs_background": "light"
     },
     "output_type": "display_data"
    }
   ],
   "source": [
    "coefs = poly.polyfit(x, y, 9)\n",
    "ffit = poly.polyval(x, coefs)\n",
    "plt.scatter(x, y, color='b', s=50)\n",
    "plt.scatter(x, ffit, color='r')\n",
    "plt.plot(x, ffit, '--k')\n",
    "plt.show()"
   ]
  },
  {
   "cell_type": "markdown",
   "metadata": {},
   "source": [
    "<img src=\"../images/pr2.png\" width=600 align=\"left\"/>  \n",
    "<img src=\"../images/pr1.png\" width=350 align=\"right\"/>  "
   ]
  },
  {
   "cell_type": "markdown",
   "metadata": {},
   "source": [
    "### Picking degrees of freedom  \n",
    "#### Errors\n",
    "Errors arise in any data set due to multiple areas:  \n",
    "1. Sensor Error (machines making mistakes interpreting physical world)\n",
    "2. Unmodeled (unaccounted for) influences (e.g. other processes that have an impact on the data that is not represented in the data)\n",
    "3. Transcription Error (Humans making mistakes in some part of data wrangling / transformation)\n",
    "4. Malicious Intent (humans making intentional mistakes)   \n",
    "\n",
    "The training data has errors.   \n",
    "**If you pick too high degree polynomial you're not modeling the function, instead function + errors**   "
   ]
  },
  {
   "cell_type": "markdown",
   "metadata": {},
   "source": [
    "#### Cross validation\n",
    "- When building a model separate the data into a test and train set   \n",
    "- Build model with training data (model type, parameters, degrees of freedom are adjusted to \"best fit\" the data)     \n",
    "- Test model with testing data (acts as a stand in for what we think we may see in the future)   \n",
    "- Hold out some training data to validate model before testing   \n",
    "- Assuming training/test data is represntative of the world\n",
    "- Independant and identically distributed (IID)\n",
    "    - each random variable has the same probability distribution as the others and all are mutually independent\n",
    "\n",
    "#### k-fold cross validation\n",
    "- Take training data and split into folds (1, 2, 3, 4 for example)   \n",
    "- Train on 1,2,3 - check using 4  \n",
    "- Train on 2,3,4 - check using 1  \n",
    "- Train on 3,4,1 - check using 2  \n",
    "- Train on 4,1,2 - check using 3  \n",
    "- Average cross validation errors from all the folds  \n",
    "- Pick a model pick one with lowest average cross validation error"
   ]
  },
  {
   "cell_type": "markdown",
   "metadata": {},
   "source": [
    "#### Overfitting and Underfitting\n",
    "- Bias \n",
    "    - Difference between the prediction of the model and the correct value the model is trying to predict. \n",
    "    - Model with high bias don't utilize the training data, oversimplify the model and have high error on training and test data.   \n",
    "- Variance\n",
    "    - The variability of a model's predictions. \n",
    "    - Model with high variance pay too much attention to the training data and don't generalize well on data which it hasn’t seen before.  Believes the training data too much.  \n",
    "    - Models perform very well on training data but have high error rates on test data."
   ]
  },
  {
   "cell_type": "markdown",
   "metadata": {},
   "source": [
    "<img src=\"../images/overfit_underfit.png\" align=\"left\"/>  "
   ]
  },
  {
   "cell_type": "markdown",
   "metadata": {},
   "source": [
    "<img src=\"../images/overfit_underfit2.jpeg\" width=400 align=\"left\"/>  \n",
    "\n",
    "    - Underfit \n",
    "        - not given enough degree of freedom \n",
    "        - too low order polynomial \n",
    "        - doesn't model data well  \n",
    "        - high bias  \n",
    "    - Overfit \n",
    "        - given to many degrees of freedom \n",
    "        - too high order polynomial \n",
    "        - modeling error not function \n",
    "        - generalizes poorly to unseen examples  "
   ]
  },
  {
   "cell_type": "markdown",
   "metadata": {},
   "source": [
    "<img src=\"../images/bias_variance.png\" align=\"left\"/>    "
   ]
  },
  {
   "cell_type": "code",
   "execution_count": null,
   "metadata": {},
   "outputs": [],
   "source": []
  }
 ],
 "metadata": {
  "kernelspec": {
   "display_name": "Python 3",
   "language": "python",
   "name": "python3"
  },
  "language_info": {
   "codemirror_mode": {
    "name": "ipython",
    "version": 3
   },
   "file_extension": ".py",
   "mimetype": "text/x-python",
   "name": "python",
   "nbconvert_exporter": "python",
   "pygments_lexer": "ipython3",
   "version": "3.6.5"
  }
 },
 "nbformat": 4,
 "nbformat_minor": 2
}
