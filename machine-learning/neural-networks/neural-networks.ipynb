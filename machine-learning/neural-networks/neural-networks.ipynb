{
 "cells": [
  {
   "cell_type": "code",
   "execution_count": 2,
   "metadata": {},
   "outputs": [],
   "source": [
    "import pandas as pd\n",
    "import numpy as np\n",
    "import numpy.polynomial.polynomial as poly\n",
    "import math\n",
    "import seaborn as sns\n",
    "import matplotlib.pyplot as plt\n",
    "%matplotlib inline"
   ]
  },
  {
   "cell_type": "markdown",
   "metadata": {},
   "source": [
    "# Neural Networks"
   ]
  },
  {
   "cell_type": "markdown",
   "metadata": {},
   "source": [
    "## Neurons    \n",
    "<img src=\"../images/neuron.png\" align=\"left\"/>  \n",
    "Consist of:\n",
    "- Cell Body\n",
    "- Axon\n",
    "- Synapes\n",
    "\n",
    "Cell body recives signals via synapes from other nuerons, and is able upon crossing some threshold of the combination of signals, activates and fires its own signal along the axon an across the snapes. "
   ]
  },
  {
   "cell_type": "markdown",
   "metadata": {},
   "source": [
    "## Artificial Neural Network\n",
    "We consider a simplified version of the network of neurons, allowing for combinations to fire under different stimuli, allowing for learning.  \n",
    "If the sum if the inputs times their weights equals or exceeds the firing threshold $\\theta$ then output 1, else 0.  \n",
    "<img src=\"../images/ArtificialNeuronModel.png\" width=450 align=\"left\"/>\n",
    "<img src=\"../images/perceptron.png\" width=500 align=\"left\"/>   "
   ]
  },
  {
   "cell_type": "markdown",
   "metadata": {},
   "source": [
    "## Perceptron Unit\n",
    "\n",
    "To model a nueron, we consider an input $X_i$ with corresponding weights $w_i$ (or gains), that is a component of a set of multiple inputs $i \\in 1, 2, ... k$, all feeding a *unit*. We consider the collective *strength* of the inputs by summing all of the products of the inputs and their *weights*, also known as the *activation*, defined as:\n",
    "\n",
    " $$a = \\sum_{i = 1}^k  x_i  w_i$$   \n",
    " The neuron fires if the activation exceeds a *firing threshold*, defined as $\\Theta$. \n",
    "\n",
    "$$ \n",
    "y =  \\begin{cases} 1 & \\text{for  } a \\gt \\Theta  \\\\  0 &\\text{for  } a \\le \\Theta \\end{cases}\n",
    "$$\n",
    "\n",
    "This model is known as a *Perceptron*.     \n",
    "\n",
    "\n",
    "**Perceptron is a linear function that computes hyperplanes.**   \n",
    "<img src=\"../images/perceptron_plane.png\" width=600 align=\"left\"/>   "
   ]
  },
  {
   "cell_type": "markdown",
   "metadata": {},
   "source": [
    "### Logical Operation   \n",
    "The perceptron can perform logical operations based on weights and firing theshold.  \n",
    "XOR is not linearly separable and needs two perceptrons to solve.  "
   ]
  },
  {
   "cell_type": "markdown",
   "metadata": {},
   "source": [
    "<img src=\"../images/perceptron_and.png\" width=475 align=\"left\"/> \n",
    "<img src=\"../images/perceptron_or.png\" width=475 align=\"right\"/> "
   ]
  },
  {
   "cell_type": "markdown",
   "metadata": {},
   "source": [
    "<img src=\"../images/perceptron_not.png\" width=475 align=\"left\"/> \n",
    "<img src=\"../images/perceptron_xor.png\" width=475 align=\"right\"/> "
   ]
  },
  {
   "cell_type": "markdown",
   "metadata": {},
   "source": [
    "## Perceptron Training"
   ]
  },
  {
   "cell_type": "markdown",
   "metadata": {},
   "source": [
    "### Perceptron Rule - single unit  "
   ]
  },
  {
   "cell_type": "markdown",
   "metadata": {},
   "source": [
    "<img src=\"../images/perceptron_rule.png\" width=475 align=\"left\"/>   \n",
    "Update is only applied if $x_i$ is mislabeled   \n",
    "Only works if data is linearly separable   \n",
    "Output is thesholded   "
   ]
  },
  {
   "cell_type": "markdown",
   "metadata": {},
   "source": [
    "### Gradient descent\n",
    "Need a learning algorithm that is robust to non-(linear separability).  Output is not thesholded.  "
   ]
  },
  {
   "cell_type": "markdown",
   "metadata": {},
   "source": [
    "<img src=\"../images/perceptron_gradient_descent.png\" width=475 align=\"left\"/>   \n",
    "\n",
    "For some *activation*:\n",
    "$a = \\sum_{i = 1}^k  x_i  w_i$\n",
    "\n",
    "Define an error metric as:\n",
    "$E(w) = \\dfrac{1}{2} \\sum_{(x, y) \\in D} \\left (y-a \\right )^2$\n",
    "\n",
    "To minimize take partial derivative of error metric with respect to each weight:\n",
    "\\begin{align} \n",
    "\\frac{\\partial E}{\\partial w_i} & = \\frac{\\partial}{\\partial w_i} \\left ( \\dfrac{1}{2} \\sum_{(x, y) \\in D} \\left (y-a \\right )^2 \\right ) \\\\\n",
    "& = \\sum_{(x, y) \\in D} (y-a) \\frac{\\partial}{\\partial w_i}  \\left ( - \\sum_{i'} x_i w_{i'} \\right ) \\\\\n",
    "& = \\sum_{(x, y) \\in D} (y-a)  \\left ( - x_i  \\right )\n",
    "\\end{align}"
   ]
  },
  {
   "cell_type": "markdown",
   "metadata": {},
   "source": [
    "### Comparison of Learning Rules\n",
    "\n",
    "#### Perceptron Rule\n",
    "- Takes activation, thresholding it (determines if output is 0 or 1)\n",
    "- Guarantees finite convergence but only if linearly separable\n",
    "\n",
    "$\\Delta w_i = \\eta \\left ( y - \\hat{y} \\right ) x_i$\n",
    "\n",
    "#### Gradient Descent \n",
    "- Move weights in negative direction of gradient\n",
    "- Does not do thresholding  \n",
    "- More robust to data sets that are not linearly separable but only converges to local minima / optima\n",
    "- Can't do gradient descent on $\\hat{y}$ because its non-differentiable (it's a step change)\n",
    "\n",
    "$\\Delta w_i = \\eta \\left ( y - a \\right ) x_i$"
   ]
  },
  {
   "cell_type": "markdown",
   "metadata": {},
   "source": [
    "### Sigmoid Function - Differentiable Threshold\n",
    "Threshold using sigmoid function  \n",
    "\n",
    "$ \\sigma (a) = \\frac{1}{1 + e^{-a}}$  \n",
    "\n",
    "- as $ a \\rightarrow -\\infty$,   $ \\sigma(a) \\rightarrow 0$\n",
    "- as $ a \\rightarrow +\\infty$,  $ \\sigma(a) \\rightarrow 1$\n",
    "\n",
    "functionally, it works well due to being differentiable:\n",
    "\n",
    "$ D( \\sigma (a)) = \\sigma (a) \\left ( 1 - \\sigma (a) \\right ) $"
   ]
  },
  {
   "cell_type": "code",
   "execution_count": 11,
   "metadata": {},
   "outputs": [
    {
     "data": {
      "image/png": "[encoded data removed]",
      "text/plain": [
       "<Figure size 432x288 with 1 Axes>"
      ]
     },
     "metadata": {
      "needs_background": "light"
     },
     "output_type": "display_data"
    }
   ],
   "source": [
    "def sigmoid(a):\n",
    "    return 1 / (1 + np.exp(-a))\n",
    "\n",
    "def sigmoid_derivaitve(a):\n",
    "    return sigmoid(a) * (1 - sigmoid(a))\n",
    "    \n",
    "x = np.arange(-10, 10, 0.01)\n",
    "y = sigmoid(x)\n",
    "z = sigmoid_derivaitve(x)\n",
    "plt.plot(x,y, color='red', lw=2)\n",
    "plt.plot(x,z, color='green', lw=2)\n",
    "plt.grid()\n",
    "plt.show()"
   ]
  },
  {
   "cell_type": "markdown",
   "metadata": {},
   "source": [
    "## Neural Network"
   ]
  },
  {
   "cell_type": "markdown",
   "metadata": {},
   "source": [
    "<img src=\"../images/neural_network.png\" width=475 align=\"left\"/>    \n",
    "If using sigmoids the mapping from inputs to outputs is differentiable in terms of the weights   \n",
    "\n",
    "Can figure out for any given weight in the network how moving it up or down a little with change mapping of inputs to outputs   **Backpropagation**     \n",
    "\n",
    "Doesn't act exactly like perceptron - analogous to perceptron    \n",
    "\n",
    "Don't have guarantee of convergance in finite time  \n",
    "\n",
    "Not doing hard thresholding    \n",
    "\n",
    "Error function can have many local optima and get stuck, not find global optima   "
   ]
  },
  {
   "cell_type": "markdown",
   "metadata": {},
   "source": [
    "### Optimizing Weights\n",
    "\n",
    "Many consider learning to be the same as optimization    \n",
    "Other approaches  \n",
    "- momentums \n",
    "- higher order derviatives (Newtonians)\n",
    "- randomized optimization\n",
    "- penalty for complexity\n",
    "\t- number of nodes\n",
    "\t- more layers\n",
    "\t- weight sizes (large values induce more complexity)"
   ]
  },
  {
   "cell_type": "markdown",
   "metadata": {},
   "source": [
    "## Restriction Bias\n",
    "\n",
    "What are neural networks appropriate for?   \n",
    "The restriction bias tells us something about the representational power of the model by considering the set of hypothesis that we will consider.\n",
    "\n",
    "Neural Networks consist of:\n",
    "\n",
    "- Perceptron: half-spaces (planes)\n",
    "- Sigmoids (instead of step functions): much more complex\n",
    "- Hidden Layers (groups of sigmoid functions)\n",
    "\n",
    "All of these components within a neural network allow for modeling many types of functions / behaviors, such as:\n",
    "\n",
    "- Boolean: network of threshold-like units\n",
    "- Continuous: 'connected' - no jumps - can do with single hidden layer as long as there is enough hidden units - each hidden unit handles on part of the function (use of sigmoids instead of step)\n",
    "- Arbitrary (non-continuous): (stitched together) multiple hidden layers \n",
    "\n",
    "**Conclusion**:  Neural networks have low restriction bias, because they can model many different functions. Therefore they have the danger of overfitting\n",
    "\n",
    "**Interestingly** in cross-validation efforts, one can oberserve the same characteristic plot of testing vs. training on each *iteration* of nueral network, however, *this isn't changing the network structure (e.g. model / hypothesis as referred to in other ML algorithms)*. Instead it's simply a convergence on the weights of the input features.\n",
    "\n",
    "**Conclusion**:  Neural Networks have practically no restriction bias, and as such have a *danger of overfitting*.   \n",
    "\n",
    "essentially not much restriction   \n",
    "can model most anything by increasing network complexity (more layers, nodes) - BUT danger of overfitting   \n",
    "complexity of NN is also in weights (nodes, layers, weights)   \n",
    "use cross validation to stop know when error bottoms out to stop training   "
   ]
  },
  {
   "cell_type": "markdown",
   "metadata": {},
   "source": [
    "## Preference Bias\n",
    "\n",
    "A bias in the learning algorithms selection of one representation over another, such as one decision tree over another:\n",
    "\n",
    "- preference for nodes near the top had higher information gain.\n",
    "- preference of correct trees\n",
    "- preference of shorter trees\n",
    "\n",
    "In Nueral Networks:\n",
    "\n",
    "- Initial weights should be chosen to be small and random values:\n",
    "\t- local minima \n",
    "\t- provides variability and low complexity (larger weights equate to larger complexity).\n",
    "\n",
    "Given that we choose an algorithm with small random weights and ending on some overfitting criteria, then we can say that neural networks prefer *simpler explanations*.   \n",
    "Don't make it more complex unless error is getting better.  "
   ]
  },
  {
   "cell_type": "code",
   "execution_count": null,
   "metadata": {},
   "outputs": [],
   "source": []
  }
 ],
 "metadata": {
  "kernelspec": {
   "display_name": "Python 3",
   "language": "python",
   "name": "python3"
  },
  "language_info": {
   "codemirror_mode": {
    "name": "ipython",
    "version": 3
   },
   "file_extension": ".py",
   "mimetype": "text/x-python",
   "name": "python",
   "nbconvert_exporter": "python",
   "pygments_lexer": "ipython3",
   "version": "3.6.5"
  }
 },
 "nbformat": 4,
 "nbformat_minor": 2
}
